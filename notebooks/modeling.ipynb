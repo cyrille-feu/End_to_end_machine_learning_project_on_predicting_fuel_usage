{
 "cells": [
  {
   "cell_type": "code",
   "execution_count": 63,
   "metadata": {},
   "outputs": [
    {
     "name": "stderr",
     "output_type": "stream",
     "text": [
      "100%|██████████| 42/42 [00:04<00:00,  8.71it/s]\n"
     ]
    }
   ],
   "source": [
    "# Import necessary libraries\n",
    "import pandas as pd\n",
    "from lazypredict.Supervised import LazyRegressor\n",
    "from sklearn.model_selection import StratifiedShuffleSplit\n",
    "from Scripts import preprocessing\n",
    "# Load data\n",
    "df = pd.read_csv(\"../data/train_set.csv\")\n",
    "\n",
    "# Split data into training and validation sets\n",
    "split = StratifiedShuffleSplit(n_splits=1, test_size=0.2, random_state=42)\n",
    "for train_index, valid_index in split.split(df, df[\"Cylinders\"]):\n",
    "    train_set = df.loc[train_index]\n",
    "    valid_set = df.loc[valid_index]\n",
    "\n",
    "# Separate features and target\n",
    "X_train, y_train, scaler = preprocessing.preprocess(train_set,train=True)\n",
    "\n",
    "X_valid, y_valid, scaler = preprocessing.preprocess(valid_set,scaler=scaler)\n",
    "\n",
    "# Initialize LazyRegressor and fit the model\n",
    "reg = LazyRegressor(verbose=0, ignore_warnings=False, custom_metric=None)\n",
    "models, predictions = reg.fit(X_train, X_valid, y_train, y_valid)"
   ]
  },
  {
   "cell_type": "code",
   "execution_count": null,
   "metadata": {},
   "outputs": [],
   "source": []
  },
  {
   "cell_type": "code",
   "execution_count": 45,
   "metadata": {},
   "outputs": [
    {
     "data": {
      "text/html": [
       "<div>\n",
       "<style scoped>\n",
       "    .dataframe tbody tr th:only-of-type {\n",
       "        vertical-align: middle;\n",
       "    }\n",
       "\n",
       "    .dataframe tbody tr th {\n",
       "        vertical-align: top;\n",
       "    }\n",
       "\n",
       "    .dataframe thead th {\n",
       "        text-align: right;\n",
       "    }\n",
       "</style>\n",
       "<table border=\"1\" class=\"dataframe\">\n",
       "  <thead>\n",
       "    <tr style=\"text-align: right;\">\n",
       "      <th></th>\n",
       "      <th>Adjusted R-Squared</th>\n",
       "      <th>R-Squared</th>\n",
       "      <th>RMSE</th>\n",
       "      <th>Time Taken</th>\n",
       "    </tr>\n",
       "    <tr>\n",
       "      <th>Model</th>\n",
       "      <th></th>\n",
       "      <th></th>\n",
       "      <th></th>\n",
       "      <th></th>\n",
       "    </tr>\n",
       "  </thead>\n",
       "  <tbody>\n",
       "    <tr>\n",
       "      <th>ExtraTreesRegressor</th>\n",
       "      <td>0.85</td>\n",
       "      <td>0.87</td>\n",
       "      <td>2.44</td>\n",
       "      <td>0.33</td>\n",
       "    </tr>\n",
       "    <tr>\n",
       "      <th>GradientBoostingRegressor</th>\n",
       "      <td>0.83</td>\n",
       "      <td>0.86</td>\n",
       "      <td>2.55</td>\n",
       "      <td>0.17</td>\n",
       "    </tr>\n",
       "    <tr>\n",
       "      <th>RandomForestRegressor</th>\n",
       "      <td>0.83</td>\n",
       "      <td>0.85</td>\n",
       "      <td>2.60</td>\n",
       "      <td>0.41</td>\n",
       "    </tr>\n",
       "    <tr>\n",
       "      <th>HistGradientBoostingRegressor</th>\n",
       "      <td>0.81</td>\n",
       "      <td>0.84</td>\n",
       "      <td>2.68</td>\n",
       "      <td>0.42</td>\n",
       "    </tr>\n",
       "    <tr>\n",
       "      <th>KNeighborsRegressor</th>\n",
       "      <td>0.81</td>\n",
       "      <td>0.84</td>\n",
       "      <td>2.69</td>\n",
       "      <td>0.02</td>\n",
       "    </tr>\n",
       "    <tr>\n",
       "      <th>LGBMRegressor</th>\n",
       "      <td>0.81</td>\n",
       "      <td>0.84</td>\n",
       "      <td>2.70</td>\n",
       "      <td>0.06</td>\n",
       "    </tr>\n",
       "    <tr>\n",
       "      <th>XGBRegressor</th>\n",
       "      <td>0.81</td>\n",
       "      <td>0.84</td>\n",
       "      <td>2.71</td>\n",
       "      <td>0.11</td>\n",
       "    </tr>\n",
       "    <tr>\n",
       "      <th>BaggingRegressor</th>\n",
       "      <td>0.80</td>\n",
       "      <td>0.82</td>\n",
       "      <td>2.82</td>\n",
       "      <td>0.07</td>\n",
       "    </tr>\n",
       "    <tr>\n",
       "      <th>AdaBoostRegressor</th>\n",
       "      <td>0.79</td>\n",
       "      <td>0.82</td>\n",
       "      <td>2.89</td>\n",
       "      <td>0.10</td>\n",
       "    </tr>\n",
       "    <tr>\n",
       "      <th>PoissonRegressor</th>\n",
       "      <td>0.78</td>\n",
       "      <td>0.81</td>\n",
       "      <td>2.90</td>\n",
       "      <td>0.03</td>\n",
       "    </tr>\n",
       "    <tr>\n",
       "      <th>DecisionTreeRegressor</th>\n",
       "      <td>0.76</td>\n",
       "      <td>0.79</td>\n",
       "      <td>3.08</td>\n",
       "      <td>0.02</td>\n",
       "    </tr>\n",
       "    <tr>\n",
       "      <th>LarsCV</th>\n",
       "      <td>0.75</td>\n",
       "      <td>0.78</td>\n",
       "      <td>3.12</td>\n",
       "      <td>0.04</td>\n",
       "    </tr>\n",
       "    <tr>\n",
       "      <th>SVR</th>\n",
       "      <td>0.75</td>\n",
       "      <td>0.78</td>\n",
       "      <td>3.14</td>\n",
       "      <td>0.02</td>\n",
       "    </tr>\n",
       "    <tr>\n",
       "      <th>Lasso</th>\n",
       "      <td>0.74</td>\n",
       "      <td>0.78</td>\n",
       "      <td>3.15</td>\n",
       "      <td>0.02</td>\n",
       "    </tr>\n",
       "    <tr>\n",
       "      <th>LassoLars</th>\n",
       "      <td>0.74</td>\n",
       "      <td>0.78</td>\n",
       "      <td>3.15</td>\n",
       "      <td>0.02</td>\n",
       "    </tr>\n",
       "    <tr>\n",
       "      <th>SGDRegressor</th>\n",
       "      <td>0.74</td>\n",
       "      <td>0.78</td>\n",
       "      <td>3.19</td>\n",
       "      <td>0.02</td>\n",
       "    </tr>\n",
       "    <tr>\n",
       "      <th>ElasticNetCV</th>\n",
       "      <td>0.74</td>\n",
       "      <td>0.78</td>\n",
       "      <td>3.19</td>\n",
       "      <td>0.11</td>\n",
       "    </tr>\n",
       "    <tr>\n",
       "      <th>LassoCV</th>\n",
       "      <td>0.74</td>\n",
       "      <td>0.77</td>\n",
       "      <td>3.19</td>\n",
       "      <td>0.13</td>\n",
       "    </tr>\n",
       "    <tr>\n",
       "      <th>BayesianRidge</th>\n",
       "      <td>0.74</td>\n",
       "      <td>0.77</td>\n",
       "      <td>3.19</td>\n",
       "      <td>0.02</td>\n",
       "    </tr>\n",
       "    <tr>\n",
       "      <th>Ridge</th>\n",
       "      <td>0.74</td>\n",
       "      <td>0.77</td>\n",
       "      <td>3.20</td>\n",
       "      <td>0.02</td>\n",
       "    </tr>\n",
       "    <tr>\n",
       "      <th>RidgeCV</th>\n",
       "      <td>0.74</td>\n",
       "      <td>0.77</td>\n",
       "      <td>3.20</td>\n",
       "      <td>0.02</td>\n",
       "    </tr>\n",
       "    <tr>\n",
       "      <th>LassoLarsCV</th>\n",
       "      <td>0.74</td>\n",
       "      <td>0.77</td>\n",
       "      <td>3.20</td>\n",
       "      <td>0.04</td>\n",
       "    </tr>\n",
       "    <tr>\n",
       "      <th>LassoLarsIC</th>\n",
       "      <td>0.74</td>\n",
       "      <td>0.77</td>\n",
       "      <td>3.20</td>\n",
       "      <td>0.02</td>\n",
       "    </tr>\n",
       "    <tr>\n",
       "      <th>Lars</th>\n",
       "      <td>0.74</td>\n",
       "      <td>0.77</td>\n",
       "      <td>3.20</td>\n",
       "      <td>0.03</td>\n",
       "    </tr>\n",
       "    <tr>\n",
       "      <th>OrthogonalMatchingPursuitCV</th>\n",
       "      <td>0.73</td>\n",
       "      <td>0.77</td>\n",
       "      <td>3.21</td>\n",
       "      <td>0.02</td>\n",
       "    </tr>\n",
       "    <tr>\n",
       "      <th>TransformedTargetRegressor</th>\n",
       "      <td>0.73</td>\n",
       "      <td>0.77</td>\n",
       "      <td>3.22</td>\n",
       "      <td>0.02</td>\n",
       "    </tr>\n",
       "    <tr>\n",
       "      <th>LinearRegression</th>\n",
       "      <td>0.73</td>\n",
       "      <td>0.77</td>\n",
       "      <td>3.22</td>\n",
       "      <td>0.02</td>\n",
       "    </tr>\n",
       "    <tr>\n",
       "      <th>NuSVR</th>\n",
       "      <td>0.72</td>\n",
       "      <td>0.76</td>\n",
       "      <td>3.29</td>\n",
       "      <td>0.03</td>\n",
       "    </tr>\n",
       "    <tr>\n",
       "      <th>ExtraTreeRegressor</th>\n",
       "      <td>0.72</td>\n",
       "      <td>0.76</td>\n",
       "      <td>3.29</td>\n",
       "      <td>0.02</td>\n",
       "    </tr>\n",
       "    <tr>\n",
       "      <th>RANSACRegressor</th>\n",
       "      <td>0.72</td>\n",
       "      <td>0.76</td>\n",
       "      <td>3.30</td>\n",
       "      <td>0.06</td>\n",
       "    </tr>\n",
       "    <tr>\n",
       "      <th>PassiveAggressiveRegressor</th>\n",
       "      <td>0.72</td>\n",
       "      <td>0.76</td>\n",
       "      <td>3.31</td>\n",
       "      <td>0.02</td>\n",
       "    </tr>\n",
       "    <tr>\n",
       "      <th>HuberRegressor</th>\n",
       "      <td>0.71</td>\n",
       "      <td>0.75</td>\n",
       "      <td>3.35</td>\n",
       "      <td>0.04</td>\n",
       "    </tr>\n",
       "    <tr>\n",
       "      <th>GammaRegressor</th>\n",
       "      <td>0.70</td>\n",
       "      <td>0.74</td>\n",
       "      <td>3.41</td>\n",
       "      <td>0.03</td>\n",
       "    </tr>\n",
       "    <tr>\n",
       "      <th>ElasticNet</th>\n",
       "      <td>0.69</td>\n",
       "      <td>0.73</td>\n",
       "      <td>3.47</td>\n",
       "      <td>0.02</td>\n",
       "    </tr>\n",
       "    <tr>\n",
       "      <th>LinearSVR</th>\n",
       "      <td>0.68</td>\n",
       "      <td>0.72</td>\n",
       "      <td>3.55</td>\n",
       "      <td>0.02</td>\n",
       "    </tr>\n",
       "    <tr>\n",
       "      <th>TweedieRegressor</th>\n",
       "      <td>0.67</td>\n",
       "      <td>0.72</td>\n",
       "      <td>3.56</td>\n",
       "      <td>0.03</td>\n",
       "    </tr>\n",
       "    <tr>\n",
       "      <th>OrthogonalMatchingPursuit</th>\n",
       "      <td>0.60</td>\n",
       "      <td>0.66</td>\n",
       "      <td>3.94</td>\n",
       "      <td>0.02</td>\n",
       "    </tr>\n",
       "    <tr>\n",
       "      <th>MLPRegressor</th>\n",
       "      <td>0.33</td>\n",
       "      <td>0.42</td>\n",
       "      <td>5.12</td>\n",
       "      <td>0.63</td>\n",
       "    </tr>\n",
       "    <tr>\n",
       "      <th>DummyRegressor</th>\n",
       "      <td>-0.17</td>\n",
       "      <td>-0.00</td>\n",
       "      <td>6.73</td>\n",
       "      <td>0.02</td>\n",
       "    </tr>\n",
       "    <tr>\n",
       "      <th>QuantileRegressor</th>\n",
       "      <td>-0.21</td>\n",
       "      <td>-0.04</td>\n",
       "      <td>6.87</td>\n",
       "      <td>2.21</td>\n",
       "    </tr>\n",
       "    <tr>\n",
       "      <th>GaussianProcessRegressor</th>\n",
       "      <td>-1.42</td>\n",
       "      <td>-1.07</td>\n",
       "      <td>9.69</td>\n",
       "      <td>0.04</td>\n",
       "    </tr>\n",
       "    <tr>\n",
       "      <th>KernelRidge</th>\n",
       "      <td>-12.87</td>\n",
       "      <td>-10.89</td>\n",
       "      <td>23.21</td>\n",
       "      <td>0.03</td>\n",
       "    </tr>\n",
       "  </tbody>\n",
       "</table>\n",
       "</div>"
      ],
      "text/plain": [
       "                               Adjusted R-Squared  R-Squared  RMSE  Time Taken\n",
       "Model                                                                         \n",
       "ExtraTreesRegressor                          0.85       0.87  2.44        0.33\n",
       "GradientBoostingRegressor                    0.83       0.86  2.55        0.17\n",
       "RandomForestRegressor                        0.83       0.85  2.60        0.41\n",
       "HistGradientBoostingRegressor                0.81       0.84  2.68        0.42\n",
       "KNeighborsRegressor                          0.81       0.84  2.69        0.02\n",
       "LGBMRegressor                                0.81       0.84  2.70        0.06\n",
       "XGBRegressor                                 0.81       0.84  2.71        0.11\n",
       "BaggingRegressor                             0.80       0.82  2.82        0.07\n",
       "AdaBoostRegressor                            0.79       0.82  2.89        0.10\n",
       "PoissonRegressor                             0.78       0.81  2.90        0.03\n",
       "DecisionTreeRegressor                        0.76       0.79  3.08        0.02\n",
       "LarsCV                                       0.75       0.78  3.12        0.04\n",
       "SVR                                          0.75       0.78  3.14        0.02\n",
       "Lasso                                        0.74       0.78  3.15        0.02\n",
       "LassoLars                                    0.74       0.78  3.15        0.02\n",
       "SGDRegressor                                 0.74       0.78  3.19        0.02\n",
       "ElasticNetCV                                 0.74       0.78  3.19        0.11\n",
       "LassoCV                                      0.74       0.77  3.19        0.13\n",
       "BayesianRidge                                0.74       0.77  3.19        0.02\n",
       "Ridge                                        0.74       0.77  3.20        0.02\n",
       "RidgeCV                                      0.74       0.77  3.20        0.02\n",
       "LassoLarsCV                                  0.74       0.77  3.20        0.04\n",
       "LassoLarsIC                                  0.74       0.77  3.20        0.02\n",
       "Lars                                         0.74       0.77  3.20        0.03\n",
       "OrthogonalMatchingPursuitCV                  0.73       0.77  3.21        0.02\n",
       "TransformedTargetRegressor                   0.73       0.77  3.22        0.02\n",
       "LinearRegression                             0.73       0.77  3.22        0.02\n",
       "NuSVR                                        0.72       0.76  3.29        0.03\n",
       "ExtraTreeRegressor                           0.72       0.76  3.29        0.02\n",
       "RANSACRegressor                              0.72       0.76  3.30        0.06\n",
       "PassiveAggressiveRegressor                   0.72       0.76  3.31        0.02\n",
       "HuberRegressor                               0.71       0.75  3.35        0.04\n",
       "GammaRegressor                               0.70       0.74  3.41        0.03\n",
       "ElasticNet                                   0.69       0.73  3.47        0.02\n",
       "LinearSVR                                    0.68       0.72  3.55        0.02\n",
       "TweedieRegressor                             0.67       0.72  3.56        0.03\n",
       "OrthogonalMatchingPursuit                    0.60       0.66  3.94        0.02\n",
       "MLPRegressor                                 0.33       0.42  5.12        0.63\n",
       "DummyRegressor                              -0.17      -0.00  6.73        0.02\n",
       "QuantileRegressor                           -0.21      -0.04  6.87        2.21\n",
       "GaussianProcessRegressor                    -1.42      -1.07  9.69        0.04\n",
       "KernelRidge                                -12.87     -10.89 23.21        0.03"
      ]
     },
     "execution_count": 45,
     "metadata": {},
     "output_type": "execute_result"
    }
   ],
   "source": [
    "models"
   ]
  },
  {
   "cell_type": "code",
   "execution_count": null,
   "metadata": {},
   "outputs": [],
   "source": []
  },
  {
   "cell_type": "markdown",
   "metadata": {},
   "source": [
    "#### Hyperparameter Tuning using Optuna\n",
    "Optuna is a software framework for automating the optimization process of these hyperparameters. It automatically finds optimal hyperparameter values by making use of different samplers such as grid search, random, bayesian, and evolutionary algorithms."
   ]
  },
  {
   "cell_type": "code",
   "execution_count": 46,
   "metadata": {},
   "outputs": [],
   "source": [
    "from sklearn.ensemble import GradientBoostingRegressor\n",
    "from sklearn.model_selection import KFold, cross_validate\n",
    "import optuna\n",
    "import numpy as np\n"
   ]
  },
  {
   "attachments": {},
   "cell_type": "markdown",
   "metadata": {},
   "source": [
    "Now, we will create the objective function and define the search space:\n",
    "We built a grid of 5 hyperparameters with different ranges and some static ones for random seed and early stopping."
   ]
  },
  {
   "cell_type": "code",
   "execution_count": 47,
   "metadata": {},
   "outputs": [],
   "source": [
    "def objective(trial, X, y, cv, scoring):\n",
    "    params = {\n",
    "        \"n_estimators\": trial.suggest_int(\"n_estimators\", 100, 5000, step=100),\n",
    "        \"learning_rate\": trial.suggest_float(\"learning_rate\", 1e-4, 0.3, log=True),\n",
    "        \"max_depth\": trial.suggest_int(\"max_depth\", 3, 9),\n",
    "        \"min_samples_split\": trial.suggest_int(\"min_samples_split\", 2,9),\n",
    "        \"min_samples_leaf\": trial.suggest_int(\"min_samples_leaf\", 1,9),\n",
    "        \"subsample\": trial.suggest_float(\"subsample\", 0.5, 0.9, step=0.1),\n",
    "        \"max_features\": trial.suggest_categorical(\"max_features\", [\"auto\", \"sqrt\", \"log2\"]),\n",
    "        \"random_state\": 42,\n",
    "        \"n_iter_no_change\": 50,  # early stopping\n",
    "        \"validation_fraction\": 0.05,\n",
    "    }\n",
    "    # Perform CV\n",
    "    gr_reg = GradientBoostingRegressor(**params)\n",
    "    scores = cross_validate(gr_reg, X, y, cv=cv, scoring=scoring, n_jobs=-1)\n",
    "    # Compute RMSLE\n",
    "    rmsle = np.sqrt(-scores[\"test_score\"].mean())\n",
    "\n",
    "    return rmsle"
   ]
  },
  {
   "cell_type": "code",
   "execution_count": null,
   "metadata": {},
   "outputs": [],
   "source": [
    "def objective(trial, X, y, cv, scoring):\n",
    "    params = {\n",
    "        \"n_estimators\": trial.suggest_int(\"n_estimators\", 100, 5000, step=100),\n",
    "        \"learning_rate\": trial.suggest_float(\"learning_rate\", 1e-4, 0.3, log=True),\n",
    "        \"max_depth\": trial.suggest_int(\"max_depth\", 3, 9),\n",
    "        \"min_samples_split\": trial.suggest_int(\"min_samples_split\", 2,9),\n",
    "        \"min_samples_leaf\": trial.suggest_int(\"min_samples_leaf\", 1,9),\n",
    "        \"subsample\": trial.suggest_float(\"subsample\", 0.5, 0.9, step=0.1),\n",
    "        \"max_features\": trial.suggest_categorical(\"max_features\", [\"auto\", \"sqrt\", \"log2\"]),\n",
    "        \"random_state\": 42,\n",
    "        \"n_iter_no_change\": 50,  # early stopping\n",
    "        \"validation_fraction\": 0.05,\n",
    "    }\n",
    "\n",
    "   \n",
    "    gr_reg = GradientBoostingRegressor(**params)\n",
    "    scores = cross_validate(gr_reg, X, y, cv=cv, scoring=scoring, n_jobs=-1)\n",
    "\n",
    "    \n",
    "    rmsle = np.sqrt(-scores[\"test_score\"].mean())\n",
    "\n",
    "    return rmsle\n",
    "\n",
    "\n",
    "# Create study that minimizes\n",
    "study = optuna.create_study(direction=\"minimize\")\n",
    "\n",
    "\n",
    "kf = KFold(n_splits=5, shuffle=True, random_state=42)\n",
    "\n",
    "\n",
    "func = lambda trial: objective(trial, X, y, cv=kf, scoring=\"neg_root_mean_squared_error\")\n",
    "\n",
    "study.optimize(func, n_trials=100)\n",
    "\n",
    "\n",
    "print(study.best_value)\n",
    "\n",
    "study.best_params\n",
    "\n"
   ]
  },
  {
   "cell_type": "markdown",
   "metadata": {},
   "source": [
    "The above objective function is slightly different - it accepts additional arguments for the data sets, scoring and cv. That's why we have to wrap it inside another function"
   ]
  },
  {
   "cell_type": "code",
   "execution_count": 48,
   "metadata": {},
   "outputs": [
    {
     "name": "stderr",
     "output_type": "stream",
     "text": [
      "\u001b[32m[I 2023-03-26 19:59:16,516]\u001b[0m A new study created in memory with name: no-name-73f05bcb-e57a-4631-b391-c4ac4cfdba24\u001b[0m\n",
      "\u001b[32m[I 2023-03-26 19:59:22,160]\u001b[0m Trial 0 finished with value: 1.6411048381243327 and parameters: {'n_estimators': 1000, 'learning_rate': 0.04736484772033375, 'max_depth': 9, 'min_samples_split': 5, 'min_samples_leaf': 2, 'subsample': 0.5, 'max_features': 'auto'}. Best is trial 0 with value: 1.6411048381243327.\u001b[0m\n",
      "\u001b[32m[I 2023-03-26 19:59:33,916]\u001b[0m Trial 1 finished with value: 1.722360578490169 and parameters: {'n_estimators': 2200, 'learning_rate': 0.0014733134085144746, 'max_depth': 8, 'min_samples_split': 3, 'min_samples_leaf': 5, 'subsample': 0.9, 'max_features': 'auto'}. Best is trial 0 with value: 1.6411048381243327.\u001b[0m\n",
      "\u001b[32m[I 2023-03-26 19:59:35,273]\u001b[0m Trial 2 finished with value: 1.6552708185863 and parameters: {'n_estimators': 1300, 'learning_rate': 0.08062251029145068, 'max_depth': 9, 'min_samples_split': 4, 'min_samples_leaf': 2, 'subsample': 0.7, 'max_features': 'sqrt'}. Best is trial 0 with value: 1.6411048381243327.\u001b[0m\n",
      "\u001b[32m[I 2023-03-26 19:59:51,640]\u001b[0m Trial 3 finished with value: 1.7400000451306457 and parameters: {'n_estimators': 4200, 'learning_rate': 0.0005519117681688431, 'max_depth': 3, 'min_samples_split': 4, 'min_samples_leaf': 5, 'subsample': 0.5, 'max_features': 'auto'}. Best is trial 0 with value: 1.6411048381243327.\u001b[0m\n",
      "\u001b[32m[I 2023-03-26 20:00:03,348]\u001b[0m Trial 4 finished with value: 1.9697814674623408 and parameters: {'n_estimators': 2900, 'learning_rate': 0.00036538111002470106, 'max_depth': 6, 'min_samples_split': 3, 'min_samples_leaf': 5, 'subsample': 0.5, 'max_features': 'log2'}. Best is trial 0 with value: 1.6411048381243327.\u001b[0m\n",
      "\u001b[32m[I 2023-03-26 20:00:03,902]\u001b[0m Trial 5 finished with value: 1.68275471281876 and parameters: {'n_estimators': 5000, 'learning_rate': 0.24989941575396668, 'max_depth': 4, 'min_samples_split': 9, 'min_samples_leaf': 8, 'subsample': 0.8, 'max_features': 'sqrt'}. Best is trial 0 with value: 1.6411048381243327.\u001b[0m\n",
      "\u001b[32m[I 2023-03-26 20:00:04,235]\u001b[0m Trial 6 finished with value: 1.6597442458440417 and parameters: {'n_estimators': 1200, 'learning_rate': 0.03259277678564174, 'max_depth': 7, 'min_samples_split': 2, 'min_samples_leaf': 8, 'subsample': 0.6, 'max_features': 'log2'}. Best is trial 0 with value: 1.6411048381243327.\u001b[0m\n",
      "\u001b[32m[I 2023-03-26 20:00:09,652]\u001b[0m Trial 7 finished with value: 1.7298294466696142 and parameters: {'n_estimators': 4000, 'learning_rate': 0.0014771325270406695, 'max_depth': 3, 'min_samples_split': 4, 'min_samples_leaf': 2, 'subsample': 0.5, 'max_features': 'auto'}. Best is trial 0 with value: 1.6411048381243327.\u001b[0m\n",
      "\u001b[32m[I 2023-03-26 20:00:16,150]\u001b[0m Trial 8 finished with value: 2.3752929915350065 and parameters: {'n_estimators': 2200, 'learning_rate': 0.0001880063177392858, 'max_depth': 4, 'min_samples_split': 8, 'min_samples_leaf': 1, 'subsample': 0.8, 'max_features': 'log2'}. Best is trial 0 with value: 1.6411048381243327.\u001b[0m\n",
      "\u001b[32m[I 2023-03-26 20:00:23,064]\u001b[0m Trial 9 finished with value: 2.2854765275613906 and parameters: {'n_estimators': 1800, 'learning_rate': 0.00027934278048659985, 'max_depth': 8, 'min_samples_split': 4, 'min_samples_leaf': 8, 'subsample': 0.5, 'max_features': 'auto'}. Best is trial 0 with value: 1.6411048381243327.\u001b[0m\n",
      "\u001b[32m[I 2023-03-26 20:00:24,409]\u001b[0m Trial 10 finished with value: 1.6696779840861944 and parameters: {'n_estimators': 500, 'learning_rate': 0.010137046592071468, 'max_depth': 6, 'min_samples_split': 7, 'min_samples_leaf': 3, 'subsample': 0.6, 'max_features': 'auto'}. Best is trial 0 with value: 1.6411048381243327.\u001b[0m\n",
      "\u001b[32m[I 2023-03-26 20:00:25,067]\u001b[0m Trial 11 finished with value: 1.6384333652583578 and parameters: {'n_estimators': 200, 'learning_rate': 0.10003649700455879, 'max_depth': 9, 'min_samples_split': 6, 'min_samples_leaf': 3, 'subsample': 0.7, 'max_features': 'sqrt'}. Best is trial 11 with value: 1.6384333652583578.\u001b[0m\n",
      "\u001b[32m[I 2023-03-26 20:00:25,482]\u001b[0m Trial 12 finished with value: 1.6463244296686936 and parameters: {'n_estimators': 100, 'learning_rate': 0.04421491995532935, 'max_depth': 9, 'min_samples_split': 6, 'min_samples_leaf': 3, 'subsample': 0.7, 'max_features': 'sqrt'}. Best is trial 11 with value: 1.6384333652583578.\u001b[0m\n",
      "\u001b[32m[I 2023-03-26 20:00:25,904]\u001b[0m Trial 13 finished with value: 1.6670356394702568 and parameters: {'n_estimators': 800, 'learning_rate': 0.293840999566737, 'max_depth': 8, 'min_samples_split': 6, 'min_samples_leaf': 3, 'subsample': 0.6, 'max_features': 'sqrt'}. Best is trial 11 with value: 1.6384333652583578.\u001b[0m\n",
      "\u001b[32m[I 2023-03-26 20:00:26,329]\u001b[0m Trial 14 finished with value: 1.9721511986980023 and parameters: {'n_estimators': 100, 'learning_rate': 0.01005914898659425, 'max_depth': 9, 'min_samples_split': 7, 'min_samples_leaf': 4, 'subsample': 0.9, 'max_features': 'sqrt'}. Best is trial 11 with value: 1.6384333652583578.\u001b[0m\n",
      "\u001b[32m[I 2023-03-26 20:00:27,516]\u001b[0m Trial 15 finished with value: 1.700063644776476 and parameters: {'n_estimators': 1300, 'learning_rate': 0.08308540503846605, 'max_depth': 7, 'min_samples_split': 5, 'min_samples_leaf': 1, 'subsample': 0.8, 'max_features': 'auto'}. Best is trial 11 with value: 1.6384333652583578.\u001b[0m\n",
      "\u001b[32m[I 2023-03-26 20:00:28,173]\u001b[0m Trial 16 finished with value: 1.6684801039699066 and parameters: {'n_estimators': 2800, 'learning_rate': 0.016057000529552265, 'max_depth': 7, 'min_samples_split': 5, 'min_samples_leaf': 6, 'subsample': 0.6, 'max_features': 'sqrt'}. Best is trial 11 with value: 1.6384333652583578.\u001b[0m\n",
      "\u001b[32m[I 2023-03-26 20:00:30,933]\u001b[0m Trial 17 finished with value: 1.6975346273716354 and parameters: {'n_estimators': 700, 'learning_rate': 0.00446444680001463, 'max_depth': 9, 'min_samples_split': 7, 'min_samples_leaf': 2, 'subsample': 0.7, 'max_features': 'auto'}. Best is trial 11 with value: 1.6384333652583578.\u001b[0m\n",
      "\u001b[32m[I 2023-03-26 20:00:31,751]\u001b[0m Trial 18 finished with value: 1.6754384146758345 and parameters: {'n_estimators': 3300, 'learning_rate': 0.11195592851772737, 'max_depth': 5, 'min_samples_split': 6, 'min_samples_leaf': 4, 'subsample': 0.8, 'max_features': 'sqrt'}. Best is trial 11 with value: 1.6384333652583578.\u001b[0m\n",
      "\u001b[32m[I 2023-03-26 20:00:32,498]\u001b[0m Trial 19 finished with value: 1.6507253288349364 and parameters: {'n_estimators': 1800, 'learning_rate': 0.027286200914156313, 'max_depth': 8, 'min_samples_split': 8, 'min_samples_leaf': 6, 'subsample': 0.6, 'max_features': 'log2'}. Best is trial 11 with value: 1.6384333652583578.\u001b[0m\n",
      "\u001b[32m[I 2023-03-26 20:00:33,103]\u001b[0m Trial 20 finished with value: 1.6541333040795794 and parameters: {'n_estimators': 800, 'learning_rate': 0.13209465571942164, 'max_depth': 6, 'min_samples_split': 5, 'min_samples_leaf': 1, 'subsample': 0.7, 'max_features': 'sqrt'}. Best is trial 11 with value: 1.6384333652583578.\u001b[0m\n",
      "\u001b[32m[I 2023-03-26 20:00:33,661]\u001b[0m Trial 21 finished with value: 1.6560538848216728 and parameters: {'n_estimators': 100, 'learning_rate': 0.05657086722420884, 'max_depth': 9, 'min_samples_split': 6, 'min_samples_leaf': 3, 'subsample': 0.7, 'max_features': 'sqrt'}. Best is trial 11 with value: 1.6384333652583578.\u001b[0m\n",
      "\u001b[32m[I 2023-03-26 20:00:34,282]\u001b[0m Trial 22 finished with value: 1.6521630144271413 and parameters: {'n_estimators': 100, 'learning_rate': 0.03550008852458025, 'max_depth': 9, 'min_samples_split': 6, 'min_samples_leaf': 4, 'subsample': 0.7, 'max_features': 'sqrt'}. Best is trial 11 with value: 1.6384333652583578.\u001b[0m\n",
      "\u001b[32m[I 2023-03-26 20:00:35,571]\u001b[0m Trial 23 finished with value: 1.6467981454112322 and parameters: {'n_estimators': 400, 'learning_rate': 0.05039547527284388, 'max_depth': 8, 'min_samples_split': 5, 'min_samples_leaf': 3, 'subsample': 0.8, 'max_features': 'sqrt'}. Best is trial 11 with value: 1.6384333652583578.\u001b[0m\n",
      "\u001b[32m[I 2023-03-26 20:00:37,481]\u001b[0m Trial 24 finished with value: 1.6296016027772953 and parameters: {'n_estimators': 1100, 'learning_rate': 0.1622019498321649, 'max_depth': 9, 'min_samples_split': 7, 'min_samples_leaf': 2, 'subsample': 0.6, 'max_features': 'sqrt'}. Best is trial 24 with value: 1.6296016027772953.\u001b[0m\n",
      "\u001b[32m[I 2023-03-26 20:00:40,775]\u001b[0m Trial 25 finished with value: 1.6729154689641539 and parameters: {'n_estimators': 1100, 'learning_rate': 0.15428877322682405, 'max_depth': 7, 'min_samples_split': 8, 'min_samples_leaf': 2, 'subsample': 0.6, 'max_features': 'auto'}. Best is trial 24 with value: 1.6296016027772953.\u001b[0m\n",
      "\u001b[32m[I 2023-03-26 20:00:42,196]\u001b[0m Trial 26 finished with value: 1.669932226432158 and parameters: {'n_estimators': 1700, 'learning_rate': 0.17508295413707764, 'max_depth': 8, 'min_samples_split': 7, 'min_samples_leaf': 1, 'subsample': 0.5, 'max_features': 'sqrt'}. Best is trial 24 with value: 1.6296016027772953.\u001b[0m\n",
      "\u001b[32m[I 2023-03-26 20:00:43,244]\u001b[0m Trial 27 finished with value: 1.6455152812341938 and parameters: {'n_estimators': 1600, 'learning_rate': 0.07258237106581454, 'max_depth': 9, 'min_samples_split': 9, 'min_samples_leaf': 2, 'subsample': 0.6, 'max_features': 'log2'}. Best is trial 24 with value: 1.6296016027772953.\u001b[0m\n",
      "\u001b[32m[I 2023-03-26 20:00:44,437]\u001b[0m Trial 28 finished with value: 1.6966384444646343 and parameters: {'n_estimators': 1000, 'learning_rate': 0.27257285127142467, 'max_depth': 8, 'min_samples_split': 7, 'min_samples_leaf': 4, 'subsample': 0.5, 'max_features': 'sqrt'}. Best is trial 24 with value: 1.6296016027772953.\u001b[0m\n",
      "\u001b[32m[I 2023-03-26 20:00:46,964]\u001b[0m Trial 29 finished with value: 1.6782670755556963 and parameters: {'n_estimators': 500, 'learning_rate': 0.13105261994237863, 'max_depth': 7, 'min_samples_split': 3, 'min_samples_leaf': 6, 'subsample': 0.9, 'max_features': 'auto'}. Best is trial 24 with value: 1.6296016027772953.\u001b[0m\n",
      "\u001b[32m[I 2023-03-26 20:00:47,870]\u001b[0m Trial 30 finished with value: 1.6451597563897913 and parameters: {'n_estimators': 2300, 'learning_rate': 0.024948015298647232, 'max_depth': 9, 'min_samples_split': 8, 'min_samples_leaf': 2, 'subsample': 0.6, 'max_features': 'auto'}. Best is trial 24 with value: 1.6296016027772953.\u001b[0m\n",
      "\u001b[32m[I 2023-03-26 20:00:49,063]\u001b[0m Trial 31 finished with value: 1.6380904159845773 and parameters: {'n_estimators': 2300, 'learning_rate': 0.02229193651937108, 'max_depth': 9, 'min_samples_split': 8, 'min_samples_leaf': 2, 'subsample': 0.6, 'max_features': 'auto'}. Best is trial 24 with value: 1.6296016027772953.\u001b[0m\n",
      "\u001b[32m[I 2023-03-26 20:00:50,301]\u001b[0m Trial 32 finished with value: 1.6722136246172126 and parameters: {'n_estimators': 2100, 'learning_rate': 0.06857512062862363, 'max_depth': 9, 'min_samples_split': 9, 'min_samples_leaf': 1, 'subsample': 0.5, 'max_features': 'auto'}. Best is trial 24 with value: 1.6296016027772953.\u001b[0m\n",
      "\u001b[32m[I 2023-03-26 20:00:52,858]\u001b[0m Trial 33 finished with value: 1.6601285404985615 and parameters: {'n_estimators': 1500, 'learning_rate': 0.0959351406731096, 'max_depth': 9, 'min_samples_split': 8, 'min_samples_leaf': 3, 'subsample': 0.6, 'max_features': 'auto'}. Best is trial 24 with value: 1.6296016027772953.\u001b[0m\n",
      "\u001b[32m[I 2023-03-26 20:00:53,890]\u001b[0m Trial 34 finished with value: 1.6521714985064946 and parameters: {'n_estimators': 3300, 'learning_rate': 0.04936930448571477, 'max_depth': 8, 'min_samples_split': 7, 'min_samples_leaf': 2, 'subsample': 0.5, 'max_features': 'auto'}. Best is trial 24 with value: 1.6296016027772953.\u001b[0m\n",
      "\u001b[32m[I 2023-03-26 20:00:55,454]\u001b[0m Trial 35 finished with value: 1.7048331663761545 and parameters: {'n_estimators': 2500, 'learning_rate': 0.19176225655069148, 'max_depth': 8, 'min_samples_split': 5, 'min_samples_leaf': 2, 'subsample': 0.7, 'max_features': 'auto'}. Best is trial 24 with value: 1.6296016027772953.\u001b[0m\n",
      "\u001b[32m[I 2023-03-26 20:00:55,908]\u001b[0m Trial 36 finished with value: 1.6455272961350917 and parameters: {'n_estimators': 1400, 'learning_rate': 0.10082105298656038, 'max_depth': 9, 'min_samples_split': 6, 'min_samples_leaf': 9, 'subsample': 0.6, 'max_features': 'sqrt'}. Best is trial 24 with value: 1.6296016027772953.\u001b[0m\n",
      "\u001b[32m[I 2023-03-26 20:00:56,709]\u001b[0m Trial 37 finished with value: 1.6406736988404391 and parameters: {'n_estimators': 1000, 'learning_rate': 0.023671274753398298, 'max_depth': 8, 'min_samples_split': 9, 'min_samples_leaf': 4, 'subsample': 0.5, 'max_features': 'auto'}. Best is trial 24 with value: 1.6296016027772953.\u001b[0m\n",
      "\u001b[32m[I 2023-03-26 20:00:57,402]\u001b[0m Trial 38 finished with value: 1.6569291643721875 and parameters: {'n_estimators': 2000, 'learning_rate': 0.0204043925139865, 'max_depth': 8, 'min_samples_split': 9, 'min_samples_leaf': 5, 'subsample': 0.5, 'max_features': 'auto'}. Best is trial 24 with value: 1.6296016027772953.\u001b[0m\n",
      "\u001b[32m[I 2023-03-26 20:00:57,863]\u001b[0m Trial 39 finished with value: 1.6490890317950415 and parameters: {'n_estimators': 5000, 'learning_rate': 0.03241443311248135, 'max_depth': 9, 'min_samples_split': 9, 'min_samples_leaf': 4, 'subsample': 0.6, 'max_features': 'log2'}. Best is trial 24 with value: 1.6296016027772953.\u001b[0m\n",
      "\u001b[32m[I 2023-03-26 20:00:58,286]\u001b[0m Trial 40 finished with value: 1.649042567048805 and parameters: {'n_estimators': 3400, 'learning_rate': 0.07240764233605548, 'max_depth': 5, 'min_samples_split': 8, 'min_samples_leaf': 5, 'subsample': 0.7, 'max_features': 'sqrt'}. Best is trial 24 with value: 1.6296016027772953.\u001b[0m\n",
      "\u001b[32m[I 2023-03-26 20:00:59,062]\u001b[0m Trial 41 finished with value: 1.6514576345554701 and parameters: {'n_estimators': 1000, 'learning_rate': 0.0387356282375968, 'max_depth': 9, 'min_samples_split': 8, 'min_samples_leaf': 3, 'subsample': 0.5, 'max_features': 'auto'}. Best is trial 24 with value: 1.6296016027772953.\u001b[0m\n",
      "\u001b[32m[I 2023-03-26 20:00:59,969]\u001b[0m Trial 42 finished with value: 1.6338022219719774 and parameters: {'n_estimators': 400, 'learning_rate': 0.017870690048882556, 'max_depth': 9, 'min_samples_split': 4, 'min_samples_leaf': 2, 'subsample': 0.5, 'max_features': 'auto'}. Best is trial 24 with value: 1.6296016027772953.\u001b[0m\n",
      "\u001b[32m[I 2023-03-26 20:01:00,891]\u001b[0m Trial 43 finished with value: 1.6451318693615524 and parameters: {'n_estimators': 400, 'learning_rate': 0.015108650274382828, 'max_depth': 9, 'min_samples_split': 3, 'min_samples_leaf': 3, 'subsample': 0.5, 'max_features': 'auto'}. Best is trial 24 with value: 1.6296016027772953.\u001b[0m\n",
      "\u001b[32m[I 2023-03-26 20:01:03,527]\u001b[0m Trial 44 finished with value: 1.6807349668525315 and parameters: {'n_estimators': 700, 'learning_rate': 0.0055062722434546865, 'max_depth': 8, 'min_samples_split': 2, 'min_samples_leaf': 1, 'subsample': 0.5, 'max_features': 'auto'}. Best is trial 24 with value: 1.6296016027772953.\u001b[0m\n",
      "\u001b[32m[I 2023-03-26 20:01:04,228]\u001b[0m Trial 45 finished with value: 1.649802522125469 and parameters: {'n_estimators': 4100, 'learning_rate': 0.021638211959336937, 'max_depth': 9, 'min_samples_split': 4, 'min_samples_leaf': 4, 'subsample': 0.5, 'max_features': 'auto'}. Best is trial 24 with value: 1.6296016027772953.\u001b[0m\n",
      "\u001b[32m[I 2023-03-26 20:01:05,941]\u001b[0m Trial 46 finished with value: 1.6395510650187257 and parameters: {'n_estimators': 300, 'learning_rate': 0.05002587151499375, 'max_depth': 8, 'min_samples_split': 9, 'min_samples_leaf': 2, 'subsample': 0.6, 'max_features': 'auto'}. Best is trial 24 with value: 1.6296016027772953.\u001b[0m\n",
      "\u001b[32m[I 2023-03-26 20:01:06,582]\u001b[0m Trial 47 finished with value: 1.672088576192319 and parameters: {'n_estimators': 300, 'learning_rate': 0.21117096030385424, 'max_depth': 9, 'min_samples_split': 7, 'min_samples_leaf': 1, 'subsample': 0.6, 'max_features': 'log2'}. Best is trial 24 with value: 1.6296016027772953.\u001b[0m\n",
      "\u001b[32m[I 2023-03-26 20:01:07,351]\u001b[0m Trial 48 finished with value: 1.6434264739144528 and parameters: {'n_estimators': 700, 'learning_rate': 0.05567370911187705, 'max_depth': 8, 'min_samples_split': 7, 'min_samples_leaf': 2, 'subsample': 0.6, 'max_features': 'sqrt'}. Best is trial 24 with value: 1.6296016027772953.\u001b[0m\n",
      "\u001b[32m[I 2023-03-26 20:01:08,201]\u001b[0m Trial 49 finished with value: 1.6805368186177916 and parameters: {'n_estimators': 300, 'learning_rate': 0.09557225166227362, 'max_depth': 7, 'min_samples_split': 4, 'min_samples_leaf': 2, 'subsample': 0.7, 'max_features': 'auto'}. Best is trial 24 with value: 1.6296016027772953.\u001b[0m\n",
      "\u001b[32m[I 2023-03-26 20:01:08,727]\u001b[0m Trial 50 finished with value: 1.6562882064003341 and parameters: {'n_estimators': 500, 'learning_rate': 0.04126544278614177, 'max_depth': 3, 'min_samples_split': 8, 'min_samples_leaf': 1, 'subsample': 0.6, 'max_features': 'sqrt'}. Best is trial 24 with value: 1.6296016027772953.\u001b[0m\n",
      "\u001b[32m[I 2023-03-26 20:01:09,619]\u001b[0m Trial 51 finished with value: 1.6427342845741906 and parameters: {'n_estimators': 1200, 'learning_rate': 0.02606675466947173, 'max_depth': 8, 'min_samples_split': 9, 'min_samples_leaf': 3, 'subsample': 0.6, 'max_features': 'auto'}. Best is trial 24 with value: 1.6296016027772953.\u001b[0m\n",
      "\u001b[32m[I 2023-03-26 20:01:10,530]\u001b[0m Trial 52 finished with value: 1.6532012200124337 and parameters: {'n_estimators': 900, 'learning_rate': 0.015263945104446574, 'max_depth': 9, 'min_samples_split': 9, 'min_samples_leaf': 3, 'subsample': 0.5, 'max_features': 'auto'}. Best is trial 24 with value: 1.6296016027772953.\u001b[0m\n",
      "\u001b[32m[I 2023-03-26 20:01:12,259]\u001b[0m Trial 53 finished with value: 1.6868213588899954 and parameters: {'n_estimators': 4400, 'learning_rate': 0.1346733185640535, 'max_depth': 8, 'min_samples_split': 8, 'min_samples_leaf': 3, 'subsample': 0.5, 'max_features': 'auto'}. Best is trial 24 with value: 1.6296016027772953.\u001b[0m\n",
      "\u001b[32m[I 2023-03-26 20:01:13,833]\u001b[0m Trial 54 finished with value: 1.638380597868948 and parameters: {'n_estimators': 600, 'learning_rate': 0.03492570139940882, 'max_depth': 9, 'min_samples_split': 9, 'min_samples_leaf': 2, 'subsample': 0.6, 'max_features': 'auto'}. Best is trial 24 with value: 1.6296016027772953.\u001b[0m\n",
      "\u001b[32m[I 2023-03-26 20:01:16,251]\u001b[0m Trial 55 finished with value: 1.6350341182604229 and parameters: {'n_estimators': 600, 'learning_rate': 0.03372595349500998, 'max_depth': 9, 'min_samples_split': 9, 'min_samples_leaf': 2, 'subsample': 0.6, 'max_features': 'auto'}. Best is trial 24 with value: 1.6296016027772953.\u001b[0m\n",
      "\u001b[32m[I 2023-03-26 20:01:18,519]\u001b[0m Trial 56 finished with value: 1.6845926357698733 and parameters: {'n_estimators': 600, 'learning_rate': 0.06556154392887274, 'max_depth': 9, 'min_samples_split': 6, 'min_samples_leaf': 1, 'subsample': 0.7, 'max_features': 'auto'}. Best is trial 24 with value: 1.6296016027772953.\u001b[0m\n",
      "\u001b[32m[I 2023-03-26 20:01:19,370]\u001b[0m Trial 57 finished with value: 1.6424286541261435 and parameters: {'n_estimators': 1300, 'learning_rate': 0.030555228090634705, 'max_depth': 9, 'min_samples_split': 8, 'min_samples_leaf': 2, 'subsample': 0.6, 'max_features': 'sqrt'}. Best is trial 24 with value: 1.6296016027772953.\u001b[0m\n",
      "\u001b[32m[I 2023-03-26 20:01:20,786]\u001b[0m Trial 58 finished with value: 1.629576993677062 and parameters: {'n_estimators': 800, 'learning_rate': 0.04073190802487027, 'max_depth': 9, 'min_samples_split': 7, 'min_samples_leaf': 1, 'subsample': 0.6, 'max_features': 'log2'}. Best is trial 58 with value: 1.629576993677062.\u001b[0m\n",
      "\u001b[32m[I 2023-03-26 20:01:23,270]\u001b[0m Trial 59 finished with value: 1.6752336610284704 and parameters: {'n_estimators': 2900, 'learning_rate': 0.00971258970439453, 'max_depth': 4, 'min_samples_split': 7, 'min_samples_leaf': 1, 'subsample': 0.6, 'max_features': 'log2'}. Best is trial 58 with value: 1.629576993677062.\u001b[0m\n",
      "\u001b[32m[I 2023-03-26 20:01:24,398]\u001b[0m Trial 60 finished with value: 1.641195484989758 and parameters: {'n_estimators': 800, 'learning_rate': 0.04088170609339804, 'max_depth': 9, 'min_samples_split': 8, 'min_samples_leaf': 2, 'subsample': 0.6, 'max_features': 'log2'}. Best is trial 58 with value: 1.629576993677062.\u001b[0m\n",
      "\u001b[32m[I 2023-03-26 20:01:25,325]\u001b[0m Trial 61 finished with value: 1.6526181094342571 and parameters: {'n_estimators': 100, 'learning_rate': 0.0841842601640989, 'max_depth': 9, 'min_samples_split': 6, 'min_samples_leaf': 2, 'subsample': 0.8, 'max_features': 'log2'}. Best is trial 58 with value: 1.629576993677062.\u001b[0m\n",
      "\u001b[32m[I 2023-03-26 20:01:26,553]\u001b[0m Trial 62 finished with value: 1.6536409521350757 and parameters: {'n_estimators': 600, 'learning_rate': 0.035329378176901335, 'max_depth': 9, 'min_samples_split': 7, 'min_samples_leaf': 1, 'subsample': 0.7, 'max_features': 'log2'}. Best is trial 58 with value: 1.629576993677062.\u001b[0m\n",
      "\u001b[32m[I 2023-03-26 20:01:27,062]\u001b[0m Trial 63 finished with value: 1.6544060125508107 and parameters: {'n_estimators': 300, 'learning_rate': 0.12231736943361524, 'max_depth': 9, 'min_samples_split': 9, 'min_samples_leaf': 2, 'subsample': 0.6, 'max_features': 'log2'}. Best is trial 58 with value: 1.629576993677062.\u001b[0m\n",
      "\u001b[32m[I 2023-03-26 20:01:27,530]\u001b[0m Trial 64 finished with value: 1.65755792136636 and parameters: {'n_estimators': 1200, 'learning_rate': 0.06479641169490762, 'max_depth': 9, 'min_samples_split': 5, 'min_samples_leaf': 1, 'subsample': 0.6, 'max_features': 'sqrt'}. Best is trial 58 with value: 1.629576993677062.\u001b[0m\n",
      "\u001b[32m[I 2023-03-26 20:01:28,620]\u001b[0m Trial 65 finished with value: 1.7034631918568124 and parameters: {'n_estimators': 900, 'learning_rate': 0.22734287983238102, 'max_depth': 9, 'min_samples_split': 6, 'min_samples_leaf': 2, 'subsample': 0.7, 'max_features': 'auto'}. Best is trial 58 with value: 1.629576993677062.\u001b[0m\n",
      "\u001b[32m[I 2023-03-26 20:01:29,276]\u001b[0m Trial 66 finished with value: 1.6417672326563988 and parameters: {'n_estimators': 500, 'learning_rate': 0.14953044959405487, 'max_depth': 9, 'min_samples_split': 7, 'min_samples_leaf': 3, 'subsample': 0.6, 'max_features': 'sqrt'}. Best is trial 58 with value: 1.629576993677062.\u001b[0m\n",
      "\u001b[32m[I 2023-03-26 20:01:29,903]\u001b[0m Trial 67 finished with value: 1.6521687313236038 and parameters: {'n_estimators': 200, 'learning_rate': 0.04603824686023829, 'max_depth': 6, 'min_samples_split': 8, 'min_samples_leaf': 7, 'subsample': 0.6, 'max_features': 'auto'}. Best is trial 58 with value: 1.629576993677062.\u001b[0m\n",
      "\u001b[32m[I 2023-03-26 20:01:30,287]\u001b[0m Trial 68 finished with value: 1.6573272575650633 and parameters: {'n_estimators': 3800, 'learning_rate': 0.0866942989839651, 'max_depth': 5, 'min_samples_split': 9, 'min_samples_leaf': 1, 'subsample': 0.8, 'max_features': 'sqrt'}. Best is trial 58 with value: 1.629576993677062.\u001b[0m\n",
      "\u001b[32m[I 2023-03-26 20:01:31,187]\u001b[0m Trial 69 finished with value: 1.6920251655781284 and parameters: {'n_estimators': 700, 'learning_rate': 0.03038404433171992, 'max_depth': 9, 'min_samples_split': 2, 'min_samples_leaf': 2, 'subsample': 0.9, 'max_features': 'auto'}. Best is trial 58 with value: 1.629576993677062.\u001b[0m\n",
      "\u001b[32m[I 2023-03-26 20:01:31,945]\u001b[0m Trial 70 finished with value: 1.6307882360346249 and parameters: {'n_estimators': 1800, 'learning_rate': 0.019001781076275103, 'max_depth': 8, 'min_samples_split': 7, 'min_samples_leaf': 2, 'subsample': 0.6, 'max_features': 'log2'}. Best is trial 58 with value: 1.629576993677062.\u001b[0m\n",
      "\u001b[32m[I 2023-03-26 20:01:32,644]\u001b[0m Trial 71 finished with value: 1.6373000706348368 and parameters: {'n_estimators': 2600, 'learning_rate': 0.020207280205597807, 'max_depth': 9, 'min_samples_split': 7, 'min_samples_leaf': 2, 'subsample': 0.6, 'max_features': 'log2'}. Best is trial 58 with value: 1.629576993677062.\u001b[0m\n",
      "\u001b[32m[I 2023-03-26 20:01:33,473]\u001b[0m Trial 72 finished with value: 1.6361225086507512 and parameters: {'n_estimators': 2700, 'learning_rate': 0.015928598422765426, 'max_depth': 9, 'min_samples_split': 7, 'min_samples_leaf': 2, 'subsample': 0.6, 'max_features': 'log2'}. Best is trial 58 with value: 1.629576993677062.\u001b[0m\n",
      "\u001b[32m[I 2023-03-26 20:01:34,372]\u001b[0m Trial 73 finished with value: 1.6305153339941045 and parameters: {'n_estimators': 2500, 'learning_rate': 0.01874566637326461, 'max_depth': 8, 'min_samples_split': 7, 'min_samples_leaf': 2, 'subsample': 0.6, 'max_features': 'log2'}. Best is trial 58 with value: 1.629576993677062.\u001b[0m\n",
      "\u001b[32m[I 2023-03-26 20:01:35,084]\u001b[0m Trial 74 finished with value: 1.6375701246994263 and parameters: {'n_estimators': 2600, 'learning_rate': 0.017103986502312908, 'max_depth': 8, 'min_samples_split': 7, 'min_samples_leaf': 1, 'subsample': 0.6, 'max_features': 'log2'}. Best is trial 58 with value: 1.629576993677062.\u001b[0m\n",
      "\u001b[32m[I 2023-03-26 20:01:36,145]\u001b[0m Trial 75 finished with value: 1.637708079219825 and parameters: {'n_estimators': 2700, 'learning_rate': 0.009735979948047497, 'max_depth': 7, 'min_samples_split': 7, 'min_samples_leaf': 2, 'subsample': 0.6, 'max_features': 'log2'}. Best is trial 58 with value: 1.629576993677062.\u001b[0m\n",
      "\u001b[32m[I 2023-03-26 20:01:37,008]\u001b[0m Trial 76 finished with value: 1.6474890913842628 and parameters: {'n_estimators': 3100, 'learning_rate': 0.013771780930617497, 'max_depth': 8, 'min_samples_split': 7, 'min_samples_leaf': 3, 'subsample': 0.6, 'max_features': 'log2'}. Best is trial 58 with value: 1.629576993677062.\u001b[0m\n",
      "\u001b[32m[I 2023-03-26 20:01:37,737]\u001b[0m Trial 77 finished with value: 1.6290105424872843 and parameters: {'n_estimators': 1900, 'learning_rate': 0.018457688758978893, 'max_depth': 8, 'min_samples_split': 6, 'min_samples_leaf': 1, 'subsample': 0.6, 'max_features': 'log2'}. Best is trial 77 with value: 1.6290105424872843.\u001b[0m\n",
      "\u001b[32m[I 2023-03-26 20:01:38,944]\u001b[0m Trial 78 finished with value: 1.6368176925689553 and parameters: {'n_estimators': 2000, 'learning_rate': 0.012146969034024164, 'max_depth': 7, 'min_samples_split': 6, 'min_samples_leaf': 1, 'subsample': 0.6, 'max_features': 'log2'}. Best is trial 77 with value: 1.6290105424872843.\u001b[0m\n",
      "\u001b[32m[I 2023-03-26 20:01:40,246]\u001b[0m Trial 79 finished with value: 1.6278499443195382 and parameters: {'n_estimators': 1700, 'learning_rate': 0.01816014422236289, 'max_depth': 8, 'min_samples_split': 6, 'min_samples_leaf': 1, 'subsample': 0.6, 'max_features': 'log2'}. Best is trial 79 with value: 1.6278499443195382.\u001b[0m\n",
      "\u001b[32m[I 2023-03-26 20:01:40,930]\u001b[0m Trial 80 finished with value: 1.6332187830761864 and parameters: {'n_estimators': 1900, 'learning_rate': 0.018991976723749065, 'max_depth': 7, 'min_samples_split': 5, 'min_samples_leaf': 1, 'subsample': 0.6, 'max_features': 'log2'}. Best is trial 79 with value: 1.6278499443195382.\u001b[0m\n",
      "\u001b[32m[I 2023-03-26 20:01:41,476]\u001b[0m Trial 81 finished with value: 1.637920146789365 and parameters: {'n_estimators': 1700, 'learning_rate': 0.026299427098657485, 'max_depth': 7, 'min_samples_split': 5, 'min_samples_leaf': 1, 'subsample': 0.6, 'max_features': 'log2'}. Best is trial 79 with value: 1.6278499443195382.\u001b[0m\n",
      "\u001b[32m[I 2023-03-26 20:01:42,149]\u001b[0m Trial 82 finished with value: 1.6482525700429502 and parameters: {'n_estimators': 1900, 'learning_rate': 0.018386574607839788, 'max_depth': 8, 'min_samples_split': 4, 'min_samples_leaf': 1, 'subsample': 0.6, 'max_features': 'log2'}. Best is trial 79 with value: 1.6278499443195382.\u001b[0m\n",
      "\u001b[32m[I 2023-03-26 20:01:42,749]\u001b[0m Trial 83 finished with value: 1.6382805712839204 and parameters: {'n_estimators': 2400, 'learning_rate': 0.02054909967669699, 'max_depth': 7, 'min_samples_split': 6, 'min_samples_leaf': 1, 'subsample': 0.6, 'max_features': 'log2'}. Best is trial 79 with value: 1.6278499443195382.\u001b[0m\n",
      "\u001b[32m[I 2023-03-26 20:01:43,493]\u001b[0m Trial 84 finished with value: 1.6222440980540669 and parameters: {'n_estimators': 1600, 'learning_rate': 0.02389759789912727, 'max_depth': 8, 'min_samples_split': 5, 'min_samples_leaf': 1, 'subsample': 0.6, 'max_features': 'log2'}. Best is trial 84 with value: 1.6222440980540669.\u001b[0m\n",
      "\u001b[32m[I 2023-03-26 20:01:44,866]\u001b[0m Trial 85 finished with value: 1.635902375568867 and parameters: {'n_estimators': 1500, 'learning_rate': 0.00782168499731068, 'max_depth': 8, 'min_samples_split': 5, 'min_samples_leaf': 1, 'subsample': 0.6, 'max_features': 'log2'}. Best is trial 84 with value: 1.6222440980540669.\u001b[0m\n",
      "\u001b[32m[I 2023-03-26 20:01:45,683]\u001b[0m Trial 86 finished with value: 1.6380223295263816 and parameters: {'n_estimators': 2200, 'learning_rate': 0.0131801718304631, 'max_depth': 8, 'min_samples_split': 3, 'min_samples_leaf': 1, 'subsample': 0.5, 'max_features': 'log2'}. Best is trial 84 with value: 1.6222440980540669.\u001b[0m\n",
      "\u001b[32m[I 2023-03-26 20:01:46,264]\u001b[0m Trial 87 finished with value: 1.647134466837093 and parameters: {'n_estimators': 1800, 'learning_rate': 0.024856621223085993, 'max_depth': 8, 'min_samples_split': 5, 'min_samples_leaf': 1, 'subsample': 0.7, 'max_features': 'log2'}. Best is trial 84 with value: 1.6222440980540669.\u001b[0m\n",
      "\u001b[32m[I 2023-03-26 20:01:46,934]\u001b[0m Trial 88 finished with value: 1.6329825323868585 and parameters: {'n_estimators': 1500, 'learning_rate': 0.018377163232306915, 'max_depth': 7, 'min_samples_split': 4, 'min_samples_leaf': 1, 'subsample': 0.6, 'max_features': 'log2'}. Best is trial 84 with value: 1.6222440980540669.\u001b[0m\n",
      "\u001b[32m[I 2023-03-26 20:01:47,707]\u001b[0m Trial 89 finished with value: 1.6465692904882125 and parameters: {'n_estimators': 1500, 'learning_rate': 0.012513756759662641, 'max_depth': 6, 'min_samples_split': 6, 'min_samples_leaf': 1, 'subsample': 0.6, 'max_features': 'log2'}. Best is trial 84 with value: 1.6222440980540669.\u001b[0m\n",
      "\u001b[32m[I 2023-03-26 20:01:48,337]\u001b[0m Trial 90 finished with value: 1.6402747489512395 and parameters: {'n_estimators': 1700, 'learning_rate': 0.028022902666410502, 'max_depth': 7, 'min_samples_split': 5, 'min_samples_leaf': 1, 'subsample': 0.6, 'max_features': 'log2'}. Best is trial 84 with value: 1.6222440980540669.\u001b[0m\n",
      "\u001b[32m[I 2023-03-26 20:01:48,956]\u001b[0m Trial 91 finished with value: 1.6563836749011944 and parameters: {'n_estimators': 1400, 'learning_rate': 0.018229467726376666, 'max_depth': 8, 'min_samples_split': 4, 'min_samples_leaf': 1, 'subsample': 0.6, 'max_features': 'log2'}. Best is trial 84 with value: 1.6222440980540669.\u001b[0m\n",
      "\u001b[32m[I 2023-03-26 20:01:49,648]\u001b[0m Trial 92 finished with value: 1.6361554320064848 and parameters: {'n_estimators': 2000, 'learning_rate': 0.020476412506678806, 'max_depth': 7, 'min_samples_split': 4, 'min_samples_leaf': 1, 'subsample': 0.6, 'max_features': 'log2'}. Best is trial 84 with value: 1.6222440980540669.\u001b[0m\n",
      "\u001b[32m[I 2023-03-26 20:01:50,403]\u001b[0m Trial 93 finished with value: 1.6450378302878585 and parameters: {'n_estimators': 1700, 'learning_rate': 0.016309049328449465, 'max_depth': 8, 'min_samples_split': 4, 'min_samples_leaf': 1, 'subsample': 0.6, 'max_features': 'log2'}. Best is trial 84 with value: 1.6222440980540669.\u001b[0m\n",
      "\u001b[32m[I 2023-03-26 20:01:50,917]\u001b[0m Trial 94 finished with value: 1.6408329527934846 and parameters: {'n_estimators': 2100, 'learning_rate': 0.023269372529742587, 'max_depth': 6, 'min_samples_split': 5, 'min_samples_leaf': 1, 'subsample': 0.6, 'max_features': 'log2'}. Best is trial 84 with value: 1.6222440980540669.\u001b[0m\n",
      "\u001b[32m[I 2023-03-26 20:01:51,665]\u001b[0m Trial 95 finished with value: 1.6540516033835997 and parameters: {'n_estimators': 1100, 'learning_rate': 0.011232272185587899, 'max_depth': 7, 'min_samples_split': 6, 'min_samples_leaf': 1, 'subsample': 0.5, 'max_features': 'log2'}. Best is trial 84 with value: 1.6222440980540669.\u001b[0m\n",
      "\u001b[32m[I 2023-03-26 20:01:52,413]\u001b[0m Trial 96 finished with value: 1.6374302335308977 and parameters: {'n_estimators': 1600, 'learning_rate': 0.02896820014959032, 'max_depth': 8, 'min_samples_split': 4, 'min_samples_leaf': 2, 'subsample': 0.6, 'max_features': 'log2'}. Best is trial 84 with value: 1.6222440980540669.\u001b[0m\n",
      "\u001b[32m[I 2023-03-26 20:01:53,170]\u001b[0m Trial 97 finished with value: 1.648759359617552 and parameters: {'n_estimators': 1400, 'learning_rate': 0.040148877927891756, 'max_depth': 7, 'min_samples_split': 6, 'min_samples_leaf': 2, 'subsample': 0.6, 'max_features': 'log2'}. Best is trial 84 with value: 1.6222440980540669.\u001b[0m\n",
      "\u001b[32m[I 2023-03-26 20:01:53,945]\u001b[0m Trial 98 finished with value: 1.6432244900414261 and parameters: {'n_estimators': 1900, 'learning_rate': 0.01485626544283608, 'max_depth': 8, 'min_samples_split': 4, 'min_samples_leaf': 1, 'subsample': 0.5, 'max_features': 'log2'}. Best is trial 84 with value: 1.6222440980540669.\u001b[0m\n",
      "\u001b[32m[I 2023-03-26 20:01:55,340]\u001b[0m Trial 99 finished with value: 1.6549006323760846 and parameters: {'n_estimators': 2300, 'learning_rate': 0.008476828001145676, 'max_depth': 8, 'min_samples_split': 5, 'min_samples_leaf': 2, 'subsample': 0.7, 'max_features': 'log2'}. Best is trial 84 with value: 1.6222440980540669.\u001b[0m\n"
     ]
    },
    {
     "name": "stdout",
     "output_type": "stream",
     "text": [
      "CPU times: total: 10.3 s\n",
      "Wall time: 2min 38s\n"
     ]
    }
   ],
   "source": [
    "%%time\n",
    "\n",
    "# Separate features and target\n",
    "X, y, scaler = preprocessing.preprocess(df,train=True)\n",
    "\n",
    "# Create study that minimizes\n",
    "study = optuna.create_study(direction=\"minimize\")\n",
    "\n",
    "# Wrap the objective inside a lambda with the relevant arguments\n",
    "kf = KFold(n_splits=5, shuffle=True, random_state=42)\n",
    "# Pass additional arguments inside another function\n",
    "func = lambda trial: objective(trial, X, y, cv=kf, scoring=\"neg_root_mean_squared_error\")\n",
    "\n",
    "# Start optimizing with 100 trials\n",
    "study.optimize(func, n_trials=100)"
   ]
  },
  {
   "cell_type": "code",
   "execution_count": null,
   "metadata": {},
   "outputs": [],
   "source": [
    "\n"
   ]
  },
  {
   "cell_type": "code",
   "execution_count": 49,
   "metadata": {},
   "outputs": [
    {
     "name": "stdout",
     "output_type": "stream",
     "text": [
      "Optimized RMSLE: 1.62224\n"
     ]
    }
   ],
   "source": [
    "print(f\"Optimized RMSLE: {study.best_value:.5f}\")"
   ]
  },
  {
   "cell_type": "markdown",
   "metadata": {},
   "source": [
    "n just under a minute, we achieved a significant score boost (in terms of log errors, 0.004 is pretty sweet). We did this with only 100 trials. Let's boldly run another 200 and see what happens:"
   ]
  },
  {
   "cell_type": "code",
   "execution_count": 50,
   "metadata": {},
   "outputs": [
    {
     "name": "stdout",
     "output_type": "stream",
     "text": [
      "Best params:\n",
      "\tn_estimators: 1600\n",
      "\tlearning_rate: 0.02389759789912727\n",
      "\tmax_depth: 8\n",
      "\tmin_samples_split: 5\n",
      "\tmin_samples_leaf: 1\n",
      "\tsubsample: 0.6\n",
      "\tmax_features: log2\n"
     ]
    }
   ],
   "source": [
    "print(\"Best params:\")\n",
    "for key, value in study.best_params.items():\n",
    "    print(f\"\\t{key}: {value}\")"
   ]
  },
  {
   "cell_type": "markdown",
   "metadata": {},
   "source": [
    "Most importantly, we achieved this score in just over 2 minutes using a search space that would probably take hours with regular GridSearch."
   ]
  },
  {
   "attachments": {},
   "cell_type": "markdown",
   "metadata": {},
   "source": [
    "Optuna offers a wide range of plots under its visualization subpackage. Here, we will discuss only 2, which I think are the most useful.\n",
    "\n",
    "First, let's plot the optimization history of the last study:"
   ]
  },
  {
   "cell_type": "code",
   "execution_count": 51,
   "metadata": {},
   "outputs": [
    {
     "data": {
      "application/vnd.plotly.v1+json": {
       "config": {
        "plotlyServerURL": "https://plot.ly",
        "staticPlot": true
       },
       "data": [
        {
         "mode": "markers",
         "name": "Objective Value",
         "type": "scatter",
         "x": [
          0,
          1,
          2,
          3,
          4,
          5,
          6,
          7,
          8,
          9,
          10,
          11,
          12,
          13,
          14,
          15,
          16,
          17,
          18,
          19,
          20,
          21,
          22,
          23,
          24,
          25,
          26,
          27,
          28,
          29,
          30,
          31,
          32,
          33,
          34,
          35,
          36,
          37,
          38,
          39,
          40,
          41,
          42,
          43,
          44,
          45,
          46,
          47,
          48,
          49,
          50,
          51,
          52,
          53,
          54,
          55,
          56,
          57,
          58,
          59,
          60,
          61,
          62,
          63,
          64,
          65,
          66,
          67,
          68,
          69,
          70,
          71,
          72,
          73,
          74,
          75,
          76,
          77,
          78,
          79,
          80,
          81,
          82,
          83,
          84,
          85,
          86,
          87,
          88,
          89,
          90,
          91,
          92,
          93,
          94,
          95,
          96,
          97,
          98,
          99
         ],
         "y": [
          1.6411048381243327,
          1.722360578490169,
          1.6552708185863,
          1.7400000451306457,
          1.9697814674623408,
          1.68275471281876,
          1.6597442458440417,
          1.7298294466696142,
          2.3752929915350065,
          2.2854765275613906,
          1.6696779840861944,
          1.6384333652583578,
          1.6463244296686936,
          1.6670356394702568,
          1.9721511986980023,
          1.700063644776476,
          1.6684801039699066,
          1.6975346273716354,
          1.6754384146758345,
          1.6507253288349364,
          1.6541333040795794,
          1.6560538848216728,
          1.6521630144271413,
          1.6467981454112322,
          1.6296016027772953,
          1.6729154689641539,
          1.669932226432158,
          1.6455152812341938,
          1.6966384444646343,
          1.6782670755556963,
          1.6451597563897913,
          1.6380904159845773,
          1.6722136246172126,
          1.6601285404985615,
          1.6521714985064946,
          1.7048331663761545,
          1.6455272961350917,
          1.6406736988404391,
          1.6569291643721875,
          1.6490890317950415,
          1.649042567048805,
          1.6514576345554701,
          1.6338022219719774,
          1.6451318693615524,
          1.6807349668525315,
          1.649802522125469,
          1.6395510650187257,
          1.672088576192319,
          1.6434264739144528,
          1.6805368186177916,
          1.6562882064003341,
          1.6427342845741906,
          1.6532012200124337,
          1.6868213588899954,
          1.638380597868948,
          1.6350341182604229,
          1.6845926357698733,
          1.6424286541261435,
          1.629576993677062,
          1.6752336610284704,
          1.641195484989758,
          1.6526181094342571,
          1.6536409521350757,
          1.6544060125508107,
          1.65755792136636,
          1.7034631918568124,
          1.6417672326563988,
          1.6521687313236038,
          1.6573272575650633,
          1.6920251655781284,
          1.6307882360346249,
          1.6373000706348368,
          1.6361225086507512,
          1.6305153339941045,
          1.6375701246994263,
          1.637708079219825,
          1.6474890913842628,
          1.6290105424872843,
          1.6368176925689553,
          1.6278499443195382,
          1.6332187830761864,
          1.637920146789365,
          1.6482525700429502,
          1.6382805712839204,
          1.6222440980540669,
          1.635902375568867,
          1.6380223295263816,
          1.647134466837093,
          1.6329825323868585,
          1.6465692904882125,
          1.6402747489512395,
          1.6563836749011944,
          1.6361554320064848,
          1.6450378302878585,
          1.6408329527934846,
          1.6540516033835997,
          1.6374302335308977,
          1.648759359617552,
          1.6432244900414261,
          1.6549006323760846
         ]
        },
        {
         "name": "Best Value",
         "type": "scatter",
         "x": [
          0,
          1,
          2,
          3,
          4,
          5,
          6,
          7,
          8,
          9,
          10,
          11,
          12,
          13,
          14,
          15,
          16,
          17,
          18,
          19,
          20,
          21,
          22,
          23,
          24,
          25,
          26,
          27,
          28,
          29,
          30,
          31,
          32,
          33,
          34,
          35,
          36,
          37,
          38,
          39,
          40,
          41,
          42,
          43,
          44,
          45,
          46,
          47,
          48,
          49,
          50,
          51,
          52,
          53,
          54,
          55,
          56,
          57,
          58,
          59,
          60,
          61,
          62,
          63,
          64,
          65,
          66,
          67,
          68,
          69,
          70,
          71,
          72,
          73,
          74,
          75,
          76,
          77,
          78,
          79,
          80,
          81,
          82,
          83,
          84,
          85,
          86,
          87,
          88,
          89,
          90,
          91,
          92,
          93,
          94,
          95,
          96,
          97,
          98,
          99
         ],
         "y": [
          1.6411048381243327,
          1.6411048381243327,
          1.6411048381243327,
          1.6411048381243327,
          1.6411048381243327,
          1.6411048381243327,
          1.6411048381243327,
          1.6411048381243327,
          1.6411048381243327,
          1.6411048381243327,
          1.6411048381243327,
          1.6384333652583578,
          1.6384333652583578,
          1.6384333652583578,
          1.6384333652583578,
          1.6384333652583578,
          1.6384333652583578,
          1.6384333652583578,
          1.6384333652583578,
          1.6384333652583578,
          1.6384333652583578,
          1.6384333652583578,
          1.6384333652583578,
          1.6384333652583578,
          1.6296016027772953,
          1.6296016027772953,
          1.6296016027772953,
          1.6296016027772953,
          1.6296016027772953,
          1.6296016027772953,
          1.6296016027772953,
          1.6296016027772953,
          1.6296016027772953,
          1.6296016027772953,
          1.6296016027772953,
          1.6296016027772953,
          1.6296016027772953,
          1.6296016027772953,
          1.6296016027772953,
          1.6296016027772953,
          1.6296016027772953,
          1.6296016027772953,
          1.6296016027772953,
          1.6296016027772953,
          1.6296016027772953,
          1.6296016027772953,
          1.6296016027772953,
          1.6296016027772953,
          1.6296016027772953,
          1.6296016027772953,
          1.6296016027772953,
          1.6296016027772953,
          1.6296016027772953,
          1.6296016027772953,
          1.6296016027772953,
          1.6296016027772953,
          1.6296016027772953,
          1.6296016027772953,
          1.629576993677062,
          1.629576993677062,
          1.629576993677062,
          1.629576993677062,
          1.629576993677062,
          1.629576993677062,
          1.629576993677062,
          1.629576993677062,
          1.629576993677062,
          1.629576993677062,
          1.629576993677062,
          1.629576993677062,
          1.629576993677062,
          1.629576993677062,
          1.629576993677062,
          1.629576993677062,
          1.629576993677062,
          1.629576993677062,
          1.629576993677062,
          1.6290105424872843,
          1.6290105424872843,
          1.6278499443195382,
          1.6278499443195382,
          1.6278499443195382,
          1.6278499443195382,
          1.6278499443195382,
          1.6222440980540669,
          1.6222440980540669,
          1.6222440980540669,
          1.6222440980540669,
          1.6222440980540669,
          1.6222440980540669,
          1.6222440980540669,
          1.6222440980540669,
          1.6222440980540669,
          1.6222440980540669,
          1.6222440980540669,
          1.6222440980540669,
          1.6222440980540669,
          1.6222440980540669,
          1.6222440980540669,
          1.6222440980540669
         ]
        }
       ],
       "layout": {
        "template": {
         "data": {
          "bar": [
           {
            "error_x": {
             "color": "#2a3f5f"
            },
            "error_y": {
             "color": "#2a3f5f"
            },
            "marker": {
             "line": {
              "color": "#E5ECF6",
              "width": 0.5
             },
             "pattern": {
              "fillmode": "overlay",
              "size": 10,
              "solidity": 0.2
             }
            },
            "type": "bar"
           }
          ],
          "barpolar": [
           {
            "marker": {
             "line": {
              "color": "#E5ECF6",
              "width": 0.5
             },
             "pattern": {
              "fillmode": "overlay",
              "size": 10,
              "solidity": 0.2
             }
            },
            "type": "barpolar"
           }
          ],
          "carpet": [
           {
            "aaxis": {
             "endlinecolor": "#2a3f5f",
             "gridcolor": "white",
             "linecolor": "white",
             "minorgridcolor": "white",
             "startlinecolor": "#2a3f5f"
            },
            "baxis": {
             "endlinecolor": "#2a3f5f",
             "gridcolor": "white",
             "linecolor": "white",
             "minorgridcolor": "white",
             "startlinecolor": "#2a3f5f"
            },
            "type": "carpet"
           }
          ],
          "choropleth": [
           {
            "colorbar": {
             "outlinewidth": 0,
             "ticks": ""
            },
            "type": "choropleth"
           }
          ],
          "contour": [
           {
            "colorbar": {
             "outlinewidth": 0,
             "ticks": ""
            },
            "colorscale": [
             [
              0,
              "#0d0887"
             ],
             [
              0.1111111111111111,
              "#46039f"
             ],
             [
              0.2222222222222222,
              "#7201a8"
             ],
             [
              0.3333333333333333,
              "#9c179e"
             ],
             [
              0.4444444444444444,
              "#bd3786"
             ],
             [
              0.5555555555555556,
              "#d8576b"
             ],
             [
              0.6666666666666666,
              "#ed7953"
             ],
             [
              0.7777777777777778,
              "#fb9f3a"
             ],
             [
              0.8888888888888888,
              "#fdca26"
             ],
             [
              1,
              "#f0f921"
             ]
            ],
            "type": "contour"
           }
          ],
          "contourcarpet": [
           {
            "colorbar": {
             "outlinewidth": 0,
             "ticks": ""
            },
            "type": "contourcarpet"
           }
          ],
          "heatmap": [
           {
            "colorbar": {
             "outlinewidth": 0,
             "ticks": ""
            },
            "colorscale": [
             [
              0,
              "#0d0887"
             ],
             [
              0.1111111111111111,
              "#46039f"
             ],
             [
              0.2222222222222222,
              "#7201a8"
             ],
             [
              0.3333333333333333,
              "#9c179e"
             ],
             [
              0.4444444444444444,
              "#bd3786"
             ],
             [
              0.5555555555555556,
              "#d8576b"
             ],
             [
              0.6666666666666666,
              "#ed7953"
             ],
             [
              0.7777777777777778,
              "#fb9f3a"
             ],
             [
              0.8888888888888888,
              "#fdca26"
             ],
             [
              1,
              "#f0f921"
             ]
            ],
            "type": "heatmap"
           }
          ],
          "heatmapgl": [
           {
            "colorbar": {
             "outlinewidth": 0,
             "ticks": ""
            },
            "colorscale": [
             [
              0,
              "#0d0887"
             ],
             [
              0.1111111111111111,
              "#46039f"
             ],
             [
              0.2222222222222222,
              "#7201a8"
             ],
             [
              0.3333333333333333,
              "#9c179e"
             ],
             [
              0.4444444444444444,
              "#bd3786"
             ],
             [
              0.5555555555555556,
              "#d8576b"
             ],
             [
              0.6666666666666666,
              "#ed7953"
             ],
             [
              0.7777777777777778,
              "#fb9f3a"
             ],
             [
              0.8888888888888888,
              "#fdca26"
             ],
             [
              1,
              "#f0f921"
             ]
            ],
            "type": "heatmapgl"
           }
          ],
          "histogram": [
           {
            "marker": {
             "pattern": {
              "fillmode": "overlay",
              "size": 10,
              "solidity": 0.2
             }
            },
            "type": "histogram"
           }
          ],
          "histogram2d": [
           {
            "colorbar": {
             "outlinewidth": 0,
             "ticks": ""
            },
            "colorscale": [
             [
              0,
              "#0d0887"
             ],
             [
              0.1111111111111111,
              "#46039f"
             ],
             [
              0.2222222222222222,
              "#7201a8"
             ],
             [
              0.3333333333333333,
              "#9c179e"
             ],
             [
              0.4444444444444444,
              "#bd3786"
             ],
             [
              0.5555555555555556,
              "#d8576b"
             ],
             [
              0.6666666666666666,
              "#ed7953"
             ],
             [
              0.7777777777777778,
              "#fb9f3a"
             ],
             [
              0.8888888888888888,
              "#fdca26"
             ],
             [
              1,
              "#f0f921"
             ]
            ],
            "type": "histogram2d"
           }
          ],
          "histogram2dcontour": [
           {
            "colorbar": {
             "outlinewidth": 0,
             "ticks": ""
            },
            "colorscale": [
             [
              0,
              "#0d0887"
             ],
             [
              0.1111111111111111,
              "#46039f"
             ],
             [
              0.2222222222222222,
              "#7201a8"
             ],
             [
              0.3333333333333333,
              "#9c179e"
             ],
             [
              0.4444444444444444,
              "#bd3786"
             ],
             [
              0.5555555555555556,
              "#d8576b"
             ],
             [
              0.6666666666666666,
              "#ed7953"
             ],
             [
              0.7777777777777778,
              "#fb9f3a"
             ],
             [
              0.8888888888888888,
              "#fdca26"
             ],
             [
              1,
              "#f0f921"
             ]
            ],
            "type": "histogram2dcontour"
           }
          ],
          "mesh3d": [
           {
            "colorbar": {
             "outlinewidth": 0,
             "ticks": ""
            },
            "type": "mesh3d"
           }
          ],
          "parcoords": [
           {
            "line": {
             "colorbar": {
              "outlinewidth": 0,
              "ticks": ""
             }
            },
            "type": "parcoords"
           }
          ],
          "pie": [
           {
            "automargin": true,
            "type": "pie"
           }
          ],
          "scatter": [
           {
            "fillpattern": {
             "fillmode": "overlay",
             "size": 10,
             "solidity": 0.2
            },
            "type": "scatter"
           }
          ],
          "scatter3d": [
           {
            "line": {
             "colorbar": {
              "outlinewidth": 0,
              "ticks": ""
             }
            },
            "marker": {
             "colorbar": {
              "outlinewidth": 0,
              "ticks": ""
             }
            },
            "type": "scatter3d"
           }
          ],
          "scattercarpet": [
           {
            "marker": {
             "colorbar": {
              "outlinewidth": 0,
              "ticks": ""
             }
            },
            "type": "scattercarpet"
           }
          ],
          "scattergeo": [
           {
            "marker": {
             "colorbar": {
              "outlinewidth": 0,
              "ticks": ""
             }
            },
            "type": "scattergeo"
           }
          ],
          "scattergl": [
           {
            "marker": {
             "colorbar": {
              "outlinewidth": 0,
              "ticks": ""
             }
            },
            "type": "scattergl"
           }
          ],
          "scattermapbox": [
           {
            "marker": {
             "colorbar": {
              "outlinewidth": 0,
              "ticks": ""
             }
            },
            "type": "scattermapbox"
           }
          ],
          "scatterpolar": [
           {
            "marker": {
             "colorbar": {
              "outlinewidth": 0,
              "ticks": ""
             }
            },
            "type": "scatterpolar"
           }
          ],
          "scatterpolargl": [
           {
            "marker": {
             "colorbar": {
              "outlinewidth": 0,
              "ticks": ""
             }
            },
            "type": "scatterpolargl"
           }
          ],
          "scatterternary": [
           {
            "marker": {
             "colorbar": {
              "outlinewidth": 0,
              "ticks": ""
             }
            },
            "type": "scatterternary"
           }
          ],
          "surface": [
           {
            "colorbar": {
             "outlinewidth": 0,
             "ticks": ""
            },
            "colorscale": [
             [
              0,
              "#0d0887"
             ],
             [
              0.1111111111111111,
              "#46039f"
             ],
             [
              0.2222222222222222,
              "#7201a8"
             ],
             [
              0.3333333333333333,
              "#9c179e"
             ],
             [
              0.4444444444444444,
              "#bd3786"
             ],
             [
              0.5555555555555556,
              "#d8576b"
             ],
             [
              0.6666666666666666,
              "#ed7953"
             ],
             [
              0.7777777777777778,
              "#fb9f3a"
             ],
             [
              0.8888888888888888,
              "#fdca26"
             ],
             [
              1,
              "#f0f921"
             ]
            ],
            "type": "surface"
           }
          ],
          "table": [
           {
            "cells": {
             "fill": {
              "color": "#EBF0F8"
             },
             "line": {
              "color": "white"
             }
            },
            "header": {
             "fill": {
              "color": "#C8D4E3"
             },
             "line": {
              "color": "white"
             }
            },
            "type": "table"
           }
          ]
         },
         "layout": {
          "annotationdefaults": {
           "arrowcolor": "#2a3f5f",
           "arrowhead": 0,
           "arrowwidth": 1
          },
          "autotypenumbers": "strict",
          "coloraxis": {
           "colorbar": {
            "outlinewidth": 0,
            "ticks": ""
           }
          },
          "colorscale": {
           "diverging": [
            [
             0,
             "#8e0152"
            ],
            [
             0.1,
             "#c51b7d"
            ],
            [
             0.2,
             "#de77ae"
            ],
            [
             0.3,
             "#f1b6da"
            ],
            [
             0.4,
             "#fde0ef"
            ],
            [
             0.5,
             "#f7f7f7"
            ],
            [
             0.6,
             "#e6f5d0"
            ],
            [
             0.7,
             "#b8e186"
            ],
            [
             0.8,
             "#7fbc41"
            ],
            [
             0.9,
             "#4d9221"
            ],
            [
             1,
             "#276419"
            ]
           ],
           "sequential": [
            [
             0,
             "#0d0887"
            ],
            [
             0.1111111111111111,
             "#46039f"
            ],
            [
             0.2222222222222222,
             "#7201a8"
            ],
            [
             0.3333333333333333,
             "#9c179e"
            ],
            [
             0.4444444444444444,
             "#bd3786"
            ],
            [
             0.5555555555555556,
             "#d8576b"
            ],
            [
             0.6666666666666666,
             "#ed7953"
            ],
            [
             0.7777777777777778,
             "#fb9f3a"
            ],
            [
             0.8888888888888888,
             "#fdca26"
            ],
            [
             1,
             "#f0f921"
            ]
           ],
           "sequentialminus": [
            [
             0,
             "#0d0887"
            ],
            [
             0.1111111111111111,
             "#46039f"
            ],
            [
             0.2222222222222222,
             "#7201a8"
            ],
            [
             0.3333333333333333,
             "#9c179e"
            ],
            [
             0.4444444444444444,
             "#bd3786"
            ],
            [
             0.5555555555555556,
             "#d8576b"
            ],
            [
             0.6666666666666666,
             "#ed7953"
            ],
            [
             0.7777777777777778,
             "#fb9f3a"
            ],
            [
             0.8888888888888888,
             "#fdca26"
            ],
            [
             1,
             "#f0f921"
            ]
           ]
          },
          "colorway": [
           "#636efa",
           "#EF553B",
           "#00cc96",
           "#ab63fa",
           "#FFA15A",
           "#19d3f3",
           "#FF6692",
           "#B6E880",
           "#FF97FF",
           "#FECB52"
          ],
          "font": {
           "color": "#2a3f5f"
          },
          "geo": {
           "bgcolor": "white",
           "lakecolor": "white",
           "landcolor": "#E5ECF6",
           "showlakes": true,
           "showland": true,
           "subunitcolor": "white"
          },
          "hoverlabel": {
           "align": "left"
          },
          "hovermode": "closest",
          "mapbox": {
           "style": "light"
          },
          "paper_bgcolor": "white",
          "plot_bgcolor": "#E5ECF6",
          "polar": {
           "angularaxis": {
            "gridcolor": "white",
            "linecolor": "white",
            "ticks": ""
           },
           "bgcolor": "#E5ECF6",
           "radialaxis": {
            "gridcolor": "white",
            "linecolor": "white",
            "ticks": ""
           }
          },
          "scene": {
           "xaxis": {
            "backgroundcolor": "#E5ECF6",
            "gridcolor": "white",
            "gridwidth": 2,
            "linecolor": "white",
            "showbackground": true,
            "ticks": "",
            "zerolinecolor": "white"
           },
           "yaxis": {
            "backgroundcolor": "#E5ECF6",
            "gridcolor": "white",
            "gridwidth": 2,
            "linecolor": "white",
            "showbackground": true,
            "ticks": "",
            "zerolinecolor": "white"
           },
           "zaxis": {
            "backgroundcolor": "#E5ECF6",
            "gridcolor": "white",
            "gridwidth": 2,
            "linecolor": "white",
            "showbackground": true,
            "ticks": "",
            "zerolinecolor": "white"
           }
          },
          "shapedefaults": {
           "line": {
            "color": "#2a3f5f"
           }
          },
          "ternary": {
           "aaxis": {
            "gridcolor": "white",
            "linecolor": "white",
            "ticks": ""
           },
           "baxis": {
            "gridcolor": "white",
            "linecolor": "white",
            "ticks": ""
           },
           "bgcolor": "#E5ECF6",
           "caxis": {
            "gridcolor": "white",
            "linecolor": "white",
            "ticks": ""
           }
          },
          "title": {
           "x": 0.05
          },
          "xaxis": {
           "automargin": true,
           "gridcolor": "white",
           "linecolor": "white",
           "ticks": "",
           "title": {
            "standoff": 15
           },
           "zerolinecolor": "white",
           "zerolinewidth": 2
          },
          "yaxis": {
           "automargin": true,
           "gridcolor": "white",
           "linecolor": "white",
           "ticks": "",
           "title": {
            "standoff": 15
           },
           "zerolinecolor": "white",
           "zerolinewidth": 2
          }
         }
        },
        "title": {
         "text": "Optimization History Plot"
        },
        "xaxis": {
         "title": {
          "text": "Trial"
         }
        },
        "yaxis": {
         "title": {
          "text": "Objective Value"
         }
        }
       }
      }
     },
     "metadata": {},
     "output_type": "display_data"
    }
   ],
   "source": [
    "from optuna.visualization import plot_optimization_history\n",
    "\n",
    "plotly_config = {\"staticPlot\": True}\n",
    "\n",
    "fig = plot_optimization_history(study)\n",
    "fig.show(config=plotly_config)"
   ]
  },
  {
   "cell_type": "markdown",
   "metadata": {},
   "source": [
    "This plot tells us that Optuna made the score converge to the minimum after only a few trials.\n",
    "\n",
    "Next, let's plot hyperparameter importances:"
   ]
  },
  {
   "cell_type": "code",
   "execution_count": 52,
   "metadata": {},
   "outputs": [
    {
     "data": {
      "application/vnd.plotly.v1+json": {
       "config": {
        "plotlyServerURL": "https://plot.ly",
        "staticPlot": true
       },
       "data": [
        {
         "cliponaxis": false,
         "hovertemplate": [
          "min_samples_leaf (IntDistribution): 0.008646286856812395<extra></extra>",
          "n_estimators (IntDistribution): 0.012168010410558271<extra></extra>",
          "min_samples_split (IntDistribution): 0.015405271070802846<extra></extra>",
          "max_depth (IntDistribution): 0.023756531103969122<extra></extra>",
          "max_features (CategoricalDistribution): 0.04907009848202703<extra></extra>",
          "subsample (FloatDistribution): 0.31174750193746675<extra></extra>",
          "learning_rate (FloatDistribution): 0.5792063001383637<extra></extra>"
         ],
         "marker": {
          "color": "rgb(66,146,198)"
         },
         "orientation": "h",
         "text": [
          "<0.01",
          "0.01",
          "0.02",
          "0.02",
          "0.05",
          "0.31",
          "0.58"
         ],
         "textposition": "outside",
         "type": "bar",
         "x": [
          0.008646286856812395,
          0.012168010410558271,
          0.015405271070802846,
          0.023756531103969122,
          0.04907009848202703,
          0.31174750193746675,
          0.5792063001383637
         ],
         "y": [
          "min_samples_leaf",
          "n_estimators",
          "min_samples_split",
          "max_depth",
          "max_features",
          "subsample",
          "learning_rate"
         ]
        }
       ],
       "layout": {
        "showlegend": false,
        "template": {
         "data": {
          "bar": [
           {
            "error_x": {
             "color": "#2a3f5f"
            },
            "error_y": {
             "color": "#2a3f5f"
            },
            "marker": {
             "line": {
              "color": "#E5ECF6",
              "width": 0.5
             },
             "pattern": {
              "fillmode": "overlay",
              "size": 10,
              "solidity": 0.2
             }
            },
            "type": "bar"
           }
          ],
          "barpolar": [
           {
            "marker": {
             "line": {
              "color": "#E5ECF6",
              "width": 0.5
             },
             "pattern": {
              "fillmode": "overlay",
              "size": 10,
              "solidity": 0.2
             }
            },
            "type": "barpolar"
           }
          ],
          "carpet": [
           {
            "aaxis": {
             "endlinecolor": "#2a3f5f",
             "gridcolor": "white",
             "linecolor": "white",
             "minorgridcolor": "white",
             "startlinecolor": "#2a3f5f"
            },
            "baxis": {
             "endlinecolor": "#2a3f5f",
             "gridcolor": "white",
             "linecolor": "white",
             "minorgridcolor": "white",
             "startlinecolor": "#2a3f5f"
            },
            "type": "carpet"
           }
          ],
          "choropleth": [
           {
            "colorbar": {
             "outlinewidth": 0,
             "ticks": ""
            },
            "type": "choropleth"
           }
          ],
          "contour": [
           {
            "colorbar": {
             "outlinewidth": 0,
             "ticks": ""
            },
            "colorscale": [
             [
              0,
              "#0d0887"
             ],
             [
              0.1111111111111111,
              "#46039f"
             ],
             [
              0.2222222222222222,
              "#7201a8"
             ],
             [
              0.3333333333333333,
              "#9c179e"
             ],
             [
              0.4444444444444444,
              "#bd3786"
             ],
             [
              0.5555555555555556,
              "#d8576b"
             ],
             [
              0.6666666666666666,
              "#ed7953"
             ],
             [
              0.7777777777777778,
              "#fb9f3a"
             ],
             [
              0.8888888888888888,
              "#fdca26"
             ],
             [
              1,
              "#f0f921"
             ]
            ],
            "type": "contour"
           }
          ],
          "contourcarpet": [
           {
            "colorbar": {
             "outlinewidth": 0,
             "ticks": ""
            },
            "type": "contourcarpet"
           }
          ],
          "heatmap": [
           {
            "colorbar": {
             "outlinewidth": 0,
             "ticks": ""
            },
            "colorscale": [
             [
              0,
              "#0d0887"
             ],
             [
              0.1111111111111111,
              "#46039f"
             ],
             [
              0.2222222222222222,
              "#7201a8"
             ],
             [
              0.3333333333333333,
              "#9c179e"
             ],
             [
              0.4444444444444444,
              "#bd3786"
             ],
             [
              0.5555555555555556,
              "#d8576b"
             ],
             [
              0.6666666666666666,
              "#ed7953"
             ],
             [
              0.7777777777777778,
              "#fb9f3a"
             ],
             [
              0.8888888888888888,
              "#fdca26"
             ],
             [
              1,
              "#f0f921"
             ]
            ],
            "type": "heatmap"
           }
          ],
          "heatmapgl": [
           {
            "colorbar": {
             "outlinewidth": 0,
             "ticks": ""
            },
            "colorscale": [
             [
              0,
              "#0d0887"
             ],
             [
              0.1111111111111111,
              "#46039f"
             ],
             [
              0.2222222222222222,
              "#7201a8"
             ],
             [
              0.3333333333333333,
              "#9c179e"
             ],
             [
              0.4444444444444444,
              "#bd3786"
             ],
             [
              0.5555555555555556,
              "#d8576b"
             ],
             [
              0.6666666666666666,
              "#ed7953"
             ],
             [
              0.7777777777777778,
              "#fb9f3a"
             ],
             [
              0.8888888888888888,
              "#fdca26"
             ],
             [
              1,
              "#f0f921"
             ]
            ],
            "type": "heatmapgl"
           }
          ],
          "histogram": [
           {
            "marker": {
             "pattern": {
              "fillmode": "overlay",
              "size": 10,
              "solidity": 0.2
             }
            },
            "type": "histogram"
           }
          ],
          "histogram2d": [
           {
            "colorbar": {
             "outlinewidth": 0,
             "ticks": ""
            },
            "colorscale": [
             [
              0,
              "#0d0887"
             ],
             [
              0.1111111111111111,
              "#46039f"
             ],
             [
              0.2222222222222222,
              "#7201a8"
             ],
             [
              0.3333333333333333,
              "#9c179e"
             ],
             [
              0.4444444444444444,
              "#bd3786"
             ],
             [
              0.5555555555555556,
              "#d8576b"
             ],
             [
              0.6666666666666666,
              "#ed7953"
             ],
             [
              0.7777777777777778,
              "#fb9f3a"
             ],
             [
              0.8888888888888888,
              "#fdca26"
             ],
             [
              1,
              "#f0f921"
             ]
            ],
            "type": "histogram2d"
           }
          ],
          "histogram2dcontour": [
           {
            "colorbar": {
             "outlinewidth": 0,
             "ticks": ""
            },
            "colorscale": [
             [
              0,
              "#0d0887"
             ],
             [
              0.1111111111111111,
              "#46039f"
             ],
             [
              0.2222222222222222,
              "#7201a8"
             ],
             [
              0.3333333333333333,
              "#9c179e"
             ],
             [
              0.4444444444444444,
              "#bd3786"
             ],
             [
              0.5555555555555556,
              "#d8576b"
             ],
             [
              0.6666666666666666,
              "#ed7953"
             ],
             [
              0.7777777777777778,
              "#fb9f3a"
             ],
             [
              0.8888888888888888,
              "#fdca26"
             ],
             [
              1,
              "#f0f921"
             ]
            ],
            "type": "histogram2dcontour"
           }
          ],
          "mesh3d": [
           {
            "colorbar": {
             "outlinewidth": 0,
             "ticks": ""
            },
            "type": "mesh3d"
           }
          ],
          "parcoords": [
           {
            "line": {
             "colorbar": {
              "outlinewidth": 0,
              "ticks": ""
             }
            },
            "type": "parcoords"
           }
          ],
          "pie": [
           {
            "automargin": true,
            "type": "pie"
           }
          ],
          "scatter": [
           {
            "fillpattern": {
             "fillmode": "overlay",
             "size": 10,
             "solidity": 0.2
            },
            "type": "scatter"
           }
          ],
          "scatter3d": [
           {
            "line": {
             "colorbar": {
              "outlinewidth": 0,
              "ticks": ""
             }
            },
            "marker": {
             "colorbar": {
              "outlinewidth": 0,
              "ticks": ""
             }
            },
            "type": "scatter3d"
           }
          ],
          "scattercarpet": [
           {
            "marker": {
             "colorbar": {
              "outlinewidth": 0,
              "ticks": ""
             }
            },
            "type": "scattercarpet"
           }
          ],
          "scattergeo": [
           {
            "marker": {
             "colorbar": {
              "outlinewidth": 0,
              "ticks": ""
             }
            },
            "type": "scattergeo"
           }
          ],
          "scattergl": [
           {
            "marker": {
             "colorbar": {
              "outlinewidth": 0,
              "ticks": ""
             }
            },
            "type": "scattergl"
           }
          ],
          "scattermapbox": [
           {
            "marker": {
             "colorbar": {
              "outlinewidth": 0,
              "ticks": ""
             }
            },
            "type": "scattermapbox"
           }
          ],
          "scatterpolar": [
           {
            "marker": {
             "colorbar": {
              "outlinewidth": 0,
              "ticks": ""
             }
            },
            "type": "scatterpolar"
           }
          ],
          "scatterpolargl": [
           {
            "marker": {
             "colorbar": {
              "outlinewidth": 0,
              "ticks": ""
             }
            },
            "type": "scatterpolargl"
           }
          ],
          "scatterternary": [
           {
            "marker": {
             "colorbar": {
              "outlinewidth": 0,
              "ticks": ""
             }
            },
            "type": "scatterternary"
           }
          ],
          "surface": [
           {
            "colorbar": {
             "outlinewidth": 0,
             "ticks": ""
            },
            "colorscale": [
             [
              0,
              "#0d0887"
             ],
             [
              0.1111111111111111,
              "#46039f"
             ],
             [
              0.2222222222222222,
              "#7201a8"
             ],
             [
              0.3333333333333333,
              "#9c179e"
             ],
             [
              0.4444444444444444,
              "#bd3786"
             ],
             [
              0.5555555555555556,
              "#d8576b"
             ],
             [
              0.6666666666666666,
              "#ed7953"
             ],
             [
              0.7777777777777778,
              "#fb9f3a"
             ],
             [
              0.8888888888888888,
              "#fdca26"
             ],
             [
              1,
              "#f0f921"
             ]
            ],
            "type": "surface"
           }
          ],
          "table": [
           {
            "cells": {
             "fill": {
              "color": "#EBF0F8"
             },
             "line": {
              "color": "white"
             }
            },
            "header": {
             "fill": {
              "color": "#C8D4E3"
             },
             "line": {
              "color": "white"
             }
            },
            "type": "table"
           }
          ]
         },
         "layout": {
          "annotationdefaults": {
           "arrowcolor": "#2a3f5f",
           "arrowhead": 0,
           "arrowwidth": 1
          },
          "autotypenumbers": "strict",
          "coloraxis": {
           "colorbar": {
            "outlinewidth": 0,
            "ticks": ""
           }
          },
          "colorscale": {
           "diverging": [
            [
             0,
             "#8e0152"
            ],
            [
             0.1,
             "#c51b7d"
            ],
            [
             0.2,
             "#de77ae"
            ],
            [
             0.3,
             "#f1b6da"
            ],
            [
             0.4,
             "#fde0ef"
            ],
            [
             0.5,
             "#f7f7f7"
            ],
            [
             0.6,
             "#e6f5d0"
            ],
            [
             0.7,
             "#b8e186"
            ],
            [
             0.8,
             "#7fbc41"
            ],
            [
             0.9,
             "#4d9221"
            ],
            [
             1,
             "#276419"
            ]
           ],
           "sequential": [
            [
             0,
             "#0d0887"
            ],
            [
             0.1111111111111111,
             "#46039f"
            ],
            [
             0.2222222222222222,
             "#7201a8"
            ],
            [
             0.3333333333333333,
             "#9c179e"
            ],
            [
             0.4444444444444444,
             "#bd3786"
            ],
            [
             0.5555555555555556,
             "#d8576b"
            ],
            [
             0.6666666666666666,
             "#ed7953"
            ],
            [
             0.7777777777777778,
             "#fb9f3a"
            ],
            [
             0.8888888888888888,
             "#fdca26"
            ],
            [
             1,
             "#f0f921"
            ]
           ],
           "sequentialminus": [
            [
             0,
             "#0d0887"
            ],
            [
             0.1111111111111111,
             "#46039f"
            ],
            [
             0.2222222222222222,
             "#7201a8"
            ],
            [
             0.3333333333333333,
             "#9c179e"
            ],
            [
             0.4444444444444444,
             "#bd3786"
            ],
            [
             0.5555555555555556,
             "#d8576b"
            ],
            [
             0.6666666666666666,
             "#ed7953"
            ],
            [
             0.7777777777777778,
             "#fb9f3a"
            ],
            [
             0.8888888888888888,
             "#fdca26"
            ],
            [
             1,
             "#f0f921"
            ]
           ]
          },
          "colorway": [
           "#636efa",
           "#EF553B",
           "#00cc96",
           "#ab63fa",
           "#FFA15A",
           "#19d3f3",
           "#FF6692",
           "#B6E880",
           "#FF97FF",
           "#FECB52"
          ],
          "font": {
           "color": "#2a3f5f"
          },
          "geo": {
           "bgcolor": "white",
           "lakecolor": "white",
           "landcolor": "#E5ECF6",
           "showlakes": true,
           "showland": true,
           "subunitcolor": "white"
          },
          "hoverlabel": {
           "align": "left"
          },
          "hovermode": "closest",
          "mapbox": {
           "style": "light"
          },
          "paper_bgcolor": "white",
          "plot_bgcolor": "#E5ECF6",
          "polar": {
           "angularaxis": {
            "gridcolor": "white",
            "linecolor": "white",
            "ticks": ""
           },
           "bgcolor": "#E5ECF6",
           "radialaxis": {
            "gridcolor": "white",
            "linecolor": "white",
            "ticks": ""
           }
          },
          "scene": {
           "xaxis": {
            "backgroundcolor": "#E5ECF6",
            "gridcolor": "white",
            "gridwidth": 2,
            "linecolor": "white",
            "showbackground": true,
            "ticks": "",
            "zerolinecolor": "white"
           },
           "yaxis": {
            "backgroundcolor": "#E5ECF6",
            "gridcolor": "white",
            "gridwidth": 2,
            "linecolor": "white",
            "showbackground": true,
            "ticks": "",
            "zerolinecolor": "white"
           },
           "zaxis": {
            "backgroundcolor": "#E5ECF6",
            "gridcolor": "white",
            "gridwidth": 2,
            "linecolor": "white",
            "showbackground": true,
            "ticks": "",
            "zerolinecolor": "white"
           }
          },
          "shapedefaults": {
           "line": {
            "color": "#2a3f5f"
           }
          },
          "ternary": {
           "aaxis": {
            "gridcolor": "white",
            "linecolor": "white",
            "ticks": ""
           },
           "baxis": {
            "gridcolor": "white",
            "linecolor": "white",
            "ticks": ""
           },
           "bgcolor": "#E5ECF6",
           "caxis": {
            "gridcolor": "white",
            "linecolor": "white",
            "ticks": ""
           }
          },
          "title": {
           "x": 0.05
          },
          "xaxis": {
           "automargin": true,
           "gridcolor": "white",
           "linecolor": "white",
           "ticks": "",
           "title": {
            "standoff": 15
           },
           "zerolinecolor": "white",
           "zerolinewidth": 2
          },
          "yaxis": {
           "automargin": true,
           "gridcolor": "white",
           "linecolor": "white",
           "ticks": "",
           "title": {
            "standoff": 15
           },
           "zerolinecolor": "white",
           "zerolinewidth": 2
          }
         }
        },
        "title": {
         "text": "Hyperparameter Importances"
        },
        "xaxis": {
         "title": {
          "text": "Importance for Objective Value"
         }
        },
        "yaxis": {
         "title": {
          "text": "Hyperparameter"
         }
        }
       }
      }
     },
     "metadata": {},
     "output_type": "display_data"
    }
   ],
   "source": [
    "from optuna.visualization import plot_param_importances\n",
    "\n",
    "fig = plot_param_importances(study)\n",
    "fig.show(config=plotly_config)"
   ]
  },
  {
   "cell_type": "markdown",
   "metadata": {},
   "source": [
    "This plot is massively useful! It tells us several things, including:\n",
    "\n",
    "max_depth and learning_rate are the most important\n",
    "subsample and max_features are useless for minimizing the loss\n",
    "A plot like this comes in handy when tuning models with many hyperparameters. For example, you could take a test run of 40–50 trials and plot the parameter importances.\n",
    "\n",
    "Depending on the plot, you might decide to discard some less important parameters and give a larger search space for other ones, possibly reducing the search time and space."
   ]
  },
  {
   "cell_type": "code",
   "execution_count": 53,
   "metadata": {},
   "outputs": [
    {
     "data": {
      "text/html": [
       "<style>#sk-container-id-3 {color: black;background-color: white;}#sk-container-id-3 pre{padding: 0;}#sk-container-id-3 div.sk-toggleable {background-color: white;}#sk-container-id-3 label.sk-toggleable__label {cursor: pointer;display: block;width: 100%;margin-bottom: 0;padding: 0.3em;box-sizing: border-box;text-align: center;}#sk-container-id-3 label.sk-toggleable__label-arrow:before {content: \"▸\";float: left;margin-right: 0.25em;color: #696969;}#sk-container-id-3 label.sk-toggleable__label-arrow:hover:before {color: black;}#sk-container-id-3 div.sk-estimator:hover label.sk-toggleable__label-arrow:before {color: black;}#sk-container-id-3 div.sk-toggleable__content {max-height: 0;max-width: 0;overflow: hidden;text-align: left;background-color: #f0f8ff;}#sk-container-id-3 div.sk-toggleable__content pre {margin: 0.2em;color: black;border-radius: 0.25em;background-color: #f0f8ff;}#sk-container-id-3 input.sk-toggleable__control:checked~div.sk-toggleable__content {max-height: 200px;max-width: 100%;overflow: auto;}#sk-container-id-3 input.sk-toggleable__control:checked~label.sk-toggleable__label-arrow:before {content: \"▾\";}#sk-container-id-3 div.sk-estimator input.sk-toggleable__control:checked~label.sk-toggleable__label {background-color: #d4ebff;}#sk-container-id-3 div.sk-label input.sk-toggleable__control:checked~label.sk-toggleable__label {background-color: #d4ebff;}#sk-container-id-3 input.sk-hidden--visually {border: 0;clip: rect(1px 1px 1px 1px);clip: rect(1px, 1px, 1px, 1px);height: 1px;margin: -1px;overflow: hidden;padding: 0;position: absolute;width: 1px;}#sk-container-id-3 div.sk-estimator {font-family: monospace;background-color: #f0f8ff;border: 1px dotted black;border-radius: 0.25em;box-sizing: border-box;margin-bottom: 0.5em;}#sk-container-id-3 div.sk-estimator:hover {background-color: #d4ebff;}#sk-container-id-3 div.sk-parallel-item::after {content: \"\";width: 100%;border-bottom: 1px solid gray;flex-grow: 1;}#sk-container-id-3 div.sk-label:hover label.sk-toggleable__label {background-color: #d4ebff;}#sk-container-id-3 div.sk-serial::before {content: \"\";position: absolute;border-left: 1px solid gray;box-sizing: border-box;top: 0;bottom: 0;left: 50%;z-index: 0;}#sk-container-id-3 div.sk-serial {display: flex;flex-direction: column;align-items: center;background-color: white;padding-right: 0.2em;padding-left: 0.2em;position: relative;}#sk-container-id-3 div.sk-item {position: relative;z-index: 1;}#sk-container-id-3 div.sk-parallel {display: flex;align-items: stretch;justify-content: center;background-color: white;position: relative;}#sk-container-id-3 div.sk-item::before, #sk-container-id-3 div.sk-parallel-item::before {content: \"\";position: absolute;border-left: 1px solid gray;box-sizing: border-box;top: 0;bottom: 0;left: 50%;z-index: -1;}#sk-container-id-3 div.sk-parallel-item {display: flex;flex-direction: column;z-index: 1;position: relative;background-color: white;}#sk-container-id-3 div.sk-parallel-item:first-child::after {align-self: flex-end;width: 50%;}#sk-container-id-3 div.sk-parallel-item:last-child::after {align-self: flex-start;width: 50%;}#sk-container-id-3 div.sk-parallel-item:only-child::after {width: 0;}#sk-container-id-3 div.sk-dashed-wrapped {border: 1px dashed gray;margin: 0 0.4em 0.5em 0.4em;box-sizing: border-box;padding-bottom: 0.4em;background-color: white;}#sk-container-id-3 div.sk-label label {font-family: monospace;font-weight: bold;display: inline-block;line-height: 1.2em;}#sk-container-id-3 div.sk-label-container {text-align: center;}#sk-container-id-3 div.sk-container {/* jupyter's `normalize.less` sets `[hidden] { display: none; }` but bootstrap.min.css set `[hidden] { display: none !important; }` so we also need the `!important` here to be able to override the default hidden behavior on the sphinx rendered scikit-learn.org. See: https://github.com/scikit-learn/scikit-learn/issues/21755 */display: inline-block !important;position: relative;}#sk-container-id-3 div.sk-text-repr-fallback {display: none;}</style><div id=\"sk-container-id-3\" class=\"sk-top-container\"><div class=\"sk-text-repr-fallback\"><pre>GradientBoostingRegressor(learning_rate=0.02389759789912727, max_depth=8,\n",
       "                          max_features=&#x27;log2&#x27;, min_samples_split=5,\n",
       "                          n_estimators=1600, subsample=0.6)</pre><b>In a Jupyter environment, please rerun this cell to show the HTML representation or trust the notebook. <br />On GitHub, the HTML representation is unable to render, please try loading this page with nbviewer.org.</b></div><div class=\"sk-container\" hidden><div class=\"sk-item\"><div class=\"sk-estimator sk-toggleable\"><input class=\"sk-toggleable__control sk-hidden--visually\" id=\"sk-estimator-id-3\" type=\"checkbox\" checked><label for=\"sk-estimator-id-3\" class=\"sk-toggleable__label sk-toggleable__label-arrow\">GradientBoostingRegressor</label><div class=\"sk-toggleable__content\"><pre>GradientBoostingRegressor(learning_rate=0.02389759789912727, max_depth=8,\n",
       "                          max_features=&#x27;log2&#x27;, min_samples_split=5,\n",
       "                          n_estimators=1600, subsample=0.6)</pre></div></div></div></div></div>"
      ],
      "text/plain": [
       "GradientBoostingRegressor(learning_rate=0.02389759789912727, max_depth=8,\n",
       "                          max_features='log2', min_samples_split=5,\n",
       "                          n_estimators=1600, subsample=0.6)"
      ]
     },
     "execution_count": 53,
     "metadata": {},
     "output_type": "execute_result"
    }
   ],
   "source": [
    "best_params=study.best_params\n",
    "model= GradientBoostingRegressor(**best_params)\n",
    "model.fit(X_train, y_train)"
   ]
  },
  {
   "cell_type": "code",
   "execution_count": 64,
   "metadata": {},
   "outputs": [
    {
     "data": {
      "text/plain": [
       "2.8100440110650684"
      ]
     },
     "execution_count": 64,
     "metadata": {},
     "output_type": "execute_result"
    }
   ],
   "source": [
    "from sklearn.metrics import mean_squared_error\n",
    "df = pd.read_csv(\"../data/test_set.csv\")\n",
    "\n",
    "# Separate features and target\n",
    "\n",
    "X_test, y_test, scaler = preprocessing.preprocess(df,scaler=scaler)\n",
    "\n",
    "final_predictions = model.predict(X_test)\n",
    "final_rmse = np.sqrt(mean_squared_error(y_test, final_predictions))\n",
    "final_rmse"
   ]
  },
  {
   "cell_type": "code",
   "execution_count": 65,
   "metadata": {},
   "outputs": [
    {
     "data": {
      "text/plain": [
       "<matplotlib.legend.Legend at 0x1354a773430>"
      ]
     },
     "execution_count": 65,
     "metadata": {},
     "output_type": "execute_result"
    },
    {
     "data": {
      "image/png": "[encoded data removed]",
      "text/plain": [
       "<Figure size 640x480 with 1 Axes>"
      ]
     },
     "metadata": {},
     "output_type": "display_data"
    }
   ],
   "source": [
    "import matplotlib.pyplot as plt\n",
    "plt.plot(final_predictions,label='predic')\n",
    "plt.plot(y_test,label='actual')\n",
    "plt.legend()"
   ]
  },
  {
   "cell_type": "code",
   "execution_count": null,
   "metadata": {},
   "outputs": [],
   "source": []
  }
 ],
 "metadata": {
  "kernelspec": {
   "display_name": "base",
   "language": "python",
   "name": "python3"
  },
  "language_info": {
   "codemirror_mode": {
    "name": "ipython",
    "version": 3
   },
   "file_extension": ".py",
   "mimetype": "text/x-python",
   "name": "python",
   "nbconvert_exporter": "python",
   "pygments_lexer": "ipython3",
   "version": "3.10.4"
  },
  "orig_nbformat": 4
 },
 "nbformat": 4,
 "nbformat_minor": 2
}
