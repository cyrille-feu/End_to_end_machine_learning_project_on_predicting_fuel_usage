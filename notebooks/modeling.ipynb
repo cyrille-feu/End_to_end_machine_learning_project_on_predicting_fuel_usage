{
 "cells": [
  {
   "cell_type": "code",
   "execution_count": 38,
   "metadata": {},
   "outputs": [
    {
     "name": "stderr",
     "output_type": "stream",
     "text": [
      "100%|██████████| 42/42 [00:04<00:00, 10.03it/s]\n"
     ]
    }
   ],
   "source": [
    "# Import necessary libraries\n",
    "import pandas as pd\n",
    "from lazypredict.Supervised import LazyRegressor\n",
    "from sklearn.model_selection import StratifiedShuffleSplit\n",
    "from Scripts import preprocessing\n",
    "\n",
    "from sklearn.ensemble import GradientBoostingRegressor\n",
    "from sklearn.metrics import mean_squared_error\n",
    "from sklearn.model_selection import KFold, cross_validate\n",
    "import optuna\n",
    "import numpy as np\n",
    "\n",
    "# Load data\n",
    "df = pd.read_csv(\"../data/train_set.csv\")\n",
    "\n",
    "# Split data into training and validation sets\n",
    "split = StratifiedShuffleSplit(n_splits=1, test_size=0.3, random_state=42)\n",
    "for train_index, valid_index in split.split(df, df[\"Cylinders\"]):\n",
    "    train_set = df.loc[train_index]\n",
    "    valid_set = df.loc[valid_index]\n",
    "\n",
    "# Separate features and target\n",
    "X_train = train_set.drop(\"MPG\", axis=1)\n",
    "y_train = train_set[\"MPG\"].copy()\n",
    "X_valid = valid_set.drop(\"MPG\", axis=1)\n",
    "y_valid = valid_set[\"MPG\"].copy()\n",
    "\n",
    "# Initialize LazyRegressor and fit the model\n",
    "reg = LazyRegressor(verbose=0, ignore_warnings=False, custom_metric=None)\n",
    "models, predictions = reg.fit(X_train, X_valid, y_train, y_valid)\n",
    "model_dictionary = reg.provide_models(X_train, X_valid, y_train, y_valid)"
   ]
  },
  {
   "cell_type": "code",
   "execution_count": 39,
   "metadata": {},
   "outputs": [
    {
     "data": {
      "text/html": [
       "<div>\n",
       "<style scoped>\n",
       "    .dataframe tbody tr th:only-of-type {\n",
       "        vertical-align: middle;\n",
       "    }\n",
       "\n",
       "    .dataframe tbody tr th {\n",
       "        vertical-align: top;\n",
       "    }\n",
       "\n",
       "    .dataframe thead th {\n",
       "        text-align: right;\n",
       "    }\n",
       "</style>\n",
       "<table border=\"1\" class=\"dataframe\">\n",
       "  <thead>\n",
       "    <tr style=\"text-align: right;\">\n",
       "      <th></th>\n",
       "      <th>Adjusted R-Squared</th>\n",
       "      <th>R-Squared</th>\n",
       "      <th>RMSE</th>\n",
       "      <th>Time Taken</th>\n",
       "    </tr>\n",
       "    <tr>\n",
       "      <th>Model</th>\n",
       "      <th></th>\n",
       "      <th></th>\n",
       "      <th></th>\n",
       "      <th></th>\n",
       "    </tr>\n",
       "  </thead>\n",
       "  <tbody>\n",
       "    <tr>\n",
       "      <th>ExtraTreesRegressor</th>\n",
       "      <td>0.89</td>\n",
       "      <td>0.90</td>\n",
       "      <td>2.13</td>\n",
       "      <td>0.21</td>\n",
       "    </tr>\n",
       "    <tr>\n",
       "      <th>GradientBoostingRegressor</th>\n",
       "      <td>0.87</td>\n",
       "      <td>0.88</td>\n",
       "      <td>2.35</td>\n",
       "      <td>0.15</td>\n",
       "    </tr>\n",
       "    <tr>\n",
       "      <th>HistGradientBoostingRegressor</th>\n",
       "      <td>0.86</td>\n",
       "      <td>0.87</td>\n",
       "      <td>2.47</td>\n",
       "      <td>0.27</td>\n",
       "    </tr>\n",
       "    <tr>\n",
       "      <th>LGBMRegressor</th>\n",
       "      <td>0.85</td>\n",
       "      <td>0.86</td>\n",
       "      <td>2.51</td>\n",
       "      <td>0.04</td>\n",
       "    </tr>\n",
       "    <tr>\n",
       "      <th>RandomForestRegressor</th>\n",
       "      <td>0.85</td>\n",
       "      <td>0.86</td>\n",
       "      <td>2.54</td>\n",
       "      <td>0.29</td>\n",
       "    </tr>\n",
       "    <tr>\n",
       "      <th>KNeighborsRegressor</th>\n",
       "      <td>0.84</td>\n",
       "      <td>0.85</td>\n",
       "      <td>2.61</td>\n",
       "      <td>0.02</td>\n",
       "    </tr>\n",
       "    <tr>\n",
       "      <th>BaggingRegressor</th>\n",
       "      <td>0.83</td>\n",
       "      <td>0.85</td>\n",
       "      <td>2.66</td>\n",
       "      <td>0.10</td>\n",
       "    </tr>\n",
       "    <tr>\n",
       "      <th>SVR</th>\n",
       "      <td>0.83</td>\n",
       "      <td>0.84</td>\n",
       "      <td>2.71</td>\n",
       "      <td>0.02</td>\n",
       "    </tr>\n",
       "    <tr>\n",
       "      <th>XGBRegressor</th>\n",
       "      <td>0.83</td>\n",
       "      <td>0.84</td>\n",
       "      <td>2.71</td>\n",
       "      <td>0.08</td>\n",
       "    </tr>\n",
       "    <tr>\n",
       "      <th>AdaBoostRegressor</th>\n",
       "      <td>0.83</td>\n",
       "      <td>0.84</td>\n",
       "      <td>2.72</td>\n",
       "      <td>0.36</td>\n",
       "    </tr>\n",
       "    <tr>\n",
       "      <th>NuSVR</th>\n",
       "      <td>0.82</td>\n",
       "      <td>0.83</td>\n",
       "      <td>2.77</td>\n",
       "      <td>0.02</td>\n",
       "    </tr>\n",
       "    <tr>\n",
       "      <th>PoissonRegressor</th>\n",
       "      <td>0.82</td>\n",
       "      <td>0.83</td>\n",
       "      <td>2.78</td>\n",
       "      <td>0.02</td>\n",
       "    </tr>\n",
       "    <tr>\n",
       "      <th>HuberRegressor</th>\n",
       "      <td>0.77</td>\n",
       "      <td>0.79</td>\n",
       "      <td>3.10</td>\n",
       "      <td>0.03</td>\n",
       "    </tr>\n",
       "    <tr>\n",
       "      <th>SGDRegressor</th>\n",
       "      <td>0.77</td>\n",
       "      <td>0.79</td>\n",
       "      <td>3.11</td>\n",
       "      <td>0.01</td>\n",
       "    </tr>\n",
       "    <tr>\n",
       "      <th>ElasticNetCV</th>\n",
       "      <td>0.77</td>\n",
       "      <td>0.79</td>\n",
       "      <td>3.12</td>\n",
       "      <td>0.10</td>\n",
       "    </tr>\n",
       "    <tr>\n",
       "      <th>GammaRegressor</th>\n",
       "      <td>0.77</td>\n",
       "      <td>0.79</td>\n",
       "      <td>3.12</td>\n",
       "      <td>0.02</td>\n",
       "    </tr>\n",
       "    <tr>\n",
       "      <th>BayesianRidge</th>\n",
       "      <td>0.77</td>\n",
       "      <td>0.79</td>\n",
       "      <td>3.12</td>\n",
       "      <td>0.01</td>\n",
       "    </tr>\n",
       "    <tr>\n",
       "      <th>RidgeCV</th>\n",
       "      <td>0.77</td>\n",
       "      <td>0.79</td>\n",
       "      <td>3.13</td>\n",
       "      <td>0.01</td>\n",
       "    </tr>\n",
       "    <tr>\n",
       "      <th>Ridge</th>\n",
       "      <td>0.77</td>\n",
       "      <td>0.79</td>\n",
       "      <td>3.13</td>\n",
       "      <td>0.01</td>\n",
       "    </tr>\n",
       "    <tr>\n",
       "      <th>Lasso</th>\n",
       "      <td>0.77</td>\n",
       "      <td>0.79</td>\n",
       "      <td>3.13</td>\n",
       "      <td>0.01</td>\n",
       "    </tr>\n",
       "    <tr>\n",
       "      <th>LassoLars</th>\n",
       "      <td>0.77</td>\n",
       "      <td>0.79</td>\n",
       "      <td>3.13</td>\n",
       "      <td>0.02</td>\n",
       "    </tr>\n",
       "    <tr>\n",
       "      <th>LassoCV</th>\n",
       "      <td>0.77</td>\n",
       "      <td>0.79</td>\n",
       "      <td>3.13</td>\n",
       "      <td>0.09</td>\n",
       "    </tr>\n",
       "    <tr>\n",
       "      <th>LassoLarsCV</th>\n",
       "      <td>0.77</td>\n",
       "      <td>0.79</td>\n",
       "      <td>3.14</td>\n",
       "      <td>0.03</td>\n",
       "    </tr>\n",
       "    <tr>\n",
       "      <th>LassoLarsIC</th>\n",
       "      <td>0.77</td>\n",
       "      <td>0.79</td>\n",
       "      <td>3.14</td>\n",
       "      <td>0.02</td>\n",
       "    </tr>\n",
       "    <tr>\n",
       "      <th>Lars</th>\n",
       "      <td>0.77</td>\n",
       "      <td>0.79</td>\n",
       "      <td>3.14</td>\n",
       "      <td>0.02</td>\n",
       "    </tr>\n",
       "    <tr>\n",
       "      <th>LinearRegression</th>\n",
       "      <td>0.77</td>\n",
       "      <td>0.79</td>\n",
       "      <td>3.14</td>\n",
       "      <td>0.02</td>\n",
       "    </tr>\n",
       "    <tr>\n",
       "      <th>TransformedTargetRegressor</th>\n",
       "      <td>0.77</td>\n",
       "      <td>0.79</td>\n",
       "      <td>3.14</td>\n",
       "      <td>0.02</td>\n",
       "    </tr>\n",
       "    <tr>\n",
       "      <th>OrthogonalMatchingPursuitCV</th>\n",
       "      <td>0.77</td>\n",
       "      <td>0.78</td>\n",
       "      <td>3.15</td>\n",
       "      <td>0.02</td>\n",
       "    </tr>\n",
       "    <tr>\n",
       "      <th>LarsCV</th>\n",
       "      <td>0.76</td>\n",
       "      <td>0.78</td>\n",
       "      <td>3.17</td>\n",
       "      <td>0.03</td>\n",
       "    </tr>\n",
       "    <tr>\n",
       "      <th>LinearSVR</th>\n",
       "      <td>0.76</td>\n",
       "      <td>0.78</td>\n",
       "      <td>3.19</td>\n",
       "      <td>0.01</td>\n",
       "    </tr>\n",
       "    <tr>\n",
       "      <th>ElasticNet</th>\n",
       "      <td>0.75</td>\n",
       "      <td>0.77</td>\n",
       "      <td>3.24</td>\n",
       "      <td>0.02</td>\n",
       "    </tr>\n",
       "    <tr>\n",
       "      <th>TweedieRegressor</th>\n",
       "      <td>0.74</td>\n",
       "      <td>0.76</td>\n",
       "      <td>3.30</td>\n",
       "      <td>0.02</td>\n",
       "    </tr>\n",
       "    <tr>\n",
       "      <th>RANSACRegressor</th>\n",
       "      <td>0.74</td>\n",
       "      <td>0.76</td>\n",
       "      <td>3.34</td>\n",
       "      <td>0.04</td>\n",
       "    </tr>\n",
       "    <tr>\n",
       "      <th>DecisionTreeRegressor</th>\n",
       "      <td>0.74</td>\n",
       "      <td>0.76</td>\n",
       "      <td>3.35</td>\n",
       "      <td>0.02</td>\n",
       "    </tr>\n",
       "    <tr>\n",
       "      <th>ExtraTreeRegressor</th>\n",
       "      <td>0.67</td>\n",
       "      <td>0.69</td>\n",
       "      <td>3.78</td>\n",
       "      <td>0.02</td>\n",
       "    </tr>\n",
       "    <tr>\n",
       "      <th>OrthogonalMatchingPursuit</th>\n",
       "      <td>0.63</td>\n",
       "      <td>0.65</td>\n",
       "      <td>4.00</td>\n",
       "      <td>0.01</td>\n",
       "    </tr>\n",
       "    <tr>\n",
       "      <th>PassiveAggressiveRegressor</th>\n",
       "      <td>0.59</td>\n",
       "      <td>0.62</td>\n",
       "      <td>4.20</td>\n",
       "      <td>0.01</td>\n",
       "    </tr>\n",
       "    <tr>\n",
       "      <th>MLPRegressor</th>\n",
       "      <td>0.07</td>\n",
       "      <td>0.14</td>\n",
       "      <td>6.29</td>\n",
       "      <td>0.35</td>\n",
       "    </tr>\n",
       "    <tr>\n",
       "      <th>DummyRegressor</th>\n",
       "      <td>-0.08</td>\n",
       "      <td>-0.00</td>\n",
       "      <td>6.79</td>\n",
       "      <td>0.01</td>\n",
       "    </tr>\n",
       "    <tr>\n",
       "      <th>QuantileRegressor</th>\n",
       "      <td>-0.11</td>\n",
       "      <td>-0.03</td>\n",
       "      <td>6.87</td>\n",
       "      <td>1.56</td>\n",
       "    </tr>\n",
       "    <tr>\n",
       "      <th>GaussianProcessRegressor</th>\n",
       "      <td>-0.72</td>\n",
       "      <td>-0.59</td>\n",
       "      <td>8.56</td>\n",
       "      <td>0.03</td>\n",
       "    </tr>\n",
       "    <tr>\n",
       "      <th>KernelRidge</th>\n",
       "      <td>-11.60</td>\n",
       "      <td>-10.67</td>\n",
       "      <td>23.18</td>\n",
       "      <td>0.02</td>\n",
       "    </tr>\n",
       "  </tbody>\n",
       "</table>\n",
       "</div>"
      ],
      "text/plain": [
       "                               Adjusted R-Squared  R-Squared  RMSE  Time Taken\n",
       "Model                                                                         \n",
       "ExtraTreesRegressor                          0.89       0.90  2.13        0.21\n",
       "GradientBoostingRegressor                    0.87       0.88  2.35        0.15\n",
       "HistGradientBoostingRegressor                0.86       0.87  2.47        0.27\n",
       "LGBMRegressor                                0.85       0.86  2.51        0.04\n",
       "RandomForestRegressor                        0.85       0.86  2.54        0.29\n",
       "KNeighborsRegressor                          0.84       0.85  2.61        0.02\n",
       "BaggingRegressor                             0.83       0.85  2.66        0.10\n",
       "SVR                                          0.83       0.84  2.71        0.02\n",
       "XGBRegressor                                 0.83       0.84  2.71        0.08\n",
       "AdaBoostRegressor                            0.83       0.84  2.72        0.36\n",
       "NuSVR                                        0.82       0.83  2.77        0.02\n",
       "PoissonRegressor                             0.82       0.83  2.78        0.02\n",
       "HuberRegressor                               0.77       0.79  3.10        0.03\n",
       "SGDRegressor                                 0.77       0.79  3.11        0.01\n",
       "ElasticNetCV                                 0.77       0.79  3.12        0.10\n",
       "GammaRegressor                               0.77       0.79  3.12        0.02\n",
       "BayesianRidge                                0.77       0.79  3.12        0.01\n",
       "RidgeCV                                      0.77       0.79  3.13        0.01\n",
       "Ridge                                        0.77       0.79  3.13        0.01\n",
       "Lasso                                        0.77       0.79  3.13        0.01\n",
       "LassoLars                                    0.77       0.79  3.13        0.02\n",
       "LassoCV                                      0.77       0.79  3.13        0.09\n",
       "LassoLarsCV                                  0.77       0.79  3.14        0.03\n",
       "LassoLarsIC                                  0.77       0.79  3.14        0.02\n",
       "Lars                                         0.77       0.79  3.14        0.02\n",
       "LinearRegression                             0.77       0.79  3.14        0.02\n",
       "TransformedTargetRegressor                   0.77       0.79  3.14        0.02\n",
       "OrthogonalMatchingPursuitCV                  0.77       0.78  3.15        0.02\n",
       "LarsCV                                       0.76       0.78  3.17        0.03\n",
       "LinearSVR                                    0.76       0.78  3.19        0.01\n",
       "ElasticNet                                   0.75       0.77  3.24        0.02\n",
       "TweedieRegressor                             0.74       0.76  3.30        0.02\n",
       "RANSACRegressor                              0.74       0.76  3.34        0.04\n",
       "DecisionTreeRegressor                        0.74       0.76  3.35        0.02\n",
       "ExtraTreeRegressor                           0.67       0.69  3.78        0.02\n",
       "OrthogonalMatchingPursuit                    0.63       0.65  4.00        0.01\n",
       "PassiveAggressiveRegressor                   0.59       0.62  4.20        0.01\n",
       "MLPRegressor                                 0.07       0.14  6.29        0.35\n",
       "DummyRegressor                              -0.08      -0.00  6.79        0.01\n",
       "QuantileRegressor                           -0.11      -0.03  6.87        1.56\n",
       "GaussianProcessRegressor                    -0.72      -0.59  8.56        0.03\n",
       "KernelRidge                                -11.60     -10.67 23.18        0.02"
      ]
     },
     "execution_count": 39,
     "metadata": {},
     "output_type": "execute_result"
    }
   ],
   "source": [
    "models"
   ]
  },
  {
   "cell_type": "code",
   "execution_count": 40,
   "metadata": {},
   "outputs": [
    {
     "data": {
      "text/html": [
       "<style>#sk-container-id-7 {color: black;background-color: white;}#sk-container-id-7 pre{padding: 0;}#sk-container-id-7 div.sk-toggleable {background-color: white;}#sk-container-id-7 label.sk-toggleable__label {cursor: pointer;display: block;width: 100%;margin-bottom: 0;padding: 0.3em;box-sizing: border-box;text-align: center;}#sk-container-id-7 label.sk-toggleable__label-arrow:before {content: \"▸\";float: left;margin-right: 0.25em;color: #696969;}#sk-container-id-7 label.sk-toggleable__label-arrow:hover:before {color: black;}#sk-container-id-7 div.sk-estimator:hover label.sk-toggleable__label-arrow:before {color: black;}#sk-container-id-7 div.sk-toggleable__content {max-height: 0;max-width: 0;overflow: hidden;text-align: left;background-color: #f0f8ff;}#sk-container-id-7 div.sk-toggleable__content pre {margin: 0.2em;color: black;border-radius: 0.25em;background-color: #f0f8ff;}#sk-container-id-7 input.sk-toggleable__control:checked~div.sk-toggleable__content {max-height: 200px;max-width: 100%;overflow: auto;}#sk-container-id-7 input.sk-toggleable__control:checked~label.sk-toggleable__label-arrow:before {content: \"▾\";}#sk-container-id-7 div.sk-estimator input.sk-toggleable__control:checked~label.sk-toggleable__label {background-color: #d4ebff;}#sk-container-id-7 div.sk-label input.sk-toggleable__control:checked~label.sk-toggleable__label {background-color: #d4ebff;}#sk-container-id-7 input.sk-hidden--visually {border: 0;clip: rect(1px 1px 1px 1px);clip: rect(1px, 1px, 1px, 1px);height: 1px;margin: -1px;overflow: hidden;padding: 0;position: absolute;width: 1px;}#sk-container-id-7 div.sk-estimator {font-family: monospace;background-color: #f0f8ff;border: 1px dotted black;border-radius: 0.25em;box-sizing: border-box;margin-bottom: 0.5em;}#sk-container-id-7 div.sk-estimator:hover {background-color: #d4ebff;}#sk-container-id-7 div.sk-parallel-item::after {content: \"\";width: 100%;border-bottom: 1px solid gray;flex-grow: 1;}#sk-container-id-7 div.sk-label:hover label.sk-toggleable__label {background-color: #d4ebff;}#sk-container-id-7 div.sk-serial::before {content: \"\";position: absolute;border-left: 1px solid gray;box-sizing: border-box;top: 0;bottom: 0;left: 50%;z-index: 0;}#sk-container-id-7 div.sk-serial {display: flex;flex-direction: column;align-items: center;background-color: white;padding-right: 0.2em;padding-left: 0.2em;position: relative;}#sk-container-id-7 div.sk-item {position: relative;z-index: 1;}#sk-container-id-7 div.sk-parallel {display: flex;align-items: stretch;justify-content: center;background-color: white;position: relative;}#sk-container-id-7 div.sk-item::before, #sk-container-id-7 div.sk-parallel-item::before {content: \"\";position: absolute;border-left: 1px solid gray;box-sizing: border-box;top: 0;bottom: 0;left: 50%;z-index: -1;}#sk-container-id-7 div.sk-parallel-item {display: flex;flex-direction: column;z-index: 1;position: relative;background-color: white;}#sk-container-id-7 div.sk-parallel-item:first-child::after {align-self: flex-end;width: 50%;}#sk-container-id-7 div.sk-parallel-item:last-child::after {align-self: flex-start;width: 50%;}#sk-container-id-7 div.sk-parallel-item:only-child::after {width: 0;}#sk-container-id-7 div.sk-dashed-wrapped {border: 1px dashed gray;margin: 0 0.4em 0.5em 0.4em;box-sizing: border-box;padding-bottom: 0.4em;background-color: white;}#sk-container-id-7 div.sk-label label {font-family: monospace;font-weight: bold;display: inline-block;line-height: 1.2em;}#sk-container-id-7 div.sk-label-container {text-align: center;}#sk-container-id-7 div.sk-container {/* jupyter's `normalize.less` sets `[hidden] { display: none; }` but bootstrap.min.css set `[hidden] { display: none !important; }` so we also need the `!important` here to be able to override the default hidden behavior on the sphinx rendered scikit-learn.org. See: https://github.com/scikit-learn/scikit-learn/issues/21755 */display: inline-block !important;position: relative;}#sk-container-id-7 div.sk-text-repr-fallback {display: none;}</style><div id=\"sk-container-id-7\" class=\"sk-top-container\"><div class=\"sk-text-repr-fallback\"><pre>Pipeline(steps=[(&#x27;preprocessor&#x27;,\n",
       "                 ColumnTransformer(transformers=[(&#x27;numeric&#x27;,\n",
       "                                                  Pipeline(steps=[(&#x27;imputer&#x27;,\n",
       "                                                                   SimpleImputer()),\n",
       "                                                                  (&#x27;scaler&#x27;,\n",
       "                                                                   StandardScaler())]),\n",
       "                                                  Index([&#x27;Cylinders&#x27;, &#x27;Displacement&#x27;, &#x27;Horsepower&#x27;, &#x27;Weight&#x27;, &#x27;Acceleration&#x27;,\n",
       "       &#x27;Model Year&#x27;, &#x27;Origin&#x27;],\n",
       "      dtype=&#x27;object&#x27;)),\n",
       "                                                 (&#x27;categorical_low&#x27;,\n",
       "                                                  Pipeline(steps=[(&#x27;imputer&#x27;,\n",
       "                                                                   SimpleImputer(fill_value=&#x27;missing&#x27;,\n",
       "                                                                                 strategy=&#x27;constant&#x27;)),\n",
       "                                                                  (&#x27;encoding&#x27;,\n",
       "                                                                   OneHotEncoder(handle_unknown=&#x27;ignore&#x27;,\n",
       "                                                                                 sparse=False))]),\n",
       "                                                  Index([], dtype=&#x27;object&#x27;)),\n",
       "                                                 (&#x27;categorical_high&#x27;,\n",
       "                                                  Pipeline(steps=[(&#x27;imputer&#x27;,\n",
       "                                                                   SimpleImputer(fill_value=&#x27;missing&#x27;,\n",
       "                                                                                 strategy=&#x27;constant&#x27;)),\n",
       "                                                                  (&#x27;encoding&#x27;,\n",
       "                                                                   OrdinalEncoder())]),\n",
       "                                                  Index([], dtype=&#x27;object&#x27;))])),\n",
       "                (&#x27;regressor&#x27;, GradientBoostingRegressor(random_state=42))])</pre><b>In a Jupyter environment, please rerun this cell to show the HTML representation or trust the notebook. <br />On GitHub, the HTML representation is unable to render, please try loading this page with nbviewer.org.</b></div><div class=\"sk-container\" hidden><div class=\"sk-item sk-dashed-wrapped\"><div class=\"sk-label-container\"><div class=\"sk-label sk-toggleable\"><input class=\"sk-toggleable__control sk-hidden--visually\" id=\"sk-estimator-id-51\" type=\"checkbox\" ><label for=\"sk-estimator-id-51\" class=\"sk-toggleable__label sk-toggleable__label-arrow\">Pipeline</label><div class=\"sk-toggleable__content\"><pre>Pipeline(steps=[(&#x27;preprocessor&#x27;,\n",
       "                 ColumnTransformer(transformers=[(&#x27;numeric&#x27;,\n",
       "                                                  Pipeline(steps=[(&#x27;imputer&#x27;,\n",
       "                                                                   SimpleImputer()),\n",
       "                                                                  (&#x27;scaler&#x27;,\n",
       "                                                                   StandardScaler())]),\n",
       "                                                  Index([&#x27;Cylinders&#x27;, &#x27;Displacement&#x27;, &#x27;Horsepower&#x27;, &#x27;Weight&#x27;, &#x27;Acceleration&#x27;,\n",
       "       &#x27;Model Year&#x27;, &#x27;Origin&#x27;],\n",
       "      dtype=&#x27;object&#x27;)),\n",
       "                                                 (&#x27;categorical_low&#x27;,\n",
       "                                                  Pipeline(steps=[(&#x27;imputer&#x27;,\n",
       "                                                                   SimpleImputer(fill_value=&#x27;missing&#x27;,\n",
       "                                                                                 strategy=&#x27;constant&#x27;)),\n",
       "                                                                  (&#x27;encoding&#x27;,\n",
       "                                                                   OneHotEncoder(handle_unknown=&#x27;ignore&#x27;,\n",
       "                                                                                 sparse=False))]),\n",
       "                                                  Index([], dtype=&#x27;object&#x27;)),\n",
       "                                                 (&#x27;categorical_high&#x27;,\n",
       "                                                  Pipeline(steps=[(&#x27;imputer&#x27;,\n",
       "                                                                   SimpleImputer(fill_value=&#x27;missing&#x27;,\n",
       "                                                                                 strategy=&#x27;constant&#x27;)),\n",
       "                                                                  (&#x27;encoding&#x27;,\n",
       "                                                                   OrdinalEncoder())]),\n",
       "                                                  Index([], dtype=&#x27;object&#x27;))])),\n",
       "                (&#x27;regressor&#x27;, GradientBoostingRegressor(random_state=42))])</pre></div></div></div><div class=\"sk-serial\"><div class=\"sk-item sk-dashed-wrapped\"><div class=\"sk-label-container\"><div class=\"sk-label sk-toggleable\"><input class=\"sk-toggleable__control sk-hidden--visually\" id=\"sk-estimator-id-52\" type=\"checkbox\" ><label for=\"sk-estimator-id-52\" class=\"sk-toggleable__label sk-toggleable__label-arrow\">preprocessor: ColumnTransformer</label><div class=\"sk-toggleable__content\"><pre>ColumnTransformer(transformers=[(&#x27;numeric&#x27;,\n",
       "                                 Pipeline(steps=[(&#x27;imputer&#x27;, SimpleImputer()),\n",
       "                                                 (&#x27;scaler&#x27;, StandardScaler())]),\n",
       "                                 Index([&#x27;Cylinders&#x27;, &#x27;Displacement&#x27;, &#x27;Horsepower&#x27;, &#x27;Weight&#x27;, &#x27;Acceleration&#x27;,\n",
       "       &#x27;Model Year&#x27;, &#x27;Origin&#x27;],\n",
       "      dtype=&#x27;object&#x27;)),\n",
       "                                (&#x27;categorical_low&#x27;,\n",
       "                                 Pipeline(steps=[(&#x27;imputer&#x27;,\n",
       "                                                  SimpleImputer(fill_value=&#x27;missing&#x27;,\n",
       "                                                                strategy=&#x27;constant&#x27;)),\n",
       "                                                 (&#x27;encoding&#x27;,\n",
       "                                                  OneHotEncoder(handle_unknown=&#x27;ignore&#x27;,\n",
       "                                                                sparse=False))]),\n",
       "                                 Index([], dtype=&#x27;object&#x27;)),\n",
       "                                (&#x27;categorical_high&#x27;,\n",
       "                                 Pipeline(steps=[(&#x27;imputer&#x27;,\n",
       "                                                  SimpleImputer(fill_value=&#x27;missing&#x27;,\n",
       "                                                                strategy=&#x27;constant&#x27;)),\n",
       "                                                 (&#x27;encoding&#x27;,\n",
       "                                                  OrdinalEncoder())]),\n",
       "                                 Index([], dtype=&#x27;object&#x27;))])</pre></div></div></div><div class=\"sk-parallel\"><div class=\"sk-parallel-item\"><div class=\"sk-item\"><div class=\"sk-label-container\"><div class=\"sk-label sk-toggleable\"><input class=\"sk-toggleable__control sk-hidden--visually\" id=\"sk-estimator-id-53\" type=\"checkbox\" ><label for=\"sk-estimator-id-53\" class=\"sk-toggleable__label sk-toggleable__label-arrow\">numeric</label><div class=\"sk-toggleable__content\"><pre>Index([&#x27;Cylinders&#x27;, &#x27;Displacement&#x27;, &#x27;Horsepower&#x27;, &#x27;Weight&#x27;, &#x27;Acceleration&#x27;,\n",
       "       &#x27;Model Year&#x27;, &#x27;Origin&#x27;],\n",
       "      dtype=&#x27;object&#x27;)</pre></div></div></div><div class=\"sk-serial\"><div class=\"sk-item\"><div class=\"sk-serial\"><div class=\"sk-item\"><div class=\"sk-estimator sk-toggleable\"><input class=\"sk-toggleable__control sk-hidden--visually\" id=\"sk-estimator-id-54\" type=\"checkbox\" ><label for=\"sk-estimator-id-54\" class=\"sk-toggleable__label sk-toggleable__label-arrow\">SimpleImputer</label><div class=\"sk-toggleable__content\"><pre>SimpleImputer()</pre></div></div></div><div class=\"sk-item\"><div class=\"sk-estimator sk-toggleable\"><input class=\"sk-toggleable__control sk-hidden--visually\" id=\"sk-estimator-id-55\" type=\"checkbox\" ><label for=\"sk-estimator-id-55\" class=\"sk-toggleable__label sk-toggleable__label-arrow\">StandardScaler</label><div class=\"sk-toggleable__content\"><pre>StandardScaler()</pre></div></div></div></div></div></div></div></div><div class=\"sk-parallel-item\"><div class=\"sk-item\"><div class=\"sk-label-container\"><div class=\"sk-label sk-toggleable\"><input class=\"sk-toggleable__control sk-hidden--visually\" id=\"sk-estimator-id-56\" type=\"checkbox\" ><label for=\"sk-estimator-id-56\" class=\"sk-toggleable__label sk-toggleable__label-arrow\">categorical_low</label><div class=\"sk-toggleable__content\"><pre>Index([], dtype=&#x27;object&#x27;)</pre></div></div></div><div class=\"sk-serial\"><div class=\"sk-item\"><div class=\"sk-serial\"><div class=\"sk-item\"><div class=\"sk-estimator sk-toggleable\"><input class=\"sk-toggleable__control sk-hidden--visually\" id=\"sk-estimator-id-57\" type=\"checkbox\" ><label for=\"sk-estimator-id-57\" class=\"sk-toggleable__label sk-toggleable__label-arrow\">SimpleImputer</label><div class=\"sk-toggleable__content\"><pre>SimpleImputer(fill_value=&#x27;missing&#x27;, strategy=&#x27;constant&#x27;)</pre></div></div></div><div class=\"sk-item\"><div class=\"sk-estimator sk-toggleable\"><input class=\"sk-toggleable__control sk-hidden--visually\" id=\"sk-estimator-id-58\" type=\"checkbox\" ><label for=\"sk-estimator-id-58\" class=\"sk-toggleable__label sk-toggleable__label-arrow\">OneHotEncoder</label><div class=\"sk-toggleable__content\"><pre>OneHotEncoder(handle_unknown=&#x27;ignore&#x27;, sparse=False)</pre></div></div></div></div></div></div></div></div><div class=\"sk-parallel-item\"><div class=\"sk-item\"><div class=\"sk-label-container\"><div class=\"sk-label sk-toggleable\"><input class=\"sk-toggleable__control sk-hidden--visually\" id=\"sk-estimator-id-59\" type=\"checkbox\" ><label for=\"sk-estimator-id-59\" class=\"sk-toggleable__label sk-toggleable__label-arrow\">categorical_high</label><div class=\"sk-toggleable__content\"><pre>Index([], dtype=&#x27;object&#x27;)</pre></div></div></div><div class=\"sk-serial\"><div class=\"sk-item\"><div class=\"sk-serial\"><div class=\"sk-item\"><div class=\"sk-estimator sk-toggleable\"><input class=\"sk-toggleable__control sk-hidden--visually\" id=\"sk-estimator-id-60\" type=\"checkbox\" ><label for=\"sk-estimator-id-60\" class=\"sk-toggleable__label sk-toggleable__label-arrow\">SimpleImputer</label><div class=\"sk-toggleable__content\"><pre>SimpleImputer(fill_value=&#x27;missing&#x27;, strategy=&#x27;constant&#x27;)</pre></div></div></div><div class=\"sk-item\"><div class=\"sk-estimator sk-toggleable\"><input class=\"sk-toggleable__control sk-hidden--visually\" id=\"sk-estimator-id-61\" type=\"checkbox\" ><label for=\"sk-estimator-id-61\" class=\"sk-toggleable__label sk-toggleable__label-arrow\">OrdinalEncoder</label><div class=\"sk-toggleable__content\"><pre>OrdinalEncoder()</pre></div></div></div></div></div></div></div></div></div></div><div class=\"sk-item\"><div class=\"sk-estimator sk-toggleable\"><input class=\"sk-toggleable__control sk-hidden--visually\" id=\"sk-estimator-id-62\" type=\"checkbox\" ><label for=\"sk-estimator-id-62\" class=\"sk-toggleable__label sk-toggleable__label-arrow\">GradientBoostingRegressor</label><div class=\"sk-toggleable__content\"><pre>GradientBoostingRegressor(random_state=42)</pre></div></div></div></div></div></div></div>"
      ],
      "text/plain": [
       "Pipeline(steps=[('preprocessor',\n",
       "                 ColumnTransformer(transformers=[('numeric',\n",
       "                                                  Pipeline(steps=[('imputer',\n",
       "                                                                   SimpleImputer()),\n",
       "                                                                  ('scaler',\n",
       "                                                                   StandardScaler())]),\n",
       "                                                  Index(['Cylinders', 'Displacement', 'Horsepower', 'Weight', 'Acceleration',\n",
       "       'Model Year', 'Origin'],\n",
       "      dtype='object')),\n",
       "                                                 ('categorical_low',\n",
       "                                                  Pipeline(steps=[('imputer',\n",
       "                                                                   SimpleImputer(fill_value='missing',\n",
       "                                                                                 strategy='constant')),\n",
       "                                                                  ('encoding',\n",
       "                                                                   OneHotEncoder(handle_unknown='ignore',\n",
       "                                                                                 sparse=False))]),\n",
       "                                                  Index([], dtype='object')),\n",
       "                                                 ('categorical_high',\n",
       "                                                  Pipeline(steps=[('imputer',\n",
       "                                                                   SimpleImputer(fill_value='missing',\n",
       "                                                                                 strategy='constant')),\n",
       "                                                                  ('encoding',\n",
       "                                                                   OrdinalEncoder())]),\n",
       "                                                  Index([], dtype='object'))])),\n",
       "                ('regressor', GradientBoostingRegressor(random_state=42))])"
      ]
     },
     "execution_count": 40,
     "metadata": {},
     "output_type": "execute_result"
    }
   ],
   "source": [
    "model_dictionary['GradientBoostingRegressor']"
   ]
  },
  {
   "cell_type": "code",
   "execution_count": 41,
   "metadata": {},
   "outputs": [
    {
     "name": "stdout",
     "output_type": "stream",
     "text": [
      "the baseline rmse is : 2.2991369212470567\n"
     ]
    }
   ],
   "source": [
    "X_train, y_train, scaler = preprocessing.preprocess(train_set,train=True)\n",
    "X_valid, y_valid, scaler = preprocessing.preprocess(valid_set,scaler=scaler)\n",
    "\n",
    "model = GradientBoostingRegressor(random_state=42)\n",
    "model.fit(X_train, y_train)\n",
    "val_predictions = model.predict(X_valid)\n",
    "baseline_rmse = np.sqrt(mean_squared_error(y_valid, val_predictions))\n",
    "print(f'the baseline rmse is : {baseline_rmse}')"
   ]
  },
  {
   "cell_type": "markdown",
   "metadata": {},
   "source": [
    "#### Hyperparameter Tuning using Optuna\n",
    "Optuna is a software framework for automating the optimization process of these hyperparameters. It automatically finds optimal hyperparameter values by making use of different samplers such as grid search, random, bayesian, and evolutionary algorithms."
   ]
  },
  {
   "attachments": {},
   "cell_type": "markdown",
   "metadata": {},
   "source": [
    "Now, we will create the objective function and define the search space:\n",
    "We built a grid of 5 hyperparameters with different ranges and some static ones for random seed and early stopping."
   ]
  },
  {
   "cell_type": "code",
   "execution_count": 42,
   "metadata": {},
   "outputs": [],
   "source": [
    "def objective(trial, X, y, cv, scoring):\n",
    "    params = {\n",
    "        # \"n_estimators\": trial.suggest_int(\"n_estimators\", 100, 5000, step=50),\n",
    "        \"learning_rate\": trial.suggest_float(\"learning_rate\", 1e-4, 0.3, log=True),\n",
    "        \"max_depth\": trial.suggest_int(\"max_depth\", 1, 20),\n",
    "        # \"min_samples_split\": trial.suggest_int(\"min_samples_split\", 2,9),\n",
    "        # \"min_samples_leaf\": trial.suggest_int(\"min_samples_leaf\", 1,9),\n",
    "        # \"subsample\": trial.suggest_float(\"subsample\", 0.1, 0.9, step=0.05),\n",
    "        # \"max_features\": trial.suggest_categorical(\"max_features\", [\"auto\", \"sqrt\", \"log2\"]),\n",
    "        \"random_state\": 42,\n",
    "        \"n_iter_no_change\": 50,  # early stopping\n",
    "        \"validation_fraction\": 0.05,\n",
    "    }\n",
    "    # Perform CV\n",
    "    gr_reg = GradientBoostingRegressor(**params)\n",
    "    scores = cross_validate(gr_reg, X, y, cv=cv, scoring=scoring, n_jobs=-1)\n",
    "    # Compute RMSLE\n",
    "    rmse = np.sqrt(-scores[\"test_score\"].mean())\n",
    "\n",
    "    return rmse"
   ]
  },
  {
   "cell_type": "markdown",
   "metadata": {},
   "source": [
    "The above objective function is slightly different - it accepts additional arguments for the data sets, scoring and cv. That's why we have to wrap it inside another function"
   ]
  },
  {
   "cell_type": "code",
   "execution_count": 43,
   "metadata": {},
   "outputs": [
    {
     "name": "stderr",
     "output_type": "stream",
     "text": [
      "\u001b[32m[I 2023-03-28 23:03:01,134]\u001b[0m A new study created in memory with name: no-name-71d75b41-8f56-42c6-980f-8a5e4f48a41b\u001b[0m\n",
      "\u001b[32m[I 2023-03-28 23:03:01,527]\u001b[0m Trial 0 finished with value: 7.328109896932511 and parameters: {'learning_rate': 0.0006102840153819365, 'max_depth': 3}. Best is trial 0 with value: 7.328109896932511.\u001b[0m\n",
      "\u001b[32m[I 2023-03-28 23:03:01,787]\u001b[0m Trial 1 finished with value: 3.032259172417746 and parameters: {'learning_rate': 0.07844449711219408, 'max_depth': 1}. Best is trial 1 with value: 3.032259172417746.\u001b[0m\n",
      "\u001b[32m[I 2023-03-28 23:03:02,142]\u001b[0m Trial 2 finished with value: 3.685176020751012 and parameters: {'learning_rate': 0.012873653445270411, 'max_depth': 3}. Best is trial 1 with value: 3.032259172417746.\u001b[0m\n",
      "\u001b[32m[I 2023-03-28 23:03:02,421]\u001b[0m Trial 3 finished with value: 7.579215413898119 and parameters: {'learning_rate': 0.0002553805932820591, 'max_depth': 1}. Best is trial 1 with value: 3.032259172417746.\u001b[0m\n",
      "\u001b[32m[I 2023-03-28 23:03:03,105]\u001b[0m Trial 4 finished with value: 6.809820559355821 and parameters: {'learning_rate': 0.0015255218034203666, 'max_depth': 11}. Best is trial 1 with value: 3.032259172417746.\u001b[0m\n",
      "\u001b[32m[I 2023-03-28 23:03:03,878]\u001b[0m Trial 5 finished with value: 4.023657078679284 and parameters: {'learning_rate': 0.01157269462814249, 'max_depth': 14}. Best is trial 1 with value: 3.032259172417746.\u001b[0m\n",
      "\u001b[32m[I 2023-03-28 23:03:04,168]\u001b[0m Trial 6 finished with value: 2.822339618393985 and parameters: {'learning_rate': 0.12827968344221868, 'max_depth': 2}. Best is trial 6 with value: 2.822339618393985.\u001b[0m\n",
      "\u001b[32m[I 2023-03-28 23:03:04,871]\u001b[0m Trial 7 finished with value: 4.540098095598771 and parameters: {'learning_rate': 0.00822463575037986, 'max_depth': 13}. Best is trial 6 with value: 2.822339618393985.\u001b[0m\n",
      "\u001b[32m[I 2023-03-28 23:03:05,163]\u001b[0m Trial 8 finished with value: 2.8605405038668303 and parameters: {'learning_rate': 0.05012843613115796, 'max_depth': 3}. Best is trial 6 with value: 2.822339618393985.\u001b[0m\n",
      "\u001b[32m[I 2023-03-28 23:03:05,885]\u001b[0m Trial 9 finished with value: 3.806418920179833 and parameters: {'learning_rate': 0.014058637239713432, 'max_depth': 14}. Best is trial 6 with value: 2.822339618393985.\u001b[0m\n",
      "\u001b[32m[I 2023-03-28 23:03:06,338]\u001b[0m Trial 10 finished with value: 3.621515652366305 and parameters: {'learning_rate': 0.13482138664191987, 'max_depth': 20}. Best is trial 6 with value: 2.822339618393985.\u001b[0m\n",
      "\u001b[32m[I 2023-03-28 23:03:06,863]\u001b[0m Trial 11 finished with value: 3.2028529060863087 and parameters: {'learning_rate': 0.22582101361281925, 'max_depth': 7}. Best is trial 6 with value: 2.822339618393985.\u001b[0m\n",
      "\u001b[32m[I 2023-03-28 23:03:07,310]\u001b[0m Trial 12 finished with value: 3.2110786350997387 and parameters: {'learning_rate': 0.0519029514557503, 'max_depth': 7}. Best is trial 6 with value: 2.822339618393985.\u001b[0m\n",
      "\u001b[32m[I 2023-03-28 23:03:07,774]\u001b[0m Trial 13 finished with value: 3.13407067132224 and parameters: {'learning_rate': 0.2743243342644231, 'max_depth': 6}. Best is trial 6 with value: 2.822339618393985.\u001b[0m\n",
      "\u001b[32m[I 2023-03-28 23:03:08,137]\u001b[0m Trial 14 finished with value: 3.0140751548988893 and parameters: {'learning_rate': 0.0453113946692348, 'max_depth': 5}. Best is trial 6 with value: 2.822339618393985.\u001b[0m\n",
      "\u001b[32m[I 2023-03-28 23:03:08,729]\u001b[0m Trial 15 finished with value: 3.3847287018606216 and parameters: {'learning_rate': 0.034029434243999464, 'max_depth': 9}. Best is trial 6 with value: 2.822339618393985.\u001b[0m\n",
      "\u001b[32m[I 2023-03-28 23:03:09,167]\u001b[0m Trial 16 finished with value: 5.973705632518906 and parameters: {'learning_rate': 0.003231296185287515, 'max_depth': 4}. Best is trial 6 with value: 2.822339618393985.\u001b[0m\n",
      "\u001b[32m[I 2023-03-28 23:03:09,803]\u001b[0m Trial 17 finished with value: 3.5749051060591044 and parameters: {'learning_rate': 0.028303060068103816, 'max_depth': 17}. Best is trial 6 with value: 2.822339618393985.\u001b[0m\n",
      "\u001b[32m[I 2023-03-28 23:03:10,282]\u001b[0m Trial 18 finished with value: 3.396438401272457 and parameters: {'learning_rate': 0.11950539904553659, 'max_depth': 9}. Best is trial 6 with value: 2.822339618393985.\u001b[0m\n",
      "\u001b[32m[I 2023-03-28 23:03:10,534]\u001b[0m Trial 19 finished with value: 3.0165280668193373 and parameters: {'learning_rate': 0.2940434394062382, 'max_depth': 1}. Best is trial 6 with value: 2.822339618393985.\u001b[0m\n",
      "\u001b[32m[I 2023-03-28 23:03:10,856]\u001b[0m Trial 20 finished with value: 2.853039911212995 and parameters: {'learning_rate': 0.09119003570929024, 'max_depth': 3}. Best is trial 6 with value: 2.822339618393985.\u001b[0m\n",
      "\u001b[32m[I 2023-03-28 23:03:11,198]\u001b[0m Trial 21 finished with value: 2.8697584090785253 and parameters: {'learning_rate': 0.09262079977462294, 'max_depth': 3}. Best is trial 6 with value: 2.822339618393985.\u001b[0m\n",
      "\u001b[32m[I 2023-03-28 23:03:11,723]\u001b[0m Trial 22 finished with value: 3.003099859200664 and parameters: {'learning_rate': 0.029080328101201185, 'max_depth': 5}. Best is trial 6 with value: 2.822339618393985.\u001b[0m\n",
      "\u001b[32m[I 2023-03-28 23:03:12,115]\u001b[0m Trial 23 finished with value: 2.838372036974901 and parameters: {'learning_rate': 0.13637995869492642, 'max_depth': 2}. Best is trial 6 with value: 2.822339618393985.\u001b[0m\n",
      "\u001b[32m[I 2023-03-28 23:03:12,452]\u001b[0m Trial 24 finished with value: 2.9575651446393376 and parameters: {'learning_rate': 0.1566047136960789, 'max_depth': 1}. Best is trial 6 with value: 2.822339618393985.\u001b[0m\n",
      "\u001b[32m[I 2023-03-28 23:03:12,949]\u001b[0m Trial 25 finished with value: 3.286383469812009 and parameters: {'learning_rate': 0.07841487747536112, 'max_depth': 8}. Best is trial 6 with value: 2.822339618393985.\u001b[0m\n",
      "\u001b[32m[I 2023-03-28 23:03:13,366]\u001b[0m Trial 26 finished with value: 2.9972900640742615 and parameters: {'learning_rate': 0.1800999411235395, 'max_depth': 5}. Best is trial 6 with value: 2.822339618393985.\u001b[0m\n",
      "\u001b[32m[I 2023-03-28 23:03:13,792]\u001b[0m Trial 27 finished with value: 3.1599772890530393 and parameters: {'learning_rate': 0.02379635253016361, 'max_depth': 2}. Best is trial 6 with value: 2.822339618393985.\u001b[0m\n",
      "\u001b[32m[I 2023-03-28 23:03:14,279]\u001b[0m Trial 28 finished with value: 2.8978128603125226 and parameters: {'learning_rate': 0.08334945371906544, 'max_depth': 4}. Best is trial 6 with value: 2.822339618393985.\u001b[0m\n",
      "\u001b[32m[I 2023-03-28 23:03:14,763]\u001b[0m Trial 29 finished with value: 3.529969161817166 and parameters: {'learning_rate': 0.14858133245404118, 'max_depth': 11}. Best is trial 6 with value: 2.822339618393985.\u001b[0m\n",
      "\u001b[32m[I 2023-03-28 23:03:15,010]\u001b[0m Trial 30 finished with value: 2.8166060029460724 and parameters: {'learning_rate': 0.274286735217355, 'max_depth': 2}. Best is trial 30 with value: 2.8166060029460724.\u001b[0m\n",
      "\u001b[32m[I 2023-03-28 23:03:15,250]\u001b[0m Trial 31 finished with value: 2.755264865974267 and parameters: {'learning_rate': 0.2923814467028072, 'max_depth': 2}. Best is trial 31 with value: 2.755264865974267.\u001b[0m\n",
      "\u001b[32m[I 2023-03-28 23:03:15,483]\u001b[0m Trial 32 finished with value: 2.8517883220102545 and parameters: {'learning_rate': 0.2663699519595036, 'max_depth': 2}. Best is trial 31 with value: 2.755264865974267.\u001b[0m\n",
      "\u001b[32m[I 2023-03-28 23:03:15,739]\u001b[0m Trial 33 finished with value: 2.7969480122828196 and parameters: {'learning_rate': 0.29468464173845765, 'max_depth': 2}. Best is trial 31 with value: 2.755264865974267.\u001b[0m\n",
      "\u001b[32m[I 2023-03-28 23:03:16,042]\u001b[0m Trial 34 finished with value: 2.880121285077319 and parameters: {'learning_rate': 0.20777024869517202, 'max_depth': 4}. Best is trial 31 with value: 2.755264865974267.\u001b[0m\n",
      "\u001b[32m[I 2023-03-28 23:03:16,298]\u001b[0m Trial 35 finished with value: 3.011688507190513 and parameters: {'learning_rate': 0.2962545135507695, 'max_depth': 1}. Best is trial 31 with value: 2.755264865974267.\u001b[0m\n",
      "\u001b[32m[I 2023-03-28 23:03:16,760]\u001b[0m Trial 36 finished with value: 3.096282798429623 and parameters: {'learning_rate': 0.18222734442264524, 'max_depth': 6}. Best is trial 31 with value: 2.755264865974267.\u001b[0m\n",
      "\u001b[32m[I 2023-03-28 23:03:17,054]\u001b[0m Trial 37 finished with value: 2.8455975035855805 and parameters: {'learning_rate': 0.07901768378338647, 'max_depth': 2}. Best is trial 31 with value: 2.755264865974267.\u001b[0m\n",
      "\u001b[32m[I 2023-03-28 23:03:17,370]\u001b[0m Trial 38 finished with value: 2.940412784566058 and parameters: {'learning_rate': 0.11297793013101194, 'max_depth': 4}. Best is trial 31 with value: 2.755264865974267.\u001b[0m\n",
      "\u001b[32m[I 2023-03-28 23:03:17,622]\u001b[0m Trial 39 finished with value: 2.9736490820501995 and parameters: {'learning_rate': 0.1969172204268866, 'max_depth': 1}. Best is trial 31 with value: 2.755264865974267.\u001b[0m\n",
      "\u001b[32m[I 2023-03-28 23:03:17,948]\u001b[0m Trial 40 finished with value: 2.872812383699332 and parameters: {'learning_rate': 0.05230262390017382, 'max_depth': 3}. Best is trial 31 with value: 2.755264865974267.\u001b[0m\n",
      "\u001b[32m[I 2023-03-28 23:03:18,195]\u001b[0m Trial 41 finished with value: 2.818859693474741 and parameters: {'learning_rate': 0.13814559516567412, 'max_depth': 2}. Best is trial 31 with value: 2.755264865974267.\u001b[0m\n",
      "\u001b[32m[I 2023-03-28 23:03:18,424]\u001b[0m Trial 42 finished with value: 2.9174934975600686 and parameters: {'learning_rate': 0.20114271281490234, 'max_depth': 2}. Best is trial 31 with value: 2.755264865974267.\u001b[0m\n",
      "\u001b[32m[I 2023-03-28 23:03:18,771]\u001b[0m Trial 43 finished with value: 3.1182715752082246 and parameters: {'learning_rate': 0.13502916103264778, 'max_depth': 6}. Best is trial 31 with value: 2.755264865974267.\u001b[0m\n",
      "\u001b[32m[I 2023-03-28 23:03:19,021]\u001b[0m Trial 44 finished with value: 2.9873164459337325 and parameters: {'learning_rate': 0.2836926617824933, 'max_depth': 1}. Best is trial 31 with value: 2.755264865974267.\u001b[0m\n",
      "\u001b[32m[I 2023-03-28 23:03:19,352]\u001b[0m Trial 45 finished with value: 2.9069025548041663 and parameters: {'learning_rate': 0.1938816100250521, 'max_depth': 4}. Best is trial 31 with value: 2.755264865974267.\u001b[0m\n",
      "\u001b[32m[I 2023-03-28 23:03:19,873]\u001b[0m Trial 46 finished with value: 3.5664839851364265 and parameters: {'learning_rate': 0.06348980984393904, 'max_depth': 16}. Best is trial 31 with value: 2.755264865974267.\u001b[0m\n",
      "\u001b[32m[I 2023-03-28 23:03:20,172]\u001b[0m Trial 47 finished with value: 2.864818324566871 and parameters: {'learning_rate': 0.11021789414119736, 'max_depth': 3}. Best is trial 31 with value: 2.755264865974267.\u001b[0m\n",
      "\u001b[32m[I 2023-03-28 23:03:20,655]\u001b[0m Trial 48 finished with value: 3.489847108616271 and parameters: {'learning_rate': 0.06699915597983332, 'max_depth': 12}. Best is trial 31 with value: 2.755264865974267.\u001b[0m\n",
      "\u001b[32m[I 2023-03-28 23:03:21,111]\u001b[0m Trial 49 finished with value: 3.6156446754907865 and parameters: {'learning_rate': 0.11973180971168797, 'max_depth': 20}. Best is trial 31 with value: 2.755264865974267.\u001b[0m\n",
      "\u001b[32m[I 2023-03-28 23:03:21,435]\u001b[0m Trial 50 finished with value: 3.0431639347706616 and parameters: {'learning_rate': 0.22715658018645762, 'max_depth': 5}. Best is trial 31 with value: 2.755264865974267.\u001b[0m\n",
      "\u001b[32m[I 2023-03-28 23:03:21,711]\u001b[0m Trial 51 finished with value: 2.8168182851207866 and parameters: {'learning_rate': 0.15901825201729358, 'max_depth': 2}. Best is trial 31 with value: 2.755264865974267.\u001b[0m\n",
      "\u001b[32m[I 2023-03-28 23:03:21,954]\u001b[0m Trial 52 finished with value: 2.7961811643055974 and parameters: {'learning_rate': 0.15423710180605343, 'max_depth': 2}. Best is trial 31 with value: 2.755264865974267.\u001b[0m\n",
      "\u001b[32m[I 2023-03-28 23:03:22,222]\u001b[0m Trial 53 finished with value: 2.7999962274436476 and parameters: {'learning_rate': 0.1813470595541743, 'max_depth': 2}. Best is trial 31 with value: 2.755264865974267.\u001b[0m\n",
      "\u001b[32m[I 2023-03-28 23:03:22,503]\u001b[0m Trial 54 finished with value: 2.9915194933954568 and parameters: {'learning_rate': 0.2919371633136462, 'max_depth': 3}. Best is trial 31 with value: 2.755264865974267.\u001b[0m\n",
      "\u001b[32m[I 2023-03-28 23:03:22,776]\u001b[0m Trial 55 finished with value: 2.9809938008373185 and parameters: {'learning_rate': 0.17290557553986624, 'max_depth': 1}. Best is trial 31 with value: 2.755264865974267.\u001b[0m\n",
      "\u001b[32m[I 2023-03-28 23:03:23,080]\u001b[0m Trial 56 finished with value: 2.8154724133038127 and parameters: {'learning_rate': 0.1064975353689352, 'max_depth': 3}. Best is trial 31 with value: 2.755264865974267.\u001b[0m\n",
      "\u001b[32m[I 2023-03-28 23:03:23,388]\u001b[0m Trial 57 finished with value: 2.868977819165024 and parameters: {'learning_rate': 0.09154669395994373, 'max_depth': 3}. Best is trial 31 with value: 2.755264865974267.\u001b[0m\n",
      "\u001b[32m[I 2023-03-28 23:03:23,747]\u001b[0m Trial 58 finished with value: 2.8980727738998127 and parameters: {'learning_rate': 0.044196687528020306, 'max_depth': 4}. Best is trial 31 with value: 2.755264865974267.\u001b[0m\n",
      "\u001b[32m[I 2023-03-28 23:03:23,992]\u001b[0m Trial 59 finished with value: 2.895539764949212 and parameters: {'learning_rate': 0.2195426117644772, 'max_depth': 3}. Best is trial 31 with value: 2.755264865974267.\u001b[0m\n",
      "\u001b[32m[I 2023-03-28 23:03:24,589]\u001b[0m Trial 60 finished with value: 3.2211892081125337 and parameters: {'learning_rate': 0.1115719448784954, 'max_depth': 7}. Best is trial 31 with value: 2.755264865974267.\u001b[0m\n",
      "\u001b[32m[I 2023-03-28 23:03:24,859]\u001b[0m Trial 61 finished with value: 2.953998344428551 and parameters: {'learning_rate': 0.23101306018905743, 'max_depth': 1}. Best is trial 31 with value: 2.755264865974267.\u001b[0m\n",
      "\u001b[32m[I 2023-03-28 23:03:25,134]\u001b[0m Trial 62 finished with value: 2.792939589498152 and parameters: {'learning_rate': 0.1664592452690208, 'max_depth': 2}. Best is trial 31 with value: 2.755264865974267.\u001b[0m\n",
      "\u001b[32m[I 2023-03-28 23:03:25,397]\u001b[0m Trial 63 finished with value: 2.8174724775041864 and parameters: {'learning_rate': 0.15714735936395227, 'max_depth': 2}. Best is trial 31 with value: 2.755264865974267.\u001b[0m\n",
      "\u001b[32m[I 2023-03-28 23:03:25,833]\u001b[0m Trial 64 finished with value: 2.975650537599299 and parameters: {'learning_rate': 0.09961143786254625, 'max_depth': 5}. Best is trial 31 with value: 2.755264865974267.\u001b[0m\n",
      "\u001b[32m[I 2023-03-28 23:03:26,153]\u001b[0m Trial 65 finished with value: 2.943901328765083 and parameters: {'learning_rate': 0.23881404824022529, 'max_depth': 1}. Best is trial 31 with value: 2.755264865974267.\u001b[0m\n",
      "\u001b[32m[I 2023-03-28 23:03:26,475]\u001b[0m Trial 66 finished with value: 2.9582510641989064 and parameters: {'learning_rate': 0.2974482068105079, 'max_depth': 3}. Best is trial 31 with value: 2.755264865974267.\u001b[0m\n",
      "\u001b[32m[I 2023-03-28 23:03:26,822]\u001b[0m Trial 67 finished with value: 2.937419833070473 and parameters: {'learning_rate': 0.1586771223632493, 'max_depth': 4}. Best is trial 31 with value: 2.755264865974267.\u001b[0m\n",
      "\u001b[32m[I 2023-03-28 23:03:27,187]\u001b[0m Trial 68 finished with value: 2.82869665151144 and parameters: {'learning_rate': 0.07199086902940995, 'max_depth': 2}. Best is trial 31 with value: 2.755264865974267.\u001b[0m\n",
      "\u001b[32m[I 2023-03-28 23:03:27,497]\u001b[0m Trial 69 finished with value: 2.8991600424780866 and parameters: {'learning_rate': 0.22907447984628326, 'max_depth': 3}. Best is trial 31 with value: 2.755264865974267.\u001b[0m\n",
      "\u001b[32m[I 2023-03-28 23:03:27,929]\u001b[0m Trial 70 finished with value: 3.426328232884354 and parameters: {'learning_rate': 0.1268097286186963, 'max_depth': 9}. Best is trial 31 with value: 2.755264865974267.\u001b[0m\n",
      "\u001b[32m[I 2023-03-28 23:03:28,203]\u001b[0m Trial 71 finished with value: 2.8808809570725615 and parameters: {'learning_rate': 0.1688867439739537, 'max_depth': 2}. Best is trial 31 with value: 2.755264865974267.\u001b[0m\n",
      "\u001b[32m[I 2023-03-28 23:03:28,455]\u001b[0m Trial 72 finished with value: 2.9673227921498375 and parameters: {'learning_rate': 0.1633523079297227, 'max_depth': 1}. Best is trial 31 with value: 2.755264865974267.\u001b[0m\n",
      "\u001b[32m[I 2023-03-28 23:03:28,738]\u001b[0m Trial 73 finished with value: 2.7966634479037897 and parameters: {'learning_rate': 0.10109367915777873, 'max_depth': 2}. Best is trial 31 with value: 2.755264865974267.\u001b[0m\n",
      "\u001b[32m[I 2023-03-28 23:03:29,022]\u001b[0m Trial 74 finished with value: 2.8132604165779256 and parameters: {'learning_rate': 0.10970055113956462, 'max_depth': 2}. Best is trial 31 with value: 2.755264865974267.\u001b[0m\n",
      "\u001b[32m[I 2023-03-28 23:03:29,492]\u001b[0m Trial 75 finished with value: 3.5981037092842616 and parameters: {'learning_rate': 0.09630495656733436, 'max_depth': 18}. Best is trial 31 with value: 2.755264865974267.\u001b[0m\n",
      "\u001b[32m[I 2023-03-28 23:03:29,835]\u001b[0m Trial 76 finished with value: 2.8372609618307147 and parameters: {'learning_rate': 0.06051182211918025, 'max_depth': 3}. Best is trial 31 with value: 2.755264865974267.\u001b[0m\n",
      "\u001b[32m[I 2023-03-28 23:03:30,181]\u001b[0m Trial 77 finished with value: 2.943372981474849 and parameters: {'learning_rate': 0.09557277193242701, 'max_depth': 4}. Best is trial 31 with value: 2.755264865974267.\u001b[0m\n",
      "\u001b[32m[I 2023-03-28 23:03:30,454]\u001b[0m Trial 78 finished with value: 3.0262943996079015 and parameters: {'learning_rate': 0.08082685901754934, 'max_depth': 1}. Best is trial 31 with value: 2.755264865974267.\u001b[0m\n",
      "\u001b[32m[I 2023-03-28 23:03:30,728]\u001b[0m Trial 79 finished with value: 2.8419902954042975 and parameters: {'learning_rate': 0.1232297756817919, 'max_depth': 2}. Best is trial 31 with value: 2.755264865974267.\u001b[0m\n",
      "\u001b[32m[I 2023-03-28 23:03:31,086]\u001b[0m Trial 80 finished with value: 2.9362720555810085 and parameters: {'learning_rate': 0.20364644011912353, 'max_depth': 4}. Best is trial 31 with value: 2.755264865974267.\u001b[0m\n",
      "\u001b[32m[I 2023-03-28 23:03:31,343]\u001b[0m Trial 81 finished with value: 2.873494816402155 and parameters: {'learning_rate': 0.13699006286153878, 'max_depth': 2}. Best is trial 31 with value: 2.755264865974267.\u001b[0m\n",
      "\u001b[32m[I 2023-03-28 23:03:31,584]\u001b[0m Trial 82 finished with value: 2.82388691161662 and parameters: {'learning_rate': 0.24694041789046087, 'max_depth': 2}. Best is trial 31 with value: 2.755264865974267.\u001b[0m\n",
      "\u001b[32m[I 2023-03-28 23:03:31,860]\u001b[0m Trial 83 finished with value: 2.9595854785044757 and parameters: {'learning_rate': 0.18483890306070214, 'max_depth': 1}. Best is trial 31 with value: 2.755264865974267.\u001b[0m\n",
      "\u001b[32m[I 2023-03-28 23:03:32,123]\u001b[0m Trial 84 finished with value: 3.0087858399721696 and parameters: {'learning_rate': 0.29670496964649423, 'max_depth': 1}. Best is trial 31 with value: 2.755264865974267.\u001b[0m\n",
      "\u001b[32m[I 2023-03-28 23:03:32,446]\u001b[0m Trial 85 finished with value: 3.00372515592023 and parameters: {'learning_rate': 0.2415284196310234, 'max_depth': 5}. Best is trial 31 with value: 2.755264865974267.\u001b[0m\n",
      "\u001b[32m[I 2023-03-28 23:03:32,827]\u001b[0m Trial 86 finished with value: 2.852427593344219 and parameters: {'learning_rate': 0.10891392952632674, 'max_depth': 3}. Best is trial 31 with value: 2.755264865974267.\u001b[0m\n",
      "\u001b[32m[I 2023-03-28 23:03:33,107]\u001b[0m Trial 87 finished with value: 2.8378229112960804 and parameters: {'learning_rate': 0.146196380626905, 'max_depth': 2}. Best is trial 31 with value: 2.755264865974267.\u001b[0m\n",
      "\u001b[32m[I 2023-03-28 23:03:33,379]\u001b[0m Trial 88 finished with value: 2.8027892229389986 and parameters: {'learning_rate': 0.18635058682652988, 'max_depth': 2}. Best is trial 31 with value: 2.755264865974267.\u001b[0m\n",
      "\u001b[32m[I 2023-03-28 23:03:33,836]\u001b[0m Trial 89 finished with value: 3.1055352095747812 and parameters: {'learning_rate': 0.0778250340001827, 'max_depth': 6}. Best is trial 31 with value: 2.755264865974267.\u001b[0m\n",
      "\u001b[32m[I 2023-03-28 23:03:34,254]\u001b[0m Trial 90 finished with value: 3.5017485622807234 and parameters: {'learning_rate': 0.18509947895186907, 'max_depth': 14}. Best is trial 31 with value: 2.755264865974267.\u001b[0m\n",
      "\u001b[32m[I 2023-03-28 23:03:34,541]\u001b[0m Trial 91 finished with value: 2.953033885012596 and parameters: {'learning_rate': 0.25144644845511305, 'max_depth': 3}. Best is trial 31 with value: 2.755264865974267.\u001b[0m\n",
      "\u001b[32m[I 2023-03-28 23:03:34,812]\u001b[0m Trial 92 finished with value: 2.8555602980025183 and parameters: {'learning_rate': 0.1994941869388252, 'max_depth': 2}. Best is trial 31 with value: 2.755264865974267.\u001b[0m\n",
      "\u001b[32m[I 2023-03-28 23:03:35,076]\u001b[0m Trial 93 finished with value: 2.834108027697255 and parameters: {'learning_rate': 0.133836858046503, 'max_depth': 2}. Best is trial 31 with value: 2.755264865974267.\u001b[0m\n",
      "\u001b[32m[I 2023-03-28 23:03:35,334]\u001b[0m Trial 94 finished with value: 2.961727789075487 and parameters: {'learning_rate': 0.1065945828205615, 'max_depth': 1}. Best is trial 31 with value: 2.755264865974267.\u001b[0m\n",
      "\u001b[32m[I 2023-03-28 23:03:35,650]\u001b[0m Trial 95 finished with value: 3.0277698252131726 and parameters: {'learning_rate': 0.25756105132199286, 'max_depth': 3}. Best is trial 31 with value: 2.755264865974267.\u001b[0m\n",
      "\u001b[32m[I 2023-03-28 23:03:35,942]\u001b[0m Trial 96 finished with value: 2.8585536214960494 and parameters: {'learning_rate': 0.19808982133394273, 'max_depth': 4}. Best is trial 31 with value: 2.755264865974267.\u001b[0m\n",
      "\u001b[32m[I 2023-03-28 23:03:36,212]\u001b[0m Trial 97 finished with value: 2.952590914454379 and parameters: {'learning_rate': 0.1461821225094663, 'max_depth': 1}. Best is trial 31 with value: 2.755264865974267.\u001b[0m\n",
      "\u001b[32m[I 2023-03-28 23:03:36,475]\u001b[0m Trial 98 finished with value: 2.829523716694035 and parameters: {'learning_rate': 0.12303996590255088, 'max_depth': 2}. Best is trial 31 with value: 2.755264865974267.\u001b[0m\n",
      "\u001b[32m[I 2023-03-28 23:03:36,789]\u001b[0m Trial 99 finished with value: 2.8333848346070867 and parameters: {'learning_rate': 0.09102642407961894, 'max_depth': 3}. Best is trial 31 with value: 2.755264865974267.\u001b[0m\n",
      "\u001b[32m[I 2023-03-28 23:03:37,052]\u001b[0m Trial 100 finished with value: 2.7792982306477754 and parameters: {'learning_rate': 0.16616115891494299, 'max_depth': 2}. Best is trial 31 with value: 2.755264865974267.\u001b[0m\n",
      "\u001b[32m[I 2023-03-28 23:03:37,315]\u001b[0m Trial 101 finished with value: 2.7744532883135062 and parameters: {'learning_rate': 0.21890006760769107, 'max_depth': 2}. Best is trial 31 with value: 2.755264865974267.\u001b[0m\n",
      "\u001b[32m[I 2023-03-28 23:03:37,572]\u001b[0m Trial 102 finished with value: 2.7679004196083348 and parameters: {'learning_rate': 0.16271698243366842, 'max_depth': 2}. Best is trial 31 with value: 2.755264865974267.\u001b[0m\n",
      "\u001b[32m[I 2023-03-28 23:03:37,836]\u001b[0m Trial 103 finished with value: 2.979858908343478 and parameters: {'learning_rate': 0.17117336157666202, 'max_depth': 1}. Best is trial 31 with value: 2.755264865974267.\u001b[0m\n",
      "\u001b[32m[I 2023-03-28 23:03:38,084]\u001b[0m Trial 104 finished with value: 2.7749891638058926 and parameters: {'learning_rate': 0.21632022643385942, 'max_depth': 2}. Best is trial 31 with value: 2.755264865974267.\u001b[0m\n",
      "\u001b[32m[I 2023-03-28 23:03:38,495]\u001b[0m Trial 105 finished with value: 3.527452350862499 and parameters: {'learning_rate': 0.22390726550718348, 'max_depth': 10}. Best is trial 31 with value: 2.755264865974267.\u001b[0m\n",
      "\u001b[32m[I 2023-03-28 23:03:38,737]\u001b[0m Trial 106 finished with value: 2.995821505659944 and parameters: {'learning_rate': 0.26070337773963564, 'max_depth': 3}. Best is trial 31 with value: 2.755264865974267.\u001b[0m\n",
      "\u001b[32m[I 2023-03-28 23:03:38,990]\u001b[0m Trial 107 finished with value: 2.7948897428817427 and parameters: {'learning_rate': 0.18095481349529674, 'max_depth': 2}. Best is trial 31 with value: 2.755264865974267.\u001b[0m\n",
      "\u001b[32m[I 2023-03-28 23:03:39,262]\u001b[0m Trial 108 finished with value: 2.8990690000762873 and parameters: {'learning_rate': 0.15166374238546407, 'max_depth': 4}. Best is trial 31 with value: 2.755264865974267.\u001b[0m\n",
      "\u001b[32m[I 2023-03-28 23:03:39,514]\u001b[0m Trial 109 finished with value: 2.9786256999972984 and parameters: {'learning_rate': 0.16888680269728368, 'max_depth': 1}. Best is trial 31 with value: 2.755264865974267.\u001b[0m\n",
      "\u001b[32m[I 2023-03-28 23:03:39,771]\u001b[0m Trial 110 finished with value: 2.967146909883576 and parameters: {'learning_rate': 0.22564939033869447, 'max_depth': 1}. Best is trial 31 with value: 2.755264865974267.\u001b[0m\n",
      "\u001b[32m[I 2023-03-28 23:03:40,043]\u001b[0m Trial 111 finished with value: 2.828561721355764 and parameters: {'learning_rate': 0.20509507292502277, 'max_depth': 2}. Best is trial 31 with value: 2.755264865974267.\u001b[0m\n",
      "\u001b[32m[I 2023-03-28 23:03:40,310]\u001b[0m Trial 112 finished with value: 2.7948515340728957 and parameters: {'learning_rate': 0.1808991695788162, 'max_depth': 2}. Best is trial 31 with value: 2.755264865974267.\u001b[0m\n",
      "\u001b[32m[I 2023-03-28 23:03:40,714]\u001b[0m Trial 113 finished with value: 3.6216801698053698 and parameters: {'learning_rate': 0.29859149456116285, 'max_depth': 15}. Best is trial 31 with value: 2.755264865974267.\u001b[0m\n",
      "\u001b[32m[I 2023-03-28 23:03:41,026]\u001b[0m Trial 114 finished with value: 2.884444112206433 and parameters: {'learning_rate': 0.1334005264302743, 'max_depth': 3}. Best is trial 31 with value: 2.755264865974267.\u001b[0m\n",
      "\u001b[32m[I 2023-03-28 23:03:41,314]\u001b[0m Trial 115 finished with value: 2.817824936736524 and parameters: {'learning_rate': 0.16048181199851622, 'max_depth': 2}. Best is trial 31 with value: 2.755264865974267.\u001b[0m\n",
      "\u001b[32m[I 2023-03-28 23:03:41,610]\u001b[0m Trial 116 finished with value: 3.0237832304799452 and parameters: {'learning_rate': 0.2573082805617523, 'max_depth': 3}. Best is trial 31 with value: 2.755264865974267.\u001b[0m\n",
      "\u001b[32m[I 2023-03-28 23:03:41,873]\u001b[0m Trial 117 finished with value: 2.9704286156034514 and parameters: {'learning_rate': 0.21513838893188572, 'max_depth': 1}. Best is trial 31 with value: 2.755264865974267.\u001b[0m\n",
      "\u001b[32m[I 2023-03-28 23:03:42,146]\u001b[0m Trial 118 finished with value: 2.7820274368313176 and parameters: {'learning_rate': 0.1826364919485819, 'max_depth': 2}. Best is trial 31 with value: 2.755264865974267.\u001b[0m\n",
      "\u001b[32m[I 2023-03-28 23:03:42,456]\u001b[0m Trial 119 finished with value: 2.909331333267154 and parameters: {'learning_rate': 0.1384572340769893, 'max_depth': 4}. Best is trial 31 with value: 2.755264865974267.\u001b[0m\n",
      "\u001b[32m[I 2023-03-28 23:03:42,739]\u001b[0m Trial 120 finished with value: 2.8326156198999017 and parameters: {'learning_rate': 0.11950431701234412, 'max_depth': 2}. Best is trial 31 with value: 2.755264865974267.\u001b[0m\n",
      "\u001b[32m[I 2023-03-28 23:03:42,999]\u001b[0m Trial 121 finished with value: 2.881136716508167 and parameters: {'learning_rate': 0.18551300393961762, 'max_depth': 3}. Best is trial 31 with value: 2.755264865974267.\u001b[0m\n",
      "\u001b[32m[I 2023-03-28 23:03:43,245]\u001b[0m Trial 122 finished with value: 2.858986676455968 and parameters: {'learning_rate': 0.257158175409684, 'max_depth': 2}. Best is trial 31 with value: 2.755264865974267.\u001b[0m\n",
      "\u001b[32m[I 2023-03-28 23:03:43,505]\u001b[0m Trial 123 finished with value: 2.8185494128921826 and parameters: {'learning_rate': 0.29946006079021137, 'max_depth': 2}. Best is trial 31 with value: 2.755264865974267.\u001b[0m\n",
      "\u001b[32m[I 2023-03-28 23:03:43,811]\u001b[0m Trial 124 finished with value: 2.996655434574766 and parameters: {'learning_rate': 0.16616419448132944, 'max_depth': 1}. Best is trial 31 with value: 2.755264865974267.\u001b[0m\n",
      "\u001b[32m[I 2023-03-28 23:03:44,089]\u001b[0m Trial 125 finished with value: 2.8408295082725643 and parameters: {'learning_rate': 0.21595573736776727, 'max_depth': 3}. Best is trial 31 with value: 2.755264865974267.\u001b[0m\n",
      "\u001b[32m[I 2023-03-28 23:03:44,376]\u001b[0m Trial 126 finished with value: 2.8318391826687703 and parameters: {'learning_rate': 0.15269774874441264, 'max_depth': 2}. Best is trial 31 with value: 2.755264865974267.\u001b[0m\n",
      "\u001b[32m[I 2023-03-28 23:03:44,634]\u001b[0m Trial 127 finished with value: 2.985079401845304 and parameters: {'learning_rate': 0.18887418263687267, 'max_depth': 1}. Best is trial 31 with value: 2.755264865974267.\u001b[0m\n",
      "\u001b[32m[I 2023-03-28 23:03:44,932]\u001b[0m Trial 128 finished with value: 2.8426927917776847 and parameters: {'learning_rate': 0.08779684938831267, 'max_depth': 2}. Best is trial 31 with value: 2.755264865974267.\u001b[0m\n",
      "\u001b[32m[I 2023-03-28 23:03:45,243]\u001b[0m Trial 129 finished with value: 2.9215730652479452 and parameters: {'learning_rate': 0.24034726854603533, 'max_depth': 3}. Best is trial 31 with value: 2.755264865974267.\u001b[0m\n",
      "\u001b[32m[I 2023-03-28 23:03:45,521]\u001b[0m Trial 130 finished with value: 2.9660376676037705 and parameters: {'learning_rate': 0.12316337126438913, 'max_depth': 1}. Best is trial 31 with value: 2.755264865974267.\u001b[0m\n",
      "\u001b[32m[I 2023-03-28 23:03:45,788]\u001b[0m Trial 131 finished with value: 2.740767324537423 and parameters: {'learning_rate': 0.18159316787415972, 'max_depth': 2}. Best is trial 131 with value: 2.740767324537423.\u001b[0m\n",
      "\u001b[32m[I 2023-03-28 23:03:46,024]\u001b[0m Trial 132 finished with value: 2.87676036636141 and parameters: {'learning_rate': 0.21017175208421435, 'max_depth': 2}. Best is trial 131 with value: 2.740767324537423.\u001b[0m\n",
      "\u001b[32m[I 2023-03-28 23:03:46,295]\u001b[0m Trial 133 finished with value: 2.7961890758013976 and parameters: {'learning_rate': 0.18048170698163138, 'max_depth': 2}. Best is trial 131 with value: 2.740767324537423.\u001b[0m\n",
      "\u001b[32m[I 2023-03-28 23:03:46,568]\u001b[0m Trial 134 finished with value: 2.834149424731348 and parameters: {'learning_rate': 0.13850198227544525, 'max_depth': 2}. Best is trial 131 with value: 2.740767324537423.\u001b[0m\n",
      "\u001b[32m[I 2023-03-28 23:03:46,927]\u001b[0m Trial 135 finished with value: 3.279786163938641 and parameters: {'learning_rate': 0.017589370570404068, 'max_depth': 3}. Best is trial 131 with value: 2.740767324537423.\u001b[0m\n",
      "\u001b[32m[I 2023-03-28 23:03:47,184]\u001b[0m Trial 136 finished with value: 2.9631518542642215 and parameters: {'learning_rate': 0.1624922946855758, 'max_depth': 1}. Best is trial 131 with value: 2.740767324537423.\u001b[0m\n",
      "\u001b[32m[I 2023-03-28 23:03:47,469]\u001b[0m Trial 137 finished with value: 2.8211751585059646 and parameters: {'learning_rate': 0.10356818052490477, 'max_depth': 2}. Best is trial 131 with value: 2.740767324537423.\u001b[0m\n",
      "\u001b[32m[I 2023-03-28 23:03:47,868]\u001b[0m Trial 138 finished with value: 4.477720392340549 and parameters: {'learning_rate': 0.00785515837971852, 'max_depth': 4}. Best is trial 131 with value: 2.740767324537423.\u001b[0m\n",
      "\u001b[32m[I 2023-03-28 23:03:48,205]\u001b[0m Trial 139 finished with value: 2.870990546030159 and parameters: {'learning_rate': 0.2575897501631598, 'max_depth': 2}. Best is trial 131 with value: 2.740767324537423.\u001b[0m\n",
      "\u001b[32m[I 2023-03-28 23:03:48,488]\u001b[0m Trial 140 finished with value: 2.8624888088596516 and parameters: {'learning_rate': 0.18550668580460966, 'max_depth': 3}. Best is trial 131 with value: 2.740767324537423.\u001b[0m\n",
      "\u001b[32m[I 2023-03-28 23:03:48,751]\u001b[0m Trial 141 finished with value: 2.9725755948630503 and parameters: {'learning_rate': 0.21773155321344564, 'max_depth': 1}. Best is trial 131 with value: 2.740767324537423.\u001b[0m\n",
      "\u001b[32m[I 2023-03-28 23:03:49,015]\u001b[0m Trial 142 finished with value: 2.788518437086163 and parameters: {'learning_rate': 0.18009701126931776, 'max_depth': 2}. Best is trial 131 with value: 2.740767324537423.\u001b[0m\n",
      "\u001b[32m[I 2023-03-28 23:03:49,448]\u001b[0m Trial 143 finished with value: 3.511869440476374 and parameters: {'learning_rate': 0.14761808170007754, 'max_depth': 13}. Best is trial 131 with value: 2.740767324537423.\u001b[0m\n",
      "\u001b[32m[I 2023-03-28 23:03:49,775]\u001b[0m Trial 144 finished with value: 2.816506961280125 and parameters: {'learning_rate': 0.1763728955803669, 'max_depth': 3}. Best is trial 131 with value: 2.740767324537423.\u001b[0m\n",
      "\u001b[32m[I 2023-03-28 23:03:50,027]\u001b[0m Trial 145 finished with value: 3.0320428359233516 and parameters: {'learning_rate': 0.29928943820440496, 'max_depth': 1}. Best is trial 131 with value: 2.740767324537423.\u001b[0m\n",
      "\u001b[32m[I 2023-03-28 23:03:50,469]\u001b[0m Trial 146 finished with value: 3.607189007896119 and parameters: {'learning_rate': 0.11874658442960087, 'max_depth': 19}. Best is trial 131 with value: 2.740767324537423.\u001b[0m\n",
      "\u001b[32m[I 2023-03-28 23:03:50,726]\u001b[0m Trial 147 finished with value: 2.8199894236177983 and parameters: {'learning_rate': 0.22558097823402876, 'max_depth': 2}. Best is trial 131 with value: 2.740767324537423.\u001b[0m\n",
      "\u001b[32m[I 2023-03-28 23:03:50,988]\u001b[0m Trial 148 finished with value: 2.800387392114104 and parameters: {'learning_rate': 0.19556408721779747, 'max_depth': 2}. Best is trial 131 with value: 2.740767324537423.\u001b[0m\n",
      "\u001b[32m[I 2023-03-28 23:03:51,440]\u001b[0m Trial 149 finished with value: 3.304932449222305 and parameters: {'learning_rate': 0.06886252407969595, 'max_depth': 8}. Best is trial 131 with value: 2.740767324537423.\u001b[0m\n",
      "\u001b[32m[I 2023-03-28 23:03:51,737]\u001b[0m Trial 150 finished with value: 2.8348450124404048 and parameters: {'learning_rate': 0.14150524881474333, 'max_depth': 3}. Best is trial 131 with value: 2.740767324537423.\u001b[0m\n",
      "\u001b[32m[I 2023-03-28 23:03:51,973]\u001b[0m Trial 151 finished with value: 2.850251628134916 and parameters: {'learning_rate': 0.17329802786728415, 'max_depth': 2}. Best is trial 131 with value: 2.740767324537423.\u001b[0m\n",
      "\u001b[32m[I 2023-03-28 23:03:52,227]\u001b[0m Trial 152 finished with value: 2.8587583884863714 and parameters: {'learning_rate': 0.252079194009558, 'max_depth': 2}. Best is trial 131 with value: 2.740767324537423.\u001b[0m\n",
      "\u001b[32m[I 2023-03-28 23:03:52,477]\u001b[0m Trial 153 finished with value: 2.948989326836198 and parameters: {'learning_rate': 0.20302058434308026, 'max_depth': 1}. Best is trial 131 with value: 2.740767324537423.\u001b[0m\n",
      "\u001b[32m[I 2023-03-28 23:03:52,750]\u001b[0m Trial 154 finished with value: 2.844635874535997 and parameters: {'learning_rate': 0.12745439858794833, 'max_depth': 2}. Best is trial 131 with value: 2.740767324537423.\u001b[0m\n",
      "\u001b[32m[I 2023-03-28 23:03:53,050]\u001b[0m Trial 155 finished with value: 2.8294846145873804 and parameters: {'learning_rate': 0.16724710845747526, 'max_depth': 3}. Best is trial 131 with value: 2.740767324537423.\u001b[0m\n",
      "\u001b[32m[I 2023-03-28 23:03:53,308]\u001b[0m Trial 156 finished with value: 2.838110006006209 and parameters: {'learning_rate': 0.24362085240959383, 'max_depth': 2}. Best is trial 131 with value: 2.740767324537423.\u001b[0m\n",
      "\u001b[32m[I 2023-03-28 23:03:53,575]\u001b[0m Trial 157 finished with value: 2.9942863196653966 and parameters: {'learning_rate': 0.09999492373356705, 'max_depth': 1}. Best is trial 131 with value: 2.740767324537423.\u001b[0m\n",
      "\u001b[32m[I 2023-03-28 23:03:53,921]\u001b[0m Trial 158 finished with value: 2.8585693741966915 and parameters: {'learning_rate': 0.14807179341767418, 'max_depth': 3}. Best is trial 131 with value: 2.740767324537423.\u001b[0m\n",
      "\u001b[32m[I 2023-03-28 23:03:54,174]\u001b[0m Trial 159 finished with value: 2.8475541547707013 and parameters: {'learning_rate': 0.2043511852089581, 'max_depth': 2}. Best is trial 131 with value: 2.740767324537423.\u001b[0m\n",
      "\u001b[32m[I 2023-03-28 23:03:54,456]\u001b[0m Trial 160 finished with value: 3.2097887702641326 and parameters: {'learning_rate': 0.04128430478754353, 'max_depth': 1}. Best is trial 131 with value: 2.740767324537423.\u001b[0m\n",
      "\u001b[32m[I 2023-03-28 23:03:54,719]\u001b[0m Trial 161 finished with value: 2.777062177502279 and parameters: {'learning_rate': 0.18495645672694122, 'max_depth': 2}. Best is trial 131 with value: 2.740767324537423.\u001b[0m\n",
      "\u001b[32m[I 2023-03-28 23:03:54,972]\u001b[0m Trial 162 finished with value: 2.7754214518586267 and parameters: {'learning_rate': 0.17665396563942823, 'max_depth': 2}. Best is trial 131 with value: 2.740767324537423.\u001b[0m\n",
      "\u001b[32m[I 2023-03-28 23:03:55,224]\u001b[0m Trial 163 finished with value: 2.8630560841153674 and parameters: {'learning_rate': 0.26959754221196136, 'max_depth': 2}. Best is trial 131 with value: 2.740767324537423.\u001b[0m\n",
      "\u001b[32m[I 2023-03-28 23:03:55,502]\u001b[0m Trial 164 finished with value: 2.8673727969869196 and parameters: {'learning_rate': 0.15936307988678008, 'max_depth': 3}. Best is trial 131 with value: 2.740767324537423.\u001b[0m\n",
      "\u001b[32m[I 2023-03-28 23:03:55,757]\u001b[0m Trial 165 finished with value: 2.7778681035871298 and parameters: {'learning_rate': 0.22580346919860694, 'max_depth': 2}. Best is trial 131 with value: 2.740767324537423.\u001b[0m\n",
      "\u001b[32m[I 2023-03-28 23:03:56,022]\u001b[0m Trial 166 finished with value: 2.9600592343325154 and parameters: {'learning_rate': 0.11979889044262179, 'max_depth': 1}. Best is trial 131 with value: 2.740767324537423.\u001b[0m\n",
      "\u001b[32m[I 2023-03-28 23:03:56,298]\u001b[0m Trial 167 finished with value: 2.819699026622487 and parameters: {'learning_rate': 0.1838200966051948, 'max_depth': 2}. Best is trial 131 with value: 2.740767324537423.\u001b[0m\n",
      "\u001b[32m[I 2023-03-28 23:03:56,549]\u001b[0m Trial 168 finished with value: 2.809980371143277 and parameters: {'learning_rate': 0.22439594206467836, 'max_depth': 2}. Best is trial 131 with value: 2.740767324537423.\u001b[0m\n",
      "\u001b[32m[I 2023-03-28 23:03:56,888]\u001b[0m Trial 169 finished with value: 2.831257647500022 and parameters: {'learning_rate': 0.1568990013344899, 'max_depth': 3}. Best is trial 131 with value: 2.740767324537423.\u001b[0m\n",
      "\u001b[32m[I 2023-03-28 23:03:57,217]\u001b[0m Trial 170 finished with value: 5.910174279148818 and parameters: {'learning_rate': 0.004199630748034724, 'max_depth': 2}. Best is trial 131 with value: 2.740767324537423.\u001b[0m\n",
      "\u001b[32m[I 2023-03-28 23:03:57,478]\u001b[0m Trial 171 finished with value: 2.942644243137785 and parameters: {'learning_rate': 0.2342158069907845, 'max_depth': 1}. Best is trial 131 with value: 2.740767324537423.\u001b[0m\n",
      "\u001b[32m[I 2023-03-28 23:03:57,762]\u001b[0m Trial 172 finished with value: 2.811531046893877 and parameters: {'learning_rate': 0.2953764112285461, 'max_depth': 2}. Best is trial 131 with value: 2.740767324537423.\u001b[0m\n",
      "\u001b[32m[I 2023-03-28 23:03:58,089]\u001b[0m Trial 173 finished with value: 2.8895358512508666 and parameters: {'learning_rate': 0.18726921540565278, 'max_depth': 3}. Best is trial 131 with value: 2.740767324537423.\u001b[0m\n",
      "\u001b[32m[I 2023-03-28 23:03:58,338]\u001b[0m Trial 174 finished with value: 2.953119645073356 and parameters: {'learning_rate': 0.2059407241302, 'max_depth': 1}. Best is trial 131 with value: 2.740767324537423.\u001b[0m\n",
      "\u001b[32m[I 2023-03-28 23:03:58,606]\u001b[0m Trial 175 finished with value: 2.8184527367371874 and parameters: {'learning_rate': 0.14475870132924643, 'max_depth': 2}. Best is trial 131 with value: 2.740767324537423.\u001b[0m\n",
      "\u001b[32m[I 2023-03-28 23:03:58,929]\u001b[0m Trial 176 finished with value: 6.815626927156453 and parameters: {'learning_rate': 0.0018156133364914684, 'max_depth': 2}. Best is trial 131 with value: 2.740767324537423.\u001b[0m\n",
      "\u001b[32m[I 2023-03-28 23:03:59,218]\u001b[0m Trial 177 finished with value: 3.0356727485697705 and parameters: {'learning_rate': 0.2559569828043783, 'max_depth': 3}. Best is trial 131 with value: 2.740767324537423.\u001b[0m\n",
      "\u001b[32m[I 2023-03-28 23:03:59,484]\u001b[0m Trial 178 finished with value: 2.9648526059294853 and parameters: {'learning_rate': 0.12567217100493186, 'max_depth': 1}. Best is trial 131 with value: 2.740767324537423.\u001b[0m\n",
      "\u001b[32m[I 2023-03-28 23:03:59,765]\u001b[0m Trial 179 finished with value: 2.7815598361465628 and parameters: {'learning_rate': 0.17542587759266604, 'max_depth': 2}. Best is trial 131 with value: 2.740767324537423.\u001b[0m\n",
      "\u001b[32m[I 2023-03-28 23:04:00,051]\u001b[0m Trial 180 finished with value: 2.8164512206133825 and parameters: {'learning_rate': 0.10607734644102124, 'max_depth': 2}. Best is trial 131 with value: 2.740767324537423.\u001b[0m\n",
      "\u001b[32m[I 2023-03-28 23:04:00,303]\u001b[0m Trial 181 finished with value: 2.8190548222041287 and parameters: {'learning_rate': 0.175724836484892, 'max_depth': 2}. Best is trial 131 with value: 2.740767324537423.\u001b[0m\n",
      "\u001b[32m[I 2023-03-28 23:04:00,569]\u001b[0m Trial 182 finished with value: 2.79720905431398 and parameters: {'learning_rate': 0.2224708079972258, 'max_depth': 2}. Best is trial 131 with value: 2.740767324537423.\u001b[0m\n",
      "\u001b[32m[I 2023-03-28 23:04:00,950]\u001b[0m Trial 183 finished with value: 2.8429284068509957 and parameters: {'learning_rate': 0.18989357760545, 'max_depth': 3}. Best is trial 131 with value: 2.740767324537423.\u001b[0m\n",
      "\u001b[32m[I 2023-03-28 23:04:01,308]\u001b[0m Trial 184 finished with value: 2.8428044129030354 and parameters: {'learning_rate': 0.13952583345587968, 'max_depth': 2}. Best is trial 131 with value: 2.740767324537423.\u001b[0m\n",
      "\u001b[32m[I 2023-03-28 23:04:01,732]\u001b[0m Trial 185 finished with value: 2.955002625863805 and parameters: {'learning_rate': 0.2617765128194294, 'max_depth': 1}. Best is trial 131 with value: 2.740767324537423.\u001b[0m\n",
      "\u001b[32m[I 2023-03-28 23:04:02,357]\u001b[0m Trial 186 finished with value: 2.795219979629866 and parameters: {'learning_rate': 0.1599494691787501, 'max_depth': 3}. Best is trial 131 with value: 2.740767324537423.\u001b[0m\n",
      "\u001b[32m[I 2023-03-28 23:04:02,830]\u001b[0m Trial 187 finished with value: 2.8323242631828967 and parameters: {'learning_rate': 0.15749073172777017, 'max_depth': 3}. Best is trial 131 with value: 2.740767324537423.\u001b[0m\n",
      "\u001b[32m[I 2023-03-28 23:04:03,165]\u001b[0m Trial 188 finished with value: 2.8729347733018344 and parameters: {'learning_rate': 0.16929418118557252, 'max_depth': 2}. Best is trial 131 with value: 2.740767324537423.\u001b[0m\n",
      "\u001b[32m[I 2023-03-28 23:04:03,455]\u001b[0m Trial 189 finished with value: 2.9574187737931985 and parameters: {'learning_rate': 0.13118814924581615, 'max_depth': 1}. Best is trial 131 with value: 2.740767324537423.\u001b[0m\n",
      "\u001b[32m[I 2023-03-28 23:04:03,839]\u001b[0m Trial 190 finished with value: 2.873121544227092 and parameters: {'learning_rate': 0.2065590247921856, 'max_depth': 3}. Best is trial 131 with value: 2.740767324537423.\u001b[0m\n",
      "\u001b[32m[I 2023-03-28 23:04:04,120]\u001b[0m Trial 191 finished with value: 2.8170398680798514 and parameters: {'learning_rate': 0.23617833746798217, 'max_depth': 2}. Best is trial 131 with value: 2.740767324537423.\u001b[0m\n",
      "\u001b[32m[I 2023-03-28 23:04:04,401]\u001b[0m Trial 192 finished with value: 2.820297160873945 and parameters: {'learning_rate': 0.18436385997240215, 'max_depth': 2}. Best is trial 131 with value: 2.740767324537423.\u001b[0m\n",
      "\u001b[32m[I 2023-03-28 23:04:04,687]\u001b[0m Trial 193 finished with value: 2.84011643597159 and parameters: {'learning_rate': 0.08753207662873458, 'max_depth': 2}. Best is trial 131 with value: 2.740767324537423.\u001b[0m\n",
      "\u001b[32m[I 2023-03-28 23:04:04,956]\u001b[0m Trial 194 finished with value: 2.9648515714668187 and parameters: {'learning_rate': 0.21342653644247153, 'max_depth': 1}. Best is trial 131 with value: 2.740767324537423.\u001b[0m\n",
      "\u001b[32m[I 2023-03-28 23:04:05,271]\u001b[0m Trial 195 finished with value: 2.8164563062754855 and parameters: {'learning_rate': 0.15238791147048492, 'max_depth': 3}. Best is trial 131 with value: 2.740767324537423.\u001b[0m\n",
      "\u001b[32m[I 2023-03-28 23:04:05,532]\u001b[0m Trial 196 finished with value: 2.870241883273602 and parameters: {'learning_rate': 0.27173202518754, 'max_depth': 2}. Best is trial 131 with value: 2.740767324537423.\u001b[0m\n",
      "\u001b[32m[I 2023-03-28 23:04:05,826]\u001b[0m Trial 197 finished with value: 7.5824725408436136 and parameters: {'learning_rate': 0.00024759851478203094, 'max_depth': 1}. Best is trial 131 with value: 2.740767324537423.\u001b[0m\n",
      "\u001b[32m[I 2023-03-28 23:04:06,111]\u001b[0m Trial 198 finished with value: 2.80654026031895 and parameters: {'learning_rate': 0.10854837528030326, 'max_depth': 2}. Best is trial 131 with value: 2.740767324537423.\u001b[0m\n",
      "\u001b[32m[I 2023-03-28 23:04:06,369]\u001b[0m Trial 199 finished with value: 2.7852616594668085 and parameters: {'learning_rate': 0.1768432370480455, 'max_depth': 2}. Best is trial 131 with value: 2.740767324537423.\u001b[0m\n"
     ]
    },
    {
     "name": "stdout",
     "output_type": "stream",
     "text": [
      "CPU times: total: 8.73 s\n",
      "Wall time: 1min 5s\n"
     ]
    }
   ],
   "source": [
    "%%time\n",
    "\n",
    "# Separate features and target\n",
    "X, y, scaler = preprocessing.preprocess(df,train=True)\n",
    "\n",
    "# Create study that minimizes\n",
    "study = optuna.create_study(direction=\"minimize\")\n",
    "\n",
    "# Wrap the objective inside a lambda with the relevant arguments\n",
    "kf = KFold(n_splits=5, shuffle=True, random_state=42)\n",
    "# Pass additional arguments inside another function\n",
    "func = lambda trial: objective(trial, X, y, cv=kf, scoring=\"neg_mean_squared_error\")\n",
    "\n",
    "# Start optimizing with 100 trials\n",
    "study.optimize(func, n_trials=200)"
   ]
  },
  {
   "cell_type": "code",
   "execution_count": 44,
   "metadata": {},
   "outputs": [
    {
     "name": "stdout",
     "output_type": "stream",
     "text": [
      "Optimized RMSE: 2.74077\n"
     ]
    }
   ],
   "source": [
    "print(f\"Optimized RMSE: {study.best_value:.5f}\")"
   ]
  },
  {
   "cell_type": "markdown",
   "metadata": {},
   "source": [
    "n just under a minute, we achieved a significant score boost (in terms of log errors, 0.004 is pretty sweet). We did this with only 100 trials. Let's boldly run another 200 and see what happens:"
   ]
  },
  {
   "cell_type": "code",
   "execution_count": 45,
   "metadata": {},
   "outputs": [
    {
     "name": "stdout",
     "output_type": "stream",
     "text": [
      "Best params:\n",
      "\tlearning_rate: 0.18159316787415972\n",
      "\tmax_depth: 2\n"
     ]
    }
   ],
   "source": [
    "print(\"Best params:\")\n",
    "for key, value in study.best_params.items():\n",
    "    print(f\"\\t{key}: {value}\")"
   ]
  },
  {
   "cell_type": "markdown",
   "metadata": {},
   "source": [
    "Most importantly, we achieved this score in just over 2 minutes using a search space that would probably take hours with regular GridSearch."
   ]
  },
  {
   "attachments": {},
   "cell_type": "markdown",
   "metadata": {},
   "source": [
    "Optuna offers a wide range of plots under its visualization subpackage. Here, we will discuss only 2, which I think are the most useful.\n",
    "\n",
    "First, let's plot the optimization history of the last study:"
   ]
  },
  {
   "cell_type": "code",
   "execution_count": 46,
   "metadata": {},
   "outputs": [
    {
     "data": {
      "application/vnd.plotly.v1+json": {
       "config": {
        "plotlyServerURL": "https://plot.ly",
        "staticPlot": true
       },
       "data": [
        {
         "mode": "markers",
         "name": "Objective Value",
         "type": "scatter",
         "x": [
          0,
          1,
          2,
          3,
          4,
          5,
          6,
          7,
          8,
          9,
          10,
          11,
          12,
          13,
          14,
          15,
          16,
          17,
          18,
          19,
          20,
          21,
          22,
          23,
          24,
          25,
          26,
          27,
          28,
          29,
          30,
          31,
          32,
          33,
          34,
          35,
          36,
          37,
          38,
          39,
          40,
          41,
          42,
          43,
          44,
          45,
          46,
          47,
          48,
          49,
          50,
          51,
          52,
          53,
          54,
          55,
          56,
          57,
          58,
          59,
          60,
          61,
          62,
          63,
          64,
          65,
          66,
          67,
          68,
          69,
          70,
          71,
          72,
          73,
          74,
          75,
          76,
          77,
          78,
          79,
          80,
          81,
          82,
          83,
          84,
          85,
          86,
          87,
          88,
          89,
          90,
          91,
          92,
          93,
          94,
          95,
          96,
          97,
          98,
          99,
          100,
          101,
          102,
          103,
          104,
          105,
          106,
          107,
          108,
          109,
          110,
          111,
          112,
          113,
          114,
          115,
          116,
          117,
          118,
          119,
          120,
          121,
          122,
          123,
          124,
          125,
          126,
          127,
          128,
          129,
          130,
          131,
          132,
          133,
          134,
          135,
          136,
          137,
          138,
          139,
          140,
          141,
          142,
          143,
          144,
          145,
          146,
          147,
          148,
          149,
          150,
          151,
          152,
          153,
          154,
          155,
          156,
          157,
          158,
          159,
          160,
          161,
          162,
          163,
          164,
          165,
          166,
          167,
          168,
          169,
          170,
          171,
          172,
          173,
          174,
          175,
          176,
          177,
          178,
          179,
          180,
          181,
          182,
          183,
          184,
          185,
          186,
          187,
          188,
          189,
          190,
          191,
          192,
          193,
          194,
          195,
          196,
          197,
          198,
          199
         ],
         "y": [
          7.328109896932511,
          3.032259172417746,
          3.685176020751012,
          7.579215413898119,
          6.809820559355821,
          4.023657078679284,
          2.822339618393985,
          4.540098095598771,
          2.8605405038668303,
          3.806418920179833,
          3.621515652366305,
          3.2028529060863087,
          3.2110786350997387,
          3.13407067132224,
          3.0140751548988893,
          3.3847287018606216,
          5.973705632518906,
          3.5749051060591044,
          3.396438401272457,
          3.0165280668193373,
          2.853039911212995,
          2.8697584090785253,
          3.003099859200664,
          2.838372036974901,
          2.9575651446393376,
          3.286383469812009,
          2.9972900640742615,
          3.1599772890530393,
          2.8978128603125226,
          3.529969161817166,
          2.8166060029460724,
          2.755264865974267,
          2.8517883220102545,
          2.7969480122828196,
          2.880121285077319,
          3.011688507190513,
          3.096282798429623,
          2.8455975035855805,
          2.940412784566058,
          2.9736490820501995,
          2.872812383699332,
          2.818859693474741,
          2.9174934975600686,
          3.1182715752082246,
          2.9873164459337325,
          2.9069025548041663,
          3.5664839851364265,
          2.864818324566871,
          3.489847108616271,
          3.6156446754907865,
          3.0431639347706616,
          2.8168182851207866,
          2.7961811643055974,
          2.7999962274436476,
          2.9915194933954568,
          2.9809938008373185,
          2.8154724133038127,
          2.868977819165024,
          2.8980727738998127,
          2.895539764949212,
          3.2211892081125337,
          2.953998344428551,
          2.792939589498152,
          2.8174724775041864,
          2.975650537599299,
          2.943901328765083,
          2.9582510641989064,
          2.937419833070473,
          2.82869665151144,
          2.8991600424780866,
          3.426328232884354,
          2.8808809570725615,
          2.9673227921498375,
          2.7966634479037897,
          2.8132604165779256,
          3.5981037092842616,
          2.8372609618307147,
          2.943372981474849,
          3.0262943996079015,
          2.8419902954042975,
          2.9362720555810085,
          2.873494816402155,
          2.82388691161662,
          2.9595854785044757,
          3.0087858399721696,
          3.00372515592023,
          2.852427593344219,
          2.8378229112960804,
          2.8027892229389986,
          3.1055352095747812,
          3.5017485622807234,
          2.953033885012596,
          2.8555602980025183,
          2.834108027697255,
          2.961727789075487,
          3.0277698252131726,
          2.8585536214960494,
          2.952590914454379,
          2.829523716694035,
          2.8333848346070867,
          2.7792982306477754,
          2.7744532883135062,
          2.7679004196083348,
          2.979858908343478,
          2.7749891638058926,
          3.527452350862499,
          2.995821505659944,
          2.7948897428817427,
          2.8990690000762873,
          2.9786256999972984,
          2.967146909883576,
          2.828561721355764,
          2.7948515340728957,
          3.6216801698053698,
          2.884444112206433,
          2.817824936736524,
          3.0237832304799452,
          2.9704286156034514,
          2.7820274368313176,
          2.909331333267154,
          2.8326156198999017,
          2.881136716508167,
          2.858986676455968,
          2.8185494128921826,
          2.996655434574766,
          2.8408295082725643,
          2.8318391826687703,
          2.985079401845304,
          2.8426927917776847,
          2.9215730652479452,
          2.9660376676037705,
          2.740767324537423,
          2.87676036636141,
          2.7961890758013976,
          2.834149424731348,
          3.279786163938641,
          2.9631518542642215,
          2.8211751585059646,
          4.477720392340549,
          2.870990546030159,
          2.8624888088596516,
          2.9725755948630503,
          2.788518437086163,
          3.511869440476374,
          2.816506961280125,
          3.0320428359233516,
          3.607189007896119,
          2.8199894236177983,
          2.800387392114104,
          3.304932449222305,
          2.8348450124404048,
          2.850251628134916,
          2.8587583884863714,
          2.948989326836198,
          2.844635874535997,
          2.8294846145873804,
          2.838110006006209,
          2.9942863196653966,
          2.8585693741966915,
          2.8475541547707013,
          3.2097887702641326,
          2.777062177502279,
          2.7754214518586267,
          2.8630560841153674,
          2.8673727969869196,
          2.7778681035871298,
          2.9600592343325154,
          2.819699026622487,
          2.809980371143277,
          2.831257647500022,
          5.910174279148818,
          2.942644243137785,
          2.811531046893877,
          2.8895358512508666,
          2.953119645073356,
          2.8184527367371874,
          6.815626927156453,
          3.0356727485697705,
          2.9648526059294853,
          2.7815598361465628,
          2.8164512206133825,
          2.8190548222041287,
          2.79720905431398,
          2.8429284068509957,
          2.8428044129030354,
          2.955002625863805,
          2.795219979629866,
          2.8323242631828967,
          2.8729347733018344,
          2.9574187737931985,
          2.873121544227092,
          2.8170398680798514,
          2.820297160873945,
          2.84011643597159,
          2.9648515714668187,
          2.8164563062754855,
          2.870241883273602,
          7.5824725408436136,
          2.80654026031895,
          2.7852616594668085
         ]
        },
        {
         "name": "Best Value",
         "type": "scatter",
         "x": [
          0,
          1,
          2,
          3,
          4,
          5,
          6,
          7,
          8,
          9,
          10,
          11,
          12,
          13,
          14,
          15,
          16,
          17,
          18,
          19,
          20,
          21,
          22,
          23,
          24,
          25,
          26,
          27,
          28,
          29,
          30,
          31,
          32,
          33,
          34,
          35,
          36,
          37,
          38,
          39,
          40,
          41,
          42,
          43,
          44,
          45,
          46,
          47,
          48,
          49,
          50,
          51,
          52,
          53,
          54,
          55,
          56,
          57,
          58,
          59,
          60,
          61,
          62,
          63,
          64,
          65,
          66,
          67,
          68,
          69,
          70,
          71,
          72,
          73,
          74,
          75,
          76,
          77,
          78,
          79,
          80,
          81,
          82,
          83,
          84,
          85,
          86,
          87,
          88,
          89,
          90,
          91,
          92,
          93,
          94,
          95,
          96,
          97,
          98,
          99,
          100,
          101,
          102,
          103,
          104,
          105,
          106,
          107,
          108,
          109,
          110,
          111,
          112,
          113,
          114,
          115,
          116,
          117,
          118,
          119,
          120,
          121,
          122,
          123,
          124,
          125,
          126,
          127,
          128,
          129,
          130,
          131,
          132,
          133,
          134,
          135,
          136,
          137,
          138,
          139,
          140,
          141,
          142,
          143,
          144,
          145,
          146,
          147,
          148,
          149,
          150,
          151,
          152,
          153,
          154,
          155,
          156,
          157,
          158,
          159,
          160,
          161,
          162,
          163,
          164,
          165,
          166,
          167,
          168,
          169,
          170,
          171,
          172,
          173,
          174,
          175,
          176,
          177,
          178,
          179,
          180,
          181,
          182,
          183,
          184,
          185,
          186,
          187,
          188,
          189,
          190,
          191,
          192,
          193,
          194,
          195,
          196,
          197,
          198,
          199
         ],
         "y": [
          7.328109896932511,
          3.032259172417746,
          3.032259172417746,
          3.032259172417746,
          3.032259172417746,
          3.032259172417746,
          2.822339618393985,
          2.822339618393985,
          2.822339618393985,
          2.822339618393985,
          2.822339618393985,
          2.822339618393985,
          2.822339618393985,
          2.822339618393985,
          2.822339618393985,
          2.822339618393985,
          2.822339618393985,
          2.822339618393985,
          2.822339618393985,
          2.822339618393985,
          2.822339618393985,
          2.822339618393985,
          2.822339618393985,
          2.822339618393985,
          2.822339618393985,
          2.822339618393985,
          2.822339618393985,
          2.822339618393985,
          2.822339618393985,
          2.822339618393985,
          2.8166060029460724,
          2.755264865974267,
          2.755264865974267,
          2.755264865974267,
          2.755264865974267,
          2.755264865974267,
          2.755264865974267,
          2.755264865974267,
          2.755264865974267,
          2.755264865974267,
          2.755264865974267,
          2.755264865974267,
          2.755264865974267,
          2.755264865974267,
          2.755264865974267,
          2.755264865974267,
          2.755264865974267,
          2.755264865974267,
          2.755264865974267,
          2.755264865974267,
          2.755264865974267,
          2.755264865974267,
          2.755264865974267,
          2.755264865974267,
          2.755264865974267,
          2.755264865974267,
          2.755264865974267,
          2.755264865974267,
          2.755264865974267,
          2.755264865974267,
          2.755264865974267,
          2.755264865974267,
          2.755264865974267,
          2.755264865974267,
          2.755264865974267,
          2.755264865974267,
          2.755264865974267,
          2.755264865974267,
          2.755264865974267,
          2.755264865974267,
          2.755264865974267,
          2.755264865974267,
          2.755264865974267,
          2.755264865974267,
          2.755264865974267,
          2.755264865974267,
          2.755264865974267,
          2.755264865974267,
          2.755264865974267,
          2.755264865974267,
          2.755264865974267,
          2.755264865974267,
          2.755264865974267,
          2.755264865974267,
          2.755264865974267,
          2.755264865974267,
          2.755264865974267,
          2.755264865974267,
          2.755264865974267,
          2.755264865974267,
          2.755264865974267,
          2.755264865974267,
          2.755264865974267,
          2.755264865974267,
          2.755264865974267,
          2.755264865974267,
          2.755264865974267,
          2.755264865974267,
          2.755264865974267,
          2.755264865974267,
          2.755264865974267,
          2.755264865974267,
          2.755264865974267,
          2.755264865974267,
          2.755264865974267,
          2.755264865974267,
          2.755264865974267,
          2.755264865974267,
          2.755264865974267,
          2.755264865974267,
          2.755264865974267,
          2.755264865974267,
          2.755264865974267,
          2.755264865974267,
          2.755264865974267,
          2.755264865974267,
          2.755264865974267,
          2.755264865974267,
          2.755264865974267,
          2.755264865974267,
          2.755264865974267,
          2.755264865974267,
          2.755264865974267,
          2.755264865974267,
          2.755264865974267,
          2.755264865974267,
          2.755264865974267,
          2.755264865974267,
          2.755264865974267,
          2.755264865974267,
          2.755264865974267,
          2.740767324537423,
          2.740767324537423,
          2.740767324537423,
          2.740767324537423,
          2.740767324537423,
          2.740767324537423,
          2.740767324537423,
          2.740767324537423,
          2.740767324537423,
          2.740767324537423,
          2.740767324537423,
          2.740767324537423,
          2.740767324537423,
          2.740767324537423,
          2.740767324537423,
          2.740767324537423,
          2.740767324537423,
          2.740767324537423,
          2.740767324537423,
          2.740767324537423,
          2.740767324537423,
          2.740767324537423,
          2.740767324537423,
          2.740767324537423,
          2.740767324537423,
          2.740767324537423,
          2.740767324537423,
          2.740767324537423,
          2.740767324537423,
          2.740767324537423,
          2.740767324537423,
          2.740767324537423,
          2.740767324537423,
          2.740767324537423,
          2.740767324537423,
          2.740767324537423,
          2.740767324537423,
          2.740767324537423,
          2.740767324537423,
          2.740767324537423,
          2.740767324537423,
          2.740767324537423,
          2.740767324537423,
          2.740767324537423,
          2.740767324537423,
          2.740767324537423,
          2.740767324537423,
          2.740767324537423,
          2.740767324537423,
          2.740767324537423,
          2.740767324537423,
          2.740767324537423,
          2.740767324537423,
          2.740767324537423,
          2.740767324537423,
          2.740767324537423,
          2.740767324537423,
          2.740767324537423,
          2.740767324537423,
          2.740767324537423,
          2.740767324537423,
          2.740767324537423,
          2.740767324537423,
          2.740767324537423,
          2.740767324537423,
          2.740767324537423,
          2.740767324537423,
          2.740767324537423,
          2.740767324537423
         ]
        }
       ],
       "layout": {
        "template": {
         "data": {
          "bar": [
           {
            "error_x": {
             "color": "#2a3f5f"
            },
            "error_y": {
             "color": "#2a3f5f"
            },
            "marker": {
             "line": {
              "color": "#E5ECF6",
              "width": 0.5
             },
             "pattern": {
              "fillmode": "overlay",
              "size": 10,
              "solidity": 0.2
             }
            },
            "type": "bar"
           }
          ],
          "barpolar": [
           {
            "marker": {
             "line": {
              "color": "#E5ECF6",
              "width": 0.5
             },
             "pattern": {
              "fillmode": "overlay",
              "size": 10,
              "solidity": 0.2
             }
            },
            "type": "barpolar"
           }
          ],
          "carpet": [
           {
            "aaxis": {
             "endlinecolor": "#2a3f5f",
             "gridcolor": "white",
             "linecolor": "white",
             "minorgridcolor": "white",
             "startlinecolor": "#2a3f5f"
            },
            "baxis": {
             "endlinecolor": "#2a3f5f",
             "gridcolor": "white",
             "linecolor": "white",
             "minorgridcolor": "white",
             "startlinecolor": "#2a3f5f"
            },
            "type": "carpet"
           }
          ],
          "choropleth": [
           {
            "colorbar": {
             "outlinewidth": 0,
             "ticks": ""
            },
            "type": "choropleth"
           }
          ],
          "contour": [
           {
            "colorbar": {
             "outlinewidth": 0,
             "ticks": ""
            },
            "colorscale": [
             [
              0,
              "#0d0887"
             ],
             [
              0.1111111111111111,
              "#46039f"
             ],
             [
              0.2222222222222222,
              "#7201a8"
             ],
             [
              0.3333333333333333,
              "#9c179e"
             ],
             [
              0.4444444444444444,
              "#bd3786"
             ],
             [
              0.5555555555555556,
              "#d8576b"
             ],
             [
              0.6666666666666666,
              "#ed7953"
             ],
             [
              0.7777777777777778,
              "#fb9f3a"
             ],
             [
              0.8888888888888888,
              "#fdca26"
             ],
             [
              1,
              "#f0f921"
             ]
            ],
            "type": "contour"
           }
          ],
          "contourcarpet": [
           {
            "colorbar": {
             "outlinewidth": 0,
             "ticks": ""
            },
            "type": "contourcarpet"
           }
          ],
          "heatmap": [
           {
            "colorbar": {
             "outlinewidth": 0,
             "ticks": ""
            },
            "colorscale": [
             [
              0,
              "#0d0887"
             ],
             [
              0.1111111111111111,
              "#46039f"
             ],
             [
              0.2222222222222222,
              "#7201a8"
             ],
             [
              0.3333333333333333,
              "#9c179e"
             ],
             [
              0.4444444444444444,
              "#bd3786"
             ],
             [
              0.5555555555555556,
              "#d8576b"
             ],
             [
              0.6666666666666666,
              "#ed7953"
             ],
             [
              0.7777777777777778,
              "#fb9f3a"
             ],
             [
              0.8888888888888888,
              "#fdca26"
             ],
             [
              1,
              "#f0f921"
             ]
            ],
            "type": "heatmap"
           }
          ],
          "heatmapgl": [
           {
            "colorbar": {
             "outlinewidth": 0,
             "ticks": ""
            },
            "colorscale": [
             [
              0,
              "#0d0887"
             ],
             [
              0.1111111111111111,
              "#46039f"
             ],
             [
              0.2222222222222222,
              "#7201a8"
             ],
             [
              0.3333333333333333,
              "#9c179e"
             ],
             [
              0.4444444444444444,
              "#bd3786"
             ],
             [
              0.5555555555555556,
              "#d8576b"
             ],
             [
              0.6666666666666666,
              "#ed7953"
             ],
             [
              0.7777777777777778,
              "#fb9f3a"
             ],
             [
              0.8888888888888888,
              "#fdca26"
             ],
             [
              1,
              "#f0f921"
             ]
            ],
            "type": "heatmapgl"
           }
          ],
          "histogram": [
           {
            "marker": {
             "pattern": {
              "fillmode": "overlay",
              "size": 10,
              "solidity": 0.2
             }
            },
            "type": "histogram"
           }
          ],
          "histogram2d": [
           {
            "colorbar": {
             "outlinewidth": 0,
             "ticks": ""
            },
            "colorscale": [
             [
              0,
              "#0d0887"
             ],
             [
              0.1111111111111111,
              "#46039f"
             ],
             [
              0.2222222222222222,
              "#7201a8"
             ],
             [
              0.3333333333333333,
              "#9c179e"
             ],
             [
              0.4444444444444444,
              "#bd3786"
             ],
             [
              0.5555555555555556,
              "#d8576b"
             ],
             [
              0.6666666666666666,
              "#ed7953"
             ],
             [
              0.7777777777777778,
              "#fb9f3a"
             ],
             [
              0.8888888888888888,
              "#fdca26"
             ],
             [
              1,
              "#f0f921"
             ]
            ],
            "type": "histogram2d"
           }
          ],
          "histogram2dcontour": [
           {
            "colorbar": {
             "outlinewidth": 0,
             "ticks": ""
            },
            "colorscale": [
             [
              0,
              "#0d0887"
             ],
             [
              0.1111111111111111,
              "#46039f"
             ],
             [
              0.2222222222222222,
              "#7201a8"
             ],
             [
              0.3333333333333333,
              "#9c179e"
             ],
             [
              0.4444444444444444,
              "#bd3786"
             ],
             [
              0.5555555555555556,
              "#d8576b"
             ],
             [
              0.6666666666666666,
              "#ed7953"
             ],
             [
              0.7777777777777778,
              "#fb9f3a"
             ],
             [
              0.8888888888888888,
              "#fdca26"
             ],
             [
              1,
              "#f0f921"
             ]
            ],
            "type": "histogram2dcontour"
           }
          ],
          "mesh3d": [
           {
            "colorbar": {
             "outlinewidth": 0,
             "ticks": ""
            },
            "type": "mesh3d"
           }
          ],
          "parcoords": [
           {
            "line": {
             "colorbar": {
              "outlinewidth": 0,
              "ticks": ""
             }
            },
            "type": "parcoords"
           }
          ],
          "pie": [
           {
            "automargin": true,
            "type": "pie"
           }
          ],
          "scatter": [
           {
            "fillpattern": {
             "fillmode": "overlay",
             "size": 10,
             "solidity": 0.2
            },
            "type": "scatter"
           }
          ],
          "scatter3d": [
           {
            "line": {
             "colorbar": {
              "outlinewidth": 0,
              "ticks": ""
             }
            },
            "marker": {
             "colorbar": {
              "outlinewidth": 0,
              "ticks": ""
             }
            },
            "type": "scatter3d"
           }
          ],
          "scattercarpet": [
           {
            "marker": {
             "colorbar": {
              "outlinewidth": 0,
              "ticks": ""
             }
            },
            "type": "scattercarpet"
           }
          ],
          "scattergeo": [
           {
            "marker": {
             "colorbar": {
              "outlinewidth": 0,
              "ticks": ""
             }
            },
            "type": "scattergeo"
           }
          ],
          "scattergl": [
           {
            "marker": {
             "colorbar": {
              "outlinewidth": 0,
              "ticks": ""
             }
            },
            "type": "scattergl"
           }
          ],
          "scattermapbox": [
           {
            "marker": {
             "colorbar": {
              "outlinewidth": 0,
              "ticks": ""
             }
            },
            "type": "scattermapbox"
           }
          ],
          "scatterpolar": [
           {
            "marker": {
             "colorbar": {
              "outlinewidth": 0,
              "ticks": ""
             }
            },
            "type": "scatterpolar"
           }
          ],
          "scatterpolargl": [
           {
            "marker": {
             "colorbar": {
              "outlinewidth": 0,
              "ticks": ""
             }
            },
            "type": "scatterpolargl"
           }
          ],
          "scatterternary": [
           {
            "marker": {
             "colorbar": {
              "outlinewidth": 0,
              "ticks": ""
             }
            },
            "type": "scatterternary"
           }
          ],
          "surface": [
           {
            "colorbar": {
             "outlinewidth": 0,
             "ticks": ""
            },
            "colorscale": [
             [
              0,
              "#0d0887"
             ],
             [
              0.1111111111111111,
              "#46039f"
             ],
             [
              0.2222222222222222,
              "#7201a8"
             ],
             [
              0.3333333333333333,
              "#9c179e"
             ],
             [
              0.4444444444444444,
              "#bd3786"
             ],
             [
              0.5555555555555556,
              "#d8576b"
             ],
             [
              0.6666666666666666,
              "#ed7953"
             ],
             [
              0.7777777777777778,
              "#fb9f3a"
             ],
             [
              0.8888888888888888,
              "#fdca26"
             ],
             [
              1,
              "#f0f921"
             ]
            ],
            "type": "surface"
           }
          ],
          "table": [
           {
            "cells": {
             "fill": {
              "color": "#EBF0F8"
             },
             "line": {
              "color": "white"
             }
            },
            "header": {
             "fill": {
              "color": "#C8D4E3"
             },
             "line": {
              "color": "white"
             }
            },
            "type": "table"
           }
          ]
         },
         "layout": {
          "annotationdefaults": {
           "arrowcolor": "#2a3f5f",
           "arrowhead": 0,
           "arrowwidth": 1
          },
          "autotypenumbers": "strict",
          "coloraxis": {
           "colorbar": {
            "outlinewidth": 0,
            "ticks": ""
           }
          },
          "colorscale": {
           "diverging": [
            [
             0,
             "#8e0152"
            ],
            [
             0.1,
             "#c51b7d"
            ],
            [
             0.2,
             "#de77ae"
            ],
            [
             0.3,
             "#f1b6da"
            ],
            [
             0.4,
             "#fde0ef"
            ],
            [
             0.5,
             "#f7f7f7"
            ],
            [
             0.6,
             "#e6f5d0"
            ],
            [
             0.7,
             "#b8e186"
            ],
            [
             0.8,
             "#7fbc41"
            ],
            [
             0.9,
             "#4d9221"
            ],
            [
             1,
             "#276419"
            ]
           ],
           "sequential": [
            [
             0,
             "#0d0887"
            ],
            [
             0.1111111111111111,
             "#46039f"
            ],
            [
             0.2222222222222222,
             "#7201a8"
            ],
            [
             0.3333333333333333,
             "#9c179e"
            ],
            [
             0.4444444444444444,
             "#bd3786"
            ],
            [
             0.5555555555555556,
             "#d8576b"
            ],
            [
             0.6666666666666666,
             "#ed7953"
            ],
            [
             0.7777777777777778,
             "#fb9f3a"
            ],
            [
             0.8888888888888888,
             "#fdca26"
            ],
            [
             1,
             "#f0f921"
            ]
           ],
           "sequentialminus": [
            [
             0,
             "#0d0887"
            ],
            [
             0.1111111111111111,
             "#46039f"
            ],
            [
             0.2222222222222222,
             "#7201a8"
            ],
            [
             0.3333333333333333,
             "#9c179e"
            ],
            [
             0.4444444444444444,
             "#bd3786"
            ],
            [
             0.5555555555555556,
             "#d8576b"
            ],
            [
             0.6666666666666666,
             "#ed7953"
            ],
            [
             0.7777777777777778,
             "#fb9f3a"
            ],
            [
             0.8888888888888888,
             "#fdca26"
            ],
            [
             1,
             "#f0f921"
            ]
           ]
          },
          "colorway": [
           "#636efa",
           "#EF553B",
           "#00cc96",
           "#ab63fa",
           "#FFA15A",
           "#19d3f3",
           "#FF6692",
           "#B6E880",
           "#FF97FF",
           "#FECB52"
          ],
          "font": {
           "color": "#2a3f5f"
          },
          "geo": {
           "bgcolor": "white",
           "lakecolor": "white",
           "landcolor": "#E5ECF6",
           "showlakes": true,
           "showland": true,
           "subunitcolor": "white"
          },
          "hoverlabel": {
           "align": "left"
          },
          "hovermode": "closest",
          "mapbox": {
           "style": "light"
          },
          "paper_bgcolor": "white",
          "plot_bgcolor": "#E5ECF6",
          "polar": {
           "angularaxis": {
            "gridcolor": "white",
            "linecolor": "white",
            "ticks": ""
           },
           "bgcolor": "#E5ECF6",
           "radialaxis": {
            "gridcolor": "white",
            "linecolor": "white",
            "ticks": ""
           }
          },
          "scene": {
           "xaxis": {
            "backgroundcolor": "#E5ECF6",
            "gridcolor": "white",
            "gridwidth": 2,
            "linecolor": "white",
            "showbackground": true,
            "ticks": "",
            "zerolinecolor": "white"
           },
           "yaxis": {
            "backgroundcolor": "#E5ECF6",
            "gridcolor": "white",
            "gridwidth": 2,
            "linecolor": "white",
            "showbackground": true,
            "ticks": "",
            "zerolinecolor": "white"
           },
           "zaxis": {
            "backgroundcolor": "#E5ECF6",
            "gridcolor": "white",
            "gridwidth": 2,
            "linecolor": "white",
            "showbackground": true,
            "ticks": "",
            "zerolinecolor": "white"
           }
          },
          "shapedefaults": {
           "line": {
            "color": "#2a3f5f"
           }
          },
          "ternary": {
           "aaxis": {
            "gridcolor": "white",
            "linecolor": "white",
            "ticks": ""
           },
           "baxis": {
            "gridcolor": "white",
            "linecolor": "white",
            "ticks": ""
           },
           "bgcolor": "#E5ECF6",
           "caxis": {
            "gridcolor": "white",
            "linecolor": "white",
            "ticks": ""
           }
          },
          "title": {
           "x": 0.05
          },
          "xaxis": {
           "automargin": true,
           "gridcolor": "white",
           "linecolor": "white",
           "ticks": "",
           "title": {
            "standoff": 15
           },
           "zerolinecolor": "white",
           "zerolinewidth": 2
          },
          "yaxis": {
           "automargin": true,
           "gridcolor": "white",
           "linecolor": "white",
           "ticks": "",
           "title": {
            "standoff": 15
           },
           "zerolinecolor": "white",
           "zerolinewidth": 2
          }
         }
        },
        "title": {
         "text": "Optimization History Plot"
        },
        "xaxis": {
         "title": {
          "text": "Trial"
         }
        },
        "yaxis": {
         "title": {
          "text": "Objective Value"
         }
        }
       }
      }
     },
     "metadata": {},
     "output_type": "display_data"
    }
   ],
   "source": [
    "from optuna.visualization import plot_optimization_history\n",
    "\n",
    "plotly_config = {\"staticPlot\": True}\n",
    "\n",
    "fig = plot_optimization_history(study)\n",
    "fig.show(config=plotly_config)"
   ]
  },
  {
   "cell_type": "markdown",
   "metadata": {},
   "source": [
    "This plot tells us that Optuna made the score converge to the minimum after only a few trials.\n",
    "\n",
    "Next, let's plot hyperparameter importances:"
   ]
  },
  {
   "cell_type": "code",
   "execution_count": 47,
   "metadata": {},
   "outputs": [
    {
     "data": {
      "application/vnd.plotly.v1+json": {
       "config": {
        "plotlyServerURL": "https://plot.ly",
        "staticPlot": true
       },
       "data": [
        {
         "cliponaxis": false,
         "hovertemplate": [
          "max_depth (IntDistribution): 0.23813053018508376<extra></extra>",
          "learning_rate (FloatDistribution): 0.7618694698149162<extra></extra>"
         ],
         "marker": {
          "color": "rgb(66,146,198)"
         },
         "orientation": "h",
         "text": [
          "0.24",
          "0.76"
         ],
         "textposition": "outside",
         "type": "bar",
         "x": [
          0.23813053018508376,
          0.7618694698149162
         ],
         "y": [
          "max_depth",
          "learning_rate"
         ]
        }
       ],
       "layout": {
        "showlegend": false,
        "template": {
         "data": {
          "bar": [
           {
            "error_x": {
             "color": "#2a3f5f"
            },
            "error_y": {
             "color": "#2a3f5f"
            },
            "marker": {
             "line": {
              "color": "#E5ECF6",
              "width": 0.5
             },
             "pattern": {
              "fillmode": "overlay",
              "size": 10,
              "solidity": 0.2
             }
            },
            "type": "bar"
           }
          ],
          "barpolar": [
           {
            "marker": {
             "line": {
              "color": "#E5ECF6",
              "width": 0.5
             },
             "pattern": {
              "fillmode": "overlay",
              "size": 10,
              "solidity": 0.2
             }
            },
            "type": "barpolar"
           }
          ],
          "carpet": [
           {
            "aaxis": {
             "endlinecolor": "#2a3f5f",
             "gridcolor": "white",
             "linecolor": "white",
             "minorgridcolor": "white",
             "startlinecolor": "#2a3f5f"
            },
            "baxis": {
             "endlinecolor": "#2a3f5f",
             "gridcolor": "white",
             "linecolor": "white",
             "minorgridcolor": "white",
             "startlinecolor": "#2a3f5f"
            },
            "type": "carpet"
           }
          ],
          "choropleth": [
           {
            "colorbar": {
             "outlinewidth": 0,
             "ticks": ""
            },
            "type": "choropleth"
           }
          ],
          "contour": [
           {
            "colorbar": {
             "outlinewidth": 0,
             "ticks": ""
            },
            "colorscale": [
             [
              0,
              "#0d0887"
             ],
             [
              0.1111111111111111,
              "#46039f"
             ],
             [
              0.2222222222222222,
              "#7201a8"
             ],
             [
              0.3333333333333333,
              "#9c179e"
             ],
             [
              0.4444444444444444,
              "#bd3786"
             ],
             [
              0.5555555555555556,
              "#d8576b"
             ],
             [
              0.6666666666666666,
              "#ed7953"
             ],
             [
              0.7777777777777778,
              "#fb9f3a"
             ],
             [
              0.8888888888888888,
              "#fdca26"
             ],
             [
              1,
              "#f0f921"
             ]
            ],
            "type": "contour"
           }
          ],
          "contourcarpet": [
           {
            "colorbar": {
             "outlinewidth": 0,
             "ticks": ""
            },
            "type": "contourcarpet"
           }
          ],
          "heatmap": [
           {
            "colorbar": {
             "outlinewidth": 0,
             "ticks": ""
            },
            "colorscale": [
             [
              0,
              "#0d0887"
             ],
             [
              0.1111111111111111,
              "#46039f"
             ],
             [
              0.2222222222222222,
              "#7201a8"
             ],
             [
              0.3333333333333333,
              "#9c179e"
             ],
             [
              0.4444444444444444,
              "#bd3786"
             ],
             [
              0.5555555555555556,
              "#d8576b"
             ],
             [
              0.6666666666666666,
              "#ed7953"
             ],
             [
              0.7777777777777778,
              "#fb9f3a"
             ],
             [
              0.8888888888888888,
              "#fdca26"
             ],
             [
              1,
              "#f0f921"
             ]
            ],
            "type": "heatmap"
           }
          ],
          "heatmapgl": [
           {
            "colorbar": {
             "outlinewidth": 0,
             "ticks": ""
            },
            "colorscale": [
             [
              0,
              "#0d0887"
             ],
             [
              0.1111111111111111,
              "#46039f"
             ],
             [
              0.2222222222222222,
              "#7201a8"
             ],
             [
              0.3333333333333333,
              "#9c179e"
             ],
             [
              0.4444444444444444,
              "#bd3786"
             ],
             [
              0.5555555555555556,
              "#d8576b"
             ],
             [
              0.6666666666666666,
              "#ed7953"
             ],
             [
              0.7777777777777778,
              "#fb9f3a"
             ],
             [
              0.8888888888888888,
              "#fdca26"
             ],
             [
              1,
              "#f0f921"
             ]
            ],
            "type": "heatmapgl"
           }
          ],
          "histogram": [
           {
            "marker": {
             "pattern": {
              "fillmode": "overlay",
              "size": 10,
              "solidity": 0.2
             }
            },
            "type": "histogram"
           }
          ],
          "histogram2d": [
           {
            "colorbar": {
             "outlinewidth": 0,
             "ticks": ""
            },
            "colorscale": [
             [
              0,
              "#0d0887"
             ],
             [
              0.1111111111111111,
              "#46039f"
             ],
             [
              0.2222222222222222,
              "#7201a8"
             ],
             [
              0.3333333333333333,
              "#9c179e"
             ],
             [
              0.4444444444444444,
              "#bd3786"
             ],
             [
              0.5555555555555556,
              "#d8576b"
             ],
             [
              0.6666666666666666,
              "#ed7953"
             ],
             [
              0.7777777777777778,
              "#fb9f3a"
             ],
             [
              0.8888888888888888,
              "#fdca26"
             ],
             [
              1,
              "#f0f921"
             ]
            ],
            "type": "histogram2d"
           }
          ],
          "histogram2dcontour": [
           {
            "colorbar": {
             "outlinewidth": 0,
             "ticks": ""
            },
            "colorscale": [
             [
              0,
              "#0d0887"
             ],
             [
              0.1111111111111111,
              "#46039f"
             ],
             [
              0.2222222222222222,
              "#7201a8"
             ],
             [
              0.3333333333333333,
              "#9c179e"
             ],
             [
              0.4444444444444444,
              "#bd3786"
             ],
             [
              0.5555555555555556,
              "#d8576b"
             ],
             [
              0.6666666666666666,
              "#ed7953"
             ],
             [
              0.7777777777777778,
              "#fb9f3a"
             ],
             [
              0.8888888888888888,
              "#fdca26"
             ],
             [
              1,
              "#f0f921"
             ]
            ],
            "type": "histogram2dcontour"
           }
          ],
          "mesh3d": [
           {
            "colorbar": {
             "outlinewidth": 0,
             "ticks": ""
            },
            "type": "mesh3d"
           }
          ],
          "parcoords": [
           {
            "line": {
             "colorbar": {
              "outlinewidth": 0,
              "ticks": ""
             }
            },
            "type": "parcoords"
           }
          ],
          "pie": [
           {
            "automargin": true,
            "type": "pie"
           }
          ],
          "scatter": [
           {
            "fillpattern": {
             "fillmode": "overlay",
             "size": 10,
             "solidity": 0.2
            },
            "type": "scatter"
           }
          ],
          "scatter3d": [
           {
            "line": {
             "colorbar": {
              "outlinewidth": 0,
              "ticks": ""
             }
            },
            "marker": {
             "colorbar": {
              "outlinewidth": 0,
              "ticks": ""
             }
            },
            "type": "scatter3d"
           }
          ],
          "scattercarpet": [
           {
            "marker": {
             "colorbar": {
              "outlinewidth": 0,
              "ticks": ""
             }
            },
            "type": "scattercarpet"
           }
          ],
          "scattergeo": [
           {
            "marker": {
             "colorbar": {
              "outlinewidth": 0,
              "ticks": ""
             }
            },
            "type": "scattergeo"
           }
          ],
          "scattergl": [
           {
            "marker": {
             "colorbar": {
              "outlinewidth": 0,
              "ticks": ""
             }
            },
            "type": "scattergl"
           }
          ],
          "scattermapbox": [
           {
            "marker": {
             "colorbar": {
              "outlinewidth": 0,
              "ticks": ""
             }
            },
            "type": "scattermapbox"
           }
          ],
          "scatterpolar": [
           {
            "marker": {
             "colorbar": {
              "outlinewidth": 0,
              "ticks": ""
             }
            },
            "type": "scatterpolar"
           }
          ],
          "scatterpolargl": [
           {
            "marker": {
             "colorbar": {
              "outlinewidth": 0,
              "ticks": ""
             }
            },
            "type": "scatterpolargl"
           }
          ],
          "scatterternary": [
           {
            "marker": {
             "colorbar": {
              "outlinewidth": 0,
              "ticks": ""
             }
            },
            "type": "scatterternary"
           }
          ],
          "surface": [
           {
            "colorbar": {
             "outlinewidth": 0,
             "ticks": ""
            },
            "colorscale": [
             [
              0,
              "#0d0887"
             ],
             [
              0.1111111111111111,
              "#46039f"
             ],
             [
              0.2222222222222222,
              "#7201a8"
             ],
             [
              0.3333333333333333,
              "#9c179e"
             ],
             [
              0.4444444444444444,
              "#bd3786"
             ],
             [
              0.5555555555555556,
              "#d8576b"
             ],
             [
              0.6666666666666666,
              "#ed7953"
             ],
             [
              0.7777777777777778,
              "#fb9f3a"
             ],
             [
              0.8888888888888888,
              "#fdca26"
             ],
             [
              1,
              "#f0f921"
             ]
            ],
            "type": "surface"
           }
          ],
          "table": [
           {
            "cells": {
             "fill": {
              "color": "#EBF0F8"
             },
             "line": {
              "color": "white"
             }
            },
            "header": {
             "fill": {
              "color": "#C8D4E3"
             },
             "line": {
              "color": "white"
             }
            },
            "type": "table"
           }
          ]
         },
         "layout": {
          "annotationdefaults": {
           "arrowcolor": "#2a3f5f",
           "arrowhead": 0,
           "arrowwidth": 1
          },
          "autotypenumbers": "strict",
          "coloraxis": {
           "colorbar": {
            "outlinewidth": 0,
            "ticks": ""
           }
          },
          "colorscale": {
           "diverging": [
            [
             0,
             "#8e0152"
            ],
            [
             0.1,
             "#c51b7d"
            ],
            [
             0.2,
             "#de77ae"
            ],
            [
             0.3,
             "#f1b6da"
            ],
            [
             0.4,
             "#fde0ef"
            ],
            [
             0.5,
             "#f7f7f7"
            ],
            [
             0.6,
             "#e6f5d0"
            ],
            [
             0.7,
             "#b8e186"
            ],
            [
             0.8,
             "#7fbc41"
            ],
            [
             0.9,
             "#4d9221"
            ],
            [
             1,
             "#276419"
            ]
           ],
           "sequential": [
            [
             0,
             "#0d0887"
            ],
            [
             0.1111111111111111,
             "#46039f"
            ],
            [
             0.2222222222222222,
             "#7201a8"
            ],
            [
             0.3333333333333333,
             "#9c179e"
            ],
            [
             0.4444444444444444,
             "#bd3786"
            ],
            [
             0.5555555555555556,
             "#d8576b"
            ],
            [
             0.6666666666666666,
             "#ed7953"
            ],
            [
             0.7777777777777778,
             "#fb9f3a"
            ],
            [
             0.8888888888888888,
             "#fdca26"
            ],
            [
             1,
             "#f0f921"
            ]
           ],
           "sequentialminus": [
            [
             0,
             "#0d0887"
            ],
            [
             0.1111111111111111,
             "#46039f"
            ],
            [
             0.2222222222222222,
             "#7201a8"
            ],
            [
             0.3333333333333333,
             "#9c179e"
            ],
            [
             0.4444444444444444,
             "#bd3786"
            ],
            [
             0.5555555555555556,
             "#d8576b"
            ],
            [
             0.6666666666666666,
             "#ed7953"
            ],
            [
             0.7777777777777778,
             "#fb9f3a"
            ],
            [
             0.8888888888888888,
             "#fdca26"
            ],
            [
             1,
             "#f0f921"
            ]
           ]
          },
          "colorway": [
           "#636efa",
           "#EF553B",
           "#00cc96",
           "#ab63fa",
           "#FFA15A",
           "#19d3f3",
           "#FF6692",
           "#B6E880",
           "#FF97FF",
           "#FECB52"
          ],
          "font": {
           "color": "#2a3f5f"
          },
          "geo": {
           "bgcolor": "white",
           "lakecolor": "white",
           "landcolor": "#E5ECF6",
           "showlakes": true,
           "showland": true,
           "subunitcolor": "white"
          },
          "hoverlabel": {
           "align": "left"
          },
          "hovermode": "closest",
          "mapbox": {
           "style": "light"
          },
          "paper_bgcolor": "white",
          "plot_bgcolor": "#E5ECF6",
          "polar": {
           "angularaxis": {
            "gridcolor": "white",
            "linecolor": "white",
            "ticks": ""
           },
           "bgcolor": "#E5ECF6",
           "radialaxis": {
            "gridcolor": "white",
            "linecolor": "white",
            "ticks": ""
           }
          },
          "scene": {
           "xaxis": {
            "backgroundcolor": "#E5ECF6",
            "gridcolor": "white",
            "gridwidth": 2,
            "linecolor": "white",
            "showbackground": true,
            "ticks": "",
            "zerolinecolor": "white"
           },
           "yaxis": {
            "backgroundcolor": "#E5ECF6",
            "gridcolor": "white",
            "gridwidth": 2,
            "linecolor": "white",
            "showbackground": true,
            "ticks": "",
            "zerolinecolor": "white"
           },
           "zaxis": {
            "backgroundcolor": "#E5ECF6",
            "gridcolor": "white",
            "gridwidth": 2,
            "linecolor": "white",
            "showbackground": true,
            "ticks": "",
            "zerolinecolor": "white"
           }
          },
          "shapedefaults": {
           "line": {
            "color": "#2a3f5f"
           }
          },
          "ternary": {
           "aaxis": {
            "gridcolor": "white",
            "linecolor": "white",
            "ticks": ""
           },
           "baxis": {
            "gridcolor": "white",
            "linecolor": "white",
            "ticks": ""
           },
           "bgcolor": "#E5ECF6",
           "caxis": {
            "gridcolor": "white",
            "linecolor": "white",
            "ticks": ""
           }
          },
          "title": {
           "x": 0.05
          },
          "xaxis": {
           "automargin": true,
           "gridcolor": "white",
           "linecolor": "white",
           "ticks": "",
           "title": {
            "standoff": 15
           },
           "zerolinecolor": "white",
           "zerolinewidth": 2
          },
          "yaxis": {
           "automargin": true,
           "gridcolor": "white",
           "linecolor": "white",
           "ticks": "",
           "title": {
            "standoff": 15
           },
           "zerolinecolor": "white",
           "zerolinewidth": 2
          }
         }
        },
        "title": {
         "text": "Hyperparameter Importances"
        },
        "xaxis": {
         "title": {
          "text": "Importance for Objective Value"
         }
        },
        "yaxis": {
         "title": {
          "text": "Hyperparameter"
         }
        }
       }
      }
     },
     "metadata": {},
     "output_type": "display_data"
    }
   ],
   "source": [
    "from optuna.visualization import plot_param_importances\n",
    "\n",
    "fig = plot_param_importances(study)\n",
    "fig.show(config=plotly_config)"
   ]
  },
  {
   "cell_type": "markdown",
   "metadata": {},
   "source": [
    "This plot is massively useful! It tells us several things, including:\n",
    "\n",
    "max_depth and learning_rate are the most important\n",
    "subsample and max_features are useless for minimizing the loss\n",
    "A plot like this comes in handy when tuning models with many hyperparameters. For example, you could take a test run of 40–50 trials and plot the parameter importances.\n",
    "\n",
    "Depending on the plot, you might decide to discard some less important parameters and give a larger search space for other ones, possibly reducing the search time and space."
   ]
  },
  {
   "cell_type": "code",
   "execution_count": 72,
   "metadata": {},
   "outputs": [
    {
     "data": {
      "text/html": [
       "<style>#sk-container-id-14 {color: black;background-color: white;}#sk-container-id-14 pre{padding: 0;}#sk-container-id-14 div.sk-toggleable {background-color: white;}#sk-container-id-14 label.sk-toggleable__label {cursor: pointer;display: block;width: 100%;margin-bottom: 0;padding: 0.3em;box-sizing: border-box;text-align: center;}#sk-container-id-14 label.sk-toggleable__label-arrow:before {content: \"▸\";float: left;margin-right: 0.25em;color: #696969;}#sk-container-id-14 label.sk-toggleable__label-arrow:hover:before {color: black;}#sk-container-id-14 div.sk-estimator:hover label.sk-toggleable__label-arrow:before {color: black;}#sk-container-id-14 div.sk-toggleable__content {max-height: 0;max-width: 0;overflow: hidden;text-align: left;background-color: #f0f8ff;}#sk-container-id-14 div.sk-toggleable__content pre {margin: 0.2em;color: black;border-radius: 0.25em;background-color: #f0f8ff;}#sk-container-id-14 input.sk-toggleable__control:checked~div.sk-toggleable__content {max-height: 200px;max-width: 100%;overflow: auto;}#sk-container-id-14 input.sk-toggleable__control:checked~label.sk-toggleable__label-arrow:before {content: \"▾\";}#sk-container-id-14 div.sk-estimator input.sk-toggleable__control:checked~label.sk-toggleable__label {background-color: #d4ebff;}#sk-container-id-14 div.sk-label input.sk-toggleable__control:checked~label.sk-toggleable__label {background-color: #d4ebff;}#sk-container-id-14 input.sk-hidden--visually {border: 0;clip: rect(1px 1px 1px 1px);clip: rect(1px, 1px, 1px, 1px);height: 1px;margin: -1px;overflow: hidden;padding: 0;position: absolute;width: 1px;}#sk-container-id-14 div.sk-estimator {font-family: monospace;background-color: #f0f8ff;border: 1px dotted black;border-radius: 0.25em;box-sizing: border-box;margin-bottom: 0.5em;}#sk-container-id-14 div.sk-estimator:hover {background-color: #d4ebff;}#sk-container-id-14 div.sk-parallel-item::after {content: \"\";width: 100%;border-bottom: 1px solid gray;flex-grow: 1;}#sk-container-id-14 div.sk-label:hover label.sk-toggleable__label {background-color: #d4ebff;}#sk-container-id-14 div.sk-serial::before {content: \"\";position: absolute;border-left: 1px solid gray;box-sizing: border-box;top: 0;bottom: 0;left: 50%;z-index: 0;}#sk-container-id-14 div.sk-serial {display: flex;flex-direction: column;align-items: center;background-color: white;padding-right: 0.2em;padding-left: 0.2em;position: relative;}#sk-container-id-14 div.sk-item {position: relative;z-index: 1;}#sk-container-id-14 div.sk-parallel {display: flex;align-items: stretch;justify-content: center;background-color: white;position: relative;}#sk-container-id-14 div.sk-item::before, #sk-container-id-14 div.sk-parallel-item::before {content: \"\";position: absolute;border-left: 1px solid gray;box-sizing: border-box;top: 0;bottom: 0;left: 50%;z-index: -1;}#sk-container-id-14 div.sk-parallel-item {display: flex;flex-direction: column;z-index: 1;position: relative;background-color: white;}#sk-container-id-14 div.sk-parallel-item:first-child::after {align-self: flex-end;width: 50%;}#sk-container-id-14 div.sk-parallel-item:last-child::after {align-self: flex-start;width: 50%;}#sk-container-id-14 div.sk-parallel-item:only-child::after {width: 0;}#sk-container-id-14 div.sk-dashed-wrapped {border: 1px dashed gray;margin: 0 0.4em 0.5em 0.4em;box-sizing: border-box;padding-bottom: 0.4em;background-color: white;}#sk-container-id-14 div.sk-label label {font-family: monospace;font-weight: bold;display: inline-block;line-height: 1.2em;}#sk-container-id-14 div.sk-label-container {text-align: center;}#sk-container-id-14 div.sk-container {/* jupyter's `normalize.less` sets `[hidden] { display: none; }` but bootstrap.min.css set `[hidden] { display: none !important; }` so we also need the `!important` here to be able to override the default hidden behavior on the sphinx rendered scikit-learn.org. See: https://github.com/scikit-learn/scikit-learn/issues/21755 */display: inline-block !important;position: relative;}#sk-container-id-14 div.sk-text-repr-fallback {display: none;}</style><div id=\"sk-container-id-14\" class=\"sk-top-container\"><div class=\"sk-text-repr-fallback\"><pre>GradientBoostingRegressor(learning_rate=0.18159316787415972, max_depth=2)</pre><b>In a Jupyter environment, please rerun this cell to show the HTML representation or trust the notebook. <br />On GitHub, the HTML representation is unable to render, please try loading this page with nbviewer.org.</b></div><div class=\"sk-container\" hidden><div class=\"sk-item\"><div class=\"sk-estimator sk-toggleable\"><input class=\"sk-toggleable__control sk-hidden--visually\" id=\"sk-estimator-id-69\" type=\"checkbox\" checked><label for=\"sk-estimator-id-69\" class=\"sk-toggleable__label sk-toggleable__label-arrow\">GradientBoostingRegressor</label><div class=\"sk-toggleable__content\"><pre>GradientBoostingRegressor(learning_rate=0.18159316787415972, max_depth=2)</pre></div></div></div></div></div>"
      ],
      "text/plain": [
       "GradientBoostingRegressor(learning_rate=0.18159316787415972, max_depth=2)"
      ]
     },
     "execution_count": 72,
     "metadata": {},
     "output_type": "execute_result"
    }
   ],
   "source": [
    "best_params=study.best_params\n",
    "model= GradientBoostingRegressor(**best_params)\n",
    "model.fit(X, y)"
   ]
  },
  {
   "cell_type": "code",
   "execution_count": 73,
   "metadata": {},
   "outputs": [
    {
     "data": {
      "text/plain": [
       "2.858551423909045"
      ]
     },
     "execution_count": 73,
     "metadata": {},
     "output_type": "execute_result"
    }
   ],
   "source": [
    "\n",
    "df = pd.read_csv(\"../data/test_set.csv\")\n",
    "\n",
    "# Separate features and target\n",
    "\n",
    "X_test, y_test, scaler = preprocessing.preprocess(df,scaler=scaler)\n",
    "\n",
    "final_predictions = model.predict(X_test)\n",
    "final_rmse = np.sqrt(mean_squared_error(y_test, final_predictions))\n",
    "final_rmse"
   ]
  },
  {
   "cell_type": "code",
   "execution_count": 75,
   "metadata": {},
   "outputs": [
    {
     "data": {
      "text/plain": [
       "<matplotlib.legend.Legend at 0x2503dd1b3d0>"
      ]
     },
     "execution_count": 75,
     "metadata": {},
     "output_type": "execute_result"
    },
    {
     "data": {
      "image/png": "[encoded data removed]",
      "text/plain": [
       "<Figure size 640x480 with 1 Axes>"
      ]
     },
     "metadata": {},
     "output_type": "display_data"
    }
   ],
   "source": [
    "import matplotlib.pyplot as plt\n",
    "plt.plot(final_predictions,label='predic')\n",
    "plt.plot(y_test,label='actual')\n",
    "plt.legend()"
   ]
  },
  {
   "cell_type": "code",
   "execution_count": null,
   "metadata": {},
   "outputs": [],
   "source": []
  },
  {
   "cell_type": "code",
   "execution_count": 77,
   "metadata": {},
   "outputs": [
    {
     "data": {
      "image/png": "[encoded data removed]",
      "text/plain": [
       "<Figure size 800x400 with 1 Axes>"
      ]
     },
     "metadata": {},
     "output_type": "display_data"
    }
   ],
   "source": [
    "feature_importance = model.feature_importances_\n",
    "# make importances relative to max importance\n",
    "feature_importance = 100.0 * (feature_importance / feature_importance.max())\n",
    "sorted_idx = np.argsort(feature_importance)\n",
    "pos = np.arange(sorted_idx.shape[0]) + .5\n",
    "# plt.subplot(1, 2, 2)\n",
    "plt.figure(figsize=(8, 4))\n",
    "plt.barh(pos, feature_importance[sorted_idx], align='center')\n",
    "plt.yticks(pos, X_train.keys()[sorted_idx])\n",
    "plt.xlabel('Relative Importance')\n",
    "plt.title('Variable Importance')\n",
    "plt.show()"
   ]
  },
  {
   "cell_type": "code",
   "execution_count": null,
   "metadata": {},
   "outputs": [],
   "source": []
  },
  {
   "cell_type": "code",
   "execution_count": null,
   "metadata": {},
   "outputs": [],
   "source": []
  }
 ],
 "metadata": {
  "kernelspec": {
   "display_name": "base",
   "language": "python",
   "name": "python3"
  },
  "language_info": {
   "codemirror_mode": {
    "name": "ipython",
    "version": 3
   },
   "file_extension": ".py",
   "mimetype": "text/x-python",
   "name": "python",
   "nbconvert_exporter": "python",
   "pygments_lexer": "ipython3",
   "version": "3.10.4"
  },
  "orig_nbformat": 4
 },
 "nbformat": 4,
 "nbformat_minor": 2
}
