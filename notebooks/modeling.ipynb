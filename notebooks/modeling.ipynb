{
 "cells": [
  {
   "attachments": {},
   "cell_type": "markdown",
   "metadata": {},
   "source": [
    "## Modeling\n",
    "\n",
    "we start by using a lazy regressor to have from the lazy predict library to have an idea of which model could be a good fit  "
   ]
  },
  {
   "cell_type": "code",
   "execution_count": 1,
   "metadata": {},
   "outputs": [
    {
     "name": "stderr",
     "output_type": "stream",
     "text": [
      "100%|██████████| 42/42 [00:06<00:00,  6.62it/s]\n"
     ]
    }
   ],
   "source": [
    "# Import necessary libraries\n",
    "import pandas as pd\n",
    "from lazypredict.Supervised import LazyRegressor\n",
    "from sklearn.model_selection import StratifiedShuffleSplit\n",
    "from Scripts import preprocessing\n",
    "\n",
    "from sklearn.ensemble import GradientBoostingRegressor\n",
    "from sklearn.metrics import mean_squared_error\n",
    "from sklearn.model_selection import KFold, cross_validate\n",
    "import optuna\n",
    "import numpy as np\n",
    "\n",
    "# Load data\n",
    "df = pd.read_csv(\"../data/train_set.csv\")\n",
    "\n",
    "# Split data into training and validation sets\n",
    "split = StratifiedShuffleSplit(n_splits=1, test_size=0.3, random_state=42)\n",
    "for train_index, valid_index in split.split(df, df[\"Cylinders\"]):\n",
    "    train_set = df.loc[train_index]\n",
    "    valid_set = df.loc[valid_index]\n",
    "\n",
    "# Separate features and target\n",
    "X_train = train_set.drop(\"MPG\", axis=1)\n",
    "y_train = train_set[\"MPG\"].copy()\n",
    "X_valid = valid_set.drop(\"MPG\", axis=1)\n",
    "y_valid = valid_set[\"MPG\"].copy()\n",
    "\n",
    "# Initialize LazyRegressor and fit the model\n",
    "reg = LazyRegressor(verbose=0, ignore_warnings=False, custom_metric=None)\n",
    "models, predictions = reg.fit(X_train, X_valid, y_train, y_valid)\n",
    "model_dictionary = reg.provide_models(X_train, X_valid, y_train, y_valid)"
   ]
  },
  {
   "cell_type": "code",
   "execution_count": 2,
   "metadata": {},
   "outputs": [
    {
     "data": {
      "text/html": [
       "<div>\n",
       "<style scoped>\n",
       "    .dataframe tbody tr th:only-of-type {\n",
       "        vertical-align: middle;\n",
       "    }\n",
       "\n",
       "    .dataframe tbody tr th {\n",
       "        vertical-align: top;\n",
       "    }\n",
       "\n",
       "    .dataframe thead th {\n",
       "        text-align: right;\n",
       "    }\n",
       "</style>\n",
       "<table border=\"1\" class=\"dataframe\">\n",
       "  <thead>\n",
       "    <tr style=\"text-align: right;\">\n",
       "      <th></th>\n",
       "      <th>Adjusted R-Squared</th>\n",
       "      <th>R-Squared</th>\n",
       "      <th>RMSE</th>\n",
       "      <th>Time Taken</th>\n",
       "    </tr>\n",
       "    <tr>\n",
       "      <th>Model</th>\n",
       "      <th></th>\n",
       "      <th></th>\n",
       "      <th></th>\n",
       "      <th></th>\n",
       "    </tr>\n",
       "  </thead>\n",
       "  <tbody>\n",
       "    <tr>\n",
       "      <th>ExtraTreesRegressor</th>\n",
       "      <td>0.89</td>\n",
       "      <td>0.90</td>\n",
       "      <td>2.13</td>\n",
       "      <td>0.25</td>\n",
       "    </tr>\n",
       "    <tr>\n",
       "      <th>GradientBoostingRegressor</th>\n",
       "      <td>0.87</td>\n",
       "      <td>0.88</td>\n",
       "      <td>2.35</td>\n",
       "      <td>0.13</td>\n",
       "    </tr>\n",
       "    <tr>\n",
       "      <th>HistGradientBoostingRegressor</th>\n",
       "      <td>0.86</td>\n",
       "      <td>0.87</td>\n",
       "      <td>2.47</td>\n",
       "      <td>0.32</td>\n",
       "    </tr>\n",
       "    <tr>\n",
       "      <th>LGBMRegressor</th>\n",
       "      <td>0.85</td>\n",
       "      <td>0.86</td>\n",
       "      <td>2.51</td>\n",
       "      <td>0.35</td>\n",
       "    </tr>\n",
       "    <tr>\n",
       "      <th>RandomForestRegressor</th>\n",
       "      <td>0.85</td>\n",
       "      <td>0.86</td>\n",
       "      <td>2.54</td>\n",
       "      <td>0.35</td>\n",
       "    </tr>\n",
       "    <tr>\n",
       "      <th>KNeighborsRegressor</th>\n",
       "      <td>0.84</td>\n",
       "      <td>0.85</td>\n",
       "      <td>2.61</td>\n",
       "      <td>0.05</td>\n",
       "    </tr>\n",
       "    <tr>\n",
       "      <th>BaggingRegressor</th>\n",
       "      <td>0.83</td>\n",
       "      <td>0.85</td>\n",
       "      <td>2.66</td>\n",
       "      <td>0.05</td>\n",
       "    </tr>\n",
       "    <tr>\n",
       "      <th>SVR</th>\n",
       "      <td>0.83</td>\n",
       "      <td>0.84</td>\n",
       "      <td>2.71</td>\n",
       "      <td>0.02</td>\n",
       "    </tr>\n",
       "    <tr>\n",
       "      <th>XGBRegressor</th>\n",
       "      <td>0.83</td>\n",
       "      <td>0.84</td>\n",
       "      <td>2.71</td>\n",
       "      <td>0.23</td>\n",
       "    </tr>\n",
       "    <tr>\n",
       "      <th>AdaBoostRegressor</th>\n",
       "      <td>0.83</td>\n",
       "      <td>0.84</td>\n",
       "      <td>2.72</td>\n",
       "      <td>0.29</td>\n",
       "    </tr>\n",
       "    <tr>\n",
       "      <th>NuSVR</th>\n",
       "      <td>0.82</td>\n",
       "      <td>0.83</td>\n",
       "      <td>2.77</td>\n",
       "      <td>0.05</td>\n",
       "    </tr>\n",
       "    <tr>\n",
       "      <th>PoissonRegressor</th>\n",
       "      <td>0.82</td>\n",
       "      <td>0.83</td>\n",
       "      <td>2.78</td>\n",
       "      <td>0.05</td>\n",
       "    </tr>\n",
       "    <tr>\n",
       "      <th>HuberRegressor</th>\n",
       "      <td>0.77</td>\n",
       "      <td>0.79</td>\n",
       "      <td>3.10</td>\n",
       "      <td>0.04</td>\n",
       "    </tr>\n",
       "    <tr>\n",
       "      <th>SGDRegressor</th>\n",
       "      <td>0.77</td>\n",
       "      <td>0.79</td>\n",
       "      <td>3.11</td>\n",
       "      <td>0.02</td>\n",
       "    </tr>\n",
       "    <tr>\n",
       "      <th>ElasticNetCV</th>\n",
       "      <td>0.77</td>\n",
       "      <td>0.79</td>\n",
       "      <td>3.12</td>\n",
       "      <td>0.10</td>\n",
       "    </tr>\n",
       "    <tr>\n",
       "      <th>GammaRegressor</th>\n",
       "      <td>0.77</td>\n",
       "      <td>0.79</td>\n",
       "      <td>3.12</td>\n",
       "      <td>0.08</td>\n",
       "    </tr>\n",
       "    <tr>\n",
       "      <th>BayesianRidge</th>\n",
       "      <td>0.77</td>\n",
       "      <td>0.79</td>\n",
       "      <td>3.12</td>\n",
       "      <td>0.25</td>\n",
       "    </tr>\n",
       "    <tr>\n",
       "      <th>RidgeCV</th>\n",
       "      <td>0.77</td>\n",
       "      <td>0.79</td>\n",
       "      <td>3.13</td>\n",
       "      <td>0.02</td>\n",
       "    </tr>\n",
       "    <tr>\n",
       "      <th>Ridge</th>\n",
       "      <td>0.77</td>\n",
       "      <td>0.79</td>\n",
       "      <td>3.13</td>\n",
       "      <td>0.02</td>\n",
       "    </tr>\n",
       "    <tr>\n",
       "      <th>Lasso</th>\n",
       "      <td>0.77</td>\n",
       "      <td>0.79</td>\n",
       "      <td>3.13</td>\n",
       "      <td>0.02</td>\n",
       "    </tr>\n",
       "    <tr>\n",
       "      <th>LassoLars</th>\n",
       "      <td>0.77</td>\n",
       "      <td>0.79</td>\n",
       "      <td>3.13</td>\n",
       "      <td>0.02</td>\n",
       "    </tr>\n",
       "    <tr>\n",
       "      <th>LassoCV</th>\n",
       "      <td>0.77</td>\n",
       "      <td>0.79</td>\n",
       "      <td>3.13</td>\n",
       "      <td>0.09</td>\n",
       "    </tr>\n",
       "    <tr>\n",
       "      <th>LassoLarsCV</th>\n",
       "      <td>0.77</td>\n",
       "      <td>0.79</td>\n",
       "      <td>3.14</td>\n",
       "      <td>0.06</td>\n",
       "    </tr>\n",
       "    <tr>\n",
       "      <th>LassoLarsIC</th>\n",
       "      <td>0.77</td>\n",
       "      <td>0.79</td>\n",
       "      <td>3.14</td>\n",
       "      <td>0.13</td>\n",
       "    </tr>\n",
       "    <tr>\n",
       "      <th>Lars</th>\n",
       "      <td>0.77</td>\n",
       "      <td>0.79</td>\n",
       "      <td>3.14</td>\n",
       "      <td>0.12</td>\n",
       "    </tr>\n",
       "    <tr>\n",
       "      <th>LinearRegression</th>\n",
       "      <td>0.77</td>\n",
       "      <td>0.79</td>\n",
       "      <td>3.14</td>\n",
       "      <td>0.03</td>\n",
       "    </tr>\n",
       "    <tr>\n",
       "      <th>TransformedTargetRegressor</th>\n",
       "      <td>0.77</td>\n",
       "      <td>0.79</td>\n",
       "      <td>3.14</td>\n",
       "      <td>0.01</td>\n",
       "    </tr>\n",
       "    <tr>\n",
       "      <th>OrthogonalMatchingPursuitCV</th>\n",
       "      <td>0.77</td>\n",
       "      <td>0.78</td>\n",
       "      <td>3.15</td>\n",
       "      <td>0.05</td>\n",
       "    </tr>\n",
       "    <tr>\n",
       "      <th>LarsCV</th>\n",
       "      <td>0.76</td>\n",
       "      <td>0.78</td>\n",
       "      <td>3.17</td>\n",
       "      <td>0.05</td>\n",
       "    </tr>\n",
       "    <tr>\n",
       "      <th>LinearSVR</th>\n",
       "      <td>0.76</td>\n",
       "      <td>0.78</td>\n",
       "      <td>3.19</td>\n",
       "      <td>0.01</td>\n",
       "    </tr>\n",
       "    <tr>\n",
       "      <th>ElasticNet</th>\n",
       "      <td>0.75</td>\n",
       "      <td>0.77</td>\n",
       "      <td>3.24</td>\n",
       "      <td>0.06</td>\n",
       "    </tr>\n",
       "    <tr>\n",
       "      <th>TweedieRegressor</th>\n",
       "      <td>0.74</td>\n",
       "      <td>0.76</td>\n",
       "      <td>3.30</td>\n",
       "      <td>0.04</td>\n",
       "    </tr>\n",
       "    <tr>\n",
       "      <th>RANSACRegressor</th>\n",
       "      <td>0.74</td>\n",
       "      <td>0.76</td>\n",
       "      <td>3.34</td>\n",
       "      <td>0.16</td>\n",
       "    </tr>\n",
       "    <tr>\n",
       "      <th>DecisionTreeRegressor</th>\n",
       "      <td>0.74</td>\n",
       "      <td>0.76</td>\n",
       "      <td>3.35</td>\n",
       "      <td>0.02</td>\n",
       "    </tr>\n",
       "    <tr>\n",
       "      <th>ExtraTreeRegressor</th>\n",
       "      <td>0.67</td>\n",
       "      <td>0.69</td>\n",
       "      <td>3.78</td>\n",
       "      <td>0.02</td>\n",
       "    </tr>\n",
       "    <tr>\n",
       "      <th>OrthogonalMatchingPursuit</th>\n",
       "      <td>0.63</td>\n",
       "      <td>0.65</td>\n",
       "      <td>4.00</td>\n",
       "      <td>0.02</td>\n",
       "    </tr>\n",
       "    <tr>\n",
       "      <th>PassiveAggressiveRegressor</th>\n",
       "      <td>0.59</td>\n",
       "      <td>0.62</td>\n",
       "      <td>4.20</td>\n",
       "      <td>0.02</td>\n",
       "    </tr>\n",
       "    <tr>\n",
       "      <th>MLPRegressor</th>\n",
       "      <td>0.07</td>\n",
       "      <td>0.14</td>\n",
       "      <td>6.29</td>\n",
       "      <td>0.44</td>\n",
       "    </tr>\n",
       "    <tr>\n",
       "      <th>DummyRegressor</th>\n",
       "      <td>-0.08</td>\n",
       "      <td>-0.00</td>\n",
       "      <td>6.79</td>\n",
       "      <td>0.01</td>\n",
       "    </tr>\n",
       "    <tr>\n",
       "      <th>QuantileRegressor</th>\n",
       "      <td>-0.11</td>\n",
       "      <td>-0.03</td>\n",
       "      <td>6.87</td>\n",
       "      <td>1.94</td>\n",
       "    </tr>\n",
       "    <tr>\n",
       "      <th>GaussianProcessRegressor</th>\n",
       "      <td>-0.72</td>\n",
       "      <td>-0.59</td>\n",
       "      <td>8.56</td>\n",
       "      <td>0.21</td>\n",
       "    </tr>\n",
       "    <tr>\n",
       "      <th>KernelRidge</th>\n",
       "      <td>-11.60</td>\n",
       "      <td>-10.67</td>\n",
       "      <td>23.18</td>\n",
       "      <td>0.10</td>\n",
       "    </tr>\n",
       "  </tbody>\n",
       "</table>\n",
       "</div>"
      ],
      "text/plain": [
       "                               Adjusted R-Squared  R-Squared  RMSE  Time Taken\n",
       "Model                                                                         \n",
       "ExtraTreesRegressor                          0.89       0.90  2.13        0.25\n",
       "GradientBoostingRegressor                    0.87       0.88  2.35        0.13\n",
       "HistGradientBoostingRegressor                0.86       0.87  2.47        0.32\n",
       "LGBMRegressor                                0.85       0.86  2.51        0.35\n",
       "RandomForestRegressor                        0.85       0.86  2.54        0.35\n",
       "KNeighborsRegressor                          0.84       0.85  2.61        0.05\n",
       "BaggingRegressor                             0.83       0.85  2.66        0.05\n",
       "SVR                                          0.83       0.84  2.71        0.02\n",
       "XGBRegressor                                 0.83       0.84  2.71        0.23\n",
       "AdaBoostRegressor                            0.83       0.84  2.72        0.29\n",
       "NuSVR                                        0.82       0.83  2.77        0.05\n",
       "PoissonRegressor                             0.82       0.83  2.78        0.05\n",
       "HuberRegressor                               0.77       0.79  3.10        0.04\n",
       "SGDRegressor                                 0.77       0.79  3.11        0.02\n",
       "ElasticNetCV                                 0.77       0.79  3.12        0.10\n",
       "GammaRegressor                               0.77       0.79  3.12        0.08\n",
       "BayesianRidge                                0.77       0.79  3.12        0.25\n",
       "RidgeCV                                      0.77       0.79  3.13        0.02\n",
       "Ridge                                        0.77       0.79  3.13        0.02\n",
       "Lasso                                        0.77       0.79  3.13        0.02\n",
       "LassoLars                                    0.77       0.79  3.13        0.02\n",
       "LassoCV                                      0.77       0.79  3.13        0.09\n",
       "LassoLarsCV                                  0.77       0.79  3.14        0.06\n",
       "LassoLarsIC                                  0.77       0.79  3.14        0.13\n",
       "Lars                                         0.77       0.79  3.14        0.12\n",
       "LinearRegression                             0.77       0.79  3.14        0.03\n",
       "TransformedTargetRegressor                   0.77       0.79  3.14        0.01\n",
       "OrthogonalMatchingPursuitCV                  0.77       0.78  3.15        0.05\n",
       "LarsCV                                       0.76       0.78  3.17        0.05\n",
       "LinearSVR                                    0.76       0.78  3.19        0.01\n",
       "ElasticNet                                   0.75       0.77  3.24        0.06\n",
       "TweedieRegressor                             0.74       0.76  3.30        0.04\n",
       "RANSACRegressor                              0.74       0.76  3.34        0.16\n",
       "DecisionTreeRegressor                        0.74       0.76  3.35        0.02\n",
       "ExtraTreeRegressor                           0.67       0.69  3.78        0.02\n",
       "OrthogonalMatchingPursuit                    0.63       0.65  4.00        0.02\n",
       "PassiveAggressiveRegressor                   0.59       0.62  4.20        0.02\n",
       "MLPRegressor                                 0.07       0.14  6.29        0.44\n",
       "DummyRegressor                              -0.08      -0.00  6.79        0.01\n",
       "QuantileRegressor                           -0.11      -0.03  6.87        1.94\n",
       "GaussianProcessRegressor                    -0.72      -0.59  8.56        0.21\n",
       "KernelRidge                                -11.60     -10.67 23.18        0.10"
      ]
     },
     "execution_count": 2,
     "metadata": {},
     "output_type": "execute_result"
    }
   ],
   "source": [
    "models"
   ]
  },
  {
   "attachments": {},
   "cell_type": "markdown",
   "metadata": {},
   "source": [
    "based on these results we decided to go with  GradientBoostingRegressor ( good rmse and low execution time)\n",
    "then we can look at the pipeline to have an idea of the preprocing steps used. if we are happy with that we can use the same preprocessing steps otherwise we can adjust"
   ]
  },
  {
   "cell_type": "code",
   "execution_count": 40,
   "metadata": {},
   "outputs": [
    {
     "data": {
      "text/html": [
       "<style>#sk-container-id-7 {color: black;background-color: white;}#sk-container-id-7 pre{padding: 0;}#sk-container-id-7 div.sk-toggleable {background-color: white;}#sk-container-id-7 label.sk-toggleable__label {cursor: pointer;display: block;width: 100%;margin-bottom: 0;padding: 0.3em;box-sizing: border-box;text-align: center;}#sk-container-id-7 label.sk-toggleable__label-arrow:before {content: \"▸\";float: left;margin-right: 0.25em;color: #696969;}#sk-container-id-7 label.sk-toggleable__label-arrow:hover:before {color: black;}#sk-container-id-7 div.sk-estimator:hover label.sk-toggleable__label-arrow:before {color: black;}#sk-container-id-7 div.sk-toggleable__content {max-height: 0;max-width: 0;overflow: hidden;text-align: left;background-color: #f0f8ff;}#sk-container-id-7 div.sk-toggleable__content pre {margin: 0.2em;color: black;border-radius: 0.25em;background-color: #f0f8ff;}#sk-container-id-7 input.sk-toggleable__control:checked~div.sk-toggleable__content {max-height: 200px;max-width: 100%;overflow: auto;}#sk-container-id-7 input.sk-toggleable__control:checked~label.sk-toggleable__label-arrow:before {content: \"▾\";}#sk-container-id-7 div.sk-estimator input.sk-toggleable__control:checked~label.sk-toggleable__label {background-color: #d4ebff;}#sk-container-id-7 div.sk-label input.sk-toggleable__control:checked~label.sk-toggleable__label {background-color: #d4ebff;}#sk-container-id-7 input.sk-hidden--visually {border: 0;clip: rect(1px 1px 1px 1px);clip: rect(1px, 1px, 1px, 1px);height: 1px;margin: -1px;overflow: hidden;padding: 0;position: absolute;width: 1px;}#sk-container-id-7 div.sk-estimator {font-family: monospace;background-color: #f0f8ff;border: 1px dotted black;border-radius: 0.25em;box-sizing: border-box;margin-bottom: 0.5em;}#sk-container-id-7 div.sk-estimator:hover {background-color: #d4ebff;}#sk-container-id-7 div.sk-parallel-item::after {content: \"\";width: 100%;border-bottom: 1px solid gray;flex-grow: 1;}#sk-container-id-7 div.sk-label:hover label.sk-toggleable__label {background-color: #d4ebff;}#sk-container-id-7 div.sk-serial::before {content: \"\";position: absolute;border-left: 1px solid gray;box-sizing: border-box;top: 0;bottom: 0;left: 50%;z-index: 0;}#sk-container-id-7 div.sk-serial {display: flex;flex-direction: column;align-items: center;background-color: white;padding-right: 0.2em;padding-left: 0.2em;position: relative;}#sk-container-id-7 div.sk-item {position: relative;z-index: 1;}#sk-container-id-7 div.sk-parallel {display: flex;align-items: stretch;justify-content: center;background-color: white;position: relative;}#sk-container-id-7 div.sk-item::before, #sk-container-id-7 div.sk-parallel-item::before {content: \"\";position: absolute;border-left: 1px solid gray;box-sizing: border-box;top: 0;bottom: 0;left: 50%;z-index: -1;}#sk-container-id-7 div.sk-parallel-item {display: flex;flex-direction: column;z-index: 1;position: relative;background-color: white;}#sk-container-id-7 div.sk-parallel-item:first-child::after {align-self: flex-end;width: 50%;}#sk-container-id-7 div.sk-parallel-item:last-child::after {align-self: flex-start;width: 50%;}#sk-container-id-7 div.sk-parallel-item:only-child::after {width: 0;}#sk-container-id-7 div.sk-dashed-wrapped {border: 1px dashed gray;margin: 0 0.4em 0.5em 0.4em;box-sizing: border-box;padding-bottom: 0.4em;background-color: white;}#sk-container-id-7 div.sk-label label {font-family: monospace;font-weight: bold;display: inline-block;line-height: 1.2em;}#sk-container-id-7 div.sk-label-container {text-align: center;}#sk-container-id-7 div.sk-container {/* jupyter's `normalize.less` sets `[hidden] { display: none; }` but bootstrap.min.css set `[hidden] { display: none !important; }` so we also need the `!important` here to be able to override the default hidden behavior on the sphinx rendered scikit-learn.org. See: https://github.com/scikit-learn/scikit-learn/issues/21755 */display: inline-block !important;position: relative;}#sk-container-id-7 div.sk-text-repr-fallback {display: none;}</style><div id=\"sk-container-id-7\" class=\"sk-top-container\"><div class=\"sk-text-repr-fallback\"><pre>Pipeline(steps=[(&#x27;preprocessor&#x27;,\n",
       "                 ColumnTransformer(transformers=[(&#x27;numeric&#x27;,\n",
       "                                                  Pipeline(steps=[(&#x27;imputer&#x27;,\n",
       "                                                                   SimpleImputer()),\n",
       "                                                                  (&#x27;scaler&#x27;,\n",
       "                                                                   StandardScaler())]),\n",
       "                                                  Index([&#x27;Cylinders&#x27;, &#x27;Displacement&#x27;, &#x27;Horsepower&#x27;, &#x27;Weight&#x27;, &#x27;Acceleration&#x27;,\n",
       "       &#x27;Model Year&#x27;, &#x27;Origin&#x27;],\n",
       "      dtype=&#x27;object&#x27;)),\n",
       "                                                 (&#x27;categorical_low&#x27;,\n",
       "                                                  Pipeline(steps=[(&#x27;imputer&#x27;,\n",
       "                                                                   SimpleImputer(fill_value=&#x27;missing&#x27;,\n",
       "                                                                                 strategy=&#x27;constant&#x27;)),\n",
       "                                                                  (&#x27;encoding&#x27;,\n",
       "                                                                   OneHotEncoder(handle_unknown=&#x27;ignore&#x27;,\n",
       "                                                                                 sparse=False))]),\n",
       "                                                  Index([], dtype=&#x27;object&#x27;)),\n",
       "                                                 (&#x27;categorical_high&#x27;,\n",
       "                                                  Pipeline(steps=[(&#x27;imputer&#x27;,\n",
       "                                                                   SimpleImputer(fill_value=&#x27;missing&#x27;,\n",
       "                                                                                 strategy=&#x27;constant&#x27;)),\n",
       "                                                                  (&#x27;encoding&#x27;,\n",
       "                                                                   OrdinalEncoder())]),\n",
       "                                                  Index([], dtype=&#x27;object&#x27;))])),\n",
       "                (&#x27;regressor&#x27;, GradientBoostingRegressor(random_state=42))])</pre><b>In a Jupyter environment, please rerun this cell to show the HTML representation or trust the notebook. <br />On GitHub, the HTML representation is unable to render, please try loading this page with nbviewer.org.</b></div><div class=\"sk-container\" hidden><div class=\"sk-item sk-dashed-wrapped\"><div class=\"sk-label-container\"><div class=\"sk-label sk-toggleable\"><input class=\"sk-toggleable__control sk-hidden--visually\" id=\"sk-estimator-id-51\" type=\"checkbox\" ><label for=\"sk-estimator-id-51\" class=\"sk-toggleable__label sk-toggleable__label-arrow\">Pipeline</label><div class=\"sk-toggleable__content\"><pre>Pipeline(steps=[(&#x27;preprocessor&#x27;,\n",
       "                 ColumnTransformer(transformers=[(&#x27;numeric&#x27;,\n",
       "                                                  Pipeline(steps=[(&#x27;imputer&#x27;,\n",
       "                                                                   SimpleImputer()),\n",
       "                                                                  (&#x27;scaler&#x27;,\n",
       "                                                                   StandardScaler())]),\n",
       "                                                  Index([&#x27;Cylinders&#x27;, &#x27;Displacement&#x27;, &#x27;Horsepower&#x27;, &#x27;Weight&#x27;, &#x27;Acceleration&#x27;,\n",
       "       &#x27;Model Year&#x27;, &#x27;Origin&#x27;],\n",
       "      dtype=&#x27;object&#x27;)),\n",
       "                                                 (&#x27;categorical_low&#x27;,\n",
       "                                                  Pipeline(steps=[(&#x27;imputer&#x27;,\n",
       "                                                                   SimpleImputer(fill_value=&#x27;missing&#x27;,\n",
       "                                                                                 strategy=&#x27;constant&#x27;)),\n",
       "                                                                  (&#x27;encoding&#x27;,\n",
       "                                                                   OneHotEncoder(handle_unknown=&#x27;ignore&#x27;,\n",
       "                                                                                 sparse=False))]),\n",
       "                                                  Index([], dtype=&#x27;object&#x27;)),\n",
       "                                                 (&#x27;categorical_high&#x27;,\n",
       "                                                  Pipeline(steps=[(&#x27;imputer&#x27;,\n",
       "                                                                   SimpleImputer(fill_value=&#x27;missing&#x27;,\n",
       "                                                                                 strategy=&#x27;constant&#x27;)),\n",
       "                                                                  (&#x27;encoding&#x27;,\n",
       "                                                                   OrdinalEncoder())]),\n",
       "                                                  Index([], dtype=&#x27;object&#x27;))])),\n",
       "                (&#x27;regressor&#x27;, GradientBoostingRegressor(random_state=42))])</pre></div></div></div><div class=\"sk-serial\"><div class=\"sk-item sk-dashed-wrapped\"><div class=\"sk-label-container\"><div class=\"sk-label sk-toggleable\"><input class=\"sk-toggleable__control sk-hidden--visually\" id=\"sk-estimator-id-52\" type=\"checkbox\" ><label for=\"sk-estimator-id-52\" class=\"sk-toggleable__label sk-toggleable__label-arrow\">preprocessor: ColumnTransformer</label><div class=\"sk-toggleable__content\"><pre>ColumnTransformer(transformers=[(&#x27;numeric&#x27;,\n",
       "                                 Pipeline(steps=[(&#x27;imputer&#x27;, SimpleImputer()),\n",
       "                                                 (&#x27;scaler&#x27;, StandardScaler())]),\n",
       "                                 Index([&#x27;Cylinders&#x27;, &#x27;Displacement&#x27;, &#x27;Horsepower&#x27;, &#x27;Weight&#x27;, &#x27;Acceleration&#x27;,\n",
       "       &#x27;Model Year&#x27;, &#x27;Origin&#x27;],\n",
       "      dtype=&#x27;object&#x27;)),\n",
       "                                (&#x27;categorical_low&#x27;,\n",
       "                                 Pipeline(steps=[(&#x27;imputer&#x27;,\n",
       "                                                  SimpleImputer(fill_value=&#x27;missing&#x27;,\n",
       "                                                                strategy=&#x27;constant&#x27;)),\n",
       "                                                 (&#x27;encoding&#x27;,\n",
       "                                                  OneHotEncoder(handle_unknown=&#x27;ignore&#x27;,\n",
       "                                                                sparse=False))]),\n",
       "                                 Index([], dtype=&#x27;object&#x27;)),\n",
       "                                (&#x27;categorical_high&#x27;,\n",
       "                                 Pipeline(steps=[(&#x27;imputer&#x27;,\n",
       "                                                  SimpleImputer(fill_value=&#x27;missing&#x27;,\n",
       "                                                                strategy=&#x27;constant&#x27;)),\n",
       "                                                 (&#x27;encoding&#x27;,\n",
       "                                                  OrdinalEncoder())]),\n",
       "                                 Index([], dtype=&#x27;object&#x27;))])</pre></div></div></div><div class=\"sk-parallel\"><div class=\"sk-parallel-item\"><div class=\"sk-item\"><div class=\"sk-label-container\"><div class=\"sk-label sk-toggleable\"><input class=\"sk-toggleable__control sk-hidden--visually\" id=\"sk-estimator-id-53\" type=\"checkbox\" ><label for=\"sk-estimator-id-53\" class=\"sk-toggleable__label sk-toggleable__label-arrow\">numeric</label><div class=\"sk-toggleable__content\"><pre>Index([&#x27;Cylinders&#x27;, &#x27;Displacement&#x27;, &#x27;Horsepower&#x27;, &#x27;Weight&#x27;, &#x27;Acceleration&#x27;,\n",
       "       &#x27;Model Year&#x27;, &#x27;Origin&#x27;],\n",
       "      dtype=&#x27;object&#x27;)</pre></div></div></div><div class=\"sk-serial\"><div class=\"sk-item\"><div class=\"sk-serial\"><div class=\"sk-item\"><div class=\"sk-estimator sk-toggleable\"><input class=\"sk-toggleable__control sk-hidden--visually\" id=\"sk-estimator-id-54\" type=\"checkbox\" ><label for=\"sk-estimator-id-54\" class=\"sk-toggleable__label sk-toggleable__label-arrow\">SimpleImputer</label><div class=\"sk-toggleable__content\"><pre>SimpleImputer()</pre></div></div></div><div class=\"sk-item\"><div class=\"sk-estimator sk-toggleable\"><input class=\"sk-toggleable__control sk-hidden--visually\" id=\"sk-estimator-id-55\" type=\"checkbox\" ><label for=\"sk-estimator-id-55\" class=\"sk-toggleable__label sk-toggleable__label-arrow\">StandardScaler</label><div class=\"sk-toggleable__content\"><pre>StandardScaler()</pre></div></div></div></div></div></div></div></div><div class=\"sk-parallel-item\"><div class=\"sk-item\"><div class=\"sk-label-container\"><div class=\"sk-label sk-toggleable\"><input class=\"sk-toggleable__control sk-hidden--visually\" id=\"sk-estimator-id-56\" type=\"checkbox\" ><label for=\"sk-estimator-id-56\" class=\"sk-toggleable__label sk-toggleable__label-arrow\">categorical_low</label><div class=\"sk-toggleable__content\"><pre>Index([], dtype=&#x27;object&#x27;)</pre></div></div></div><div class=\"sk-serial\"><div class=\"sk-item\"><div class=\"sk-serial\"><div class=\"sk-item\"><div class=\"sk-estimator sk-toggleable\"><input class=\"sk-toggleable__control sk-hidden--visually\" id=\"sk-estimator-id-57\" type=\"checkbox\" ><label for=\"sk-estimator-id-57\" class=\"sk-toggleable__label sk-toggleable__label-arrow\">SimpleImputer</label><div class=\"sk-toggleable__content\"><pre>SimpleImputer(fill_value=&#x27;missing&#x27;, strategy=&#x27;constant&#x27;)</pre></div></div></div><div class=\"sk-item\"><div class=\"sk-estimator sk-toggleable\"><input class=\"sk-toggleable__control sk-hidden--visually\" id=\"sk-estimator-id-58\" type=\"checkbox\" ><label for=\"sk-estimator-id-58\" class=\"sk-toggleable__label sk-toggleable__label-arrow\">OneHotEncoder</label><div class=\"sk-toggleable__content\"><pre>OneHotEncoder(handle_unknown=&#x27;ignore&#x27;, sparse=False)</pre></div></div></div></div></div></div></div></div><div class=\"sk-parallel-item\"><div class=\"sk-item\"><div class=\"sk-label-container\"><div class=\"sk-label sk-toggleable\"><input class=\"sk-toggleable__control sk-hidden--visually\" id=\"sk-estimator-id-59\" type=\"checkbox\" ><label for=\"sk-estimator-id-59\" class=\"sk-toggleable__label sk-toggleable__label-arrow\">categorical_high</label><div class=\"sk-toggleable__content\"><pre>Index([], dtype=&#x27;object&#x27;)</pre></div></div></div><div class=\"sk-serial\"><div class=\"sk-item\"><div class=\"sk-serial\"><div class=\"sk-item\"><div class=\"sk-estimator sk-toggleable\"><input class=\"sk-toggleable__control sk-hidden--visually\" id=\"sk-estimator-id-60\" type=\"checkbox\" ><label for=\"sk-estimator-id-60\" class=\"sk-toggleable__label sk-toggleable__label-arrow\">SimpleImputer</label><div class=\"sk-toggleable__content\"><pre>SimpleImputer(fill_value=&#x27;missing&#x27;, strategy=&#x27;constant&#x27;)</pre></div></div></div><div class=\"sk-item\"><div class=\"sk-estimator sk-toggleable\"><input class=\"sk-toggleable__control sk-hidden--visually\" id=\"sk-estimator-id-61\" type=\"checkbox\" ><label for=\"sk-estimator-id-61\" class=\"sk-toggleable__label sk-toggleable__label-arrow\">OrdinalEncoder</label><div class=\"sk-toggleable__content\"><pre>OrdinalEncoder()</pre></div></div></div></div></div></div></div></div></div></div><div class=\"sk-item\"><div class=\"sk-estimator sk-toggleable\"><input class=\"sk-toggleable__control sk-hidden--visually\" id=\"sk-estimator-id-62\" type=\"checkbox\" ><label for=\"sk-estimator-id-62\" class=\"sk-toggleable__label sk-toggleable__label-arrow\">GradientBoostingRegressor</label><div class=\"sk-toggleable__content\"><pre>GradientBoostingRegressor(random_state=42)</pre></div></div></div></div></div></div></div>"
      ],
      "text/plain": [
       "Pipeline(steps=[('preprocessor',\n",
       "                 ColumnTransformer(transformers=[('numeric',\n",
       "                                                  Pipeline(steps=[('imputer',\n",
       "                                                                   SimpleImputer()),\n",
       "                                                                  ('scaler',\n",
       "                                                                   StandardScaler())]),\n",
       "                                                  Index(['Cylinders', 'Displacement', 'Horsepower', 'Weight', 'Acceleration',\n",
       "       'Model Year', 'Origin'],\n",
       "      dtype='object')),\n",
       "                                                 ('categorical_low',\n",
       "                                                  Pipeline(steps=[('imputer',\n",
       "                                                                   SimpleImputer(fill_value='missing',\n",
       "                                                                                 strategy='constant')),\n",
       "                                                                  ('encoding',\n",
       "                                                                   OneHotEncoder(handle_unknown='ignore',\n",
       "                                                                                 sparse=False))]),\n",
       "                                                  Index([], dtype='object')),\n",
       "                                                 ('categorical_high',\n",
       "                                                  Pipeline(steps=[('imputer',\n",
       "                                                                   SimpleImputer(fill_value='missing',\n",
       "                                                                                 strategy='constant')),\n",
       "                                                                  ('encoding',\n",
       "                                                                   OrdinalEncoder())]),\n",
       "                                                  Index([], dtype='object'))])),\n",
       "                ('regressor', GradientBoostingRegressor(random_state=42))])"
      ]
     },
     "execution_count": 40,
     "metadata": {},
     "output_type": "execute_result"
    }
   ],
   "source": [
    "model_dictionary['GradientBoostingRegressor']"
   ]
  },
  {
   "attachments": {},
   "cell_type": "markdown",
   "metadata": {},
   "source": [
    "using own one preprocessing script, let's build the based line model and compute it RMSE"
   ]
  },
  {
   "cell_type": "code",
   "execution_count": 3,
   "metadata": {},
   "outputs": [
    {
     "name": "stdout",
     "output_type": "stream",
     "text": [
      "the baseline rmse is : 2.2991369212470567\n"
     ]
    }
   ],
   "source": [
    "X_train, y_train, scaler = preprocessing.preprocess(train_set,train=True)\n",
    "X_valid, y_valid, scaler = preprocessing.preprocess(valid_set,scaler=scaler)\n",
    "\n",
    "model = GradientBoostingRegressor(random_state=42)\n",
    "model.fit(X_train, y_train)\n",
    "val_predictions = model.predict(X_valid)\n",
    "baseline_rmse = np.sqrt(mean_squared_error(y_valid, val_predictions))\n",
    "print(f'the baseline rmse is : {baseline_rmse}')"
   ]
  },
  {
   "attachments": {},
   "cell_type": "markdown",
   "metadata": {},
   "source": [
    "let's now see if the rmse can be improved with hyperparameter tuning"
   ]
  },
  {
   "cell_type": "markdown",
   "metadata": {},
   "source": [
    "#### Hyperparameter Tuning using Optuna\n",
    "Optuna is a software framework for automating the optimization process of these hyperparameters. It automatically finds optimal hyperparameter values by making use of different samplers such as grid search, random, bayesian, and evolutionary algorithms."
   ]
  },
  {
   "attachments": {},
   "cell_type": "markdown",
   "metadata": {},
   "source": [
    "Let's create the objective function and define the search space:\n",
    "We built a grid of 7 hyperparameters with different ranges and some static ones for random seed and early stopping."
   ]
  },
  {
   "cell_type": "code",
   "execution_count": 4,
   "metadata": {},
   "outputs": [],
   "source": [
    "def objective(trial, X, y, cv, scoring):\n",
    "    params = {\n",
    "        \"n_estimators\": trial.suggest_int(\"n_estimators\", 100, 5000, step=50),\n",
    "        \"learning_rate\": trial.suggest_float(\"learning_rate\", 1e-4, 0.3, log=True),\n",
    "        \"max_depth\": trial.suggest_int(\"max_depth\", 1, 20),\n",
    "        \"min_samples_split\": trial.suggest_int(\"min_samples_split\", 2,9),\n",
    "        \"min_samples_leaf\": trial.suggest_int(\"min_samples_leaf\", 1,9),\n",
    "        \"subsample\": trial.suggest_float(\"subsample\", 0.1, 0.9, step=0.05),\n",
    "        \"max_features\": trial.suggest_categorical(\"max_features\", [\"auto\", \"sqrt\", \"log2\"]),\n",
    "        \"random_state\": 42,\n",
    "        \"n_iter_no_change\": 50,  # early stopping\n",
    "        \"validation_fraction\": 0.05,\n",
    "    }\n",
    "    # Perform CV\n",
    "    gr_reg = GradientBoostingRegressor(**params)\n",
    "    scores = cross_validate(gr_reg, X, y, cv=cv, scoring=scoring, n_jobs=-1)\n",
    "    # Compute RMSLE\n",
    "    rmse = np.sqrt(-scores[\"test_score\"].mean())\n",
    "\n",
    "    return rmse"
   ]
  },
  {
   "attachments": {},
   "cell_type": "markdown",
   "metadata": {},
   "source": [
    "The above objective function accepts additional arguments for the data sets, scoring and cv. That's why we have to wrap it inside another function"
   ]
  },
  {
   "cell_type": "code",
   "execution_count": 5,
   "metadata": {},
   "outputs": [
    {
     "name": "stderr",
     "output_type": "stream",
     "text": [
      "\u001b[32m[I 2023-04-12 15:26:39,331]\u001b[0m A new study created in memory with name: no-name-369397d6-1ee7-4af6-b4af-0da8fc8067ac\u001b[0m\n",
      "\u001b[32m[I 2023-04-12 15:26:54,910]\u001b[0m Trial 0 finished with value: 2.8432730842842706 and parameters: {'n_estimators': 1300, 'learning_rate': 0.0073006157463816265, 'max_depth': 15, 'min_samples_split': 8, 'min_samples_leaf': 9, 'subsample': 0.4, 'max_features': 'log2'}. Best is trial 0 with value: 2.8432730842842706.\u001b[0m\n",
      "\u001b[32m[I 2023-04-12 15:27:11,002]\u001b[0m Trial 1 finished with value: 5.667383627327067 and parameters: {'n_estimators': 3550, 'learning_rate': 0.00011152891357936586, 'max_depth': 9, 'min_samples_split': 5, 'min_samples_leaf': 4, 'subsample': 0.9, 'max_features': 'sqrt'}. Best is trial 0 with value: 2.8432730842842706.\u001b[0m\n",
      "\u001b[32m[I 2023-04-12 15:27:12,030]\u001b[0m Trial 2 finished with value: 2.7152691005715854 and parameters: {'n_estimators': 1700, 'learning_rate': 0.052149464799994265, 'max_depth': 18, 'min_samples_split': 9, 'min_samples_leaf': 2, 'subsample': 0.7000000000000001, 'max_features': 'log2'}. Best is trial 2 with value: 2.7152691005715854.\u001b[0m\n",
      "\u001b[32m[I 2023-04-12 15:27:13,349]\u001b[0m Trial 3 finished with value: 2.746433246763973 and parameters: {'n_estimators': 1300, 'learning_rate': 0.06541502188232823, 'max_depth': 12, 'min_samples_split': 3, 'min_samples_leaf': 6, 'subsample': 0.6, 'max_features': 'auto'}. Best is trial 2 with value: 2.7152691005715854.\u001b[0m\n",
      "\u001b[32m[I 2023-04-12 15:27:14,290]\u001b[0m Trial 4 finished with value: 2.7625325558755973 and parameters: {'n_estimators': 2400, 'learning_rate': 0.01003100654257462, 'max_depth': 6, 'min_samples_split': 2, 'min_samples_leaf': 2, 'subsample': 0.45000000000000007, 'max_features': 'log2'}. Best is trial 2 with value: 2.7152691005715854.\u001b[0m\n",
      "\u001b[32m[I 2023-04-12 15:27:15,428]\u001b[0m Trial 5 finished with value: 2.890937219905236 and parameters: {'n_estimators': 1750, 'learning_rate': 0.006181130501979394, 'max_depth': 17, 'min_samples_split': 9, 'min_samples_leaf': 5, 'subsample': 0.2, 'max_features': 'sqrt'}. Best is trial 2 with value: 2.7152691005715854.\u001b[0m\n",
      "\u001b[32m[I 2023-04-12 15:27:24,515]\u001b[0m Trial 6 finished with value: 5.390629993511458 and parameters: {'n_estimators': 2700, 'learning_rate': 0.00017696408630015346, 'max_depth': 6, 'min_samples_split': 6, 'min_samples_leaf': 3, 'subsample': 0.45000000000000007, 'max_features': 'log2'}. Best is trial 2 with value: 2.7152691005715854.\u001b[0m\n",
      "\u001b[32m[I 2023-04-12 15:27:25,426]\u001b[0m Trial 7 finished with value: 2.8384624357771213 and parameters: {'n_estimators': 1700, 'learning_rate': 0.06438013851405933, 'max_depth': 3, 'min_samples_split': 6, 'min_samples_leaf': 3, 'subsample': 0.55, 'max_features': 'auto'}. Best is trial 2 with value: 2.7152691005715854.\u001b[0m\n",
      "\u001b[32m[I 2023-04-12 15:27:47,246]\u001b[0m Trial 8 finished with value: 5.035205025396336 and parameters: {'n_estimators': 4900, 'learning_rate': 0.00012234748555180148, 'max_depth': 3, 'min_samples_split': 9, 'min_samples_leaf': 8, 'subsample': 0.9, 'max_features': 'auto'}. Best is trial 2 with value: 2.7152691005715854.\u001b[0m\n",
      "\u001b[32m[I 2023-04-12 15:27:48,731]\u001b[0m Trial 9 finished with value: 2.8834974302782825 and parameters: {'n_estimators': 1600, 'learning_rate': 0.008497000294895645, 'max_depth': 15, 'min_samples_split': 5, 'min_samples_leaf': 5, 'subsample': 0.5, 'max_features': 'auto'}. Best is trial 2 with value: 2.7152691005715854.\u001b[0m\n",
      "\u001b[32m[I 2023-04-12 15:27:50,243]\u001b[0m Trial 10 finished with value: 2.941989892497967 and parameters: {'n_estimators': 200, 'learning_rate': 0.13325516984777924, 'max_depth': 20, 'min_samples_split': 7, 'min_samples_leaf': 1, 'subsample': 0.7000000000000001, 'max_features': 'log2'}. Best is trial 2 with value: 2.7152691005715854.\u001b[0m\n",
      "\u001b[32m[I 2023-04-12 15:27:50,687]\u001b[0m Trial 11 finished with value: 2.7434671489556473 and parameters: {'n_estimators': 1000, 'learning_rate': 0.06267687224420604, 'max_depth': 12, 'min_samples_split': 3, 'min_samples_leaf': 7, 'subsample': 0.7000000000000001, 'max_features': 'auto'}. Best is trial 2 with value: 2.7152691005715854.\u001b[0m\n",
      "\u001b[32m[I 2023-04-12 15:27:51,188]\u001b[0m Trial 12 finished with value: 2.9326570454170855 and parameters: {'n_estimators': 250, 'learning_rate': 0.25797717876592235, 'max_depth': 20, 'min_samples_split': 3, 'min_samples_leaf': 7, 'subsample': 0.75, 'max_features': 'log2'}. Best is trial 2 with value: 2.7152691005715854.\u001b[0m\n",
      "\u001b[32m[I 2023-04-12 15:27:51,830]\u001b[0m Trial 13 finished with value: 2.773693273685038 and parameters: {'n_estimators': 850, 'learning_rate': 0.026995752758772387, 'max_depth': 10, 'min_samples_split': 4, 'min_samples_leaf': 7, 'subsample': 0.75, 'max_features': 'auto'}. Best is trial 2 with value: 2.7152691005715854.\u001b[0m\n",
      "\u001b[32m[I 2023-04-12 15:27:52,509]\u001b[0m Trial 14 finished with value: 2.6835674833060943 and parameters: {'n_estimators': 2650, 'learning_rate': 0.03248884053219757, 'max_depth': 13, 'min_samples_split': 2, 'min_samples_leaf': 1, 'subsample': 0.65, 'max_features': 'sqrt'}. Best is trial 14 with value: 2.6835674833060943.\u001b[0m\n",
      "\u001b[32m[I 2023-04-12 15:27:53,177]\u001b[0m Trial 15 finished with value: 2.792933520756116 and parameters: {'n_estimators': 3350, 'learning_rate': 0.022788551390118733, 'max_depth': 16, 'min_samples_split': 7, 'min_samples_leaf': 1, 'subsample': 0.30000000000000004, 'max_features': 'sqrt'}. Best is trial 14 with value: 2.6835674833060943.\u001b[0m\n",
      "\u001b[32m[I 2023-04-12 15:27:58,273]\u001b[0m Trial 16 finished with value: 2.813422369559706 and parameters: {'n_estimators': 2500, 'learning_rate': 0.0017910551787042042, 'max_depth': 18, 'min_samples_split': 2, 'min_samples_leaf': 2, 'subsample': 0.6, 'max_features': 'sqrt'}. Best is trial 14 with value: 2.6835674833060943.\u001b[0m\n",
      "\u001b[32m[I 2023-04-12 15:27:58,606]\u001b[0m Trial 17 finished with value: 3.1798637673157493 and parameters: {'n_estimators': 3550, 'learning_rate': 0.2113470522806947, 'max_depth': 14, 'min_samples_split': 8, 'min_samples_leaf': 2, 'subsample': 0.1, 'max_features': 'sqrt'}. Best is trial 14 with value: 2.6835674833060943.\u001b[0m\n",
      "\u001b[32m[I 2023-04-12 15:28:03,481]\u001b[0m Trial 18 finished with value: 2.7751379803087413 and parameters: {'n_estimators': 4200, 'learning_rate': 0.002515625475150212, 'max_depth': 13, 'min_samples_split': 4, 'min_samples_leaf': 1, 'subsample': 0.8, 'max_features': 'log2'}. Best is trial 14 with value: 2.6835674833060943.\u001b[0m\n",
      "\u001b[32m[I 2023-04-12 15:28:04,215]\u001b[0m Trial 19 finished with value: 2.7414498872476103 and parameters: {'n_estimators': 2100, 'learning_rate': 0.025908236338521975, 'max_depth': 18, 'min_samples_split': 7, 'min_samples_leaf': 3, 'subsample': 0.65, 'max_features': 'sqrt'}. Best is trial 14 with value: 2.6835674833060943.\u001b[0m\n",
      "\u001b[32m[I 2023-04-12 15:28:04,849]\u001b[0m Trial 20 finished with value: 2.7475382695514856 and parameters: {'n_estimators': 2850, 'learning_rate': 0.10543545840456035, 'max_depth': 7, 'min_samples_split': 4, 'min_samples_leaf': 4, 'subsample': 0.8, 'max_features': 'sqrt'}. Best is trial 14 with value: 2.6835674833060943.\u001b[0m\n",
      "\u001b[32m[I 2023-04-12 15:28:05,719]\u001b[0m Trial 21 finished with value: 2.765011896917743 and parameters: {'n_estimators': 2050, 'learning_rate': 0.02726889014187495, 'max_depth': 18, 'min_samples_split': 8, 'min_samples_leaf': 3, 'subsample': 0.65, 'max_features': 'sqrt'}. Best is trial 14 with value: 2.6835674833060943.\u001b[0m\n",
      "\u001b[32m[I 2023-04-12 15:28:06,496]\u001b[0m Trial 22 finished with value: 2.7276001589405507 and parameters: {'n_estimators': 2150, 'learning_rate': 0.019285288550152005, 'max_depth': 18, 'min_samples_split': 7, 'min_samples_leaf': 2, 'subsample': 0.65, 'max_features': 'sqrt'}. Best is trial 14 with value: 2.6835674833060943.\u001b[0m\n",
      "\u001b[32m[I 2023-04-12 15:28:07,402]\u001b[0m Trial 23 finished with value: 2.7608789613922387 and parameters: {'n_estimators': 3100, 'learning_rate': 0.015252707358839563, 'max_depth': 20, 'min_samples_split': 9, 'min_samples_leaf': 2, 'subsample': 0.55, 'max_features': 'sqrt'}. Best is trial 14 with value: 2.6835674833060943.\u001b[0m\n",
      "\u001b[32m[I 2023-04-12 15:28:08,522]\u001b[0m Trial 24 finished with value: 2.733483214646817 and parameters: {'n_estimators': 2250, 'learning_rate': 0.04327802711903027, 'max_depth': 16, 'min_samples_split': 8, 'min_samples_leaf': 1, 'subsample': 0.8, 'max_features': 'sqrt'}. Best is trial 14 with value: 2.6835674833060943.\u001b[0m\n",
      "\u001b[32m[I 2023-04-12 15:28:09,075]\u001b[0m Trial 25 finished with value: 2.869751898234504 and parameters: {'n_estimators': 700, 'learning_rate': 0.13070302933295128, 'max_depth': 13, 'min_samples_split': 6, 'min_samples_leaf': 4, 'subsample': 0.35, 'max_features': 'log2'}. Best is trial 14 with value: 2.6835674833060943.\u001b[0m\n",
      "\u001b[32m[I 2023-04-12 15:28:09,979]\u001b[0m Trial 26 finished with value: 2.763375832540895 and parameters: {'n_estimators': 4000, 'learning_rate': 0.016088332165317132, 'max_depth': 18, 'min_samples_split': 7, 'min_samples_leaf': 2, 'subsample': 0.65, 'max_features': 'sqrt'}. Best is trial 14 with value: 2.6835674833060943.\u001b[0m\n",
      "\u001b[32m[I 2023-04-12 15:28:11,065]\u001b[0m Trial 27 finished with value: 2.9975110876921534 and parameters: {'n_estimators': 2950, 'learning_rate': 0.04153390675383188, 'max_depth': 1, 'min_samples_split': 5, 'min_samples_leaf': 1, 'subsample': 0.55, 'max_features': 'log2'}. Best is trial 14 with value: 2.6835674833060943.\u001b[0m\n",
      "\u001b[32m[I 2023-04-12 15:28:12,013]\u001b[0m Trial 28 finished with value: 2.7246244284795518 and parameters: {'n_estimators': 1950, 'learning_rate': 0.09996021832143359, 'max_depth': 16, 'min_samples_split': 9, 'min_samples_leaf': 2, 'subsample': 0.85, 'max_features': 'sqrt'}. Best is trial 14 with value: 2.6835674833060943.\u001b[0m\n",
      "\u001b[32m[I 2023-04-12 15:28:13,248]\u001b[0m Trial 29 finished with value: 2.807593603835884 and parameters: {'n_estimators': 1600, 'learning_rate': 0.20406344082417782, 'max_depth': 15, 'min_samples_split': 9, 'min_samples_leaf': 9, 'subsample': 0.85, 'max_features': 'log2'}. Best is trial 14 with value: 2.6835674833060943.\u001b[0m\n",
      "\u001b[32m[I 2023-04-12 15:28:13,727]\u001b[0m Trial 30 finished with value: 2.7712957800576956 and parameters: {'n_estimators': 1250, 'learning_rate': 0.08864692352258001, 'max_depth': 10, 'min_samples_split': 8, 'min_samples_leaf': 4, 'subsample': 0.75, 'max_features': 'sqrt'}. Best is trial 14 with value: 2.6835674833060943.\u001b[0m\n",
      "\u001b[32m[I 2023-04-12 15:28:14,495]\u001b[0m Trial 31 finished with value: 2.797459392534593 and parameters: {'n_estimators': 1950, 'learning_rate': 0.2976152588341054, 'max_depth': 16, 'min_samples_split': 9, 'min_samples_leaf': 2, 'subsample': 0.7000000000000001, 'max_features': 'sqrt'}. Best is trial 14 with value: 2.6835674833060943.\u001b[0m\n",
      "\u001b[32m[I 2023-04-12 15:28:15,367]\u001b[0m Trial 32 finished with value: 2.7786764352887108 and parameters: {'n_estimators': 2600, 'learning_rate': 0.04439467017809146, 'max_depth': 19, 'min_samples_split': 8, 'min_samples_leaf': 3, 'subsample': 0.9, 'max_features': 'sqrt'}. Best is trial 14 with value: 2.6835674833060943.\u001b[0m\n",
      "\u001b[32m[I 2023-04-12 15:28:16,174]\u001b[0m Trial 33 finished with value: 2.8041445637141456 and parameters: {'n_estimators': 1300, 'learning_rate': 0.10933715462009143, 'max_depth': 14, 'min_samples_split': 7, 'min_samples_leaf': 1, 'subsample': 0.85, 'max_features': 'sqrt'}. Best is trial 14 with value: 2.6835674833060943.\u001b[0m\n",
      "\u001b[32m[I 2023-04-12 15:28:16,698]\u001b[0m Trial 34 finished with value: 2.716443314236315 and parameters: {'n_estimators': 2350, 'learning_rate': 0.04710400903893978, 'max_depth': 17, 'min_samples_split': 8, 'min_samples_leaf': 2, 'subsample': 0.65, 'max_features': 'sqrt'}. Best is trial 14 with value: 2.6835674833060943.\u001b[0m\n",
      "\u001b[32m[I 2023-04-12 15:28:17,311]\u001b[0m Trial 35 finished with value: 2.7697680264298272 and parameters: {'n_estimators': 2400, 'learning_rate': 0.07166405429429545, 'max_depth': 12, 'min_samples_split': 9, 'min_samples_leaf': 4, 'subsample': 0.6, 'max_features': 'sqrt'}. Best is trial 14 with value: 2.6835674833060943.\u001b[0m\n",
      "\u001b[32m[I 2023-04-12 15:28:17,994]\u001b[0m Trial 36 finished with value: 2.7553080486601167 and parameters: {'n_estimators': 1800, 'learning_rate': 0.04378972798275308, 'max_depth': 17, 'min_samples_split': 8, 'min_samples_leaf': 3, 'subsample': 0.75, 'max_features': 'log2'}. Best is trial 14 with value: 2.6835674833060943.\u001b[0m\n",
      "\u001b[32m[I 2023-04-12 15:28:18,909]\u001b[0m Trial 37 finished with value: 2.9120648409296033 and parameters: {'n_estimators': 3200, 'learning_rate': 0.16336333284311494, 'max_depth': 14, 'min_samples_split': 2, 'min_samples_leaf': 2, 'subsample': 0.5, 'max_features': 'sqrt'}. Best is trial 14 with value: 2.6835674833060943.\u001b[0m\n",
      "\u001b[32m[I 2023-04-12 15:28:20,067]\u001b[0m Trial 38 finished with value: 2.7717049222304326 and parameters: {'n_estimators': 2750, 'learning_rate': 0.08809889273268832, 'max_depth': 11, 'min_samples_split': 9, 'min_samples_leaf': 1, 'subsample': 0.85, 'max_features': 'log2'}. Best is trial 14 with value: 2.6835674833060943.\u001b[0m\n",
      "\u001b[32m[I 2023-04-12 15:28:20,659]\u001b[0m Trial 39 finished with value: 2.7571952647177076 and parameters: {'n_estimators': 1450, 'learning_rate': 0.1562338127364843, 'max_depth': 15, 'min_samples_split': 9, 'min_samples_leaf': 6, 'subsample': 0.45000000000000007, 'max_features': 'sqrt'}. Best is trial 14 with value: 2.6835674833060943.\u001b[0m\n",
      "\u001b[32m[I 2023-04-12 15:28:21,784]\u001b[0m Trial 40 finished with value: 2.813684380770276 and parameters: {'n_estimators': 3850, 'learning_rate': 0.012639362293171157, 'max_depth': 8, 'min_samples_split': 6, 'min_samples_leaf': 3, 'subsample': 0.7000000000000001, 'max_features': 'auto'}. Best is trial 14 with value: 2.6835674833060943.\u001b[0m\n",
      "\u001b[32m[I 2023-04-12 15:28:22,337]\u001b[0m Trial 41 finished with value: 2.730282496662612 and parameters: {'n_estimators': 2200, 'learning_rate': 0.06935175229610778, 'max_depth': 17, 'min_samples_split': 8, 'min_samples_leaf': 2, 'subsample': 0.65, 'max_features': 'sqrt'}. Best is trial 14 with value: 2.6835674833060943.\u001b[0m\n",
      "\u001b[32m[I 2023-04-12 15:28:22,836]\u001b[0m Trial 42 finished with value: 2.650596177636054 and parameters: {'n_estimators': 1950, 'learning_rate': 0.035801520704735676, 'max_depth': 17, 'min_samples_split': 8, 'min_samples_leaf': 2, 'subsample': 0.6, 'max_features': 'sqrt'}. Best is trial 42 with value: 2.650596177636054.\u001b[0m\n",
      "\u001b[32m[I 2023-04-12 15:28:23,430]\u001b[0m Trial 43 finished with value: 2.706881718614753 and parameters: {'n_estimators': 1850, 'learning_rate': 0.03326132359711659, 'max_depth': 19, 'min_samples_split': 9, 'min_samples_leaf': 1, 'subsample': 0.6, 'max_features': 'sqrt'}. Best is trial 42 with value: 2.650596177636054.\u001b[0m\n",
      "\u001b[32m[I 2023-04-12 15:28:24,371]\u001b[0m Trial 44 finished with value: 2.770163288712788 and parameters: {'n_estimators': 1050, 'learning_rate': 0.010845176281575015, 'max_depth': 19, 'min_samples_split': 8, 'min_samples_leaf': 1, 'subsample': 0.55, 'max_features': 'sqrt'}. Best is trial 42 with value: 2.650596177636054.\u001b[0m\n",
      "\u001b[32m[I 2023-04-12 15:28:25,028]\u001b[0m Trial 45 finished with value: 2.7552925358637546 and parameters: {'n_estimators': 1750, 'learning_rate': 0.05703704775716832, 'max_depth': 19, 'min_samples_split': 9, 'min_samples_leaf': 1, 'subsample': 0.5, 'max_features': 'log2'}. Best is trial 42 with value: 2.650596177636054.\u001b[0m\n",
      "\u001b[32m[I 2023-04-12 15:28:25,963]\u001b[0m Trial 46 finished with value: 2.7617093803419634 and parameters: {'n_estimators': 2400, 'learning_rate': 0.036684781113516474, 'max_depth': 17, 'min_samples_split': 8, 'min_samples_leaf': 1, 'subsample': 0.6, 'max_features': 'auto'}. Best is trial 42 with value: 2.650596177636054.\u001b[0m\n",
      "\u001b[32m[I 2023-04-12 15:28:26,536]\u001b[0m Trial 47 finished with value: 2.7388435304797096 and parameters: {'n_estimators': 1400, 'learning_rate': 0.02949857453251179, 'max_depth': 20, 'min_samples_split': 3, 'min_samples_leaf': 2, 'subsample': 0.6, 'max_features': 'sqrt'}. Best is trial 42 with value: 2.650596177636054.\u001b[0m\n",
      "\u001b[32m[I 2023-04-12 15:28:27,149]\u001b[0m Trial 48 finished with value: 2.725827054961248 and parameters: {'n_estimators': 550, 'learning_rate': 0.01775298367167877, 'max_depth': 19, 'min_samples_split': 6, 'min_samples_leaf': 3, 'subsample': 0.4, 'max_features': 'sqrt'}. Best is trial 42 with value: 2.650596177636054.\u001b[0m\n",
      "\u001b[32m[I 2023-04-12 15:28:28,307]\u001b[0m Trial 49 finished with value: 2.821404209588999 and parameters: {'n_estimators': 2550, 'learning_rate': 0.008113210025851806, 'max_depth': 17, 'min_samples_split': 9, 'min_samples_leaf': 5, 'subsample': 0.7000000000000001, 'max_features': 'log2'}. Best is trial 42 with value: 2.650596177636054.\u001b[0m\n",
      "\u001b[32m[I 2023-04-12 15:28:29,275]\u001b[0m Trial 50 finished with value: 2.801428678236672 and parameters: {'n_estimators': 1850, 'learning_rate': 0.055736603290403496, 'max_depth': 13, 'min_samples_split': 4, 'min_samples_leaf': 6, 'subsample': 0.6, 'max_features': 'auto'}. Best is trial 42 with value: 2.650596177636054.\u001b[0m\n",
      "\u001b[32m[I 2023-04-12 15:28:29,804]\u001b[0m Trial 51 finished with value: 2.727960595092463 and parameters: {'n_estimators': 1600, 'learning_rate': 0.03156370300717611, 'max_depth': 16, 'min_samples_split': 9, 'min_samples_leaf': 2, 'subsample': 0.7000000000000001, 'max_features': 'sqrt'}. Best is trial 42 with value: 2.650596177636054.\u001b[0m\n",
      "\u001b[32m[I 2023-04-12 15:28:30,212]\u001b[0m Trial 52 finished with value: 2.828648371978126 and parameters: {'n_estimators': 1950, 'learning_rate': 0.09153431408756985, 'max_depth': 15, 'min_samples_split': 9, 'min_samples_leaf': 1, 'subsample': 0.55, 'max_features': 'sqrt'}. Best is trial 42 with value: 2.650596177636054.\u001b[0m\n",
      "\u001b[32m[I 2023-04-12 15:28:30,816]\u001b[0m Trial 53 finished with value: 2.744466835982304 and parameters: {'n_estimators': 2250, 'learning_rate': 0.02099627125818167, 'max_depth': 16, 'min_samples_split': 8, 'min_samples_leaf': 2, 'subsample': 0.75, 'max_features': 'sqrt'}. Best is trial 42 with value: 2.650596177636054.\u001b[0m\n",
      "\u001b[32m[I 2023-04-12 15:28:31,456]\u001b[0m Trial 54 finished with value: 2.6522623220265933 and parameters: {'n_estimators': 1050, 'learning_rate': 0.054819103247362146, 'max_depth': 18, 'min_samples_split': 9, 'min_samples_leaf': 2, 'subsample': 0.65, 'max_features': 'sqrt'}. Best is trial 42 with value: 2.650596177636054.\u001b[0m\n",
      "\u001b[32m[I 2023-04-12 15:28:32,103]\u001b[0m Trial 55 finished with value: 2.7821235400544246 and parameters: {'n_estimators': 1000, 'learning_rate': 0.033007272531830875, 'max_depth': 20, 'min_samples_split': 8, 'min_samples_leaf': 1, 'subsample': 0.65, 'max_features': 'sqrt'}. Best is trial 42 with value: 2.650596177636054.\u001b[0m\n",
      "\u001b[32m[I 2023-04-12 15:28:32,705]\u001b[0m Trial 56 finished with value: 2.7289120075227964 and parameters: {'n_estimators': 400, 'learning_rate': 0.051258287199177195, 'max_depth': 18, 'min_samples_split': 7, 'min_samples_leaf': 3, 'subsample': 0.5, 'max_features': 'sqrt'}. Best is trial 42 with value: 2.650596177636054.\u001b[0m\n",
      "\u001b[32m[I 2023-04-12 15:28:33,268]\u001b[0m Trial 57 finished with value: 2.748455192832037 and parameters: {'n_estimators': 4800, 'learning_rate': 0.022630214907212523, 'max_depth': 5, 'min_samples_split': 9, 'min_samples_leaf': 2, 'subsample': 0.6, 'max_features': 'sqrt'}. Best is trial 42 with value: 2.650596177636054.\u001b[0m\n",
      "\u001b[32m[I 2023-04-12 15:28:34,174]\u001b[0m Trial 58 finished with value: 2.645026223499206 and parameters: {'n_estimators': 1200, 'learning_rate': 0.06553336968800896, 'max_depth': 19, 'min_samples_split': 2, 'min_samples_leaf': 1, 'subsample': 0.65, 'max_features': 'log2'}. Best is trial 58 with value: 2.645026223499206.\u001b[0m\n",
      "\u001b[32m[I 2023-04-12 15:28:34,771]\u001b[0m Trial 59 finished with value: 2.7805842907067118 and parameters: {'n_estimators': 1200, 'learning_rate': 0.06987739313358857, 'max_depth': 19, 'min_samples_split': 2, 'min_samples_leaf': 1, 'subsample': 0.55, 'max_features': 'log2'}. Best is trial 58 with value: 2.645026223499206.\u001b[0m\n",
      "\u001b[32m[I 2023-04-12 15:28:35,186]\u001b[0m Trial 60 finished with value: 2.727442462275636 and parameters: {'n_estimators': 750, 'learning_rate': 0.03185434391348316, 'max_depth': 20, 'min_samples_split': 3, 'min_samples_leaf': 8, 'subsample': 0.7000000000000001, 'max_features': 'log2'}. Best is trial 58 with value: 2.645026223499206.\u001b[0m\n",
      "\u001b[32m[I 2023-04-12 15:28:35,817]\u001b[0m Trial 61 finished with value: 2.7361497991148775 and parameters: {'n_estimators': 1600, 'learning_rate': 0.05854268874154985, 'max_depth': 18, 'min_samples_split': 2, 'min_samples_leaf': 1, 'subsample': 0.65, 'max_features': 'log2'}. Best is trial 58 with value: 2.645026223499206.\u001b[0m\n",
      "\u001b[32m[I 2023-04-12 15:28:36,335]\u001b[0m Trial 62 finished with value: 2.7000716136931753 and parameters: {'n_estimators': 1100, 'learning_rate': 0.03944433429887721, 'max_depth': 17, 'min_samples_split': 2, 'min_samples_leaf': 2, 'subsample': 0.65, 'max_features': 'log2'}. Best is trial 58 with value: 2.645026223499206.\u001b[0m\n",
      "\u001b[32m[I 2023-04-12 15:28:37,123]\u001b[0m Trial 63 finished with value: 2.7079581910813806 and parameters: {'n_estimators': 850, 'learning_rate': 0.024084848816719715, 'max_depth': 19, 'min_samples_split': 2, 'min_samples_leaf': 1, 'subsample': 0.6, 'max_features': 'log2'}. Best is trial 58 with value: 2.645026223499206.\u001b[0m\n",
      "\u001b[32m[I 2023-04-12 15:28:38,380]\u001b[0m Trial 64 finished with value: 2.757712767978427 and parameters: {'n_estimators': 550, 'learning_rate': 0.026714554604674205, 'max_depth': 19, 'min_samples_split': 2, 'min_samples_leaf': 1, 'subsample': 0.6, 'max_features': 'log2'}. Best is trial 58 with value: 2.645026223499206.\u001b[0m\n",
      "\u001b[32m[I 2023-04-12 15:28:39,324]\u001b[0m Trial 65 finished with value: 2.711344852810922 and parameters: {'n_estimators': 1050, 'learning_rate': 0.015550420418110346, 'max_depth': 20, 'min_samples_split': 2, 'min_samples_leaf': 1, 'subsample': 0.55, 'max_features': 'log2'}. Best is trial 58 with value: 2.645026223499206.\u001b[0m\n",
      "\u001b[32m[I 2023-04-12 15:28:40,127]\u001b[0m Trial 66 finished with value: 2.750185494133571 and parameters: {'n_estimators': 1150, 'learning_rate': 0.03603314596965066, 'max_depth': 19, 'min_samples_split': 3, 'min_samples_leaf': 2, 'subsample': 0.45000000000000007, 'max_features': 'log2'}. Best is trial 58 with value: 2.645026223499206.\u001b[0m\n",
      "\u001b[32m[I 2023-04-12 15:28:41,036]\u001b[0m Trial 67 finished with value: 2.7310362521205755 and parameters: {'n_estimators': 850, 'learning_rate': 0.022317625995918324, 'max_depth': 17, 'min_samples_split': 2, 'min_samples_leaf': 1, 'subsample': 0.7000000000000001, 'max_features': 'log2'}. Best is trial 58 with value: 2.645026223499206.\u001b[0m\n",
      "\u001b[32m[I 2023-04-12 15:28:41,830]\u001b[0m Trial 68 finished with value: 2.7941880208006524 and parameters: {'n_estimators': 1400, 'learning_rate': 0.04332539992078856, 'max_depth': 18, 'min_samples_split': 3, 'min_samples_leaf': 1, 'subsample': 0.2, 'max_features': 'log2'}. Best is trial 58 with value: 2.645026223499206.\u001b[0m\n",
      "\u001b[32m[I 2023-04-12 15:28:42,374]\u001b[0m Trial 69 finished with value: 2.6854206334057196 and parameters: {'n_estimators': 100, 'learning_rate': 0.07613654035687416, 'max_depth': 9, 'min_samples_split': 2, 'min_samples_leaf': 2, 'subsample': 0.6, 'max_features': 'log2'}. Best is trial 58 with value: 2.645026223499206.\u001b[0m\n",
      "\u001b[32m[I 2023-04-12 15:28:43,007]\u001b[0m Trial 70 finished with value: 2.6862985461868156 and parameters: {'n_estimators': 150, 'learning_rate': 0.07818917455779618, 'max_depth': 9, 'min_samples_split': 3, 'min_samples_leaf': 3, 'subsample': 0.65, 'max_features': 'log2'}. Best is trial 58 with value: 2.645026223499206.\u001b[0m\n",
      "\u001b[32m[I 2023-04-12 15:28:43,762]\u001b[0m Trial 71 finished with value: 2.7227535105599276 and parameters: {'n_estimators': 150, 'learning_rate': 0.07492748224429954, 'max_depth': 8, 'min_samples_split': 3, 'min_samples_leaf': 3, 'subsample': 0.65, 'max_features': 'log2'}. Best is trial 58 with value: 2.645026223499206.\u001b[0m\n",
      "\u001b[32m[I 2023-04-12 15:28:44,369]\u001b[0m Trial 72 finished with value: 2.6955260410800794 and parameters: {'n_estimators': 400, 'learning_rate': 0.07965246610411439, 'max_depth': 9, 'min_samples_split': 2, 'min_samples_leaf': 2, 'subsample': 0.65, 'max_features': 'log2'}. Best is trial 58 with value: 2.645026223499206.\u001b[0m\n",
      "\u001b[32m[I 2023-04-12 15:28:45,535]\u001b[0m Trial 73 finished with value: 2.8108203446488287 and parameters: {'n_estimators': 450, 'learning_rate': 0.1243397539213732, 'max_depth': 10, 'min_samples_split': 2, 'min_samples_leaf': 2, 'subsample': 0.65, 'max_features': 'log2'}. Best is trial 58 with value: 2.645026223499206.\u001b[0m\n",
      "\u001b[32m[I 2023-04-12 15:28:46,053]\u001b[0m Trial 74 finished with value: 2.787777323649416 and parameters: {'n_estimators': 100, 'learning_rate': 0.11062413542739778, 'max_depth': 9, 'min_samples_split': 2, 'min_samples_leaf': 2, 'subsample': 0.75, 'max_features': 'log2'}. Best is trial 58 with value: 2.645026223499206.\u001b[0m\n",
      "\u001b[32m[I 2023-04-12 15:28:46,759]\u001b[0m Trial 75 finished with value: 2.6819494997297735 and parameters: {'n_estimators': 300, 'learning_rate': 0.07923084948449999, 'max_depth': 11, 'min_samples_split': 2, 'min_samples_leaf': 3, 'subsample': 0.65, 'max_features': 'log2'}. Best is trial 58 with value: 2.645026223499206.\u001b[0m\n",
      "\u001b[32m[I 2023-04-12 15:28:47,503]\u001b[0m Trial 76 finished with value: 2.727726435662556 and parameters: {'n_estimators': 350, 'learning_rate': 0.0835355010013915, 'max_depth': 11, 'min_samples_split': 3, 'min_samples_leaf': 3, 'subsample': 0.55, 'max_features': 'log2'}. Best is trial 58 with value: 2.645026223499206.\u001b[0m\n",
      "\u001b[32m[I 2023-04-12 15:28:48,382]\u001b[0m Trial 77 finished with value: 2.745511970277695 and parameters: {'n_estimators': 550, 'learning_rate': 0.14418937243552388, 'max_depth': 9, 'min_samples_split': 5, 'min_samples_leaf': 4, 'subsample': 0.7000000000000001, 'max_features': 'log2'}. Best is trial 58 with value: 2.645026223499206.\u001b[0m\n",
      "\u001b[32m[I 2023-04-12 15:28:48,916]\u001b[0m Trial 78 finished with value: 2.7033426499096804 and parameters: {'n_estimators': 300, 'learning_rate': 0.0602453289287907, 'max_depth': 8, 'min_samples_split': 2, 'min_samples_leaf': 3, 'subsample': 0.8, 'max_features': 'log2'}. Best is trial 58 with value: 2.645026223499206.\u001b[0m\n",
      "\u001b[32m[I 2023-04-12 15:28:49,521]\u001b[0m Trial 79 finished with value: 2.7493958850979983 and parameters: {'n_estimators': 200, 'learning_rate': 0.10484845299933125, 'max_depth': 7, 'min_samples_split': 3, 'min_samples_leaf': 3, 'subsample': 0.75, 'max_features': 'log2'}. Best is trial 58 with value: 2.645026223499206.\u001b[0m\n",
      "\u001b[32m[I 2023-04-12 15:28:50,874]\u001b[0m Trial 80 finished with value: 2.8053698594837315 and parameters: {'n_estimators': 700, 'learning_rate': 0.18532188277588577, 'max_depth': 11, 'min_samples_split': 4, 'min_samples_leaf': 4, 'subsample': 0.65, 'max_features': 'auto'}. Best is trial 58 with value: 2.645026223499206.\u001b[0m\n",
      "\u001b[32m[I 2023-04-12 15:28:51,532]\u001b[0m Trial 81 finished with value: 2.699575554128834 and parameters: {'n_estimators': 500, 'learning_rate': 0.07743008145661308, 'max_depth': 9, 'min_samples_split': 2, 'min_samples_leaf': 2, 'subsample': 0.65, 'max_features': 'log2'}. Best is trial 58 with value: 2.645026223499206.\u001b[0m\n",
      "\u001b[32m[I 2023-04-12 15:28:51,981]\u001b[0m Trial 82 finished with value: 2.7923857930957063 and parameters: {'n_estimators': 100, 'learning_rate': 0.08831423127984903, 'max_depth': 9, 'min_samples_split': 2, 'min_samples_leaf': 2, 'subsample': 0.7000000000000001, 'max_features': 'log2'}. Best is trial 58 with value: 2.645026223499206.\u001b[0m\n",
      "\u001b[32m[I 2023-04-12 15:28:53,159]\u001b[0m Trial 83 finished with value: 2.716717370240546 and parameters: {'n_estimators': 450, 'learning_rate': 0.06886222258394996, 'max_depth': 10, 'min_samples_split': 2, 'min_samples_leaf': 2, 'subsample': 0.6, 'max_features': 'log2'}. Best is trial 58 with value: 2.645026223499206.\u001b[0m\n",
      "\u001b[32m[I 2023-04-12 15:28:53,574]\u001b[0m Trial 84 finished with value: 2.7455036776546677 and parameters: {'n_estimators': 250, 'learning_rate': 0.12662374767537413, 'max_depth': 12, 'min_samples_split': 2, 'min_samples_leaf': 3, 'subsample': 0.65, 'max_features': 'log2'}. Best is trial 58 with value: 2.645026223499206.\u001b[0m\n",
      "\u001b[32m[I 2023-04-12 15:28:54,104]\u001b[0m Trial 85 finished with value: 2.706878379071324 and parameters: {'n_estimators': 550, 'learning_rate': 0.051138618384434266, 'max_depth': 7, 'min_samples_split': 2, 'min_samples_leaf': 2, 'subsample': 0.6, 'max_features': 'log2'}. Best is trial 58 with value: 2.645026223499206.\u001b[0m\n",
      "\u001b[32m[I 2023-04-12 15:28:54,564]\u001b[0m Trial 86 finished with value: 2.706477012282462 and parameters: {'n_estimators': 650, 'learning_rate': 0.08476957573624998, 'max_depth': 8, 'min_samples_split': 3, 'min_samples_leaf': 3, 'subsample': 0.55, 'max_features': 'log2'}. Best is trial 58 with value: 2.645026223499206.\u001b[0m\n",
      "\u001b[32m[I 2023-04-12 15:28:55,192]\u001b[0m Trial 87 finished with value: 2.715074998199407 and parameters: {'n_estimators': 300, 'learning_rate': 0.06024831746186992, 'max_depth': 9, 'min_samples_split': 3, 'min_samples_leaf': 2, 'subsample': 0.7000000000000001, 'max_features': 'log2'}. Best is trial 58 with value: 2.645026223499206.\u001b[0m\n",
      "\u001b[32m[I 2023-04-12 15:28:56,134]\u001b[0m Trial 88 finished with value: 2.9494923107171696 and parameters: {'n_estimators': 900, 'learning_rate': 0.22946821568248396, 'max_depth': 10, 'min_samples_split': 2, 'min_samples_leaf': 2, 'subsample': 0.65, 'max_features': 'log2'}. Best is trial 58 with value: 2.645026223499206.\u001b[0m\n",
      "\u001b[32m[I 2023-04-12 15:28:57,441]\u001b[0m Trial 89 finished with value: 2.9021953021369216 and parameters: {'n_estimators': 2850, 'learning_rate': 0.1684653005385871, 'max_depth': 11, 'min_samples_split': 2, 'min_samples_leaf': 3, 'subsample': 0.75, 'max_features': 'auto'}. Best is trial 58 with value: 2.645026223499206.\u001b[0m\n",
      "\u001b[32m[I 2023-04-12 15:28:57,876]\u001b[0m Trial 90 finished with value: 2.7406861683119113 and parameters: {'n_estimators': 400, 'learning_rate': 0.076361427411427, 'max_depth': 6, 'min_samples_split': 3, 'min_samples_leaf': 4, 'subsample': 0.6, 'max_features': 'log2'}. Best is trial 58 with value: 2.645026223499206.\u001b[0m\n",
      "\u001b[32m[I 2023-04-12 15:28:58,383]\u001b[0m Trial 91 finished with value: 2.689956912728112 and parameters: {'n_estimators': 800, 'learning_rate': 0.038371697336735525, 'max_depth': 8, 'min_samples_split': 2, 'min_samples_leaf': 2, 'subsample': 0.65, 'max_features': 'log2'}. Best is trial 58 with value: 2.645026223499206.\u001b[0m\n",
      "\u001b[32m[I 2023-04-12 15:28:58,886]\u001b[0m Trial 92 finished with value: 2.7433211740240027 and parameters: {'n_estimators': 750, 'learning_rate': 0.04877797087224475, 'max_depth': 8, 'min_samples_split': 2, 'min_samples_leaf': 2, 'subsample': 0.65, 'max_features': 'log2'}. Best is trial 58 with value: 2.645026223499206.\u001b[0m\n",
      "\u001b[32m[I 2023-04-12 15:28:59,422]\u001b[0m Trial 93 finished with value: 2.783094433152851 and parameters: {'n_estimators': 900, 'learning_rate': 0.10076075846711922, 'max_depth': 9, 'min_samples_split': 2, 'min_samples_leaf': 2, 'subsample': 0.7000000000000001, 'max_features': 'log2'}. Best is trial 58 with value: 2.645026223499206.\u001b[0m\n",
      "\u001b[32m[I 2023-04-12 15:28:59,889]\u001b[0m Trial 94 finished with value: 2.7069140538678758 and parameters: {'n_estimators': 600, 'learning_rate': 0.041682035291116803, 'max_depth': 7, 'min_samples_split': 2, 'min_samples_leaf': 2, 'subsample': 0.6, 'max_features': 'log2'}. Best is trial 58 with value: 2.645026223499206.\u001b[0m\n",
      "\u001b[32m[I 2023-04-12 15:29:00,333]\u001b[0m Trial 95 finished with value: 2.717849861628947 and parameters: {'n_estimators': 200, 'learning_rate': 0.05430716421253562, 'max_depth': 10, 'min_samples_split': 2, 'min_samples_leaf': 3, 'subsample': 0.65, 'max_features': 'log2'}. Best is trial 58 with value: 2.645026223499206.\u001b[0m\n",
      "\u001b[32m[I 2023-04-12 15:29:01,102]\u001b[0m Trial 96 finished with value: 2.766767663083541 and parameters: {'n_estimators': 450, 'learning_rate': 0.06673661294915151, 'max_depth': 12, 'min_samples_split': 2, 'min_samples_leaf': 1, 'subsample': 0.7000000000000001, 'max_features': 'sqrt'}. Best is trial 58 with value: 2.645026223499206.\u001b[0m\n",
      "\u001b[32m[I 2023-04-12 15:29:01,645]\u001b[0m Trial 97 finished with value: 2.766469262688456 and parameters: {'n_estimators': 750, 'learning_rate': 0.13784960789663356, 'max_depth': 9, 'min_samples_split': 3, 'min_samples_leaf': 2, 'subsample': 0.65, 'max_features': 'log2'}. Best is trial 58 with value: 2.645026223499206.\u001b[0m\n",
      "\u001b[32m[I 2023-04-12 15:29:02,133]\u001b[0m Trial 98 finished with value: 2.647190759013323 and parameters: {'n_estimators': 300, 'learning_rate': 0.037740910637752714, 'max_depth': 6, 'min_samples_split': 2, 'min_samples_leaf': 2, 'subsample': 0.6, 'max_features': 'log2'}. Best is trial 58 with value: 2.645026223499206.\u001b[0m\n",
      "\u001b[32m[I 2023-04-12 15:29:02,555]\u001b[0m Trial 99 finished with value: 2.768988379813217 and parameters: {'n_estimators': 350, 'learning_rate': 0.028339957349493104, 'max_depth': 4, 'min_samples_split': 4, 'min_samples_leaf': 5, 'subsample': 0.5, 'max_features': 'sqrt'}. Best is trial 58 with value: 2.645026223499206.\u001b[0m\n"
     ]
    },
    {
     "name": "stdout",
     "output_type": "stream",
     "text": [
      "CPU times: total: 8.77 s\n",
      "Wall time: 2min 23s\n"
     ]
    }
   ],
   "source": [
    "%%time\n",
    "\n",
    "# Separate features and target\n",
    "X, y, scaler = preprocessing.preprocess(df,train=True)\n",
    "\n",
    "# Create study that minimizes\n",
    "study = optuna.create_study(direction=\"minimize\")\n",
    "\n",
    "# Wrap the objective inside a lambda with the relevant arguments\n",
    "kf = KFold(n_splits=5, shuffle=True, random_state=42)\n",
    "# Pass additional arguments inside another function\n",
    "func = lambda trial: objective(trial, X, y, cv=kf, scoring=\"neg_mean_squared_error\")\n",
    "\n",
    "# Start optimizing with 100 trials\n",
    "study.optimize(func, n_trials=100)"
   ]
  },
  {
   "cell_type": "code",
   "execution_count": 6,
   "metadata": {},
   "outputs": [
    {
     "name": "stdout",
     "output_type": "stream",
     "text": [
      "Optimized RMSE: 2.64503\n"
     ]
    }
   ],
   "source": [
    "print(f\"Optimized RMSE: {study.best_value:.5f}\")"
   ]
  },
  {
   "cell_type": "code",
   "execution_count": 7,
   "metadata": {},
   "outputs": [
    {
     "name": "stdout",
     "output_type": "stream",
     "text": [
      "Best params:\n",
      "\tn_estimators: 1200\n",
      "\tlearning_rate: 0.06553336968800896\n",
      "\tmax_depth: 19\n",
      "\tmin_samples_split: 2\n",
      "\tmin_samples_leaf: 1\n",
      "\tsubsample: 0.65\n",
      "\tmax_features: log2\n"
     ]
    }
   ],
   "source": [
    "print(\"Best params:\")\n",
    "for key, value in study.best_params.items():\n",
    "    print(f\"\\t{key}: {value}\")"
   ]
  },
  {
   "attachments": {},
   "cell_type": "markdown",
   "metadata": {},
   "source": [
    "Optuna offers a wide range of plots under its visualization subpackage. Here, we will discuss only 2, which I think are the most useful.\n",
    "\n",
    "First, let's plot the optimization history of the last study:"
   ]
  },
  {
   "cell_type": "code",
   "execution_count": 8,
   "metadata": {},
   "outputs": [
    {
     "data": {
      "application/vnd.plotly.v1+json": {
       "config": {
        "plotlyServerURL": "https://plot.ly",
        "staticPlot": true
       },
       "data": [
        {
         "mode": "markers",
         "name": "Objective Value",
         "type": "scatter",
         "x": [
          0,
          1,
          2,
          3,
          4,
          5,
          6,
          7,
          8,
          9,
          10,
          11,
          12,
          13,
          14,
          15,
          16,
          17,
          18,
          19,
          20,
          21,
          22,
          23,
          24,
          25,
          26,
          27,
          28,
          29,
          30,
          31,
          32,
          33,
          34,
          35,
          36,
          37,
          38,
          39,
          40,
          41,
          42,
          43,
          44,
          45,
          46,
          47,
          48,
          49,
          50,
          51,
          52,
          53,
          54,
          55,
          56,
          57,
          58,
          59,
          60,
          61,
          62,
          63,
          64,
          65,
          66,
          67,
          68,
          69,
          70,
          71,
          72,
          73,
          74,
          75,
          76,
          77,
          78,
          79,
          80,
          81,
          82,
          83,
          84,
          85,
          86,
          87,
          88,
          89,
          90,
          91,
          92,
          93,
          94,
          95,
          96,
          97,
          98,
          99
         ],
         "y": [
          2.8432730842842706,
          5.667383627327067,
          2.7152691005715854,
          2.746433246763973,
          2.7625325558755973,
          2.890937219905236,
          5.390629993511458,
          2.8384624357771213,
          5.035205025396336,
          2.8834974302782825,
          2.941989892497967,
          2.7434671489556473,
          2.9326570454170855,
          2.773693273685038,
          2.6835674833060943,
          2.792933520756116,
          2.813422369559706,
          3.1798637673157493,
          2.7751379803087413,
          2.7414498872476103,
          2.7475382695514856,
          2.765011896917743,
          2.7276001589405507,
          2.7608789613922387,
          2.733483214646817,
          2.869751898234504,
          2.763375832540895,
          2.9975110876921534,
          2.7246244284795518,
          2.807593603835884,
          2.7712957800576956,
          2.797459392534593,
          2.7786764352887108,
          2.8041445637141456,
          2.716443314236315,
          2.7697680264298272,
          2.7553080486601167,
          2.9120648409296033,
          2.7717049222304326,
          2.7571952647177076,
          2.813684380770276,
          2.730282496662612,
          2.650596177636054,
          2.706881718614753,
          2.770163288712788,
          2.7552925358637546,
          2.7617093803419634,
          2.7388435304797096,
          2.725827054961248,
          2.821404209588999,
          2.801428678236672,
          2.727960595092463,
          2.828648371978126,
          2.744466835982304,
          2.6522623220265933,
          2.7821235400544246,
          2.7289120075227964,
          2.748455192832037,
          2.645026223499206,
          2.7805842907067118,
          2.727442462275636,
          2.7361497991148775,
          2.7000716136931753,
          2.7079581910813806,
          2.757712767978427,
          2.711344852810922,
          2.750185494133571,
          2.7310362521205755,
          2.7941880208006524,
          2.6854206334057196,
          2.6862985461868156,
          2.7227535105599276,
          2.6955260410800794,
          2.8108203446488287,
          2.787777323649416,
          2.6819494997297735,
          2.727726435662556,
          2.745511970277695,
          2.7033426499096804,
          2.7493958850979983,
          2.8053698594837315,
          2.699575554128834,
          2.7923857930957063,
          2.716717370240546,
          2.7455036776546677,
          2.706878379071324,
          2.706477012282462,
          2.715074998199407,
          2.9494923107171696,
          2.9021953021369216,
          2.7406861683119113,
          2.689956912728112,
          2.7433211740240027,
          2.783094433152851,
          2.7069140538678758,
          2.717849861628947,
          2.766767663083541,
          2.766469262688456,
          2.647190759013323,
          2.768988379813217
         ]
        },
        {
         "name": "Best Value",
         "type": "scatter",
         "x": [
          0,
          1,
          2,
          3,
          4,
          5,
          6,
          7,
          8,
          9,
          10,
          11,
          12,
          13,
          14,
          15,
          16,
          17,
          18,
          19,
          20,
          21,
          22,
          23,
          24,
          25,
          26,
          27,
          28,
          29,
          30,
          31,
          32,
          33,
          34,
          35,
          36,
          37,
          38,
          39,
          40,
          41,
          42,
          43,
          44,
          45,
          46,
          47,
          48,
          49,
          50,
          51,
          52,
          53,
          54,
          55,
          56,
          57,
          58,
          59,
          60,
          61,
          62,
          63,
          64,
          65,
          66,
          67,
          68,
          69,
          70,
          71,
          72,
          73,
          74,
          75,
          76,
          77,
          78,
          79,
          80,
          81,
          82,
          83,
          84,
          85,
          86,
          87,
          88,
          89,
          90,
          91,
          92,
          93,
          94,
          95,
          96,
          97,
          98,
          99
         ],
         "y": [
          2.8432730842842706,
          2.8432730842842706,
          2.7152691005715854,
          2.7152691005715854,
          2.7152691005715854,
          2.7152691005715854,
          2.7152691005715854,
          2.7152691005715854,
          2.7152691005715854,
          2.7152691005715854,
          2.7152691005715854,
          2.7152691005715854,
          2.7152691005715854,
          2.7152691005715854,
          2.6835674833060943,
          2.6835674833060943,
          2.6835674833060943,
          2.6835674833060943,
          2.6835674833060943,
          2.6835674833060943,
          2.6835674833060943,
          2.6835674833060943,
          2.6835674833060943,
          2.6835674833060943,
          2.6835674833060943,
          2.6835674833060943,
          2.6835674833060943,
          2.6835674833060943,
          2.6835674833060943,
          2.6835674833060943,
          2.6835674833060943,
          2.6835674833060943,
          2.6835674833060943,
          2.6835674833060943,
          2.6835674833060943,
          2.6835674833060943,
          2.6835674833060943,
          2.6835674833060943,
          2.6835674833060943,
          2.6835674833060943,
          2.6835674833060943,
          2.6835674833060943,
          2.650596177636054,
          2.650596177636054,
          2.650596177636054,
          2.650596177636054,
          2.650596177636054,
          2.650596177636054,
          2.650596177636054,
          2.650596177636054,
          2.650596177636054,
          2.650596177636054,
          2.650596177636054,
          2.650596177636054,
          2.650596177636054,
          2.650596177636054,
          2.650596177636054,
          2.650596177636054,
          2.645026223499206,
          2.645026223499206,
          2.645026223499206,
          2.645026223499206,
          2.645026223499206,
          2.645026223499206,
          2.645026223499206,
          2.645026223499206,
          2.645026223499206,
          2.645026223499206,
          2.645026223499206,
          2.645026223499206,
          2.645026223499206,
          2.645026223499206,
          2.645026223499206,
          2.645026223499206,
          2.645026223499206,
          2.645026223499206,
          2.645026223499206,
          2.645026223499206,
          2.645026223499206,
          2.645026223499206,
          2.645026223499206,
          2.645026223499206,
          2.645026223499206,
          2.645026223499206,
          2.645026223499206,
          2.645026223499206,
          2.645026223499206,
          2.645026223499206,
          2.645026223499206,
          2.645026223499206,
          2.645026223499206,
          2.645026223499206,
          2.645026223499206,
          2.645026223499206,
          2.645026223499206,
          2.645026223499206,
          2.645026223499206,
          2.645026223499206,
          2.645026223499206,
          2.645026223499206
         ]
        }
       ],
       "layout": {
        "template": {
         "data": {
          "bar": [
           {
            "error_x": {
             "color": "#2a3f5f"
            },
            "error_y": {
             "color": "#2a3f5f"
            },
            "marker": {
             "line": {
              "color": "#E5ECF6",
              "width": 0.5
             },
             "pattern": {
              "fillmode": "overlay",
              "size": 10,
              "solidity": 0.2
             }
            },
            "type": "bar"
           }
          ],
          "barpolar": [
           {
            "marker": {
             "line": {
              "color": "#E5ECF6",
              "width": 0.5
             },
             "pattern": {
              "fillmode": "overlay",
              "size": 10,
              "solidity": 0.2
             }
            },
            "type": "barpolar"
           }
          ],
          "carpet": [
           {
            "aaxis": {
             "endlinecolor": "#2a3f5f",
             "gridcolor": "white",
             "linecolor": "white",
             "minorgridcolor": "white",
             "startlinecolor": "#2a3f5f"
            },
            "baxis": {
             "endlinecolor": "#2a3f5f",
             "gridcolor": "white",
             "linecolor": "white",
             "minorgridcolor": "white",
             "startlinecolor": "#2a3f5f"
            },
            "type": "carpet"
           }
          ],
          "choropleth": [
           {
            "colorbar": {
             "outlinewidth": 0,
             "ticks": ""
            },
            "type": "choropleth"
           }
          ],
          "contour": [
           {
            "colorbar": {
             "outlinewidth": 0,
             "ticks": ""
            },
            "colorscale": [
             [
              0,
              "#0d0887"
             ],
             [
              0.1111111111111111,
              "#46039f"
             ],
             [
              0.2222222222222222,
              "#7201a8"
             ],
             [
              0.3333333333333333,
              "#9c179e"
             ],
             [
              0.4444444444444444,
              "#bd3786"
             ],
             [
              0.5555555555555556,
              "#d8576b"
             ],
             [
              0.6666666666666666,
              "#ed7953"
             ],
             [
              0.7777777777777778,
              "#fb9f3a"
             ],
             [
              0.8888888888888888,
              "#fdca26"
             ],
             [
              1,
              "#f0f921"
             ]
            ],
            "type": "contour"
           }
          ],
          "contourcarpet": [
           {
            "colorbar": {
             "outlinewidth": 0,
             "ticks": ""
            },
            "type": "contourcarpet"
           }
          ],
          "heatmap": [
           {
            "colorbar": {
             "outlinewidth": 0,
             "ticks": ""
            },
            "colorscale": [
             [
              0,
              "#0d0887"
             ],
             [
              0.1111111111111111,
              "#46039f"
             ],
             [
              0.2222222222222222,
              "#7201a8"
             ],
             [
              0.3333333333333333,
              "#9c179e"
             ],
             [
              0.4444444444444444,
              "#bd3786"
             ],
             [
              0.5555555555555556,
              "#d8576b"
             ],
             [
              0.6666666666666666,
              "#ed7953"
             ],
             [
              0.7777777777777778,
              "#fb9f3a"
             ],
             [
              0.8888888888888888,
              "#fdca26"
             ],
             [
              1,
              "#f0f921"
             ]
            ],
            "type": "heatmap"
           }
          ],
          "heatmapgl": [
           {
            "colorbar": {
             "outlinewidth": 0,
             "ticks": ""
            },
            "colorscale": [
             [
              0,
              "#0d0887"
             ],
             [
              0.1111111111111111,
              "#46039f"
             ],
             [
              0.2222222222222222,
              "#7201a8"
             ],
             [
              0.3333333333333333,
              "#9c179e"
             ],
             [
              0.4444444444444444,
              "#bd3786"
             ],
             [
              0.5555555555555556,
              "#d8576b"
             ],
             [
              0.6666666666666666,
              "#ed7953"
             ],
             [
              0.7777777777777778,
              "#fb9f3a"
             ],
             [
              0.8888888888888888,
              "#fdca26"
             ],
             [
              1,
              "#f0f921"
             ]
            ],
            "type": "heatmapgl"
           }
          ],
          "histogram": [
           {
            "marker": {
             "pattern": {
              "fillmode": "overlay",
              "size": 10,
              "solidity": 0.2
             }
            },
            "type": "histogram"
           }
          ],
          "histogram2d": [
           {
            "colorbar": {
             "outlinewidth": 0,
             "ticks": ""
            },
            "colorscale": [
             [
              0,
              "#0d0887"
             ],
             [
              0.1111111111111111,
              "#46039f"
             ],
             [
              0.2222222222222222,
              "#7201a8"
             ],
             [
              0.3333333333333333,
              "#9c179e"
             ],
             [
              0.4444444444444444,
              "#bd3786"
             ],
             [
              0.5555555555555556,
              "#d8576b"
             ],
             [
              0.6666666666666666,
              "#ed7953"
             ],
             [
              0.7777777777777778,
              "#fb9f3a"
             ],
             [
              0.8888888888888888,
              "#fdca26"
             ],
             [
              1,
              "#f0f921"
             ]
            ],
            "type": "histogram2d"
           }
          ],
          "histogram2dcontour": [
           {
            "colorbar": {
             "outlinewidth": 0,
             "ticks": ""
            },
            "colorscale": [
             [
              0,
              "#0d0887"
             ],
             [
              0.1111111111111111,
              "#46039f"
             ],
             [
              0.2222222222222222,
              "#7201a8"
             ],
             [
              0.3333333333333333,
              "#9c179e"
             ],
             [
              0.4444444444444444,
              "#bd3786"
             ],
             [
              0.5555555555555556,
              "#d8576b"
             ],
             [
              0.6666666666666666,
              "#ed7953"
             ],
             [
              0.7777777777777778,
              "#fb9f3a"
             ],
             [
              0.8888888888888888,
              "#fdca26"
             ],
             [
              1,
              "#f0f921"
             ]
            ],
            "type": "histogram2dcontour"
           }
          ],
          "mesh3d": [
           {
            "colorbar": {
             "outlinewidth": 0,
             "ticks": ""
            },
            "type": "mesh3d"
           }
          ],
          "parcoords": [
           {
            "line": {
             "colorbar": {
              "outlinewidth": 0,
              "ticks": ""
             }
            },
            "type": "parcoords"
           }
          ],
          "pie": [
           {
            "automargin": true,
            "type": "pie"
           }
          ],
          "scatter": [
           {
            "fillpattern": {
             "fillmode": "overlay",
             "size": 10,
             "solidity": 0.2
            },
            "type": "scatter"
           }
          ],
          "scatter3d": [
           {
            "line": {
             "colorbar": {
              "outlinewidth": 0,
              "ticks": ""
             }
            },
            "marker": {
             "colorbar": {
              "outlinewidth": 0,
              "ticks": ""
             }
            },
            "type": "scatter3d"
           }
          ],
          "scattercarpet": [
           {
            "marker": {
             "colorbar": {
              "outlinewidth": 0,
              "ticks": ""
             }
            },
            "type": "scattercarpet"
           }
          ],
          "scattergeo": [
           {
            "marker": {
             "colorbar": {
              "outlinewidth": 0,
              "ticks": ""
             }
            },
            "type": "scattergeo"
           }
          ],
          "scattergl": [
           {
            "marker": {
             "colorbar": {
              "outlinewidth": 0,
              "ticks": ""
             }
            },
            "type": "scattergl"
           }
          ],
          "scattermapbox": [
           {
            "marker": {
             "colorbar": {
              "outlinewidth": 0,
              "ticks": ""
             }
            },
            "type": "scattermapbox"
           }
          ],
          "scatterpolar": [
           {
            "marker": {
             "colorbar": {
              "outlinewidth": 0,
              "ticks": ""
             }
            },
            "type": "scatterpolar"
           }
          ],
          "scatterpolargl": [
           {
            "marker": {
             "colorbar": {
              "outlinewidth": 0,
              "ticks": ""
             }
            },
            "type": "scatterpolargl"
           }
          ],
          "scatterternary": [
           {
            "marker": {
             "colorbar": {
              "outlinewidth": 0,
              "ticks": ""
             }
            },
            "type": "scatterternary"
           }
          ],
          "surface": [
           {
            "colorbar": {
             "outlinewidth": 0,
             "ticks": ""
            },
            "colorscale": [
             [
              0,
              "#0d0887"
             ],
             [
              0.1111111111111111,
              "#46039f"
             ],
             [
              0.2222222222222222,
              "#7201a8"
             ],
             [
              0.3333333333333333,
              "#9c179e"
             ],
             [
              0.4444444444444444,
              "#bd3786"
             ],
             [
              0.5555555555555556,
              "#d8576b"
             ],
             [
              0.6666666666666666,
              "#ed7953"
             ],
             [
              0.7777777777777778,
              "#fb9f3a"
             ],
             [
              0.8888888888888888,
              "#fdca26"
             ],
             [
              1,
              "#f0f921"
             ]
            ],
            "type": "surface"
           }
          ],
          "table": [
           {
            "cells": {
             "fill": {
              "color": "#EBF0F8"
             },
             "line": {
              "color": "white"
             }
            },
            "header": {
             "fill": {
              "color": "#C8D4E3"
             },
             "line": {
              "color": "white"
             }
            },
            "type": "table"
           }
          ]
         },
         "layout": {
          "annotationdefaults": {
           "arrowcolor": "#2a3f5f",
           "arrowhead": 0,
           "arrowwidth": 1
          },
          "autotypenumbers": "strict",
          "coloraxis": {
           "colorbar": {
            "outlinewidth": 0,
            "ticks": ""
           }
          },
          "colorscale": {
           "diverging": [
            [
             0,
             "#8e0152"
            ],
            [
             0.1,
             "#c51b7d"
            ],
            [
             0.2,
             "#de77ae"
            ],
            [
             0.3,
             "#f1b6da"
            ],
            [
             0.4,
             "#fde0ef"
            ],
            [
             0.5,
             "#f7f7f7"
            ],
            [
             0.6,
             "#e6f5d0"
            ],
            [
             0.7,
             "#b8e186"
            ],
            [
             0.8,
             "#7fbc41"
            ],
            [
             0.9,
             "#4d9221"
            ],
            [
             1,
             "#276419"
            ]
           ],
           "sequential": [
            [
             0,
             "#0d0887"
            ],
            [
             0.1111111111111111,
             "#46039f"
            ],
            [
             0.2222222222222222,
             "#7201a8"
            ],
            [
             0.3333333333333333,
             "#9c179e"
            ],
            [
             0.4444444444444444,
             "#bd3786"
            ],
            [
             0.5555555555555556,
             "#d8576b"
            ],
            [
             0.6666666666666666,
             "#ed7953"
            ],
            [
             0.7777777777777778,
             "#fb9f3a"
            ],
            [
             0.8888888888888888,
             "#fdca26"
            ],
            [
             1,
             "#f0f921"
            ]
           ],
           "sequentialminus": [
            [
             0,
             "#0d0887"
            ],
            [
             0.1111111111111111,
             "#46039f"
            ],
            [
             0.2222222222222222,
             "#7201a8"
            ],
            [
             0.3333333333333333,
             "#9c179e"
            ],
            [
             0.4444444444444444,
             "#bd3786"
            ],
            [
             0.5555555555555556,
             "#d8576b"
            ],
            [
             0.6666666666666666,
             "#ed7953"
            ],
            [
             0.7777777777777778,
             "#fb9f3a"
            ],
            [
             0.8888888888888888,
             "#fdca26"
            ],
            [
             1,
             "#f0f921"
            ]
           ]
          },
          "colorway": [
           "#636efa",
           "#EF553B",
           "#00cc96",
           "#ab63fa",
           "#FFA15A",
           "#19d3f3",
           "#FF6692",
           "#B6E880",
           "#FF97FF",
           "#FECB52"
          ],
          "font": {
           "color": "#2a3f5f"
          },
          "geo": {
           "bgcolor": "white",
           "lakecolor": "white",
           "landcolor": "#E5ECF6",
           "showlakes": true,
           "showland": true,
           "subunitcolor": "white"
          },
          "hoverlabel": {
           "align": "left"
          },
          "hovermode": "closest",
          "mapbox": {
           "style": "light"
          },
          "paper_bgcolor": "white",
          "plot_bgcolor": "#E5ECF6",
          "polar": {
           "angularaxis": {
            "gridcolor": "white",
            "linecolor": "white",
            "ticks": ""
           },
           "bgcolor": "#E5ECF6",
           "radialaxis": {
            "gridcolor": "white",
            "linecolor": "white",
            "ticks": ""
           }
          },
          "scene": {
           "xaxis": {
            "backgroundcolor": "#E5ECF6",
            "gridcolor": "white",
            "gridwidth": 2,
            "linecolor": "white",
            "showbackground": true,
            "ticks": "",
            "zerolinecolor": "white"
           },
           "yaxis": {
            "backgroundcolor": "#E5ECF6",
            "gridcolor": "white",
            "gridwidth": 2,
            "linecolor": "white",
            "showbackground": true,
            "ticks": "",
            "zerolinecolor": "white"
           },
           "zaxis": {
            "backgroundcolor": "#E5ECF6",
            "gridcolor": "white",
            "gridwidth": 2,
            "linecolor": "white",
            "showbackground": true,
            "ticks": "",
            "zerolinecolor": "white"
           }
          },
          "shapedefaults": {
           "line": {
            "color": "#2a3f5f"
           }
          },
          "ternary": {
           "aaxis": {
            "gridcolor": "white",
            "linecolor": "white",
            "ticks": ""
           },
           "baxis": {
            "gridcolor": "white",
            "linecolor": "white",
            "ticks": ""
           },
           "bgcolor": "#E5ECF6",
           "caxis": {
            "gridcolor": "white",
            "linecolor": "white",
            "ticks": ""
           }
          },
          "title": {
           "x": 0.05
          },
          "xaxis": {
           "automargin": true,
           "gridcolor": "white",
           "linecolor": "white",
           "ticks": "",
           "title": {
            "standoff": 15
           },
           "zerolinecolor": "white",
           "zerolinewidth": 2
          },
          "yaxis": {
           "automargin": true,
           "gridcolor": "white",
           "linecolor": "white",
           "ticks": "",
           "title": {
            "standoff": 15
           },
           "zerolinecolor": "white",
           "zerolinewidth": 2
          }
         }
        },
        "title": {
         "text": "Optimization History Plot"
        },
        "xaxis": {
         "title": {
          "text": "Trial"
         }
        },
        "yaxis": {
         "title": {
          "text": "Objective Value"
         }
        }
       }
      }
     },
     "metadata": {},
     "output_type": "display_data"
    }
   ],
   "source": [
    "from optuna.visualization import plot_optimization_history\n",
    "\n",
    "plotly_config = {\"staticPlot\": True}\n",
    "\n",
    "fig = plot_optimization_history(study)\n",
    "fig.show(config=plotly_config)"
   ]
  },
  {
   "cell_type": "markdown",
   "metadata": {},
   "source": [
    "This plot tells us that Optuna made the score converge to the minimum after only a few trials.\n",
    "\n",
    "Next, let's plot hyperparameter importances:"
   ]
  },
  {
   "cell_type": "code",
   "execution_count": 9,
   "metadata": {},
   "outputs": [
    {
     "data": {
      "application/vnd.plotly.v1+json": {
       "config": {
        "plotlyServerURL": "https://plot.ly",
        "staticPlot": true
       },
       "data": [
        {
         "cliponaxis": false,
         "hovertemplate": [
          "min_samples_leaf (IntDistribution): 0.0014157433419567306<extra></extra>",
          "max_features (CategoricalDistribution): 0.004374490592083904<extra></extra>",
          "min_samples_split (IntDistribution): 0.006447230284726787<extra></extra>",
          "max_depth (IntDistribution): 0.025587732920311256<extra></extra>",
          "n_estimators (IntDistribution): 0.10732053570066216<extra></extra>",
          "subsample (FloatDistribution): 0.19631771968289213<extra></extra>",
          "learning_rate (FloatDistribution): 0.658536547477367<extra></extra>"
         ],
         "marker": {
          "color": "rgb(66,146,198)"
         },
         "orientation": "h",
         "text": [
          "<0.01",
          "<0.01",
          "<0.01",
          "0.03",
          "0.11",
          "0.20",
          "0.66"
         ],
         "textposition": "outside",
         "type": "bar",
         "x": [
          0.0014157433419567306,
          0.004374490592083904,
          0.006447230284726787,
          0.025587732920311256,
          0.10732053570066216,
          0.19631771968289213,
          0.658536547477367
         ],
         "y": [
          "min_samples_leaf",
          "max_features",
          "min_samples_split",
          "max_depth",
          "n_estimators",
          "subsample",
          "learning_rate"
         ]
        }
       ],
       "layout": {
        "showlegend": false,
        "template": {
         "data": {
          "bar": [
           {
            "error_x": {
             "color": "#2a3f5f"
            },
            "error_y": {
             "color": "#2a3f5f"
            },
            "marker": {
             "line": {
              "color": "#E5ECF6",
              "width": 0.5
             },
             "pattern": {
              "fillmode": "overlay",
              "size": 10,
              "solidity": 0.2
             }
            },
            "type": "bar"
           }
          ],
          "barpolar": [
           {
            "marker": {
             "line": {
              "color": "#E5ECF6",
              "width": 0.5
             },
             "pattern": {
              "fillmode": "overlay",
              "size": 10,
              "solidity": 0.2
             }
            },
            "type": "barpolar"
           }
          ],
          "carpet": [
           {
            "aaxis": {
             "endlinecolor": "#2a3f5f",
             "gridcolor": "white",
             "linecolor": "white",
             "minorgridcolor": "white",
             "startlinecolor": "#2a3f5f"
            },
            "baxis": {
             "endlinecolor": "#2a3f5f",
             "gridcolor": "white",
             "linecolor": "white",
             "minorgridcolor": "white",
             "startlinecolor": "#2a3f5f"
            },
            "type": "carpet"
           }
          ],
          "choropleth": [
           {
            "colorbar": {
             "outlinewidth": 0,
             "ticks": ""
            },
            "type": "choropleth"
           }
          ],
          "contour": [
           {
            "colorbar": {
             "outlinewidth": 0,
             "ticks": ""
            },
            "colorscale": [
             [
              0,
              "#0d0887"
             ],
             [
              0.1111111111111111,
              "#46039f"
             ],
             [
              0.2222222222222222,
              "#7201a8"
             ],
             [
              0.3333333333333333,
              "#9c179e"
             ],
             [
              0.4444444444444444,
              "#bd3786"
             ],
             [
              0.5555555555555556,
              "#d8576b"
             ],
             [
              0.6666666666666666,
              "#ed7953"
             ],
             [
              0.7777777777777778,
              "#fb9f3a"
             ],
             [
              0.8888888888888888,
              "#fdca26"
             ],
             [
              1,
              "#f0f921"
             ]
            ],
            "type": "contour"
           }
          ],
          "contourcarpet": [
           {
            "colorbar": {
             "outlinewidth": 0,
             "ticks": ""
            },
            "type": "contourcarpet"
           }
          ],
          "heatmap": [
           {
            "colorbar": {
             "outlinewidth": 0,
             "ticks": ""
            },
            "colorscale": [
             [
              0,
              "#0d0887"
             ],
             [
              0.1111111111111111,
              "#46039f"
             ],
             [
              0.2222222222222222,
              "#7201a8"
             ],
             [
              0.3333333333333333,
              "#9c179e"
             ],
             [
              0.4444444444444444,
              "#bd3786"
             ],
             [
              0.5555555555555556,
              "#d8576b"
             ],
             [
              0.6666666666666666,
              "#ed7953"
             ],
             [
              0.7777777777777778,
              "#fb9f3a"
             ],
             [
              0.8888888888888888,
              "#fdca26"
             ],
             [
              1,
              "#f0f921"
             ]
            ],
            "type": "heatmap"
           }
          ],
          "heatmapgl": [
           {
            "colorbar": {
             "outlinewidth": 0,
             "ticks": ""
            },
            "colorscale": [
             [
              0,
              "#0d0887"
             ],
             [
              0.1111111111111111,
              "#46039f"
             ],
             [
              0.2222222222222222,
              "#7201a8"
             ],
             [
              0.3333333333333333,
              "#9c179e"
             ],
             [
              0.4444444444444444,
              "#bd3786"
             ],
             [
              0.5555555555555556,
              "#d8576b"
             ],
             [
              0.6666666666666666,
              "#ed7953"
             ],
             [
              0.7777777777777778,
              "#fb9f3a"
             ],
             [
              0.8888888888888888,
              "#fdca26"
             ],
             [
              1,
              "#f0f921"
             ]
            ],
            "type": "heatmapgl"
           }
          ],
          "histogram": [
           {
            "marker": {
             "pattern": {
              "fillmode": "overlay",
              "size": 10,
              "solidity": 0.2
             }
            },
            "type": "histogram"
           }
          ],
          "histogram2d": [
           {
            "colorbar": {
             "outlinewidth": 0,
             "ticks": ""
            },
            "colorscale": [
             [
              0,
              "#0d0887"
             ],
             [
              0.1111111111111111,
              "#46039f"
             ],
             [
              0.2222222222222222,
              "#7201a8"
             ],
             [
              0.3333333333333333,
              "#9c179e"
             ],
             [
              0.4444444444444444,
              "#bd3786"
             ],
             [
              0.5555555555555556,
              "#d8576b"
             ],
             [
              0.6666666666666666,
              "#ed7953"
             ],
             [
              0.7777777777777778,
              "#fb9f3a"
             ],
             [
              0.8888888888888888,
              "#fdca26"
             ],
             [
              1,
              "#f0f921"
             ]
            ],
            "type": "histogram2d"
           }
          ],
          "histogram2dcontour": [
           {
            "colorbar": {
             "outlinewidth": 0,
             "ticks": ""
            },
            "colorscale": [
             [
              0,
              "#0d0887"
             ],
             [
              0.1111111111111111,
              "#46039f"
             ],
             [
              0.2222222222222222,
              "#7201a8"
             ],
             [
              0.3333333333333333,
              "#9c179e"
             ],
             [
              0.4444444444444444,
              "#bd3786"
             ],
             [
              0.5555555555555556,
              "#d8576b"
             ],
             [
              0.6666666666666666,
              "#ed7953"
             ],
             [
              0.7777777777777778,
              "#fb9f3a"
             ],
             [
              0.8888888888888888,
              "#fdca26"
             ],
             [
              1,
              "#f0f921"
             ]
            ],
            "type": "histogram2dcontour"
           }
          ],
          "mesh3d": [
           {
            "colorbar": {
             "outlinewidth": 0,
             "ticks": ""
            },
            "type": "mesh3d"
           }
          ],
          "parcoords": [
           {
            "line": {
             "colorbar": {
              "outlinewidth": 0,
              "ticks": ""
             }
            },
            "type": "parcoords"
           }
          ],
          "pie": [
           {
            "automargin": true,
            "type": "pie"
           }
          ],
          "scatter": [
           {
            "fillpattern": {
             "fillmode": "overlay",
             "size": 10,
             "solidity": 0.2
            },
            "type": "scatter"
           }
          ],
          "scatter3d": [
           {
            "line": {
             "colorbar": {
              "outlinewidth": 0,
              "ticks": ""
             }
            },
            "marker": {
             "colorbar": {
              "outlinewidth": 0,
              "ticks": ""
             }
            },
            "type": "scatter3d"
           }
          ],
          "scattercarpet": [
           {
            "marker": {
             "colorbar": {
              "outlinewidth": 0,
              "ticks": ""
             }
            },
            "type": "scattercarpet"
           }
          ],
          "scattergeo": [
           {
            "marker": {
             "colorbar": {
              "outlinewidth": 0,
              "ticks": ""
             }
            },
            "type": "scattergeo"
           }
          ],
          "scattergl": [
           {
            "marker": {
             "colorbar": {
              "outlinewidth": 0,
              "ticks": ""
             }
            },
            "type": "scattergl"
           }
          ],
          "scattermapbox": [
           {
            "marker": {
             "colorbar": {
              "outlinewidth": 0,
              "ticks": ""
             }
            },
            "type": "scattermapbox"
           }
          ],
          "scatterpolar": [
           {
            "marker": {
             "colorbar": {
              "outlinewidth": 0,
              "ticks": ""
             }
            },
            "type": "scatterpolar"
           }
          ],
          "scatterpolargl": [
           {
            "marker": {
             "colorbar": {
              "outlinewidth": 0,
              "ticks": ""
             }
            },
            "type": "scatterpolargl"
           }
          ],
          "scatterternary": [
           {
            "marker": {
             "colorbar": {
              "outlinewidth": 0,
              "ticks": ""
             }
            },
            "type": "scatterternary"
           }
          ],
          "surface": [
           {
            "colorbar": {
             "outlinewidth": 0,
             "ticks": ""
            },
            "colorscale": [
             [
              0,
              "#0d0887"
             ],
             [
              0.1111111111111111,
              "#46039f"
             ],
             [
              0.2222222222222222,
              "#7201a8"
             ],
             [
              0.3333333333333333,
              "#9c179e"
             ],
             [
              0.4444444444444444,
              "#bd3786"
             ],
             [
              0.5555555555555556,
              "#d8576b"
             ],
             [
              0.6666666666666666,
              "#ed7953"
             ],
             [
              0.7777777777777778,
              "#fb9f3a"
             ],
             [
              0.8888888888888888,
              "#fdca26"
             ],
             [
              1,
              "#f0f921"
             ]
            ],
            "type": "surface"
           }
          ],
          "table": [
           {
            "cells": {
             "fill": {
              "color": "#EBF0F8"
             },
             "line": {
              "color": "white"
             }
            },
            "header": {
             "fill": {
              "color": "#C8D4E3"
             },
             "line": {
              "color": "white"
             }
            },
            "type": "table"
           }
          ]
         },
         "layout": {
          "annotationdefaults": {
           "arrowcolor": "#2a3f5f",
           "arrowhead": 0,
           "arrowwidth": 1
          },
          "autotypenumbers": "strict",
          "coloraxis": {
           "colorbar": {
            "outlinewidth": 0,
            "ticks": ""
           }
          },
          "colorscale": {
           "diverging": [
            [
             0,
             "#8e0152"
            ],
            [
             0.1,
             "#c51b7d"
            ],
            [
             0.2,
             "#de77ae"
            ],
            [
             0.3,
             "#f1b6da"
            ],
            [
             0.4,
             "#fde0ef"
            ],
            [
             0.5,
             "#f7f7f7"
            ],
            [
             0.6,
             "#e6f5d0"
            ],
            [
             0.7,
             "#b8e186"
            ],
            [
             0.8,
             "#7fbc41"
            ],
            [
             0.9,
             "#4d9221"
            ],
            [
             1,
             "#276419"
            ]
           ],
           "sequential": [
            [
             0,
             "#0d0887"
            ],
            [
             0.1111111111111111,
             "#46039f"
            ],
            [
             0.2222222222222222,
             "#7201a8"
            ],
            [
             0.3333333333333333,
             "#9c179e"
            ],
            [
             0.4444444444444444,
             "#bd3786"
            ],
            [
             0.5555555555555556,
             "#d8576b"
            ],
            [
             0.6666666666666666,
             "#ed7953"
            ],
            [
             0.7777777777777778,
             "#fb9f3a"
            ],
            [
             0.8888888888888888,
             "#fdca26"
            ],
            [
             1,
             "#f0f921"
            ]
           ],
           "sequentialminus": [
            [
             0,
             "#0d0887"
            ],
            [
             0.1111111111111111,
             "#46039f"
            ],
            [
             0.2222222222222222,
             "#7201a8"
            ],
            [
             0.3333333333333333,
             "#9c179e"
            ],
            [
             0.4444444444444444,
             "#bd3786"
            ],
            [
             0.5555555555555556,
             "#d8576b"
            ],
            [
             0.6666666666666666,
             "#ed7953"
            ],
            [
             0.7777777777777778,
             "#fb9f3a"
            ],
            [
             0.8888888888888888,
             "#fdca26"
            ],
            [
             1,
             "#f0f921"
            ]
           ]
          },
          "colorway": [
           "#636efa",
           "#EF553B",
           "#00cc96",
           "#ab63fa",
           "#FFA15A",
           "#19d3f3",
           "#FF6692",
           "#B6E880",
           "#FF97FF",
           "#FECB52"
          ],
          "font": {
           "color": "#2a3f5f"
          },
          "geo": {
           "bgcolor": "white",
           "lakecolor": "white",
           "landcolor": "#E5ECF6",
           "showlakes": true,
           "showland": true,
           "subunitcolor": "white"
          },
          "hoverlabel": {
           "align": "left"
          },
          "hovermode": "closest",
          "mapbox": {
           "style": "light"
          },
          "paper_bgcolor": "white",
          "plot_bgcolor": "#E5ECF6",
          "polar": {
           "angularaxis": {
            "gridcolor": "white",
            "linecolor": "white",
            "ticks": ""
           },
           "bgcolor": "#E5ECF6",
           "radialaxis": {
            "gridcolor": "white",
            "linecolor": "white",
            "ticks": ""
           }
          },
          "scene": {
           "xaxis": {
            "backgroundcolor": "#E5ECF6",
            "gridcolor": "white",
            "gridwidth": 2,
            "linecolor": "white",
            "showbackground": true,
            "ticks": "",
            "zerolinecolor": "white"
           },
           "yaxis": {
            "backgroundcolor": "#E5ECF6",
            "gridcolor": "white",
            "gridwidth": 2,
            "linecolor": "white",
            "showbackground": true,
            "ticks": "",
            "zerolinecolor": "white"
           },
           "zaxis": {
            "backgroundcolor": "#E5ECF6",
            "gridcolor": "white",
            "gridwidth": 2,
            "linecolor": "white",
            "showbackground": true,
            "ticks": "",
            "zerolinecolor": "white"
           }
          },
          "shapedefaults": {
           "line": {
            "color": "#2a3f5f"
           }
          },
          "ternary": {
           "aaxis": {
            "gridcolor": "white",
            "linecolor": "white",
            "ticks": ""
           },
           "baxis": {
            "gridcolor": "white",
            "linecolor": "white",
            "ticks": ""
           },
           "bgcolor": "#E5ECF6",
           "caxis": {
            "gridcolor": "white",
            "linecolor": "white",
            "ticks": ""
           }
          },
          "title": {
           "x": 0.05
          },
          "xaxis": {
           "automargin": true,
           "gridcolor": "white",
           "linecolor": "white",
           "ticks": "",
           "title": {
            "standoff": 15
           },
           "zerolinecolor": "white",
           "zerolinewidth": 2
          },
          "yaxis": {
           "automargin": true,
           "gridcolor": "white",
           "linecolor": "white",
           "ticks": "",
           "title": {
            "standoff": 15
           },
           "zerolinecolor": "white",
           "zerolinewidth": 2
          }
         }
        },
        "title": {
         "text": "Hyperparameter Importances"
        },
        "xaxis": {
         "title": {
          "text": "Importance for Objective Value"
         }
        },
        "yaxis": {
         "title": {
          "text": "Hyperparameter"
         }
        }
       }
      }
     },
     "metadata": {},
     "output_type": "display_data"
    }
   ],
   "source": [
    "from optuna.visualization import plot_param_importances\n",
    "\n",
    "fig = plot_param_importances(study)\n",
    "fig.show(config=plotly_config)"
   ]
  },
  {
   "attachments": {},
   "cell_type": "markdown",
   "metadata": {},
   "source": [
    "This plot is massively useful! It tells us several things, including:\n",
    "\n",
    "- learning_rate , subsample and n_estimator are the most important\n",
    "- max_features, min_samples_leaf and min_samples_split are useless for minimizing the loss\n",
    "\n",
    "A plot like this comes in handy when tuning models with many hyperparameters. For example, you could take a test run of 40–50 trials and plot the parameter importances.\n",
    "\n",
    "Depending on the plot, you might decide to discard some less important parameters and give a larger search space for other ones, possibly reducing the search time and space."
   ]
  },
  {
   "attachments": {},
   "cell_type": "markdown",
   "metadata": {},
   "source": [
    "the tuning did not improve the rmse But you can play around with optuna and add other hyperparameter to see if you can improve the rmse "
   ]
  },
  {
   "cell_type": "code",
   "execution_count": 18,
   "metadata": {},
   "outputs": [
    {
     "data": {
      "text/html": [
       "<style>#sk-container-id-2 {color: black;background-color: white;}#sk-container-id-2 pre{padding: 0;}#sk-container-id-2 div.sk-toggleable {background-color: white;}#sk-container-id-2 label.sk-toggleable__label {cursor: pointer;display: block;width: 100%;margin-bottom: 0;padding: 0.3em;box-sizing: border-box;text-align: center;}#sk-container-id-2 label.sk-toggleable__label-arrow:before {content: \"▸\";float: left;margin-right: 0.25em;color: #696969;}#sk-container-id-2 label.sk-toggleable__label-arrow:hover:before {color: black;}#sk-container-id-2 div.sk-estimator:hover label.sk-toggleable__label-arrow:before {color: black;}#sk-container-id-2 div.sk-toggleable__content {max-height: 0;max-width: 0;overflow: hidden;text-align: left;background-color: #f0f8ff;}#sk-container-id-2 div.sk-toggleable__content pre {margin: 0.2em;color: black;border-radius: 0.25em;background-color: #f0f8ff;}#sk-container-id-2 input.sk-toggleable__control:checked~div.sk-toggleable__content {max-height: 200px;max-width: 100%;overflow: auto;}#sk-container-id-2 input.sk-toggleable__control:checked~label.sk-toggleable__label-arrow:before {content: \"▾\";}#sk-container-id-2 div.sk-estimator input.sk-toggleable__control:checked~label.sk-toggleable__label {background-color: #d4ebff;}#sk-container-id-2 div.sk-label input.sk-toggleable__control:checked~label.sk-toggleable__label {background-color: #d4ebff;}#sk-container-id-2 input.sk-hidden--visually {border: 0;clip: rect(1px 1px 1px 1px);clip: rect(1px, 1px, 1px, 1px);height: 1px;margin: -1px;overflow: hidden;padding: 0;position: absolute;width: 1px;}#sk-container-id-2 div.sk-estimator {font-family: monospace;background-color: #f0f8ff;border: 1px dotted black;border-radius: 0.25em;box-sizing: border-box;margin-bottom: 0.5em;}#sk-container-id-2 div.sk-estimator:hover {background-color: #d4ebff;}#sk-container-id-2 div.sk-parallel-item::after {content: \"\";width: 100%;border-bottom: 1px solid gray;flex-grow: 1;}#sk-container-id-2 div.sk-label:hover label.sk-toggleable__label {background-color: #d4ebff;}#sk-container-id-2 div.sk-serial::before {content: \"\";position: absolute;border-left: 1px solid gray;box-sizing: border-box;top: 0;bottom: 0;left: 50%;z-index: 0;}#sk-container-id-2 div.sk-serial {display: flex;flex-direction: column;align-items: center;background-color: white;padding-right: 0.2em;padding-left: 0.2em;position: relative;}#sk-container-id-2 div.sk-item {position: relative;z-index: 1;}#sk-container-id-2 div.sk-parallel {display: flex;align-items: stretch;justify-content: center;background-color: white;position: relative;}#sk-container-id-2 div.sk-item::before, #sk-container-id-2 div.sk-parallel-item::before {content: \"\";position: absolute;border-left: 1px solid gray;box-sizing: border-box;top: 0;bottom: 0;left: 50%;z-index: -1;}#sk-container-id-2 div.sk-parallel-item {display: flex;flex-direction: column;z-index: 1;position: relative;background-color: white;}#sk-container-id-2 div.sk-parallel-item:first-child::after {align-self: flex-end;width: 50%;}#sk-container-id-2 div.sk-parallel-item:last-child::after {align-self: flex-start;width: 50%;}#sk-container-id-2 div.sk-parallel-item:only-child::after {width: 0;}#sk-container-id-2 div.sk-dashed-wrapped {border: 1px dashed gray;margin: 0 0.4em 0.5em 0.4em;box-sizing: border-box;padding-bottom: 0.4em;background-color: white;}#sk-container-id-2 div.sk-label label {font-family: monospace;font-weight: bold;display: inline-block;line-height: 1.2em;}#sk-container-id-2 div.sk-label-container {text-align: center;}#sk-container-id-2 div.sk-container {/* jupyter's `normalize.less` sets `[hidden] { display: none; }` but bootstrap.min.css set `[hidden] { display: none !important; }` so we also need the `!important` here to be able to override the default hidden behavior on the sphinx rendered scikit-learn.org. See: https://github.com/scikit-learn/scikit-learn/issues/21755 */display: inline-block !important;position: relative;}#sk-container-id-2 div.sk-text-repr-fallback {display: none;}</style><div id=\"sk-container-id-2\" class=\"sk-top-container\"><div class=\"sk-text-repr-fallback\"><pre>GradientBoostingRegressor(learning_rate=0.06553336968800896, max_depth=19,\n",
       "                          max_features=&#x27;log2&#x27;, n_estimators=1200,\n",
       "                          subsample=0.65)</pre><b>In a Jupyter environment, please rerun this cell to show the HTML representation or trust the notebook. <br />On GitHub, the HTML representation is unable to render, please try loading this page with nbviewer.org.</b></div><div class=\"sk-container\" hidden><div class=\"sk-item\"><div class=\"sk-estimator sk-toggleable\"><input class=\"sk-toggleable__control sk-hidden--visually\" id=\"sk-estimator-id-2\" type=\"checkbox\" checked><label for=\"sk-estimator-id-2\" class=\"sk-toggleable__label sk-toggleable__label-arrow\">GradientBoostingRegressor</label><div class=\"sk-toggleable__content\"><pre>GradientBoostingRegressor(learning_rate=0.06553336968800896, max_depth=19,\n",
       "                          max_features=&#x27;log2&#x27;, n_estimators=1200,\n",
       "                          subsample=0.65)</pre></div></div></div></div></div>"
      ],
      "text/plain": [
       "GradientBoostingRegressor(learning_rate=0.06553336968800896, max_depth=19,\n",
       "                          max_features='log2', n_estimators=1200,\n",
       "                          subsample=0.65)"
      ]
     },
     "execution_count": 18,
     "metadata": {},
     "output_type": "execute_result"
    }
   ],
   "source": [
    "best_params=study.best_params\n",
    "model= GradientBoostingRegressor(**best_params)\n",
    "model.fit(X, y)"
   ]
  },
  {
   "attachments": {},
   "cell_type": "markdown",
   "metadata": {},
   "source": [
    "now we can test the model with unseen data"
   ]
  },
  {
   "cell_type": "code",
   "execution_count": 20,
   "metadata": {},
   "outputs": [
    {
     "data": {
      "text/plain": [
       "2.7287984923534383"
      ]
     },
     "execution_count": 20,
     "metadata": {},
     "output_type": "execute_result"
    }
   ],
   "source": [
    "\n",
    "df = pd.read_csv(\"../data/test_set.csv\")\n",
    "\n",
    "# Separate features and target\n",
    "\n",
    "X_test, y_test, scaler = preprocessing.preprocess(df,scaler=scaler)\n",
    "\n",
    "final_predictions = model.predict(X_test)\n",
    "final_rmse = np.sqrt(mean_squared_error(y_test, final_predictions))\n",
    "final_rmse"
   ]
  },
  {
   "attachments": {},
   "cell_type": "markdown",
   "metadata": {},
   "source": [
    "we can even plot the actual vs predicted "
   ]
  },
  {
   "cell_type": "code",
   "execution_count": 21,
   "metadata": {},
   "outputs": [
    {
     "data": {
      "text/plain": [
       "<matplotlib.legend.Legend at 0x19765e6abc0>"
      ]
     },
     "execution_count": 21,
     "metadata": {},
     "output_type": "execute_result"
    },
    {
     "data": {
      "image/png": "[encoded data removed]",
      "text/plain": [
       "<Figure size 640x480 with 1 Axes>"
      ]
     },
     "metadata": {},
     "output_type": "display_data"
    }
   ],
   "source": [
    "import matplotlib.pyplot as plt\n",
    "plt.plot(final_predictions,label='predic')\n",
    "plt.plot(y_test,label='actual')\n",
    "plt.legend()"
   ]
  },
  {
   "attachments": {},
   "cell_type": "markdown",
   "metadata": {},
   "source": [
    "let's now visualize the features importance"
   ]
  },
  {
   "cell_type": "code",
   "execution_count": 77,
   "metadata": {},
   "outputs": [
    {
     "data": {
      "image/png": "[encoded data removed]",
      "text/plain": [
       "<Figure size 800x400 with 1 Axes>"
      ]
     },
     "metadata": {},
     "output_type": "display_data"
    }
   ],
   "source": [
    "feature_importance = model.feature_importances_\n",
    "# make importances relative to max importance\n",
    "feature_importance = 100.0 * (feature_importance / feature_importance.max())\n",
    "sorted_idx = np.argsort(feature_importance)\n",
    "pos = np.arange(sorted_idx.shape[0]) + .5\n",
    "# plt.subplot(1, 2, 2)\n",
    "plt.figure(figsize=(8, 4))\n",
    "plt.barh(pos, feature_importance[sorted_idx], align='center')\n",
    "plt.yticks(pos, X_train.keys()[sorted_idx])\n",
    "plt.xlabel('Relative Importance')\n",
    "plt.title('Variable Importance')\n",
    "plt.show()"
   ]
  },
  {
   "attachments": {},
   "cell_type": "markdown",
   "metadata": {},
   "source": [
    "from this plot we can see the most important feature. those that have very low contribution could be removed. for the moment we will proceed with the model like that but fell free to keep improving the model until you are happy with it."
   ]
  },
  {
   "attachments": {},
   "cell_type": "markdown",
   "metadata": {},
   "source": [
    "### Saving the Trained Model for deployment"
   ]
  },
  {
   "cell_type": "code",
   "execution_count": 23,
   "metadata": {},
   "outputs": [],
   "source": [
    "import pickle\n",
    "\n",
    "##dump the model into a file\n",
    "with open(\"../model/model.bin\", 'wb') as f_out:\n",
    "    pickle.dump(model, f_out) # write final_model in .bin file\n",
    "    f_out.close()  # close the file "
   ]
  },
  {
   "attachments": {},
   "cell_type": "markdown",
   "metadata": {},
   "source": [
    "let's also saved the fitted scaler used during the training"
   ]
  },
  {
   "cell_type": "code",
   "execution_count": 26,
   "metadata": {},
   "outputs": [
    {
     "data": {
      "text/plain": [
       "['../model/scaler.save']"
      ]
     },
     "execution_count": 26,
     "metadata": {},
     "output_type": "execute_result"
    }
   ],
   "source": [
    "import joblib\n",
    "joblib.dump(scaler, '../model/scaler.save') "
   ]
  },
  {
   "attachments": {},
   "cell_type": "markdown",
   "metadata": {},
   "source": [
    "let's test if we are able to use the saved model to make predictions."
   ]
  },
  {
   "cell_type": "code",
   "execution_count": 30,
   "metadata": {},
   "outputs": [],
   "source": [
    "# we defined this function to cover the entire flow\n",
    "def predict_mpg(config, model):\n",
    "    \n",
    "    if type(config) == dict:\n",
    "        df = pd.DataFrame(config)\n",
    "    else:\n",
    "        df = config\n",
    "    \n",
    "    scaler = joblib.load('../model/scaler.save')\n",
    "\n",
    "    X_test, _, _ = preprocessing.preprocess(df,scaler=scaler)\n",
    "\n",
    "    y_pred = model.predict(X_test)\n",
    "    \n",
    "    return y_pred"
   ]
  },
  {
   "cell_type": "code",
   "execution_count": 28,
   "metadata": {},
   "outputs": [],
   "source": [
    "##loading the model from the saved file\n",
    "with open('../model/model.bin', 'rb') as f_in:\n",
    "    model = pickle.load(f_in)"
   ]
  },
  {
   "cell_type": "code",
   "execution_count": 29,
   "metadata": {},
   "outputs": [],
   "source": [
    "##vehicle config\n",
    "vehicle_config = {\n",
    "    'Cylinders': [4, 6, 8],\n",
    "    'Displacement': [155.0, 160.0, 165.5],\n",
    "    'Horsepower': [93.0, 130.0, 98.0],\n",
    "    'Weight': [2500.0, 3150.0, 2600.0],\n",
    "    'Acceleration': [15.0, 14.0, 16.0],\n",
    "    'Model Year': [81, 80, 78],\n",
    "    'Origin': [3, 2, 1]\n",
    "}"
   ]
  },
  {
   "cell_type": "code",
   "execution_count": 35,
   "metadata": {},
   "outputs": [
    {
     "data": {
      "text/plain": [
       "array([24.35272207, 16.64935604, 22.27148741])"
      ]
     },
     "execution_count": 35,
     "metadata": {},
     "output_type": "execute_result"
    }
   ],
   "source": [
    "# import importlib\n",
    "# importlib.reload(preprocessing)\n",
    "\n",
    "predict_mpg(vehicle_config, model)"
   ]
  },
  {
   "cell_type": "code",
   "execution_count": null,
   "metadata": {},
   "outputs": [],
   "source": []
  },
  {
   "cell_type": "code",
   "execution_count": null,
   "metadata": {},
   "outputs": [],
   "source": []
  }
 ],
 "metadata": {
  "kernelspec": {
   "display_name": "base",
   "language": "python",
   "name": "python3"
  },
  "language_info": {
   "codemirror_mode": {
    "name": "ipython",
    "version": 3
   },
   "file_extension": ".py",
   "mimetype": "text/x-python",
   "name": "python",
   "nbconvert_exporter": "python",
   "pygments_lexer": "ipython3",
   "version": "3.10.4"
  },
  "orig_nbformat": 4
 },
 "nbformat": 4,
 "nbformat_minor": 2
}
