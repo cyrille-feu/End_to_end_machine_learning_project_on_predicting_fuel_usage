{
 "cells": [
  {
   "attachments": {},
   "cell_type": "markdown",
   "metadata": {},
   "source": [
    "## Data Preparation\n"
   ]
  },
  {
   "attachments": {},
   "cell_type": "markdown",
   "metadata": {},
   "source": [
    "One of the first things we should do, as we want to test our final model on unseen/unbiased data is to divide the data into train and test set.\n",
    "\n",
    "to make sure that the train and test set represent the overall population and not just a few specific categories we are going to use stratified sampling method from sklearn. read more about by following this link: https://scikit-learn.org/stable/modules/generated/sklearn.model_selection.StratifiedShuffleSplit.html"
   ]
  },
  {
   "cell_type": "code",
   "execution_count": 33,
   "metadata": {},
   "outputs": [],
   "source": [
    "# importing necessary ibraries\n",
    "\n",
    "import numpy as np\n",
    "import pandas as pd\n",
    "import matplotlib.pyplot as plt\n",
    "import seaborn as sns\n",
    "\n",
    "from sklearn.model_selection import StratifiedShuffleSplit\n",
    "from sklearn.base import BaseEstimator, TransformerMixin\n",
    "##Using Pipeline class\n",
    "from sklearn.pipeline import Pipeline\n",
    "##Using StandardScaler to scale all the numerical attributes\n",
    "from sklearn.preprocessing import StandardScaler\n",
    "from sklearn.compose import ColumnTransformer\n",
    "##handling missing values\n",
    "from sklearn.impute import SimpleImputer\n",
    "##onehotencoding the categorical values\n",
    "from sklearn.preprocessing import OneHotEncoder\n",
    "\n",
    "\n",
    "import warnings\n",
    "warnings.filterwarnings('ignore')"
   ]
  },
  {
   "attachments": {},
   "cell_type": "markdown",
   "metadata": {},
   "source": [
    "based on the did prevusly, We re going to use the Cylinder column to create the strata"
   ]
  },
  {
   "cell_type": "code",
   "execution_count": 2,
   "metadata": {},
   "outputs": [],
   "source": [
    "cols = ['MPG','Cylinders','Displacement','Horsepower','Weight',\n",
    "                'Acceleration', 'Model Year', 'Origin']\n",
    "\n",
    "df = pd.read_csv('../data/auto_mpg.data', names=cols, na_values = \"?\",\n",
    "                comment = '\\t',\n",
    "                sep= \" \",\n",
    "                skipinitialspace=True)\n",
    "\n",
    "split = StratifiedShuffleSplit(n_splits=1, test_size=0.2, random_state=42)\n",
    "for train_index, test_index in split.split(df, df[\"Cylinders\"]):\n",
    "    train_set = df.loc[train_index]\n",
    "    test_set = df.loc[test_index]"
   ]
  },
  {
   "cell_type": "markdown",
   "metadata": {},
   "source": [
    "Let's check the cylinder category distribution in the train and test set"
   ]
  },
  {
   "cell_type": "code",
   "execution_count": 11,
   "metadata": {},
   "outputs": [
    {
     "data": {
      "image/png": "[encoded data removed]",
      "text/plain": [
       "<Figure size 720x360 with 2 Axes>"
      ]
     },
     "metadata": {},
     "output_type": "display_data"
    }
   ],
   "source": [
    "palette_color = sns.color_palette('bright')\n",
    "\n",
    "plt.figure(figsize=(10,5))\n",
    "for i, df in enumerate([train_set,test_set], start=1):\n",
    "    # declaring data\n",
    "    data = df[\"Cylinders\"].value_counts().values\n",
    "    keys = df[\"Cylinders\"].value_counts().index\n",
    "    plt.subplot(1,2,i)\n",
    "    # plotting data on chart\n",
    "    plt.pie(data, labels=keys, colors=palette_color, autopct='%.0f%%')\n",
    "    if i==1:\n",
    "        plt.title('Cylinders distribution : train set')\n",
    "    else:\n",
    "        plt.title('Cylinders distribution : test set')\n",
    "# displaying chart\n",
    "plt.show()"
   ]
  },
  {
   "cell_type": "markdown",
   "metadata": {},
   "source": [
    "As from now, we are going to work only on the training data set. the test set will be use when we are done with the modeling and happy with the model"
   ]
  },
  {
   "cell_type": "markdown",
   "metadata": {},
   "source": [
    "Split the train set into Target and Feature variables"
   ]
  },
  {
   "cell_type": "code",
   "execution_count": 93,
   "metadata": {},
   "outputs": [],
   "source": [
    "X_train = train_set.drop(\"MPG\", axis=1)\n",
    "y_train = train_set[\"MPG\"].copy()"
   ]
  },
  {
   "attachments": {},
   "cell_type": "markdown",
   "metadata": {},
   "source": [
    "let's now build a pipeline that will handle all transformation "
   ]
  },
  {
   "attachments": {},
   "cell_type": "markdown",
   "metadata": {},
   "source": [
    "Preprocessing the Origin Column\n",
    "One Hot Encoding the Origin Column\n",
    "Handling Missing values using SimpleImputer"
   ]
  },
  {
   "cell_type": "code",
   "execution_count": 94,
   "metadata": {},
   "outputs": [],
   "source": [
    "num_attrs = ['Cylinders','Displacement','Horsepower','Weight','Acceleration', 'Model Year']\n",
    "cat_attrs = [\"Origin\"]\n",
    "final_attrs = ['Germany', 'India', 'USA'] + num_attrs"
   ]
  },
  {
   "cell_type": "code",
   "execution_count": 102,
   "metadata": {},
   "outputs": [],
   "source": [
    "class CustomColTransfomer(BaseEstimator, TransformerMixin):\n",
    "\n",
    "    def fit(self, X, y=None):\n",
    "        return self  \n",
    "    \n",
    "    def transform(self, X, y=None):\n",
    "        X[\"Origin\"] = X[\"Origin\"].map({1: \"India\", 2: \"USA\", 3: \"Germany\"})\n",
    "        return X\n",
    "    \n"
   ]
  },
  {
   "cell_type": "code",
   "execution_count": 103,
   "metadata": {},
   "outputs": [],
   "source": [
    "num_data = X_train[num_attrs]\n",
    "\n",
    "##pipeline for numerical attributes\n",
    "##imputing -> scale them\n",
    "num_pipeline = Pipeline([\n",
    "        ('imputer', SimpleImputer(strategy=\"median\")),\n",
    "        ('std_scaler', StandardScaler())\n",
    "    ])\n",
    "\n",
    "cat_pipeline = Pipeline ([\n",
    "        ('col_map', CustomColTransfomer()),\n",
    "        ('encoder', OneHotEncoder())\n",
    "])\n",
    "\n"
   ]
  },
  {
   "cell_type": "code",
   "execution_count": 104,
   "metadata": {},
   "outputs": [],
   "source": [
    "##complete pipeline to transform \n",
    "##both numerical and cat. attributes\n",
    "final_pipeline = ColumnTransformer([\n",
    "        (\"cat\", cat_pipeline, cat_attrs),\n",
    "        (\"num\", num_pipeline, num_attrs)\n",
    "    ])\n",
    "\n",
    "prepared_data = final_pipeline.fit_transform(X_train)\n"
   ]
  },
  {
   "cell_type": "code",
   "execution_count": 106,
   "metadata": {},
   "outputs": [
    {
     "data": {
      "text/html": [
       "<div>\n",
       "<style scoped>\n",
       "    .dataframe tbody tr th:only-of-type {\n",
       "        vertical-align: middle;\n",
       "    }\n",
       "\n",
       "    .dataframe tbody tr th {\n",
       "        vertical-align: top;\n",
       "    }\n",
       "\n",
       "    .dataframe thead th {\n",
       "        text-align: right;\n",
       "    }\n",
       "</style>\n",
       "<table border=\"1\" class=\"dataframe\">\n",
       "  <thead>\n",
       "    <tr style=\"text-align: right;\">\n",
       "      <th></th>\n",
       "      <th>Germany</th>\n",
       "      <th>India</th>\n",
       "      <th>USA</th>\n",
       "      <th>Cylinders</th>\n",
       "      <th>Displacement</th>\n",
       "      <th>Horsepower</th>\n",
       "      <th>Weight</th>\n",
       "      <th>Acceleration</th>\n",
       "      <th>Model Year</th>\n",
       "    </tr>\n",
       "  </thead>\n",
       "  <tbody>\n",
       "    <tr>\n",
       "      <th>0</th>\n",
       "      <td>1.0</td>\n",
       "      <td>0.0</td>\n",
       "      <td>0.0</td>\n",
       "      <td>-0.856578</td>\n",
       "      <td>-1.078045</td>\n",
       "      <td>-1.151930</td>\n",
       "      <td>-1.172203</td>\n",
       "      <td>1.215869</td>\n",
       "      <td>-0.544364</td>\n",
       "    </tr>\n",
       "    <tr>\n",
       "      <th>1</th>\n",
       "      <td>0.0</td>\n",
       "      <td>0.0</td>\n",
       "      <td>1.0</td>\n",
       "      <td>-0.856578</td>\n",
       "      <td>-1.117458</td>\n",
       "      <td>-0.990035</td>\n",
       "      <td>-1.175813</td>\n",
       "      <td>0.130698</td>\n",
       "      <td>-0.544364</td>\n",
       "    </tr>\n",
       "    <tr>\n",
       "      <th>2</th>\n",
       "      <td>0.0</td>\n",
       "      <td>1.0</td>\n",
       "      <td>0.0</td>\n",
       "      <td>-0.856578</td>\n",
       "      <td>-0.358749</td>\n",
       "      <td>-0.315474</td>\n",
       "      <td>-0.471828</td>\n",
       "      <td>-0.411887</td>\n",
       "      <td>1.636520</td>\n",
       "    </tr>\n",
       "    <tr>\n",
       "      <th>3</th>\n",
       "      <td>0.0</td>\n",
       "      <td>1.0</td>\n",
       "      <td>0.0</td>\n",
       "      <td>0.322607</td>\n",
       "      <td>0.567467</td>\n",
       "      <td>-0.423404</td>\n",
       "      <td>0.194851</td>\n",
       "      <td>-0.411887</td>\n",
       "      <td>-1.362195</td>\n",
       "    </tr>\n",
       "    <tr>\n",
       "      <th>4</th>\n",
       "      <td>0.0</td>\n",
       "      <td>0.0</td>\n",
       "      <td>1.0</td>\n",
       "      <td>-0.856578</td>\n",
       "      <td>-0.930244</td>\n",
       "      <td>-0.369439</td>\n",
       "      <td>-0.856914</td>\n",
       "      <td>-0.050164</td>\n",
       "      <td>-0.816974</td>\n",
       "    </tr>\n",
       "    <tr>\n",
       "      <th>...</th>\n",
       "      <td>...</td>\n",
       "      <td>...</td>\n",
       "      <td>...</td>\n",
       "      <td>...</td>\n",
       "      <td>...</td>\n",
       "      <td>...</td>\n",
       "      <td>...</td>\n",
       "      <td>...</td>\n",
       "      <td>...</td>\n",
       "    </tr>\n",
       "    <tr>\n",
       "      <th>313</th>\n",
       "      <td>0.0</td>\n",
       "      <td>0.0</td>\n",
       "      <td>1.0</td>\n",
       "      <td>-0.856578</td>\n",
       "      <td>-1.009071</td>\n",
       "      <td>-0.774176</td>\n",
       "      <td>-1.045847</td>\n",
       "      <td>-0.050164</td>\n",
       "      <td>-0.544364</td>\n",
       "    </tr>\n",
       "    <tr>\n",
       "      <th>314</th>\n",
       "      <td>0.0</td>\n",
       "      <td>1.0</td>\n",
       "      <td>0.0</td>\n",
       "      <td>1.501793</td>\n",
       "      <td>2.045472</td>\n",
       "      <td>1.789157</td>\n",
       "      <td>2.034839</td>\n",
       "      <td>-1.497058</td>\n",
       "      <td>-0.271753</td>\n",
       "    </tr>\n",
       "    <tr>\n",
       "      <th>315</th>\n",
       "      <td>0.0</td>\n",
       "      <td>1.0</td>\n",
       "      <td>0.0</td>\n",
       "      <td>-0.856578</td>\n",
       "      <td>-0.565670</td>\n",
       "      <td>-0.531334</td>\n",
       "      <td>-0.820812</td>\n",
       "      <td>-1.460886</td>\n",
       "      <td>1.636520</td>\n",
       "    </tr>\n",
       "    <tr>\n",
       "      <th>316</th>\n",
       "      <td>1.0</td>\n",
       "      <td>0.0</td>\n",
       "      <td>0.0</td>\n",
       "      <td>-0.856578</td>\n",
       "      <td>-0.782444</td>\n",
       "      <td>-0.234527</td>\n",
       "      <td>-0.728151</td>\n",
       "      <td>-0.231025</td>\n",
       "      <td>-1.634806</td>\n",
       "    </tr>\n",
       "    <tr>\n",
       "      <th>317</th>\n",
       "      <td>1.0</td>\n",
       "      <td>0.0</td>\n",
       "      <td>0.0</td>\n",
       "      <td>0.322607</td>\n",
       "      <td>-0.457283</td>\n",
       "      <td>0.440034</td>\n",
       "      <td>-0.056658</td>\n",
       "      <td>-0.665094</td>\n",
       "      <td>1.363910</td>\n",
       "    </tr>\n",
       "  </tbody>\n",
       "</table>\n",
       "<p>318 rows × 9 columns</p>\n",
       "</div>"
      ],
      "text/plain": [
       "     Germany  India  USA  Cylinders  Displacement  Horsepower    Weight  \\\n",
       "0        1.0    0.0  0.0  -0.856578     -1.078045   -1.151930 -1.172203   \n",
       "1        0.0    0.0  1.0  -0.856578     -1.117458   -0.990035 -1.175813   \n",
       "2        0.0    1.0  0.0  -0.856578     -0.358749   -0.315474 -0.471828   \n",
       "3        0.0    1.0  0.0   0.322607      0.567467   -0.423404  0.194851   \n",
       "4        0.0    0.0  1.0  -0.856578     -0.930244   -0.369439 -0.856914   \n",
       "..       ...    ...  ...        ...           ...         ...       ...   \n",
       "313      0.0    0.0  1.0  -0.856578     -1.009071   -0.774176 -1.045847   \n",
       "314      0.0    1.0  0.0   1.501793      2.045472    1.789157  2.034839   \n",
       "315      0.0    1.0  0.0  -0.856578     -0.565670   -0.531334 -0.820812   \n",
       "316      1.0    0.0  0.0  -0.856578     -0.782444   -0.234527 -0.728151   \n",
       "317      1.0    0.0  0.0   0.322607     -0.457283    0.440034 -0.056658   \n",
       "\n",
       "     Acceleration  Model Year  \n",
       "0        1.215869   -0.544364  \n",
       "1        0.130698   -0.544364  \n",
       "2       -0.411887    1.636520  \n",
       "3       -0.411887   -1.362195  \n",
       "4       -0.050164   -0.816974  \n",
       "..            ...         ...  \n",
       "313     -0.050164   -0.544364  \n",
       "314     -1.497058   -0.271753  \n",
       "315     -1.460886    1.636520  \n",
       "316     -0.231025   -1.634806  \n",
       "317     -0.665094    1.363910  \n",
       "\n",
       "[318 rows x 9 columns]"
      ]
     },
     "execution_count": 106,
     "metadata": {},
     "output_type": "execute_result"
    }
   ],
   "source": [
    "pd.DataFrame(prepared_data, columns=final_attrs)\n"
   ]
  },
  {
   "cell_type": "code",
   "execution_count": null,
   "metadata": {},
   "outputs": [],
   "source": [
    "\n"
   ]
  },
  {
   "cell_type": "code",
   "execution_count": null,
   "metadata": {},
   "outputs": [],
   "source": []
  },
  {
   "cell_type": "code",
   "execution_count": null,
   "metadata": {},
   "outputs": [],
   "source": []
  }
 ],
 "metadata": {
  "kernelspec": {
   "display_name": "fuel_env",
   "language": "python",
   "name": "python3"
  },
  "language_info": {
   "codemirror_mode": {
    "name": "ipython",
    "version": 3
   },
   "file_extension": ".py",
   "mimetype": "text/x-python",
   "name": "python",
   "nbconvert_exporter": "python",
   "pygments_lexer": "ipython3",
   "version": "3.8.5"
  },
  "orig_nbformat": 4
 },
 "nbformat": 4,
 "nbformat_minor": 2
}
